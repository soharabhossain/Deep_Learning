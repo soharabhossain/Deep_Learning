{
 "cells": [
  {
   "cell_type": "markdown",
   "metadata": {
    "id": "uyeHjPcVLdqJ"
   },
   "source": [
    "# Multi Layer Perceptron  - Solving a Regression Problem - IRIS Flower Dataset \n",
    "\n",
    "Pose the problem as a Regression problem.\n",
    "\n",
    "### **Predict sepal_length from the rest of the features.**\n",
    "\n"
   ]
  },
  {
   "cell_type": "markdown",
   "metadata": {
    "id": "qnxRok5uC6zY"
   },
   "source": [
    "## Load IRIS Dataset from Scikitlearn Dataset"
   ]
  },
  {
   "cell_type": "code",
   "execution_count": null,
   "metadata": {
    "id": "fL_immus9xCD"
   },
   "outputs": [],
   "source": [
    "from sklearn import datasets\n",
    "import numpy as np"
   ]
  },
  {
   "cell_type": "code",
   "execution_count": null,
   "metadata": {
    "id": "RRBkAhw2xtx7"
   },
   "outputs": [],
   "source": [
    "# import some data to play with\n",
    "iris = datasets.load_iris()"
   ]
  },
  {
   "cell_type": "code",
   "execution_count": null,
   "metadata": {
    "id": "FNXR1zzv57RN"
   },
   "outputs": [],
   "source": [
    "#print(iris.DESCR)"
   ]
  },
  {
   "cell_type": "markdown",
   "metadata": {
    "id": "4j_QVDPsDCNg"
   },
   "source": [
    "## Features"
   ]
  },
  {
   "cell_type": "code",
   "execution_count": null,
   "metadata": {
    "colab": {
     "base_uri": "https://localhost:8080/"
    },
    "id": "2dHbWbY7C_vH",
    "outputId": "36712b07-a4a8-44e4-972a-95930f958b87"
   },
   "outputs": [
    {
     "data": {
      "text/plain": [
       "['sepal length (cm)',\n",
       " 'sepal width (cm)',\n",
       " 'petal length (cm)',\n",
       " 'petal width (cm)']"
      ]
     },
     "execution_count": 147,
     "metadata": {
      "tags": []
     },
     "output_type": "execute_result"
    }
   ],
   "source": [
    "iris.feature_names"
   ]
  },
  {
   "cell_type": "markdown",
   "metadata": {
    "id": "3zlA1uljDHTH"
   },
   "source": [
    "## Dataset - Features and Target Labels"
   ]
  },
  {
   "cell_type": "code",
   "execution_count": null,
   "metadata": {
    "colab": {
     "base_uri": "https://localhost:8080/"
    },
    "id": "6M1kgEQ654-o",
    "outputId": "f8a640d3-e1e2-4475-e024-084337755b39"
   },
   "outputs": [
    {
     "data": {
      "text/plain": [
       "array([[5.1, 3.5, 1.4, 0.2],\n",
       "       [4.9, 3. , 1.4, 0.2],\n",
       "       [4.7, 3.2, 1.3, 0.2],\n",
       "       [4.6, 3.1, 1.5, 0.2],\n",
       "       [5. , 3.6, 1.4, 0.2],\n",
       "       [5.4, 3.9, 1.7, 0.4],\n",
       "       [4.6, 3.4, 1.4, 0.3],\n",
       "       [5. , 3.4, 1.5, 0.2],\n",
       "       [4.4, 2.9, 1.4, 0.2],\n",
       "       [4.9, 3.1, 1.5, 0.1],\n",
       "       [5.4, 3.7, 1.5, 0.2],\n",
       "       [4.8, 3.4, 1.6, 0.2],\n",
       "       [4.8, 3. , 1.4, 0.1],\n",
       "       [4.3, 3. , 1.1, 0.1],\n",
       "       [5.8, 4. , 1.2, 0.2],\n",
       "       [5.7, 4.4, 1.5, 0.4],\n",
       "       [5.4, 3.9, 1.3, 0.4],\n",
       "       [5.1, 3.5, 1.4, 0.3],\n",
       "       [5.7, 3.8, 1.7, 0.3],\n",
       "       [5.1, 3.8, 1.5, 0.3],\n",
       "       [5.4, 3.4, 1.7, 0.2],\n",
       "       [5.1, 3.7, 1.5, 0.4],\n",
       "       [4.6, 3.6, 1. , 0.2],\n",
       "       [5.1, 3.3, 1.7, 0.5],\n",
       "       [4.8, 3.4, 1.9, 0.2],\n",
       "       [5. , 3. , 1.6, 0.2],\n",
       "       [5. , 3.4, 1.6, 0.4],\n",
       "       [5.2, 3.5, 1.5, 0.2],\n",
       "       [5.2, 3.4, 1.4, 0.2],\n",
       "       [4.7, 3.2, 1.6, 0.2],\n",
       "       [4.8, 3.1, 1.6, 0.2],\n",
       "       [5.4, 3.4, 1.5, 0.4],\n",
       "       [5.2, 4.1, 1.5, 0.1],\n",
       "       [5.5, 4.2, 1.4, 0.2],\n",
       "       [4.9, 3.1, 1.5, 0.2],\n",
       "       [5. , 3.2, 1.2, 0.2],\n",
       "       [5.5, 3.5, 1.3, 0.2],\n",
       "       [4.9, 3.6, 1.4, 0.1],\n",
       "       [4.4, 3. , 1.3, 0.2],\n",
       "       [5.1, 3.4, 1.5, 0.2],\n",
       "       [5. , 3.5, 1.3, 0.3],\n",
       "       [4.5, 2.3, 1.3, 0.3],\n",
       "       [4.4, 3.2, 1.3, 0.2],\n",
       "       [5. , 3.5, 1.6, 0.6],\n",
       "       [5.1, 3.8, 1.9, 0.4],\n",
       "       [4.8, 3. , 1.4, 0.3],\n",
       "       [5.1, 3.8, 1.6, 0.2],\n",
       "       [4.6, 3.2, 1.4, 0.2],\n",
       "       [5.3, 3.7, 1.5, 0.2],\n",
       "       [5. , 3.3, 1.4, 0.2],\n",
       "       [7. , 3.2, 4.7, 1.4],\n",
       "       [6.4, 3.2, 4.5, 1.5],\n",
       "       [6.9, 3.1, 4.9, 1.5],\n",
       "       [5.5, 2.3, 4. , 1.3],\n",
       "       [6.5, 2.8, 4.6, 1.5],\n",
       "       [5.7, 2.8, 4.5, 1.3],\n",
       "       [6.3, 3.3, 4.7, 1.6],\n",
       "       [4.9, 2.4, 3.3, 1. ],\n",
       "       [6.6, 2.9, 4.6, 1.3],\n",
       "       [5.2, 2.7, 3.9, 1.4],\n",
       "       [5. , 2. , 3.5, 1. ],\n",
       "       [5.9, 3. , 4.2, 1.5],\n",
       "       [6. , 2.2, 4. , 1. ],\n",
       "       [6.1, 2.9, 4.7, 1.4],\n",
       "       [5.6, 2.9, 3.6, 1.3],\n",
       "       [6.7, 3.1, 4.4, 1.4],\n",
       "       [5.6, 3. , 4.5, 1.5],\n",
       "       [5.8, 2.7, 4.1, 1. ],\n",
       "       [6.2, 2.2, 4.5, 1.5],\n",
       "       [5.6, 2.5, 3.9, 1.1],\n",
       "       [5.9, 3.2, 4.8, 1.8],\n",
       "       [6.1, 2.8, 4. , 1.3],\n",
       "       [6.3, 2.5, 4.9, 1.5],\n",
       "       [6.1, 2.8, 4.7, 1.2],\n",
       "       [6.4, 2.9, 4.3, 1.3],\n",
       "       [6.6, 3. , 4.4, 1.4],\n",
       "       [6.8, 2.8, 4.8, 1.4],\n",
       "       [6.7, 3. , 5. , 1.7],\n",
       "       [6. , 2.9, 4.5, 1.5],\n",
       "       [5.7, 2.6, 3.5, 1. ],\n",
       "       [5.5, 2.4, 3.8, 1.1],\n",
       "       [5.5, 2.4, 3.7, 1. ],\n",
       "       [5.8, 2.7, 3.9, 1.2],\n",
       "       [6. , 2.7, 5.1, 1.6],\n",
       "       [5.4, 3. , 4.5, 1.5],\n",
       "       [6. , 3.4, 4.5, 1.6],\n",
       "       [6.7, 3.1, 4.7, 1.5],\n",
       "       [6.3, 2.3, 4.4, 1.3],\n",
       "       [5.6, 3. , 4.1, 1.3],\n",
       "       [5.5, 2.5, 4. , 1.3],\n",
       "       [5.5, 2.6, 4.4, 1.2],\n",
       "       [6.1, 3. , 4.6, 1.4],\n",
       "       [5.8, 2.6, 4. , 1.2],\n",
       "       [5. , 2.3, 3.3, 1. ],\n",
       "       [5.6, 2.7, 4.2, 1.3],\n",
       "       [5.7, 3. , 4.2, 1.2],\n",
       "       [5.7, 2.9, 4.2, 1.3],\n",
       "       [6.2, 2.9, 4.3, 1.3],\n",
       "       [5.1, 2.5, 3. , 1.1],\n",
       "       [5.7, 2.8, 4.1, 1.3],\n",
       "       [6.3, 3.3, 6. , 2.5],\n",
       "       [5.8, 2.7, 5.1, 1.9],\n",
       "       [7.1, 3. , 5.9, 2.1],\n",
       "       [6.3, 2.9, 5.6, 1.8],\n",
       "       [6.5, 3. , 5.8, 2.2],\n",
       "       [7.6, 3. , 6.6, 2.1],\n",
       "       [4.9, 2.5, 4.5, 1.7],\n",
       "       [7.3, 2.9, 6.3, 1.8],\n",
       "       [6.7, 2.5, 5.8, 1.8],\n",
       "       [7.2, 3.6, 6.1, 2.5],\n",
       "       [6.5, 3.2, 5.1, 2. ],\n",
       "       [6.4, 2.7, 5.3, 1.9],\n",
       "       [6.8, 3. , 5.5, 2.1],\n",
       "       [5.7, 2.5, 5. , 2. ],\n",
       "       [5.8, 2.8, 5.1, 2.4],\n",
       "       [6.4, 3.2, 5.3, 2.3],\n",
       "       [6.5, 3. , 5.5, 1.8],\n",
       "       [7.7, 3.8, 6.7, 2.2],\n",
       "       [7.7, 2.6, 6.9, 2.3],\n",
       "       [6. , 2.2, 5. , 1.5],\n",
       "       [6.9, 3.2, 5.7, 2.3],\n",
       "       [5.6, 2.8, 4.9, 2. ],\n",
       "       [7.7, 2.8, 6.7, 2. ],\n",
       "       [6.3, 2.7, 4.9, 1.8],\n",
       "       [6.7, 3.3, 5.7, 2.1],\n",
       "       [7.2, 3.2, 6. , 1.8],\n",
       "       [6.2, 2.8, 4.8, 1.8],\n",
       "       [6.1, 3. , 4.9, 1.8],\n",
       "       [6.4, 2.8, 5.6, 2.1],\n",
       "       [7.2, 3. , 5.8, 1.6],\n",
       "       [7.4, 2.8, 6.1, 1.9],\n",
       "       [7.9, 3.8, 6.4, 2. ],\n",
       "       [6.4, 2.8, 5.6, 2.2],\n",
       "       [6.3, 2.8, 5.1, 1.5],\n",
       "       [6.1, 2.6, 5.6, 1.4],\n",
       "       [7.7, 3. , 6.1, 2.3],\n",
       "       [6.3, 3.4, 5.6, 2.4],\n",
       "       [6.4, 3.1, 5.5, 1.8],\n",
       "       [6. , 3. , 4.8, 1.8],\n",
       "       [6.9, 3.1, 5.4, 2.1],\n",
       "       [6.7, 3.1, 5.6, 2.4],\n",
       "       [6.9, 3.1, 5.1, 2.3],\n",
       "       [5.8, 2.7, 5.1, 1.9],\n",
       "       [6.8, 3.2, 5.9, 2.3],\n",
       "       [6.7, 3.3, 5.7, 2.5],\n",
       "       [6.7, 3. , 5.2, 2.3],\n",
       "       [6.3, 2.5, 5. , 1.9],\n",
       "       [6.5, 3. , 5.2, 2. ],\n",
       "       [6.2, 3.4, 5.4, 2.3],\n",
       "       [5.9, 3. , 5.1, 1.8]])"
      ]
     },
     "execution_count": 148,
     "metadata": {
      "tags": []
     },
     "output_type": "execute_result"
    }
   ],
   "source": [
    "X = iris.data  \n",
    "X"
   ]
  },
  {
   "cell_type": "code",
   "execution_count": null,
   "metadata": {
    "colab": {
     "base_uri": "https://localhost:8080/"
    },
    "id": "Gqw_KE5ADNJn",
    "outputId": "6c8a8028-912f-4e1b-ddd4-24144c6c0ee3"
   },
   "outputs": [
    {
     "data": {
      "text/plain": [
       "(150, 4)"
      ]
     },
     "execution_count": 149,
     "metadata": {
      "tags": []
     },
     "output_type": "execute_result"
    }
   ],
   "source": [
    "X.shape"
   ]
  },
  {
   "cell_type": "code",
   "execution_count": null,
   "metadata": {
    "id": "Cm_HFcvP6OU0"
   },
   "outputs": [],
   "source": [
    "X = X[:,[1,2,3]]\n",
    "y = X[:, 0]"
   ]
  },
  {
   "cell_type": "code",
   "execution_count": null,
   "metadata": {
    "colab": {
     "base_uri": "https://localhost:8080/"
    },
    "id": "F0CCfqEUnPr5",
    "outputId": "a93ac3dd-8e51-4065-d4cc-49a2b461e64a"
   },
   "outputs": [
    {
     "data": {
      "text/plain": [
       "(150, 3)"
      ]
     },
     "execution_count": 151,
     "metadata": {
      "tags": []
     },
     "output_type": "execute_result"
    }
   ],
   "source": [
    "X.shape"
   ]
  },
  {
   "cell_type": "code",
   "execution_count": null,
   "metadata": {
    "colab": {
     "base_uri": "https://localhost:8080/"
    },
    "id": "K_K_PkvfnQ9G",
    "outputId": "fbc09fc7-aa6e-4ea1-f84b-ee864aa18156"
   },
   "outputs": [
    {
     "data": {
      "text/plain": [
       "(150,)"
      ]
     },
     "execution_count": 152,
     "metadata": {
      "tags": []
     },
     "output_type": "execute_result"
    }
   ],
   "source": [
    "y.shape"
   ]
  },
  {
   "cell_type": "markdown",
   "metadata": {
    "id": "fitfbUcvH3Ql"
   },
   "source": [
    "## Split Data into Training and Test Set"
   ]
  },
  {
   "cell_type": "code",
   "execution_count": null,
   "metadata": {
    "id": "ZNjLYfYH93Lf"
   },
   "outputs": [],
   "source": [
    "from sklearn.model_selection import train_test_split"
   ]
  },
  {
   "cell_type": "code",
   "execution_count": null,
   "metadata": {
    "id": "f9RcePAO7mm0"
   },
   "outputs": [],
   "source": [
    "X_train, X_test, y_train, y_test = train_test_split(X, y, test_size=0.3, shuffle=True, random_state=101)"
   ]
  },
  {
   "cell_type": "code",
   "execution_count": null,
   "metadata": {
    "colab": {
     "base_uri": "https://localhost:8080/"
    },
    "id": "FpYxGOm4-tp7",
    "outputId": "b8dcefa4-4fe2-43df-83b7-6f738618d2ab"
   },
   "outputs": [
    {
     "name": "stdout",
     "output_type": "stream",
     "text": [
      "\n",
      " Shape of Training data :  (105, 3)\n",
      "\n",
      " Shape of Test data :  (45, 3)\n"
     ]
    }
   ],
   "source": [
    "print('\\n Shape of Training data : ', X_train.shape)\n",
    "print('\\n Shape of Test data : ', X_test.shape)"
   ]
  },
  {
   "cell_type": "markdown",
   "metadata": {
    "id": "jLNbZTb7_kRm"
   },
   "source": [
    "## Standardize Data"
   ]
  },
  {
   "cell_type": "code",
   "execution_count": null,
   "metadata": {
    "id": "6sAOjsrW_fZM"
   },
   "outputs": [],
   "source": [
    "from sklearn.preprocessing import StandardScaler\n",
    "\n",
    "sc = StandardScaler()\n",
    "sc.fit(X_train)\n",
    "X_train_std = sc.transform(X_train)\n",
    "X_test_std = sc.transform(X_test)"
   ]
  },
  {
   "cell_type": "markdown",
   "metadata": {
    "id": "hD4Jc5fCCsu4"
   },
   "source": [
    "## Build the Multi Layer Perceptron Model"
   ]
  },
  {
   "cell_type": "code",
   "execution_count": null,
   "metadata": {
    "id": "2Mbxa7WR95km"
   },
   "outputs": [],
   "source": [
    "from keras.models import Sequential, Model\n",
    "from keras.layers import Dense"
   ]
  },
  {
   "cell_type": "code",
   "execution_count": null,
   "metadata": {
    "id": "ghdW0tT3Osdl"
   },
   "outputs": [],
   "source": [
    "## MODEL \n",
    "# Build a simple MLP model\n",
    "model = Sequential()\n",
    "model.add(Dense(10, input_dim=3, activation='sigmoid')) # first hidden layer with 5 neurons\n",
    "model.add(Dense(6, activation='sigmoid')) # second hidden layer with 3 neurons\n",
    "model.add(Dense(1, activation='linear')) # last layer with 1 output neuron with linear activation \n",
    "\n",
    "# Compile MODEL \n",
    "model.compile(optimizer='adam', loss='mse', metrics='mse')"
   ]
  },
  {
   "cell_type": "code",
   "execution_count": null,
   "metadata": {
    "colab": {
     "base_uri": "https://localhost:8080/"
    },
    "id": "7ZK6aJCL7JH8",
    "outputId": "a12c0498-56fd-4077-861e-9542e6f898be"
   },
   "outputs": [
    {
     "name": "stdout",
     "output_type": "stream",
     "text": [
      "Model: \"sequential_4\"\n",
      "_________________________________________________________________\n",
      "Layer (type)                 Output Shape              Param #   \n",
      "=================================================================\n",
      "dense_11 (Dense)             (None, 10)                40        \n",
      "_________________________________________________________________\n",
      "dense_12 (Dense)             (None, 6)                 66        \n",
      "_________________________________________________________________\n",
      "dense_13 (Dense)             (None, 1)                 7         \n",
      "=================================================================\n",
      "Total params: 113\n",
      "Trainable params: 113\n",
      "Non-trainable params: 0\n",
      "_________________________________________________________________\n"
     ]
    }
   ],
   "source": [
    "model.summary()"
   ]
  },
  {
   "cell_type": "code",
   "execution_count": null,
   "metadata": {
    "id": "vf3QP7moHmzK"
   },
   "outputs": [],
   "source": [
    "from keras.utils import plot_model"
   ]
  },
  {
   "cell_type": "code",
   "execution_count": null,
   "metadata": {
    "colab": {
     "base_uri": "https://localhost:8080/",
     "height": 369
    },
    "id": "-cF7cSiqcHHF",
    "outputId": "abb28bce-aa14-4753-ffe8-543773172262"
   },
   "outputs": [
    {
     "data": {
      "image/png": "[encoded data removed]",
      "text/plain": [
       "<IPython.core.display.Image object>"
      ]
     },
     "execution_count": 161,
     "metadata": {
      "tags": []
     },
     "output_type": "execute_result"
    }
   ],
   "source": [
    "plot_model(model)"
   ]
  },
  {
   "cell_type": "markdown",
   "metadata": {
    "id": "mTEpa-t2FN2M"
   },
   "source": [
    "## Initial Weights and Biases\n",
    "\n",
    "Keras oficial documentation says....\n",
    "\n",
    "**kernel_initializer=\"glorot_uniform\"**\n",
    "\n",
    "**bias_initializer=\"zeros\"**"
   ]
  },
  {
   "cell_type": "code",
   "execution_count": null,
   "metadata": {
    "id": "9OWw5TKsFJE1"
   },
   "outputs": [],
   "source": [
    "weights = model.get_weights()"
   ]
  },
  {
   "cell_type": "code",
   "execution_count": null,
   "metadata": {
    "colab": {
     "base_uri": "https://localhost:8080/"
    },
    "id": "gdVJW4gEFJE5",
    "outputId": "f455bef5-fbcd-479b-c4ac-27190458d72e"
   },
   "outputs": [
    {
     "data": {
      "text/plain": [
       "[array([[-0.55601364, -0.23986319, -0.51208967, -0.2949679 ,  0.2652101 ,\n",
       "         -0.35268846,  0.67671263, -0.49256572,  0.05236942, -0.00852174],\n",
       "        [ 0.5654439 , -0.44375968, -0.07145315, -0.19065014,  0.09676701,\n",
       "          0.24812692,  0.6512922 ,  0.5941986 , -0.46908554, -0.21195987],\n",
       "        [ 0.59593856,  0.41412377, -0.02107114, -0.19912088, -0.29270384,\n",
       "          0.14390928,  0.5297754 , -0.22102115, -0.5911164 , -0.6397271 ]],\n",
       "       dtype=float32),\n",
       " array([0., 0., 0., 0., 0., 0., 0., 0., 0., 0.], dtype=float32),\n",
       " array([[ 0.21848446,  0.281623  , -0.37639374, -0.18505725, -0.37379944,\n",
       "          0.05846375],\n",
       "        [-0.06779408, -0.4930637 ,  0.35992396,  0.10943633,  0.49368948,\n",
       "          0.03527659],\n",
       "        [-0.10757351, -0.16499832, -0.29369104,  0.28008127, -0.46154645,\n",
       "         -0.17491734],\n",
       "        [-0.14827743,  0.19330513,  0.20145577, -0.24218175,  0.584101  ,\n",
       "          0.04388088],\n",
       "        [ 0.25284445,  0.21322757,  0.5805027 ,  0.13598853,  0.28822243,\n",
       "          0.42332894],\n",
       "        [-0.04003304,  0.28784502, -0.3111916 ,  0.17221236, -0.22037956,\n",
       "          0.20839155],\n",
       "        [-0.20877379, -0.2534444 ,  0.28200877, -0.2812341 , -0.42326865,\n",
       "          0.1818493 ],\n",
       "        [-0.5895582 ,  0.43790287,  0.45695204, -0.36933357, -0.36514887,\n",
       "          0.54674095],\n",
       "        [-0.01464319,  0.09091449, -0.16881976, -0.4806161 , -0.18600363,\n",
       "          0.01906568],\n",
       "        [-0.56444985,  0.5236185 ,  0.13915175, -0.41940254,  0.15267104,\n",
       "          0.5597201 ]], dtype=float32),\n",
       " array([0., 0., 0., 0., 0., 0.], dtype=float32),\n",
       " array([[-0.15826094],\n",
       "        [ 0.53919506],\n",
       "        [ 0.4871986 ],\n",
       "        [ 0.6920421 ],\n",
       "        [ 0.3516096 ],\n",
       "        [ 0.81044185]], dtype=float32),\n",
       " array([0.], dtype=float32)]"
      ]
     },
     "execution_count": 163,
     "metadata": {
      "tags": []
     },
     "output_type": "execute_result"
    }
   ],
   "source": [
    "weights\n",
    "#weights[0]"
   ]
  },
  {
   "cell_type": "code",
   "execution_count": null,
   "metadata": {
    "id": "wVN-5EOIJmOp"
   },
   "outputs": [],
   "source": [
    "#y.dtype"
   ]
  },
  {
   "cell_type": "markdown",
   "metadata": {
    "id": "iiJpnIKzCwPL"
   },
   "source": [
    "## Train the Model"
   ]
  },
  {
   "cell_type": "code",
   "execution_count": null,
   "metadata": {
    "colab": {
     "base_uri": "https://localhost:8080/"
    },
    "id": "7mT6LVOJ6zjh",
    "outputId": "6db75636-694d-4d0f-9c20-a0858186704d"
   },
   "outputs": [
    {
     "name": "stdout",
     "output_type": "stream",
     "text": [
      "Epoch 1/100\n",
      "7/7 [==============================] - 1s 31ms/step - loss: 2.3974 - mse: 2.3974 - val_loss: 2.0793 - val_mse: 2.0793\n",
      "Epoch 2/100\n",
      "7/7 [==============================] - 0s 8ms/step - loss: 2.2995 - mse: 2.2995 - val_loss: 1.9205 - val_mse: 1.9205\n",
      "Epoch 3/100\n",
      "7/7 [==============================] - 0s 8ms/step - loss: 2.1058 - mse: 2.1058 - val_loss: 1.7695 - val_mse: 1.7695\n",
      "Epoch 4/100\n",
      "7/7 [==============================] - 0s 8ms/step - loss: 1.9892 - mse: 1.9892 - val_loss: 1.6270 - val_mse: 1.6270\n",
      "Epoch 5/100\n",
      "7/7 [==============================] - 0s 8ms/step - loss: 1.7302 - mse: 1.7302 - val_loss: 1.4927 - val_mse: 1.4927\n",
      "Epoch 6/100\n",
      "7/7 [==============================] - 0s 8ms/step - loss: 1.5679 - mse: 1.5679 - val_loss: 1.3659 - val_mse: 1.3659\n",
      "Epoch 7/100\n",
      "7/7 [==============================] - 0s 9ms/step - loss: 1.5685 - mse: 1.5685 - val_loss: 1.2468 - val_mse: 1.2468\n",
      "Epoch 8/100\n",
      "7/7 [==============================] - 0s 8ms/step - loss: 1.3508 - mse: 1.3508 - val_loss: 1.1366 - val_mse: 1.1366\n",
      "Epoch 9/100\n",
      "7/7 [==============================] - 0s 8ms/step - loss: 1.3230 - mse: 1.3230 - val_loss: 1.0337 - val_mse: 1.0337\n",
      "Epoch 10/100\n",
      "7/7 [==============================] - 0s 9ms/step - loss: 1.2463 - mse: 1.2463 - val_loss: 0.9391 - val_mse: 0.9391\n",
      "Epoch 11/100\n",
      "7/7 [==============================] - 0s 11ms/step - loss: 1.0784 - mse: 1.0784 - val_loss: 0.8526 - val_mse: 0.8526\n",
      "Epoch 12/100\n",
      "7/7 [==============================] - 0s 10ms/step - loss: 0.9646 - mse: 0.9646 - val_loss: 0.7731 - val_mse: 0.7731\n",
      "Epoch 13/100\n",
      "7/7 [==============================] - 0s 9ms/step - loss: 0.9136 - mse: 0.9136 - val_loss: 0.7004 - val_mse: 0.7004\n",
      "Epoch 14/100\n",
      "7/7 [==============================] - 0s 9ms/step - loss: 0.8693 - mse: 0.8693 - val_loss: 0.6346 - val_mse: 0.6346\n",
      "Epoch 15/100\n",
      "7/7 [==============================] - 0s 9ms/step - loss: 0.6752 - mse: 0.6752 - val_loss: 0.5756 - val_mse: 0.5756\n",
      "Epoch 16/100\n",
      "7/7 [==============================] - 0s 9ms/step - loss: 0.8274 - mse: 0.8274 - val_loss: 0.5207 - val_mse: 0.5207\n",
      "Epoch 17/100\n",
      "7/7 [==============================] - 0s 10ms/step - loss: 0.5812 - mse: 0.5812 - val_loss: 0.4734 - val_mse: 0.4734\n",
      "Epoch 18/100\n",
      "7/7 [==============================] - 0s 8ms/step - loss: 0.5723 - mse: 0.5723 - val_loss: 0.4313 - val_mse: 0.4313\n",
      "Epoch 19/100\n",
      "7/7 [==============================] - 0s 9ms/step - loss: 0.4492 - mse: 0.4492 - val_loss: 0.3941 - val_mse: 0.3941\n",
      "Epoch 20/100\n",
      "7/7 [==============================] - 0s 8ms/step - loss: 0.4350 - mse: 0.4350 - val_loss: 0.3606 - val_mse: 0.3606\n",
      "Epoch 21/100\n",
      "7/7 [==============================] - 0s 8ms/step - loss: 0.4114 - mse: 0.4114 - val_loss: 0.3308 - val_mse: 0.3308\n",
      "Epoch 22/100\n",
      "7/7 [==============================] - 0s 8ms/step - loss: 0.4046 - mse: 0.4046 - val_loss: 0.3050 - val_mse: 0.3050\n",
      "Epoch 23/100\n",
      "7/7 [==============================] - 0s 8ms/step - loss: 0.3263 - mse: 0.3263 - val_loss: 0.2819 - val_mse: 0.2819\n",
      "Epoch 24/100\n",
      "7/7 [==============================] - 0s 8ms/step - loss: 0.3339 - mse: 0.3339 - val_loss: 0.2623 - val_mse: 0.2623\n",
      "Epoch 25/100\n",
      "7/7 [==============================] - 0s 8ms/step - loss: 0.3166 - mse: 0.3166 - val_loss: 0.2455 - val_mse: 0.2455\n",
      "Epoch 26/100\n",
      "7/7 [==============================] - 0s 11ms/step - loss: 0.3148 - mse: 0.3148 - val_loss: 0.2307 - val_mse: 0.2307\n",
      "Epoch 27/100\n",
      "7/7 [==============================] - 0s 10ms/step - loss: 0.2239 - mse: 0.2239 - val_loss: 0.2188 - val_mse: 0.2188\n",
      "Epoch 28/100\n",
      "7/7 [==============================] - 0s 9ms/step - loss: 0.2315 - mse: 0.2315 - val_loss: 0.2083 - val_mse: 0.2083\n",
      "Epoch 29/100\n",
      "7/7 [==============================] - 0s 9ms/step - loss: 0.2425 - mse: 0.2425 - val_loss: 0.1993 - val_mse: 0.1993\n",
      "Epoch 30/100\n",
      "7/7 [==============================] - 0s 9ms/step - loss: 0.2244 - mse: 0.2244 - val_loss: 0.1915 - val_mse: 0.1915\n",
      "Epoch 31/100\n",
      "7/7 [==============================] - 0s 8ms/step - loss: 0.1794 - mse: 0.1794 - val_loss: 0.1850 - val_mse: 0.1850\n",
      "Epoch 32/100\n",
      "7/7 [==============================] - 0s 8ms/step - loss: 0.2031 - mse: 0.2031 - val_loss: 0.1792 - val_mse: 0.1792\n",
      "Epoch 33/100\n",
      "7/7 [==============================] - 0s 9ms/step - loss: 0.2066 - mse: 0.2066 - val_loss: 0.1745 - val_mse: 0.1745\n",
      "Epoch 34/100\n",
      "7/7 [==============================] - 0s 9ms/step - loss: 0.1704 - mse: 0.1704 - val_loss: 0.1706 - val_mse: 0.1706\n",
      "Epoch 35/100\n",
      "7/7 [==============================] - 0s 10ms/step - loss: 0.1606 - mse: 0.1606 - val_loss: 0.1673 - val_mse: 0.1673\n",
      "Epoch 36/100\n",
      "7/7 [==============================] - 0s 9ms/step - loss: 0.1936 - mse: 0.1936 - val_loss: 0.1642 - val_mse: 0.1642\n",
      "Epoch 37/100\n",
      "7/7 [==============================] - 0s 8ms/step - loss: 0.1694 - mse: 0.1694 - val_loss: 0.1617 - val_mse: 0.1617\n",
      "Epoch 38/100\n",
      "7/7 [==============================] - 0s 8ms/step - loss: 0.1479 - mse: 0.1479 - val_loss: 0.1595 - val_mse: 0.1595\n",
      "Epoch 39/100\n",
      "7/7 [==============================] - 0s 9ms/step - loss: 0.1571 - mse: 0.1571 - val_loss: 0.1576 - val_mse: 0.1576\n",
      "Epoch 40/100\n",
      "7/7 [==============================] - 0s 9ms/step - loss: 0.1438 - mse: 0.1438 - val_loss: 0.1557 - val_mse: 0.1557\n",
      "Epoch 41/100\n",
      "7/7 [==============================] - 0s 8ms/step - loss: 0.1378 - mse: 0.1378 - val_loss: 0.1541 - val_mse: 0.1541\n",
      "Epoch 42/100\n",
      "7/7 [==============================] - 0s 8ms/step - loss: 0.1518 - mse: 0.1518 - val_loss: 0.1524 - val_mse: 0.1524\n",
      "Epoch 43/100\n",
      "7/7 [==============================] - 0s 8ms/step - loss: 0.1233 - mse: 0.1233 - val_loss: 0.1509 - val_mse: 0.1509\n",
      "Epoch 44/100\n",
      "7/7 [==============================] - 0s 8ms/step - loss: 0.1329 - mse: 0.1329 - val_loss: 0.1493 - val_mse: 0.1493\n",
      "Epoch 45/100\n",
      "7/7 [==============================] - 0s 8ms/step - loss: 0.1085 - mse: 0.1085 - val_loss: 0.1479 - val_mse: 0.1479\n",
      "Epoch 46/100\n",
      "7/7 [==============================] - 0s 11ms/step - loss: 0.1252 - mse: 0.1252 - val_loss: 0.1465 - val_mse: 0.1465\n",
      "Epoch 47/100\n",
      "7/7 [==============================] - 0s 9ms/step - loss: 0.1199 - mse: 0.1199 - val_loss: 0.1451 - val_mse: 0.1451\n",
      "Epoch 48/100\n",
      "7/7 [==============================] - 0s 10ms/step - loss: 0.1401 - mse: 0.1401 - val_loss: 0.1437 - val_mse: 0.1437\n",
      "Epoch 49/100\n",
      "7/7 [==============================] - 0s 9ms/step - loss: 0.1600 - mse: 0.1600 - val_loss: 0.1422 - val_mse: 0.1422\n",
      "Epoch 50/100\n",
      "7/7 [==============================] - 0s 12ms/step - loss: 0.1499 - mse: 0.1499 - val_loss: 0.1408 - val_mse: 0.1408\n",
      "Epoch 51/100\n",
      "7/7 [==============================] - 0s 8ms/step - loss: 0.1029 - mse: 0.1029 - val_loss: 0.1395 - val_mse: 0.1395\n",
      "Epoch 52/100\n",
      "7/7 [==============================] - 0s 8ms/step - loss: 0.1070 - mse: 0.1070 - val_loss: 0.1382 - val_mse: 0.1382\n",
      "Epoch 53/100\n",
      "7/7 [==============================] - 0s 8ms/step - loss: 0.1144 - mse: 0.1144 - val_loss: 0.1369 - val_mse: 0.1369\n",
      "Epoch 54/100\n",
      "7/7 [==============================] - 0s 8ms/step - loss: 0.1301 - mse: 0.1301 - val_loss: 0.1353 - val_mse: 0.1353\n",
      "Epoch 55/100\n",
      "7/7 [==============================] - 0s 9ms/step - loss: 0.1081 - mse: 0.1081 - val_loss: 0.1339 - val_mse: 0.1339\n",
      "Epoch 56/100\n",
      "7/7 [==============================] - 0s 9ms/step - loss: 0.1261 - mse: 0.1261 - val_loss: 0.1323 - val_mse: 0.1323\n",
      "Epoch 57/100\n",
      "7/7 [==============================] - 0s 9ms/step - loss: 0.1208 - mse: 0.1208 - val_loss: 0.1307 - val_mse: 0.1307\n",
      "Epoch 58/100\n",
      "7/7 [==============================] - 0s 9ms/step - loss: 0.1039 - mse: 0.1039 - val_loss: 0.1295 - val_mse: 0.1295\n",
      "Epoch 59/100\n",
      "7/7 [==============================] - 0s 9ms/step - loss: 0.1050 - mse: 0.1050 - val_loss: 0.1279 - val_mse: 0.1279\n",
      "Epoch 60/100\n",
      "7/7 [==============================] - 0s 8ms/step - loss: 0.1000 - mse: 0.1000 - val_loss: 0.1264 - val_mse: 0.1264\n",
      "Epoch 61/100\n",
      "7/7 [==============================] - 0s 8ms/step - loss: 0.1006 - mse: 0.1006 - val_loss: 0.1250 - val_mse: 0.1250\n",
      "Epoch 62/100\n",
      "7/7 [==============================] - 0s 8ms/step - loss: 0.1167 - mse: 0.1167 - val_loss: 0.1232 - val_mse: 0.1232\n",
      "Epoch 63/100\n",
      "7/7 [==============================] - 0s 8ms/step - loss: 0.1001 - mse: 0.1001 - val_loss: 0.1217 - val_mse: 0.1217\n",
      "Epoch 64/100\n",
      "7/7 [==============================] - 0s 8ms/step - loss: 0.1054 - mse: 0.1054 - val_loss: 0.1203 - val_mse: 0.1203\n",
      "Epoch 65/100\n",
      "7/7 [==============================] - 0s 8ms/step - loss: 0.1056 - mse: 0.1056 - val_loss: 0.1188 - val_mse: 0.1188\n",
      "Epoch 66/100\n",
      "7/7 [==============================] - 0s 11ms/step - loss: 0.0837 - mse: 0.0837 - val_loss: 0.1172 - val_mse: 0.1172\n",
      "Epoch 67/100\n",
      "7/7 [==============================] - 0s 9ms/step - loss: 0.1086 - mse: 0.1086 - val_loss: 0.1158 - val_mse: 0.1158\n",
      "Epoch 68/100\n",
      "7/7 [==============================] - 0s 8ms/step - loss: 0.1120 - mse: 0.1120 - val_loss: 0.1145 - val_mse: 0.1145\n",
      "Epoch 69/100\n",
      "7/7 [==============================] - 0s 9ms/step - loss: 0.1064 - mse: 0.1064 - val_loss: 0.1130 - val_mse: 0.1130\n",
      "Epoch 70/100\n",
      "7/7 [==============================] - 0s 12ms/step - loss: 0.1104 - mse: 0.1104 - val_loss: 0.1114 - val_mse: 0.1114\n",
      "Epoch 71/100\n",
      "7/7 [==============================] - 0s 10ms/step - loss: 0.1132 - mse: 0.1132 - val_loss: 0.1096 - val_mse: 0.1096\n",
      "Epoch 72/100\n",
      "7/7 [==============================] - 0s 9ms/step - loss: 0.0892 - mse: 0.0892 - val_loss: 0.1084 - val_mse: 0.1084\n",
      "Epoch 73/100\n",
      "7/7 [==============================] - 0s 8ms/step - loss: 0.0987 - mse: 0.0987 - val_loss: 0.1070 - val_mse: 0.1070\n",
      "Epoch 74/100\n",
      "7/7 [==============================] - 0s 9ms/step - loss: 0.0985 - mse: 0.0985 - val_loss: 0.1055 - val_mse: 0.1055\n",
      "Epoch 75/100\n",
      "7/7 [==============================] - 0s 8ms/step - loss: 0.0957 - mse: 0.0957 - val_loss: 0.1040 - val_mse: 0.1040\n",
      "Epoch 76/100\n",
      "7/7 [==============================] - 0s 9ms/step - loss: 0.1007 - mse: 0.1007 - val_loss: 0.1028 - val_mse: 0.1028\n",
      "Epoch 77/100\n",
      "7/7 [==============================] - 0s 9ms/step - loss: 0.0907 - mse: 0.0907 - val_loss: 0.1014 - val_mse: 0.1014\n",
      "Epoch 78/100\n",
      "7/7 [==============================] - 0s 10ms/step - loss: 0.1102 - mse: 0.1102 - val_loss: 0.0999 - val_mse: 0.0999\n",
      "Epoch 79/100\n",
      "7/7 [==============================] - 0s 9ms/step - loss: 0.0911 - mse: 0.0911 - val_loss: 0.0985 - val_mse: 0.0985\n",
      "Epoch 80/100\n",
      "7/7 [==============================] - 0s 9ms/step - loss: 0.0802 - mse: 0.0802 - val_loss: 0.0973 - val_mse: 0.0973\n",
      "Epoch 81/100\n",
      "7/7 [==============================] - 0s 9ms/step - loss: 0.0914 - mse: 0.0914 - val_loss: 0.0958 - val_mse: 0.0958\n",
      "Epoch 82/100\n",
      "7/7 [==============================] - 0s 12ms/step - loss: 0.0815 - mse: 0.0815 - val_loss: 0.0946 - val_mse: 0.0946\n",
      "Epoch 83/100\n",
      "7/7 [==============================] - 0s 9ms/step - loss: 0.0805 - mse: 0.0805 - val_loss: 0.0932 - val_mse: 0.0932\n",
      "Epoch 84/100\n",
      "7/7 [==============================] - 0s 9ms/step - loss: 0.0734 - mse: 0.0734 - val_loss: 0.0919 - val_mse: 0.0919\n",
      "Epoch 85/100\n",
      "7/7 [==============================] - 0s 11ms/step - loss: 0.0771 - mse: 0.0771 - val_loss: 0.0904 - val_mse: 0.0904\n",
      "Epoch 86/100\n",
      "7/7 [==============================] - 0s 10ms/step - loss: 0.0856 - mse: 0.0856 - val_loss: 0.0891 - val_mse: 0.0891\n",
      "Epoch 87/100\n",
      "7/7 [==============================] - 0s 10ms/step - loss: 0.0898 - mse: 0.0898 - val_loss: 0.0878 - val_mse: 0.0878\n",
      "Epoch 88/100\n",
      "7/7 [==============================] - 0s 9ms/step - loss: 0.0785 - mse: 0.0785 - val_loss: 0.0864 - val_mse: 0.0864\n",
      "Epoch 89/100\n",
      "7/7 [==============================] - 0s 9ms/step - loss: 0.0684 - mse: 0.0684 - val_loss: 0.0850 - val_mse: 0.0850\n",
      "Epoch 90/100\n",
      "7/7 [==============================] - 0s 9ms/step - loss: 0.0700 - mse: 0.0700 - val_loss: 0.0838 - val_mse: 0.0838\n",
      "Epoch 91/100\n",
      "7/7 [==============================] - 0s 9ms/step - loss: 0.0750 - mse: 0.0750 - val_loss: 0.0825 - val_mse: 0.0825\n",
      "Epoch 92/100\n",
      "7/7 [==============================] - 0s 9ms/step - loss: 0.0674 - mse: 0.0674 - val_loss: 0.0811 - val_mse: 0.0811\n",
      "Epoch 93/100\n",
      "7/7 [==============================] - 0s 8ms/step - loss: 0.0658 - mse: 0.0658 - val_loss: 0.0799 - val_mse: 0.0799\n",
      "Epoch 94/100\n",
      "7/7 [==============================] - 0s 8ms/step - loss: 0.0673 - mse: 0.0673 - val_loss: 0.0788 - val_mse: 0.0788\n",
      "Epoch 95/100\n",
      "7/7 [==============================] - 0s 9ms/step - loss: 0.0762 - mse: 0.0762 - val_loss: 0.0775 - val_mse: 0.0775\n",
      "Epoch 96/100\n",
      "7/7 [==============================] - 0s 9ms/step - loss: 0.0653 - mse: 0.0653 - val_loss: 0.0762 - val_mse: 0.0762\n",
      "Epoch 97/100\n",
      "7/7 [==============================] - 0s 9ms/step - loss: 0.0556 - mse: 0.0556 - val_loss: 0.0748 - val_mse: 0.0748\n",
      "Epoch 98/100\n",
      "7/7 [==============================] - 0s 11ms/step - loss: 0.0779 - mse: 0.0779 - val_loss: 0.0736 - val_mse: 0.0736\n",
      "Epoch 99/100\n",
      "7/7 [==============================] - 0s 10ms/step - loss: 0.0595 - mse: 0.0595 - val_loss: 0.0724 - val_mse: 0.0724\n",
      "Epoch 100/100\n",
      "7/7 [==============================] - 0s 11ms/step - loss: 0.0795 - mse: 0.0795 - val_loss: 0.0711 - val_mse: 0.0711\n"
     ]
    }
   ],
   "source": [
    "history = model.fit(X_train_std, y_train, epochs=100, batch_size=16, validation_data=(X_test_std, y_test))\n"
   ]
  },
  {
   "cell_type": "markdown",
   "metadata": {
    "id": "kYsIyVUhFoGo"
   },
   "source": [
    "## Post Training - what are the Weights and Biases "
   ]
  },
  {
   "cell_type": "code",
   "execution_count": null,
   "metadata": {
    "id": "e9JdCT7dDeie"
   },
   "outputs": [],
   "source": [
    "weights = model.get_weights()"
   ]
  },
  {
   "cell_type": "code",
   "execution_count": null,
   "metadata": {
    "colab": {
     "base_uri": "https://localhost:8080/"
    },
    "id": "gRBV6xv4E_vD",
    "outputId": "dbffddaa-0b63-4549-fb12-d85edeabfe03"
   },
   "outputs": [
    {
     "data": {
      "text/plain": [
       "[array([[-0.9251015 ,  0.42827475, -0.29294506,  0.3299745 ,  0.8349164 ,\n",
       "          0.30528215,  1.1099373 ,  0.08741174, -0.35216507,  0.57227135],\n",
       "        [ 0.46229535, -0.6499122 , -0.24449204, -0.3574518 ,  0.0083227 ,\n",
       "         -0.01940782,  0.4162209 ,  0.44364113, -0.28918847, -0.25843227],\n",
       "        [ 0.4603805 ,  0.32929882, -0.18307665, -0.24838936, -0.27623934,\n",
       "         -0.02191929,  0.3694799 , -0.27312285, -0.45062166, -0.5788526 ]],\n",
       "       dtype=float32),\n",
       " array([-0.04870424,  0.16748203,  0.00053334,  0.14570358,  0.1402259 ,\n",
       "         0.21387537, -0.14666788,  0.1334125 , -0.12566745,  0.10599671],\n",
       "       dtype=float32),\n",
       " array([[ 0.13702379,  0.35473642, -0.3507138 , -0.1243442 , -0.32713664,\n",
       "          0.10073529],\n",
       "        [-0.17473914, -0.30247337,  0.5168091 ,  0.3399551 ,  0.690025  ,\n",
       "          0.18989387],\n",
       "        [-0.1954169 , -0.05939573, -0.23287612,  0.3955116 , -0.3801907 ,\n",
       "         -0.10130616],\n",
       "        [-0.25293443,  0.37199292,  0.34431747, -0.02561756,  0.7613698 ,\n",
       "          0.18705727],\n",
       "        [ 0.1395162 ,  0.4333363 ,  0.776551  ,  0.40602088,  0.5273108 ,\n",
       "          0.6093264 ],\n",
       "        [-0.14172861,  0.4562936 , -0.18161608,  0.37111497, -0.05193465,\n",
       "          0.34018543],\n",
       "        [-0.31756282, -0.03871804,  0.47676182, -0.02150949, -0.17859645,\n",
       "          0.3647173 ],\n",
       "        [-0.684766  ,  0.5736123 ,  0.54984605, -0.21665366, -0.24023686,\n",
       "          0.6475475 ],\n",
       "        [-0.11132548,  0.23300147, -0.06323734, -0.31210762, -0.05849614,\n",
       "          0.13042882],\n",
       "        [-0.6728531 ,  0.7211247 ,  0.30777106, -0.17626318,  0.3564163 ,\n",
       "          0.7233682 ]], dtype=float32),\n",
       " array([-0.09939816,  0.15533313,  0.11979135,  0.18128465,  0.15167627,\n",
       "         0.12275528], dtype=float32),\n",
       " array([[-0.02563351],\n",
       "        [ 0.72333544],\n",
       "        [ 0.689133  ],\n",
       "        [ 0.89659125],\n",
       "        [ 0.56835145],\n",
       "        [ 0.99648   ]], dtype=float32),\n",
       " array([0.16890498], dtype=float32)]"
      ]
     },
     "execution_count": 167,
     "metadata": {
      "tags": []
     },
     "output_type": "execute_result"
    }
   ],
   "source": [
    "weights\n",
    "#weights[0]"
   ]
  },
  {
   "cell_type": "markdown",
   "metadata": {
    "id": "MIELoWYWCzg3"
   },
   "source": [
    "## Plot Loss/Accuracy Curve for Training and Validation Data "
   ]
  },
  {
   "cell_type": "code",
   "execution_count": null,
   "metadata": {
    "id": "B3Am7kpC-DLC"
   },
   "outputs": [],
   "source": [
    "from keras.utils import plot_model\n",
    "import matplotlib.pyplot as plt"
   ]
  },
  {
   "cell_type": "code",
   "execution_count": null,
   "metadata": {
    "colab": {
     "base_uri": "https://localhost:8080/",
     "height": 328
    },
    "id": "y9AcirKv8u0z",
    "outputId": "bf58af09-9130-4bb9-b134-063a0fb9341a"
   },
   "outputs": [
    {
     "data": {
      "text/plain": [
       "<matplotlib.legend.Legend at 0x7fd839536c50>"
      ]
     },
     "execution_count": 169,
     "metadata": {
      "tags": []
     },
     "output_type": "execute_result"
    },
    {
     "data": {
      "image/png": "[encoded data removed]",
      "text/plain": [
       "<Figure size 864x720 with 1 Axes>"
      ]
     },
     "metadata": {
      "needs_background": "light",
      "tags": []
     },
     "output_type": "display_data"
    }
   ],
   "source": [
    "# Plot Loss Profile of the model on Training Data\n",
    "plt.figure(figsize=(12,10))\n",
    "plt.subplot(211)\n",
    "plt.title('Loss-Accuracy on Training Data')\n",
    "plt.plot(history.history['loss'], label='loss')\n",
    "plt.legend()\n"
   ]
  },
  {
   "cell_type": "markdown",
   "metadata": {
    "id": "-2-LkVmTGZ37"
   },
   "source": [
    "## Test/Make Predictions"
   ]
  },
  {
   "cell_type": "code",
   "execution_count": null,
   "metadata": {
    "colab": {
     "base_uri": "https://localhost:8080/"
    },
    "id": "hWswvIa36RNu",
    "outputId": "3b26fecb-fa75-4b9d-e68f-ee4aa7f5d9a9"
   },
   "outputs": [
    {
     "name": "stdout",
     "output_type": "stream",
     "text": [
      "[3.46 3.42 3.33 2.99 3.13 2.86 2.67 2.73 2.76 3.19 2.98 3.45 3.32 2.85\n",
      " 3.   3.01 3.06 3.01 3.27 2.82 2.79 3.39 2.86 3.09 3.01 3.02 2.77 2.86\n",
      " 3.19 2.89 2.95 2.82 2.99 2.93 2.97 2.95 3.08 3.04 2.91 2.94 3.39 3.37\n",
      " 3.26 3.01 3.03]\n",
      "\n",
      "[4.2 3.9 3.5 3.  3.2 2.7 2.2 2.3 2.5 3.  3.  4.1 3.4 2.8 3.  2.9 3.  2.9\n",
      " 3.2 2.6 2.4 3.7 2.6 3.1 2.9 2.9 2.3 2.8 3.  2.3 3.  2.5 3.  2.7 3.  2.8\n",
      " 3.1 3.  2.7 3.  3.7 3.6 3.2 3.  3. ]\n"
     ]
    }
   ],
   "source": [
    "pred = model.predict(X_test_std)\n",
    "print(np.round(pred.ravel(),2))\n",
    "print()\n",
    "print(y_test)"
   ]
  },
  {
   "cell_type": "markdown",
   "metadata": {
    "id": "NVdofzJ7QLxF"
   },
   "source": [
    "## Regression Metrics"
   ]
  },
  {
   "cell_type": "code",
   "execution_count": null,
   "metadata": {
    "id": "kro2t5Me-LYs"
   },
   "outputs": [],
   "source": [
    "from sklearn.metrics import mean_squared_error, r2_score"
   ]
  },
  {
   "cell_type": "markdown",
   "metadata": {
    "id": "eoq_Fj2cQOia"
   },
   "source": [
    "### Accuracy"
   ]
  },
  {
   "cell_type": "code",
   "execution_count": null,
   "metadata": {
    "colab": {
     "base_uri": "https://localhost:8080/"
    },
    "id": "CyzRQ4n5Mee6",
    "outputId": "c685de55-786c-49ad-84a6-63e55089e7e3"
   },
   "outputs": [
    {
     "name": "stdout",
     "output_type": "stream",
     "text": [
      " MSE =  0.07106924233463198\n"
     ]
    }
   ],
   "source": [
    "mse = mean_squared_error(y_test, pred) \n",
    "print(\" MSE = \", mse)"
   ]
  },
  {
   "cell_type": "code",
   "execution_count": null,
   "metadata": {
    "colab": {
     "base_uri": "https://localhost:8080/"
    },
    "id": "1fMohBD7qhkJ",
    "outputId": "4d893b3d-ded1-4cd8-fcb9-0db844974d27"
   },
   "outputs": [
    {
     "name": "stdout",
     "output_type": "stream",
     "text": [
      " R2 =  0.6473184930460478\n"
     ]
    }
   ],
   "source": [
    "r2 = r2_score(y_test, pred) \n",
    "print(\" R2 = \", r2)"
   ]
  },
  {
   "cell_type": "markdown",
   "metadata": {
    "id": "8DEuNM6snW4k"
   },
   "source": [
    "## Evaluate the Model on the Test Set"
   ]
  },
  {
   "cell_type": "code",
   "execution_count": null,
   "metadata": {
    "colab": {
     "base_uri": "https://localhost:8080/"
    },
    "id": "A--W7vHznO7w",
    "outputId": "325f99ed-06e4-4019-daf1-9adcb523df7c"
   },
   "outputs": [
    {
     "name": "stdout",
     "output_type": "stream",
     "text": [
      "2/2 [==============================] - 0s 3ms/step - loss: 0.0711 - mse: 0.0711\n",
      "Final test set Loss: 0.071069\n",
      "Final test set MSE: 0.071069\n"
     ]
    }
   ],
   "source": [
    "results = model.evaluate(X_test_std, y_test)\n",
    "\n",
    "print('Final test set Loss: {:4f}'.format(results[0]))\n",
    "print('Final test set MSE: {:4f}'.format(results[1]))"
   ]
  },
  {
   "cell_type": "markdown",
   "metadata": {
    "id": "WNZhH1VXMuPn"
   },
   "source": [
    "## Verify the Output with an individual Sample"
   ]
  },
  {
   "cell_type": "code",
   "execution_count": null,
   "metadata": {
    "colab": {
     "base_uri": "https://localhost:8080/"
    },
    "id": "zCOw3D9tQ9Au",
    "outputId": "97dcba4c-5de0-40ba-8ff5-1879b9506a4e"
   },
   "outputs": [
    {
     "name": "stdout",
     "output_type": "stream",
     "text": [
      "\n",
      " Input sample Original :  [[3.  5.2 2. ]]\n",
      "\n",
      " Input sample Standardize :  [[-0.19938725  0.7952115   0.99844277]]\n",
      "\n",
      " Predicted value by the model :  [[2.9808044]]\n",
      "\n",
      " True/Actual Value :  3.0\n"
     ]
    }
   ],
   "source": [
    "idx = 10 # Index of a data sample present in the Test set\n",
    "\n",
    "indvidual_test_sample = X_test_std[idx,:].reshape(1, 3)\n",
    "\n",
    "print('\\n Input sample Original : ' , X_test[idx,:].reshape(1, 3) )\n",
    "print('\\n Input sample Standardize : ' , indvidual_test_sample )\n",
    "\n",
    "pred = model.predict(indvidual_test_sample)\n",
    "\n",
    "print('\\n Predicted value by the model : ', pred)\n",
    "\n",
    "print('\\n True/Actual Value : ', y_test[idx])"
   ]
  }
 ],
 "metadata": {
  "colab": {
   "collapsed_sections": [],
   "name": "IRIS_MLP_Regression__DL_Masterclass.ipynb",
   "provenance": [],
   "toc_visible": true
  },
  "kernelspec": {
   "display_name": "Python 3 (ipykernel)",
   "language": "python",
   "name": "python3"
  },
  "language_info": {
   "codemirror_mode": {
    "name": "ipython",
    "version": 3
   },
   "file_extension": ".py",
   "mimetype": "text/x-python",
   "name": "python",
   "nbconvert_exporter": "python",
   "pygments_lexer": "ipython3",
   "version": "3.10.6"
  }
 },
 "nbformat": 4,
 "nbformat_minor": 1
}
