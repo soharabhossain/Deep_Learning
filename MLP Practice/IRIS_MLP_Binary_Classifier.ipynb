{
 "cells": [
  {
   "cell_type": "markdown",
   "metadata": {
    "id": "uyeHjPcVLdqJ"
   },
   "source": [
    "# Multi Layer Perceptron for IRIS Flower Classification - Solving a Binary Classification Problem\n",
    "\n",
    "## Using Keras to Build ANN - MLP"
   ]
  },
  {
   "cell_type": "markdown",
   "metadata": {
    "id": "qnxRok5uC6zY"
   },
   "source": [
    "#**Part 1 : Understanding the Data**\n",
    "\n",
    "## Load IRIS Dataset in a Table - Read from a CSV File"
   ]
  },
  {
   "cell_type": "code",
   "execution_count": 1,
   "metadata": {
    "colab": {
     "base_uri": "https://localhost:8080/",
     "height": 407
    },
    "id": "ZnX7KOSKTtON",
    "outputId": "62948adb-7e9d-4428-bab4-5f1d2a806881"
   },
   "outputs": [
    {
     "data": {
      "text/html": [
       "<div>\n",
       "<style scoped>\n",
       "    .dataframe tbody tr th:only-of-type {\n",
       "        vertical-align: middle;\n",
       "    }\n",
       "\n",
       "    .dataframe tbody tr th {\n",
       "        vertical-align: top;\n",
       "    }\n",
       "\n",
       "    .dataframe thead th {\n",
       "        text-align: right;\n",
       "    }\n",
       "</style>\n",
       "<table border=\"1\" class=\"dataframe\">\n",
       "  <thead>\n",
       "    <tr style=\"text-align: right;\">\n",
       "      <th></th>\n",
       "      <th>sepal_length</th>\n",
       "      <th>sepal_width</th>\n",
       "      <th>petal_length</th>\n",
       "      <th>petal_width</th>\n",
       "      <th>species</th>\n",
       "    </tr>\n",
       "  </thead>\n",
       "  <tbody>\n",
       "    <tr>\n",
       "      <th>0</th>\n",
       "      <td>5.1</td>\n",
       "      <td>3.5</td>\n",
       "      <td>1.4</td>\n",
       "      <td>0.2</td>\n",
       "      <td>Setosa</td>\n",
       "    </tr>\n",
       "    <tr>\n",
       "      <th>1</th>\n",
       "      <td>4.9</td>\n",
       "      <td>3.0</td>\n",
       "      <td>1.4</td>\n",
       "      <td>0.2</td>\n",
       "      <td>Setosa</td>\n",
       "    </tr>\n",
       "    <tr>\n",
       "      <th>2</th>\n",
       "      <td>4.7</td>\n",
       "      <td>3.2</td>\n",
       "      <td>1.3</td>\n",
       "      <td>0.2</td>\n",
       "      <td>Setosa</td>\n",
       "    </tr>\n",
       "    <tr>\n",
       "      <th>3</th>\n",
       "      <td>4.6</td>\n",
       "      <td>3.1</td>\n",
       "      <td>1.5</td>\n",
       "      <td>0.2</td>\n",
       "      <td>Setosa</td>\n",
       "    </tr>\n",
       "    <tr>\n",
       "      <th>4</th>\n",
       "      <td>5.0</td>\n",
       "      <td>3.6</td>\n",
       "      <td>1.4</td>\n",
       "      <td>0.2</td>\n",
       "      <td>Setosa</td>\n",
       "    </tr>\n",
       "    <tr>\n",
       "      <th>...</th>\n",
       "      <td>...</td>\n",
       "      <td>...</td>\n",
       "      <td>...</td>\n",
       "      <td>...</td>\n",
       "      <td>...</td>\n",
       "    </tr>\n",
       "    <tr>\n",
       "      <th>145</th>\n",
       "      <td>6.7</td>\n",
       "      <td>3.0</td>\n",
       "      <td>5.2</td>\n",
       "      <td>2.3</td>\n",
       "      <td>Virginica</td>\n",
       "    </tr>\n",
       "    <tr>\n",
       "      <th>146</th>\n",
       "      <td>6.3</td>\n",
       "      <td>2.5</td>\n",
       "      <td>5.0</td>\n",
       "      <td>1.9</td>\n",
       "      <td>Virginica</td>\n",
       "    </tr>\n",
       "    <tr>\n",
       "      <th>147</th>\n",
       "      <td>6.5</td>\n",
       "      <td>3.0</td>\n",
       "      <td>5.2</td>\n",
       "      <td>2.0</td>\n",
       "      <td>Virginica</td>\n",
       "    </tr>\n",
       "    <tr>\n",
       "      <th>148</th>\n",
       "      <td>6.2</td>\n",
       "      <td>3.4</td>\n",
       "      <td>5.4</td>\n",
       "      <td>2.3</td>\n",
       "      <td>Virginica</td>\n",
       "    </tr>\n",
       "    <tr>\n",
       "      <th>149</th>\n",
       "      <td>5.9</td>\n",
       "      <td>3.0</td>\n",
       "      <td>5.1</td>\n",
       "      <td>1.8</td>\n",
       "      <td>Virginica</td>\n",
       "    </tr>\n",
       "  </tbody>\n",
       "</table>\n",
       "<p>150 rows × 5 columns</p>\n",
       "</div>"
      ],
      "text/plain": [
       "     sepal_length  sepal_width  petal_length  petal_width    species\n",
       "0             5.1          3.5           1.4          0.2     Setosa\n",
       "1             4.9          3.0           1.4          0.2     Setosa\n",
       "2             4.7          3.2           1.3          0.2     Setosa\n",
       "3             4.6          3.1           1.5          0.2     Setosa\n",
       "4             5.0          3.6           1.4          0.2     Setosa\n",
       "..            ...          ...           ...          ...        ...\n",
       "145           6.7          3.0           5.2          2.3  Virginica\n",
       "146           6.3          2.5           5.0          1.9  Virginica\n",
       "147           6.5          3.0           5.2          2.0  Virginica\n",
       "148           6.2          3.4           5.4          2.3  Virginica\n",
       "149           5.9          3.0           5.1          1.8  Virginica\n",
       "\n",
       "[150 rows x 5 columns]"
      ]
     },
     "execution_count": 1,
     "metadata": {
      "tags": []
     },
     "output_type": "execute_result"
    }
   ],
   "source": [
    "import pandas as pd\n",
    "import numpy as np\n",
    "\n",
    "df_iris = pd.read_csv('IRIS.csv')\n",
    "df_iris.head(150)"
   ]
  },
  {
   "cell_type": "code",
   "execution_count": 2,
   "metadata": {
    "colab": {
     "base_uri": "https://localhost:8080/"
    },
    "id": "oBsjZy0SUBMc",
    "outputId": "d521699a-7ed7-44ff-d28b-78334f5ace85"
   },
   "outputs": [
    {
     "data": {
      "text/plain": [
       "Index(['sepal_length', 'sepal_width', 'petal_length', 'petal_width',\n",
       "       'species'],\n",
       "      dtype='object')"
      ]
     },
     "execution_count": 2,
     "metadata": {
      "tags": []
     },
     "output_type": "execute_result"
    }
   ],
   "source": [
    "df_iris.columns"
   ]
  },
  {
   "cell_type": "code",
   "execution_count": 3,
   "metadata": {
    "colab": {
     "base_uri": "https://localhost:8080/"
    },
    "id": "1TgFfpyuUFQ3",
    "outputId": "db24afef-1e72-43e5-c9a6-057e715fa3a7"
   },
   "outputs": [
    {
     "data": {
      "text/plain": [
       "array(['Setosa', 'Versicolor', 'Virginica'], dtype=object)"
      ]
     },
     "execution_count": 3,
     "metadata": {
      "tags": []
     },
     "output_type": "execute_result"
    }
   ],
   "source": [
    "df_iris['species'].unique()"
   ]
  },
  {
   "cell_type": "code",
   "execution_count": 4,
   "metadata": {
    "colab": {
     "base_uri": "https://localhost:8080/"
    },
    "id": "R1cMwUkaUMlW",
    "outputId": "41ae2c7c-e89f-4f18-ab16-cb7976998ab4"
   },
   "outputs": [
    {
     "name": "stdout",
     "output_type": "stream",
     "text": [
      "<class 'pandas.core.frame.DataFrame'>\n",
      "RangeIndex: 150 entries, 0 to 149\n",
      "Data columns (total 5 columns):\n",
      " #   Column        Non-Null Count  Dtype  \n",
      "---  ------        --------------  -----  \n",
      " 0   sepal_length  150 non-null    float64\n",
      " 1   sepal_width   150 non-null    float64\n",
      " 2   petal_length  150 non-null    float64\n",
      " 3   petal_width   150 non-null    float64\n",
      " 4   species       150 non-null    object \n",
      "dtypes: float64(4), object(1)\n",
      "memory usage: 6.0+ KB\n"
     ]
    }
   ],
   "source": [
    "df_iris.info()"
   ]
  },
  {
   "cell_type": "markdown",
   "metadata": {
    "id": "r-ZQ2_BETumm"
   },
   "source": [
    "## Visualize scaled features"
   ]
  },
  {
   "cell_type": "code",
   "execution_count": 5,
   "metadata": {
    "colab": {
     "base_uri": "https://localhost:8080/",
     "height": 503
    },
    "id": "mbMKLfNDQspS",
    "outputId": "7b6cda8e-33b3-4fa7-bc8b-ec56e72d0b27"
   },
   "outputs": [
    {
     "name": "stdout",
     "output_type": "stream",
     "text": [
      "X_scaled type is <class 'numpy.ndarray'>\n"
     ]
    },
    {
     "data": {
      "image/png": "[encoded data removed]",
      "text/plain": [
       "<Figure size 864x504 with 4 Axes>"
      ]
     },
     "metadata": {
      "needs_background": "light",
      "tags": []
     },
     "output_type": "display_data"
    }
   ],
   "source": [
    "# Scaling of X\n",
    "from sklearn.preprocessing import MinMaxScaler\n",
    "import matplotlib.pyplot as plt\n",
    "\n",
    "X = df_iris[['sepal_length','sepal_width','petal_length','petal_width']]\n",
    "\n",
    "scaler = MinMaxScaler()\n",
    "X_scaled = scaler.fit_transform(X)\n",
    "print('X_scaled type is',type(X_scaled))\n",
    "\n",
    "#df=df_iris\n",
    "\n",
    "y_species = df_iris['species']#pd.Series(y, name='species')\n",
    "\n",
    "X_scaled_df = pd.DataFrame(X_scaled,columns=['sepal_length','sepal_width',\n",
    "                                             'petal_length','petal_width'])\n",
    "df = pd.concat([X_scaled_df, y_species], axis=1)\n",
    "\n",
    "# Notice x-axis on subplots are all the same for all features (0 to 1) after scaling.\n",
    "fig = plt.figure(figsize=(12,7))\n",
    "fig.suptitle('Frequency Distribution of Features by Species ',fontsize=20)\n",
    "\n",
    "ax1 = fig.add_subplot(221)\n",
    "df.groupby(\"species\").petal_length.plot(kind='hist',alpha=0.8,legend=True,title='Petal Length')\n",
    "ax2 = fig.add_subplot(222,sharey=ax1)\n",
    "df.groupby(\"species\").petal_width.plot(kind='hist',alpha=0.8,legend=True,title='Petal Width')\n",
    "ax3 = fig.add_subplot(223,sharey=ax1)\n",
    "df.groupby(\"species\").sepal_length.plot(kind='hist',alpha=0.8,legend=True,title='Sepal Length')\n",
    "ax4 = fig.add_subplot(224,sharey=ax1)\n",
    "df.groupby(\"species\").sepal_width.plot(kind='hist',alpha=0.8,legend=True,title='Sepal Width')\n",
    "\n",
    "plt.tight_layout(pad=4, w_pad=1, h_pad=1.5)\n",
    "plt.show()\n"
   ]
  },
  {
   "cell_type": "markdown",
   "metadata": {
    "id": "OY4mn1Q-T1Wh"
   },
   "source": [
    "## Summary statistics"
   ]
  },
  {
   "cell_type": "code",
   "execution_count": 6,
   "metadata": {
    "colab": {
     "base_uri": "https://localhost:8080/",
     "height": 288
    },
    "id": "VbSDGj-oTZQP",
    "outputId": "162df49b-7e27-4fc1-a7ce-5f787579592e"
   },
   "outputs": [
    {
     "data": {
      "text/html": [
       "<div>\n",
       "<style scoped>\n",
       "    .dataframe tbody tr th:only-of-type {\n",
       "        vertical-align: middle;\n",
       "    }\n",
       "\n",
       "    .dataframe tbody tr th {\n",
       "        vertical-align: top;\n",
       "    }\n",
       "\n",
       "    .dataframe thead th {\n",
       "        text-align: right;\n",
       "    }\n",
       "</style>\n",
       "<table border=\"1\" class=\"dataframe\">\n",
       "  <thead>\n",
       "    <tr style=\"text-align: right;\">\n",
       "      <th></th>\n",
       "      <th>sepal_length</th>\n",
       "      <th>sepal_width</th>\n",
       "      <th>petal_length</th>\n",
       "      <th>petal_width</th>\n",
       "    </tr>\n",
       "  </thead>\n",
       "  <tbody>\n",
       "    <tr>\n",
       "      <th>count</th>\n",
       "      <td>150.000000</td>\n",
       "      <td>150.000000</td>\n",
       "      <td>150.000000</td>\n",
       "      <td>150.000000</td>\n",
       "    </tr>\n",
       "    <tr>\n",
       "      <th>mean</th>\n",
       "      <td>5.843333</td>\n",
       "      <td>3.057333</td>\n",
       "      <td>3.758000</td>\n",
       "      <td>1.199333</td>\n",
       "    </tr>\n",
       "    <tr>\n",
       "      <th>std</th>\n",
       "      <td>0.828066</td>\n",
       "      <td>0.435866</td>\n",
       "      <td>1.765298</td>\n",
       "      <td>0.762238</td>\n",
       "    </tr>\n",
       "    <tr>\n",
       "      <th>min</th>\n",
       "      <td>4.300000</td>\n",
       "      <td>2.000000</td>\n",
       "      <td>1.000000</td>\n",
       "      <td>0.100000</td>\n",
       "    </tr>\n",
       "    <tr>\n",
       "      <th>25%</th>\n",
       "      <td>5.100000</td>\n",
       "      <td>2.800000</td>\n",
       "      <td>1.600000</td>\n",
       "      <td>0.300000</td>\n",
       "    </tr>\n",
       "    <tr>\n",
       "      <th>50%</th>\n",
       "      <td>5.800000</td>\n",
       "      <td>3.000000</td>\n",
       "      <td>4.350000</td>\n",
       "      <td>1.300000</td>\n",
       "    </tr>\n",
       "    <tr>\n",
       "      <th>75%</th>\n",
       "      <td>6.400000</td>\n",
       "      <td>3.300000</td>\n",
       "      <td>5.100000</td>\n",
       "      <td>1.800000</td>\n",
       "    </tr>\n",
       "    <tr>\n",
       "      <th>max</th>\n",
       "      <td>7.900000</td>\n",
       "      <td>4.400000</td>\n",
       "      <td>6.900000</td>\n",
       "      <td>2.500000</td>\n",
       "    </tr>\n",
       "  </tbody>\n",
       "</table>\n",
       "</div>"
      ],
      "text/plain": [
       "       sepal_length  sepal_width  petal_length  petal_width\n",
       "count    150.000000   150.000000    150.000000   150.000000\n",
       "mean       5.843333     3.057333      3.758000     1.199333\n",
       "std        0.828066     0.435866      1.765298     0.762238\n",
       "min        4.300000     2.000000      1.000000     0.100000\n",
       "25%        5.100000     2.800000      1.600000     0.300000\n",
       "50%        5.800000     3.000000      4.350000     1.300000\n",
       "75%        6.400000     3.300000      5.100000     1.800000\n",
       "max        7.900000     4.400000      6.900000     2.500000"
      ]
     },
     "execution_count": 6,
     "metadata": {
      "tags": []
     },
     "output_type": "execute_result"
    }
   ],
   "source": [
    "# Summary statistics\n",
    "df_iris.describe()"
   ]
  },
  {
   "cell_type": "markdown",
   "metadata": {
    "id": "kwzHyDTbW3uu"
   },
   "source": [
    "# Alternatively, we may get the same Dataset from Scikitlearn Dataset"
   ]
  },
  {
   "cell_type": "code",
   "execution_count": 7,
   "metadata": {
    "id": "fL_immus9xCD"
   },
   "outputs": [],
   "source": [
    "from sklearn import datasets"
   ]
  },
  {
   "cell_type": "code",
   "execution_count": 8,
   "metadata": {
    "id": "RRBkAhw2xtx7"
   },
   "outputs": [],
   "source": [
    "# import some data to play with\n",
    "iris = datasets.load_iris()"
   ]
  },
  {
   "cell_type": "code",
   "execution_count": 9,
   "metadata": {
    "colab": {
     "base_uri": "https://localhost:8080/"
    },
    "id": "FNXR1zzv57RN",
    "outputId": "29c892dc-7e0a-4e45-d084-d1123f53c0ce"
   },
   "outputs": [
    {
     "name": "stdout",
     "output_type": "stream",
     "text": [
      ".. _iris_dataset:\n",
      "\n",
      "Iris plants dataset\n",
      "--------------------\n",
      "\n",
      "**Data Set Characteristics:**\n",
      "\n",
      "    :Number of Instances: 150 (50 in each of three classes)\n",
      "    :Number of Attributes: 4 numeric, predictive attributes and the class\n",
      "    :Attribute Information:\n",
      "        - sepal length in cm\n",
      "        - sepal width in cm\n",
      "        - petal length in cm\n",
      "        - petal width in cm\n",
      "        - class:\n",
      "                - Iris-Setosa\n",
      "                - Iris-Versicolour\n",
      "                - Iris-Virginica\n",
      "                \n",
      "    :Summary Statistics:\n",
      "\n",
      "    ============== ==== ==== ======= ===== ====================\n",
      "                    Min  Max   Mean    SD   Class Correlation\n",
      "    ============== ==== ==== ======= ===== ====================\n",
      "    sepal length:   4.3  7.9   5.84   0.83    0.7826\n",
      "    sepal width:    2.0  4.4   3.05   0.43   -0.4194\n",
      "    petal length:   1.0  6.9   3.76   1.76    0.9490  (high!)\n",
      "    petal width:    0.1  2.5   1.20   0.76    0.9565  (high!)\n",
      "    ============== ==== ==== ======= ===== ====================\n",
      "\n",
      "    :Missing Attribute Values: None\n",
      "    :Class Distribution: 33.3% for each of 3 classes.\n",
      "    :Creator: R.A. Fisher\n",
      "    :Donor: Michael Marshall (MARSHALL%PLU@io.arc.nasa.gov)\n",
      "    :Date: July, 1988\n",
      "\n",
      "The famous Iris database, first used by Sir R.A. Fisher. The dataset is taken\n",
      "from Fisher's paper. Note that it's the same as in R, but not as in the UCI\n",
      "Machine Learning Repository, which has two wrong data points.\n",
      "\n",
      "This is perhaps the best known database to be found in the\n",
      "pattern recognition literature.  Fisher's paper is a classic in the field and\n",
      "is referenced frequently to this day.  (See Duda & Hart, for example.)  The\n",
      "data set contains 3 classes of 50 instances each, where each class refers to a\n",
      "type of iris plant.  One class is linearly separable from the other 2; the\n",
      "latter are NOT linearly separable from each other.\n",
      "\n",
      ".. topic:: References\n",
      "\n",
      "   - Fisher, R.A. \"The use of multiple measurements in taxonomic problems\"\n",
      "     Annual Eugenics, 7, Part II, 179-188 (1936); also in \"Contributions to\n",
      "     Mathematical Statistics\" (John Wiley, NY, 1950).\n",
      "   - Duda, R.O., & Hart, P.E. (1973) Pattern Classification and Scene Analysis.\n",
      "     (Q327.D83) John Wiley & Sons.  ISBN 0-471-22361-1.  See page 218.\n",
      "   - Dasarathy, B.V. (1980) \"Nosing Around the Neighborhood: A New System\n",
      "     Structure and Classification Rule for Recognition in Partially Exposed\n",
      "     Environments\".  IEEE Transactions on Pattern Analysis and Machine\n",
      "     Intelligence, Vol. PAMI-2, No. 1, 67-71.\n",
      "   - Gates, G.W. (1972) \"The Reduced Nearest Neighbor Rule\".  IEEE Transactions\n",
      "     on Information Theory, May 1972, 431-433.\n",
      "   - See also: 1988 MLC Proceedings, 54-64.  Cheeseman et al\"s AUTOCLASS II\n",
      "     conceptual clustering system finds 3 classes in the data.\n",
      "   - Many, many more ...\n"
     ]
    }
   ],
   "source": [
    "print(iris.DESCR)"
   ]
  },
  {
   "cell_type": "markdown",
   "metadata": {
    "id": "4j_QVDPsDCNg"
   },
   "source": [
    "## Features"
   ]
  },
  {
   "cell_type": "code",
   "execution_count": 10,
   "metadata": {
    "colab": {
     "base_uri": "https://localhost:8080/"
    },
    "id": "2dHbWbY7C_vH",
    "outputId": "20c59b1d-3acd-4e3a-ac76-8dd1edda340e"
   },
   "outputs": [
    {
     "data": {
      "text/plain": [
       "['sepal length (cm)',\n",
       " 'sepal width (cm)',\n",
       " 'petal length (cm)',\n",
       " 'petal width (cm)']"
      ]
     },
     "execution_count": 10,
     "metadata": {
      "tags": []
     },
     "output_type": "execute_result"
    }
   ],
   "source": [
    "iris.feature_names"
   ]
  },
  {
   "cell_type": "markdown",
   "metadata": {
    "id": "zhaLwS3nDEGo"
   },
   "source": [
    "## Class Labels/Categories"
   ]
  },
  {
   "cell_type": "code",
   "execution_count": 11,
   "metadata": {
    "colab": {
     "base_uri": "https://localhost:8080/"
    },
    "id": "_9PjDla_6FFL",
    "outputId": "7a417fca-26fb-4826-9f68-217e614cb0c0"
   },
   "outputs": [
    {
     "data": {
      "text/plain": [
       "array(['setosa', 'versicolor', 'virginica'], dtype='<U10')"
      ]
     },
     "execution_count": 11,
     "metadata": {
      "tags": []
     },
     "output_type": "execute_result"
    }
   ],
   "source": [
    "iris.target_names"
   ]
  },
  {
   "cell_type": "markdown",
   "metadata": {
    "id": "3zlA1uljDHTH"
   },
   "source": [
    "## Dataset - Features and Target Labels"
   ]
  },
  {
   "cell_type": "code",
   "execution_count": 12,
   "metadata": {
    "id": "6M1kgEQ654-o"
   },
   "outputs": [],
   "source": [
    "X = iris.data  \n",
    "y = iris.target"
   ]
  },
  {
   "cell_type": "code",
   "execution_count": 13,
   "metadata": {
    "colab": {
     "base_uri": "https://localhost:8080/"
    },
    "id": "Gqw_KE5ADNJn",
    "outputId": "489ba4bc-5329-4d35-ed12-5028327f0a1e"
   },
   "outputs": [
    {
     "data": {
      "text/plain": [
       "(150, 4)"
      ]
     },
     "execution_count": 13,
     "metadata": {
      "tags": []
     },
     "output_type": "execute_result"
    }
   ],
   "source": [
    "X.shape"
   ]
  },
  {
   "cell_type": "code",
   "execution_count": 14,
   "metadata": {
    "colab": {
     "base_uri": "https://localhost:8080/"
    },
    "id": "9licRTHdDO7d",
    "outputId": "ad133767-4141-42bc-cdb7-af01208b2993"
   },
   "outputs": [
    {
     "data": {
      "text/plain": [
       "(150,)"
      ]
     },
     "execution_count": 14,
     "metadata": {
      "tags": []
     },
     "output_type": "execute_result"
    }
   ],
   "source": [
    "y.shape"
   ]
  },
  {
   "cell_type": "code",
   "execution_count": 15,
   "metadata": {
    "colab": {
     "base_uri": "https://localhost:8080/"
    },
    "id": "Cm_HFcvP6OU0",
    "outputId": "aa0209b2-5c59-4dac-d8d2-41e068093a6a"
   },
   "outputs": [
    {
     "data": {
      "text/plain": [
       "array([[5.1, 3.5, 1.4, 0.2],\n",
       "       [4.9, 3. , 1.4, 0.2],\n",
       "       [4.7, 3.2, 1.3, 0.2],\n",
       "       [4.6, 3.1, 1.5, 0.2],\n",
       "       [5. , 3.6, 1.4, 0.2],\n",
       "       [5.4, 3.9, 1.7, 0.4],\n",
       "       [4.6, 3.4, 1.4, 0.3],\n",
       "       [5. , 3.4, 1.5, 0.2],\n",
       "       [4.4, 2.9, 1.4, 0.2],\n",
       "       [4.9, 3.1, 1.5, 0.1],\n",
       "       [5.4, 3.7, 1.5, 0.2],\n",
       "       [4.8, 3.4, 1.6, 0.2],\n",
       "       [4.8, 3. , 1.4, 0.1],\n",
       "       [4.3, 3. , 1.1, 0.1],\n",
       "       [5.8, 4. , 1.2, 0.2],\n",
       "       [5.7, 4.4, 1.5, 0.4],\n",
       "       [5.4, 3.9, 1.3, 0.4],\n",
       "       [5.1, 3.5, 1.4, 0.3],\n",
       "       [5.7, 3.8, 1.7, 0.3],\n",
       "       [5.1, 3.8, 1.5, 0.3],\n",
       "       [5.4, 3.4, 1.7, 0.2],\n",
       "       [5.1, 3.7, 1.5, 0.4],\n",
       "       [4.6, 3.6, 1. , 0.2],\n",
       "       [5.1, 3.3, 1.7, 0.5],\n",
       "       [4.8, 3.4, 1.9, 0.2],\n",
       "       [5. , 3. , 1.6, 0.2],\n",
       "       [5. , 3.4, 1.6, 0.4],\n",
       "       [5.2, 3.5, 1.5, 0.2],\n",
       "       [5.2, 3.4, 1.4, 0.2],\n",
       "       [4.7, 3.2, 1.6, 0.2],\n",
       "       [4.8, 3.1, 1.6, 0.2],\n",
       "       [5.4, 3.4, 1.5, 0.4],\n",
       "       [5.2, 4.1, 1.5, 0.1],\n",
       "       [5.5, 4.2, 1.4, 0.2],\n",
       "       [4.9, 3.1, 1.5, 0.2],\n",
       "       [5. , 3.2, 1.2, 0.2],\n",
       "       [5.5, 3.5, 1.3, 0.2],\n",
       "       [4.9, 3.6, 1.4, 0.1],\n",
       "       [4.4, 3. , 1.3, 0.2],\n",
       "       [5.1, 3.4, 1.5, 0.2],\n",
       "       [5. , 3.5, 1.3, 0.3],\n",
       "       [4.5, 2.3, 1.3, 0.3],\n",
       "       [4.4, 3.2, 1.3, 0.2],\n",
       "       [5. , 3.5, 1.6, 0.6],\n",
       "       [5.1, 3.8, 1.9, 0.4],\n",
       "       [4.8, 3. , 1.4, 0.3],\n",
       "       [5.1, 3.8, 1.6, 0.2],\n",
       "       [4.6, 3.2, 1.4, 0.2],\n",
       "       [5.3, 3.7, 1.5, 0.2],\n",
       "       [5. , 3.3, 1.4, 0.2],\n",
       "       [7. , 3.2, 4.7, 1.4],\n",
       "       [6.4, 3.2, 4.5, 1.5],\n",
       "       [6.9, 3.1, 4.9, 1.5],\n",
       "       [5.5, 2.3, 4. , 1.3],\n",
       "       [6.5, 2.8, 4.6, 1.5],\n",
       "       [5.7, 2.8, 4.5, 1.3],\n",
       "       [6.3, 3.3, 4.7, 1.6],\n",
       "       [4.9, 2.4, 3.3, 1. ],\n",
       "       [6.6, 2.9, 4.6, 1.3],\n",
       "       [5.2, 2.7, 3.9, 1.4],\n",
       "       [5. , 2. , 3.5, 1. ],\n",
       "       [5.9, 3. , 4.2, 1.5],\n",
       "       [6. , 2.2, 4. , 1. ],\n",
       "       [6.1, 2.9, 4.7, 1.4],\n",
       "       [5.6, 2.9, 3.6, 1.3],\n",
       "       [6.7, 3.1, 4.4, 1.4],\n",
       "       [5.6, 3. , 4.5, 1.5],\n",
       "       [5.8, 2.7, 4.1, 1. ],\n",
       "       [6.2, 2.2, 4.5, 1.5],\n",
       "       [5.6, 2.5, 3.9, 1.1],\n",
       "       [5.9, 3.2, 4.8, 1.8],\n",
       "       [6.1, 2.8, 4. , 1.3],\n",
       "       [6.3, 2.5, 4.9, 1.5],\n",
       "       [6.1, 2.8, 4.7, 1.2],\n",
       "       [6.4, 2.9, 4.3, 1.3],\n",
       "       [6.6, 3. , 4.4, 1.4],\n",
       "       [6.8, 2.8, 4.8, 1.4],\n",
       "       [6.7, 3. , 5. , 1.7],\n",
       "       [6. , 2.9, 4.5, 1.5],\n",
       "       [5.7, 2.6, 3.5, 1. ],\n",
       "       [5.5, 2.4, 3.8, 1.1],\n",
       "       [5.5, 2.4, 3.7, 1. ],\n",
       "       [5.8, 2.7, 3.9, 1.2],\n",
       "       [6. , 2.7, 5.1, 1.6],\n",
       "       [5.4, 3. , 4.5, 1.5],\n",
       "       [6. , 3.4, 4.5, 1.6],\n",
       "       [6.7, 3.1, 4.7, 1.5],\n",
       "       [6.3, 2.3, 4.4, 1.3],\n",
       "       [5.6, 3. , 4.1, 1.3],\n",
       "       [5.5, 2.5, 4. , 1.3],\n",
       "       [5.5, 2.6, 4.4, 1.2],\n",
       "       [6.1, 3. , 4.6, 1.4],\n",
       "       [5.8, 2.6, 4. , 1.2],\n",
       "       [5. , 2.3, 3.3, 1. ],\n",
       "       [5.6, 2.7, 4.2, 1.3],\n",
       "       [5.7, 3. , 4.2, 1.2],\n",
       "       [5.7, 2.9, 4.2, 1.3],\n",
       "       [6.2, 2.9, 4.3, 1.3],\n",
       "       [5.1, 2.5, 3. , 1.1],\n",
       "       [5.7, 2.8, 4.1, 1.3],\n",
       "       [6.3, 3.3, 6. , 2.5],\n",
       "       [5.8, 2.7, 5.1, 1.9],\n",
       "       [7.1, 3. , 5.9, 2.1],\n",
       "       [6.3, 2.9, 5.6, 1.8],\n",
       "       [6.5, 3. , 5.8, 2.2],\n",
       "       [7.6, 3. , 6.6, 2.1],\n",
       "       [4.9, 2.5, 4.5, 1.7],\n",
       "       [7.3, 2.9, 6.3, 1.8],\n",
       "       [6.7, 2.5, 5.8, 1.8],\n",
       "       [7.2, 3.6, 6.1, 2.5],\n",
       "       [6.5, 3.2, 5.1, 2. ],\n",
       "       [6.4, 2.7, 5.3, 1.9],\n",
       "       [6.8, 3. , 5.5, 2.1],\n",
       "       [5.7, 2.5, 5. , 2. ],\n",
       "       [5.8, 2.8, 5.1, 2.4],\n",
       "       [6.4, 3.2, 5.3, 2.3],\n",
       "       [6.5, 3. , 5.5, 1.8],\n",
       "       [7.7, 3.8, 6.7, 2.2],\n",
       "       [7.7, 2.6, 6.9, 2.3],\n",
       "       [6. , 2.2, 5. , 1.5],\n",
       "       [6.9, 3.2, 5.7, 2.3],\n",
       "       [5.6, 2.8, 4.9, 2. ],\n",
       "       [7.7, 2.8, 6.7, 2. ],\n",
       "       [6.3, 2.7, 4.9, 1.8],\n",
       "       [6.7, 3.3, 5.7, 2.1],\n",
       "       [7.2, 3.2, 6. , 1.8],\n",
       "       [6.2, 2.8, 4.8, 1.8],\n",
       "       [6.1, 3. , 4.9, 1.8],\n",
       "       [6.4, 2.8, 5.6, 2.1],\n",
       "       [7.2, 3. , 5.8, 1.6],\n",
       "       [7.4, 2.8, 6.1, 1.9],\n",
       "       [7.9, 3.8, 6.4, 2. ],\n",
       "       [6.4, 2.8, 5.6, 2.2],\n",
       "       [6.3, 2.8, 5.1, 1.5],\n",
       "       [6.1, 2.6, 5.6, 1.4],\n",
       "       [7.7, 3. , 6.1, 2.3],\n",
       "       [6.3, 3.4, 5.6, 2.4],\n",
       "       [6.4, 3.1, 5.5, 1.8],\n",
       "       [6. , 3. , 4.8, 1.8],\n",
       "       [6.9, 3.1, 5.4, 2.1],\n",
       "       [6.7, 3.1, 5.6, 2.4],\n",
       "       [6.9, 3.1, 5.1, 2.3],\n",
       "       [5.8, 2.7, 5.1, 1.9],\n",
       "       [6.8, 3.2, 5.9, 2.3],\n",
       "       [6.7, 3.3, 5.7, 2.5],\n",
       "       [6.7, 3. , 5.2, 2.3],\n",
       "       [6.3, 2.5, 5. , 1.9],\n",
       "       [6.5, 3. , 5.2, 2. ],\n",
       "       [6.2, 3.4, 5.4, 2.3],\n",
       "       [5.9, 3. , 5.1, 1.8]])"
      ]
     },
     "execution_count": 15,
     "metadata": {
      "tags": []
     },
     "output_type": "execute_result"
    }
   ],
   "source": [
    "X"
   ]
  },
  {
   "cell_type": "code",
   "execution_count": 16,
   "metadata": {
    "colab": {
     "base_uri": "https://localhost:8080/"
    },
    "id": "Z64Q4xUt6LwL",
    "outputId": "23c7cc1f-c465-4a15-ac95-fd4a69ad163c"
   },
   "outputs": [
    {
     "data": {
      "text/plain": [
       "array([0, 0, 0, 0, 0, 0, 0, 0, 0, 0, 0, 0, 0, 0, 0, 0, 0, 0, 0, 0, 0, 0,\n",
       "       0, 0, 0, 0, 0, 0, 0, 0, 0, 0, 0, 0, 0, 0, 0, 0, 0, 0, 0, 0, 0, 0,\n",
       "       0, 0, 0, 0, 0, 0, 1, 1, 1, 1, 1, 1, 1, 1, 1, 1, 1, 1, 1, 1, 1, 1,\n",
       "       1, 1, 1, 1, 1, 1, 1, 1, 1, 1, 1, 1, 1, 1, 1, 1, 1, 1, 1, 1, 1, 1,\n",
       "       1, 1, 1, 1, 1, 1, 1, 1, 1, 1, 1, 1, 2, 2, 2, 2, 2, 2, 2, 2, 2, 2,\n",
       "       2, 2, 2, 2, 2, 2, 2, 2, 2, 2, 2, 2, 2, 2, 2, 2, 2, 2, 2, 2, 2, 2,\n",
       "       2, 2, 2, 2, 2, 2, 2, 2, 2, 2, 2, 2, 2, 2, 2, 2, 2, 2])"
      ]
     },
     "execution_count": 16,
     "metadata": {
      "tags": []
     },
     "output_type": "execute_result"
    }
   ],
   "source": [
    "y"
   ]
  },
  {
   "cell_type": "markdown",
   "metadata": {
    "id": "Vvx3rFCd1EvH"
   },
   "source": [
    "## Visualization Different Flower classes in a 2D feature Space"
   ]
  },
  {
   "cell_type": "code",
   "execution_count": 17,
   "metadata": {
    "colab": {
     "base_uri": "https://localhost:8080/",
     "height": 1000
    },
    "id": "ImjWDT6k1H9f",
    "outputId": "aac89a6f-e8ff-495b-85db-482bf89614bf"
   },
   "outputs": [
    {
     "name": "stderr",
     "output_type": "stream",
     "text": [
      "/usr/local/lib/python3.7/dist-packages/seaborn/_decorators.py:43: FutureWarning: Pass the following variables as keyword args: x, y. From version 0.12, the only valid positional argument will be `data`, and passing other arguments without an explicit keyword will result in an error or misinterpretation.\n",
      "  FutureWarning\n",
      "/usr/local/lib/python3.7/dist-packages/seaborn/_decorators.py:43: FutureWarning: Pass the following variables as keyword args: x, y. From version 0.12, the only valid positional argument will be `data`, and passing other arguments without an explicit keyword will result in an error or misinterpretation.\n",
      "  FutureWarning\n",
      "/usr/local/lib/python3.7/dist-packages/seaborn/_decorators.py:43: FutureWarning: Pass the following variables as keyword args: x, y. From version 0.12, the only valid positional argument will be `data`, and passing other arguments without an explicit keyword will result in an error or misinterpretation.\n",
      "  FutureWarning\n",
      "/usr/local/lib/python3.7/dist-packages/seaborn/_decorators.py:43: FutureWarning: Pass the following variables as keyword args: x, y. From version 0.12, the only valid positional argument will be `data`, and passing other arguments without an explicit keyword will result in an error or misinterpretation.\n",
      "  FutureWarning\n"
     ]
    },
    {
     "data": {
      "image/png": "[encoded data removed]",
      "text/plain": [
       "<Figure size 445x360 with 1 Axes>"
      ]
     },
     "metadata": {
      "needs_background": "light",
      "tags": []
     },
     "output_type": "display_data"
    },
    {
     "data": {
      "image/png": "[encoded data removed]",
      "text/plain": [
       "<Figure size 445x360 with 1 Axes>"
      ]
     },
     "metadata": {
      "needs_background": "light",
      "tags": []
     },
     "output_type": "display_data"
    },
    {
     "data": {
      "image/png": "[encoded data removed]",
      "text/plain": [
       "<Figure size 445x360 with 1 Axes>"
      ]
     },
     "metadata": {
      "needs_background": "light",
      "tags": []
     },
     "output_type": "display_data"
    },
    {
     "data": {
      "image/png": "[encoded data removed]",
      "text/plain": [
       "<Figure size 445x360 with 1 Axes>"
      ]
     },
     "metadata": {
      "needs_background": "light",
      "tags": []
     },
     "output_type": "display_data"
    }
   ],
   "source": [
    "import seaborn as sns\n",
    "import matplotlib.pyplot as plt\n",
    "\n",
    "data = df_iris\n",
    "sns.lmplot('sepal_length', 'sepal_width', data=data, fit_reg=False, hue=\"species\", scatter_kws={\"marker\": \"D\", \"s\": 50})\n",
    "plt.title('Sepal Length vs Sepal Width')\n",
    "\n",
    "sns.lmplot('petal_length', 'petal_width', data=data, fit_reg=False, hue=\"species\", scatter_kws={\"marker\": \"D\", \"s\": 50})\n",
    "plt.title('Petal Length vs Petal Width')\n",
    "\n",
    "sns.lmplot('sepal_length', 'petal_length', data=data, fit_reg=False, hue=\"species\", scatter_kws={\"marker\": \"D\", \"s\": 50})\n",
    "plt.title('Sepal Length vs Petal Length')\n",
    "\n",
    "sns.lmplot('sepal_width', 'petal_width', data=data, fit_reg=False, hue=\"species\", scatter_kws={\"marker\": \"D\", \"s\": 50})\n",
    "plt.title('Sepal Width vs Petal Width')\n",
    "\n",
    "plt.show()\n"
   ]
  },
  {
   "cell_type": "markdown",
   "metadata": {
    "id": "Trifw7l524fz"
   },
   "source": [
    "# **Part 2: Build the MLP Model**\n",
    "\n",
    "## Solve a Binary Classification Problem "
   ]
  },
  {
   "cell_type": "markdown",
   "metadata": {
    "id": "Ne8WlObnolnf"
   },
   "source": [
    "## Select all the features or a feature subset?"
   ]
  },
  {
   "cell_type": "code",
   "execution_count": 18,
   "metadata": {
    "id": "95alBtiRojwG"
   },
   "outputs": [],
   "source": [
    "#num_sel_feat = 2\n",
    "num_sel_feat = 4\n"
   ]
  },
  {
   "cell_type": "markdown",
   "metadata": {
    "id": "4Mrf8GHwJvzW"
   },
   "source": [
    "### Binary Classifier - 2 class Labels"
   ]
  },
  {
   "cell_type": "code",
   "execution_count": 19,
   "metadata": {
    "id": "iyWofPYJ7lI_"
   },
   "outputs": [],
   "source": [
    "\n",
    "# Select Setosa and Versicolor\n",
    "#X = iris.data[:100, :2]    # we only take the first two features.\n",
    "#X = iris.data[:100, 2:]    # we only take the last two features.\n",
    "\n",
    "X = iris.data[:100, :]    # we only take all four features.\n",
    "\n",
    "y = iris.target[:100]       # labels for Setosa and Versicolor - Binary Classifier\n"
   ]
  },
  {
   "cell_type": "code",
   "execution_count": 20,
   "metadata": {
    "colab": {
     "base_uri": "https://localhost:8080/",
     "height": 72
    },
    "id": "vS8tONCf21CS",
    "outputId": "446f9658-b31d-4375-c83c-2c993d1362c5"
   },
   "outputs": [
    {
     "data": {
      "application/vnd.google.colaboratory.intrinsic+json": {
       "type": "string"
      },
      "text/plain": [
       "'\\n# Select Setosa and Verginica\\nX1 = iris.data[0:50:, :2]   # we only take the first two features.\\nX2 = iris.data[100:, :2] \\nX = np.concatenate([X1, X2])\\ny1=iris.target[:50]    # labels - setosa\\ny2=iris.target[100:]   # labels - virginica \\ny2 = y2-1\\ny = np.concatenate([y1, y2])\\n'"
      ]
     },
     "execution_count": 20,
     "metadata": {
      "tags": []
     },
     "output_type": "execute_result"
    }
   ],
   "source": [
    "'''\n",
    "# Select Versicolor and Verginica\n",
    "X = iris.data[50:, [0,2]]   # we only take the first two features.\n",
    "y = iris.target[50:]     # labels for Versicolor and Verginica - Binary Classifier\n",
    "\n",
    "y = y - 1\n",
    "'''\n",
    "\n",
    "'''\n",
    "# Select Setosa and Verginica\n",
    "X1 = iris.data[0:50:, :2]   # we only take the first two features.\n",
    "X2 = iris.data[100:, :2] \n",
    "X = np.concatenate([X1, X2])\n",
    "y1=iris.target[:50]    # labels - setosa\n",
    "y2=iris.target[100:]   # labels - virginica \n",
    "y2 = y2-1\n",
    "y = np.concatenate([y1, y2])\n",
    "'''"
   ]
  },
  {
   "cell_type": "code",
   "execution_count": 21,
   "metadata": {
    "colab": {
     "base_uri": "https://localhost:8080/"
    },
    "id": "JaZ4HPN5Jbre",
    "outputId": "ebeeace4-0738-48ad-db7a-2cc242f8ec77"
   },
   "outputs": [
    {
     "data": {
      "text/plain": [
       "(100, 4)"
      ]
     },
     "execution_count": 21,
     "metadata": {
      "tags": []
     },
     "output_type": "execute_result"
    }
   ],
   "source": [
    "X.shape"
   ]
  },
  {
   "cell_type": "code",
   "execution_count": 22,
   "metadata": {
    "id": "EPAceU5Aw1bV"
   },
   "outputs": [],
   "source": [
    "#X"
   ]
  },
  {
   "cell_type": "code",
   "execution_count": 23,
   "metadata": {
    "colab": {
     "base_uri": "https://localhost:8080/"
    },
    "id": "Xako129ZtXRI",
    "outputId": "6c328698-7387-4eab-9902-10acd749dcd3"
   },
   "outputs": [
    {
     "name": "stdout",
     "output_type": "stream",
     "text": [
      "\n",
      " Distinct Class labels: [0 1]\n"
     ]
    }
   ],
   "source": [
    "print('\\n Distinct Class labels:', np.unique(y))"
   ]
  },
  {
   "cell_type": "code",
   "execution_count": 24,
   "metadata": {
    "colab": {
     "base_uri": "https://localhost:8080/"
    },
    "id": "c3iXZscL8dHd",
    "outputId": "32a3b935-d058-413f-df71-ef6e16b61cdc"
   },
   "outputs": [
    {
     "data": {
      "text/plain": [
       "array([0, 0, 0, 0, 0, 0, 0, 0, 0, 0, 0, 0, 0, 0, 0, 0, 0, 0, 0, 0, 0, 0,\n",
       "       0, 0, 0, 0, 0, 0, 0, 0, 0, 0, 0, 0, 0, 0, 0, 0, 0, 0, 0, 0, 0, 0,\n",
       "       0, 0, 0, 0, 0, 0, 1, 1, 1, 1, 1, 1, 1, 1, 1, 1, 1, 1, 1, 1, 1, 1,\n",
       "       1, 1, 1, 1, 1, 1, 1, 1, 1, 1, 1, 1, 1, 1, 1, 1, 1, 1, 1, 1, 1, 1,\n",
       "       1, 1, 1, 1, 1, 1, 1, 1, 1, 1, 1, 1])"
      ]
     },
     "execution_count": 24,
     "metadata": {
      "tags": []
     },
     "output_type": "execute_result"
    }
   ],
   "source": [
    "y\n",
    "#y.shape"
   ]
  },
  {
   "cell_type": "markdown",
   "metadata": {
    "id": "fitfbUcvH3Ql"
   },
   "source": [
    "## Split Data into Training and Test Set"
   ]
  },
  {
   "cell_type": "code",
   "execution_count": 25,
   "metadata": {
    "id": "ZNjLYfYH93Lf"
   },
   "outputs": [],
   "source": [
    "from sklearn.model_selection import train_test_split"
   ]
  },
  {
   "cell_type": "code",
   "execution_count": 26,
   "metadata": {
    "id": "f9RcePAO7mm0"
   },
   "outputs": [],
   "source": [
    "#X_train, X_test, y_train, y_test = train_test_split(X, y, test_size=0.2, shuffle=True, random_state=200)\n",
    "X_train, X_test, y_train, y_test = train_test_split(X, y, test_size=0.3, shuffle=True, stratify=y, random_state=101)"
   ]
  },
  {
   "cell_type": "code",
   "execution_count": 27,
   "metadata": {
    "colab": {
     "base_uri": "https://localhost:8080/"
    },
    "id": "FpYxGOm4-tp7",
    "outputId": "0a544dec-0314-42f6-a142-b8b63e0d0a43"
   },
   "outputs": [
    {
     "name": "stdout",
     "output_type": "stream",
     "text": [
      "\n",
      " Shape of Training data :  (70, 4)\n",
      "\n",
      " Shape of Test data :  (30, 4)\n"
     ]
    }
   ],
   "source": [
    "print('\\n Shape of Training data : ', X_train.shape)\n",
    "print('\\n Shape of Test data : ', X_test.shape)"
   ]
  },
  {
   "cell_type": "code",
   "execution_count": 28,
   "metadata": {
    "id": "J1qdUliC-I_Z"
   },
   "outputs": [],
   "source": [
    "import numpy as np"
   ]
  },
  {
   "cell_type": "code",
   "execution_count": 29,
   "metadata": {
    "colab": {
     "base_uri": "https://localhost:8080/"
    },
    "id": "aCED7juMHJWD",
    "outputId": "d1b5b345-b7b6-4268-fb91-65ddd3b75947"
   },
   "outputs": [
    {
     "name": "stdout",
     "output_type": "stream",
     "text": [
      "Labels counts in the original dataset - y: [50 50]\n",
      "Labels counts in the training data - y_train: [35 35]\n",
      "Labels counts in the test data - y_test: [15 15]\n"
     ]
    }
   ],
   "source": [
    "print('Labels counts in the original dataset - y:', np.bincount(y))\n",
    "print('Labels counts in the training data - y_train:', np.bincount(y_train))\n",
    "print('Labels counts in the test data - y_test:', np.bincount(y_test))"
   ]
  },
  {
   "cell_type": "markdown",
   "metadata": {
    "id": "jLNbZTb7_kRm"
   },
   "source": [
    "## Standardize Data"
   ]
  },
  {
   "cell_type": "code",
   "execution_count": 30,
   "metadata": {
    "id": "6sAOjsrW_fZM"
   },
   "outputs": [],
   "source": [
    "from sklearn.preprocessing import StandardScaler\n",
    "\n",
    "sc = StandardScaler()\n",
    "sc.fit(X_train)\n",
    "X_train_std = sc.transform(X_train)\n",
    "X_test_std = sc.transform(X_test)"
   ]
  },
  {
   "cell_type": "markdown",
   "metadata": {
    "id": "hD4Jc5fCCsu4"
   },
   "source": [
    "## Build the Multi Layer Perceptron Model"
   ]
  },
  {
   "cell_type": "code",
   "execution_count": 31,
   "metadata": {
    "id": "2Mbxa7WR95km"
   },
   "outputs": [],
   "source": [
    "from keras.models import Sequential, Model\n",
    "from keras.layers import Dense"
   ]
  },
  {
   "cell_type": "code",
   "execution_count": 32,
   "metadata": {
    "id": "kiPZ8RohxdQS"
   },
   "outputs": [],
   "source": [
    "input_dims = num_sel_feat\n",
    "\n",
    "## MODEL 1\n",
    "# Build a simple MLP model - A Binary Classifier with a single output neuron\n",
    "model = Sequential()\n",
    "model.add(Dense(3, input_dim=input_dims, activation='sigmoid')) # all four features\n",
    "model.add(Dense(1, activation='sigmoid')) # Binary classification : output layer with 1 neuron \n",
    "\n",
    "# Compile MODEL 1\n",
    "model.compile(optimizer='adam', loss='binary_crossentropy', metrics='accuracy')\n"
   ]
  },
  {
   "cell_type": "code",
   "execution_count": 33,
   "metadata": {
    "colab": {
     "base_uri": "https://localhost:8080/",
     "height": 108
    },
    "id": "iT_-QaU9OZSD",
    "outputId": "835ab89d-7a0c-451a-ff27-b35cd47e1618"
   },
   "outputs": [
    {
     "data": {
      "application/vnd.google.colaboratory.intrinsic+json": {
       "type": "string"
      },
      "text/plain": [
       "\"\\ninput_dims = num_sel_feat\\n\\n## MODEL 2\\n# Build a simple MLP model - A Binary Classifier with a single output neuron\\nmodel = Sequential()\\nmodel.add(Dense(3, input_dim=input_dims, activation='sigmoid')) # first hidden layer with 3 neurons\\nmodel.add(Dense(4, activation='relu')) # first hidden layer with 3 neurons\\nmodel.add(Dense(1, activation='relu')) # Binary classification : output layer with 1 neuron \\n\\n# Compile MODEL 2\\nmodel.compile(optimizer='adam', loss='binary_crossentropy', metrics='accuracy')\\n\""
      ]
     },
     "execution_count": 33,
     "metadata": {
      "tags": []
     },
     "output_type": "execute_result"
    }
   ],
   "source": [
    "'''\n",
    "input_dims = num_sel_feat\n",
    "\n",
    "## MODEL 2\n",
    "# Build a simple MLP model - A Binary Classifier with a single output neuron\n",
    "model = Sequential()\n",
    "model.add(Dense(3, input_dim=input_dims, activation='sigmoid')) # first hidden layer with 3 neurons\n",
    "model.add(Dense(4, activation='relu')) # first hidden layer with 3 neurons\n",
    "model.add(Dense(1, activation='relu')) # Binary classification : output layer with 1 neuron \n",
    "\n",
    "# Compile MODEL 2\n",
    "model.compile(optimizer='adam', loss='binary_crossentropy', metrics='accuracy')\n",
    "'''"
   ]
  },
  {
   "cell_type": "code",
   "execution_count": 34,
   "metadata": {
    "colab": {
     "base_uri": "https://localhost:8080/"
    },
    "id": "7ZK6aJCL7JH8",
    "outputId": "8d325666-69d2-430c-f0b7-aff7670e2098"
   },
   "outputs": [
    {
     "name": "stdout",
     "output_type": "stream",
     "text": [
      "Model: \"sequential\"\n",
      "_________________________________________________________________\n",
      "Layer (type)                 Output Shape              Param #   \n",
      "=================================================================\n",
      "dense (Dense)                (None, 3)                 15        \n",
      "_________________________________________________________________\n",
      "dense_1 (Dense)              (None, 1)                 4         \n",
      "=================================================================\n",
      "Total params: 19\n",
      "Trainable params: 19\n",
      "Non-trainable params: 0\n",
      "_________________________________________________________________\n"
     ]
    }
   ],
   "source": [
    "model.summary()"
   ]
  },
  {
   "cell_type": "code",
   "execution_count": 35,
   "metadata": {
    "id": "vf3QP7moHmzK"
   },
   "outputs": [],
   "source": [
    "from keras.utils import plot_model"
   ]
  },
  {
   "cell_type": "code",
   "execution_count": 36,
   "metadata": {
    "colab": {
     "base_uri": "https://localhost:8080/",
     "height": 272
    },
    "id": "-cF7cSiqcHHF",
    "outputId": "d9c84739-3c2e-4d92-bef2-2baf408f0935"
   },
   "outputs": [
    {
     "data": {
      "image/png": "[encoded data removed]",
      "text/plain": [
       "<IPython.core.display.Image object>"
      ]
     },
     "execution_count": 36,
     "metadata": {
      "tags": []
     },
     "output_type": "execute_result"
    }
   ],
   "source": [
    "plot_model(model)"
   ]
  },
  {
   "cell_type": "markdown",
   "metadata": {
    "id": "mTEpa-t2FN2M"
   },
   "source": [
    "## Initial Weights and Biases\n",
    "\n",
    "Keras oficial documentation says....\n",
    "\n",
    "**kernel_initializer=\"glorot_uniform\"**\n",
    "\n",
    "**bias_initializer=\"zeros\"**"
   ]
  },
  {
   "cell_type": "code",
   "execution_count": 37,
   "metadata": {
    "id": "9OWw5TKsFJE1"
   },
   "outputs": [],
   "source": [
    "weights = model.get_weights()"
   ]
  },
  {
   "cell_type": "code",
   "execution_count": 38,
   "metadata": {
    "colab": {
     "base_uri": "https://localhost:8080/"
    },
    "id": "gdVJW4gEFJE5",
    "outputId": "417fd518-7441-4550-a2d4-6d937ba3d5a2"
   },
   "outputs": [
    {
     "data": {
      "text/plain": [
       "[array([[ 0.09538102, -0.47044498, -0.08188921],\n",
       "        [-0.5074294 ,  0.13748312, -0.8384285 ],\n",
       "        [ 0.3996675 ,  0.5574477 , -0.8534326 ],\n",
       "        [ 0.8555412 , -0.3046981 , -0.08766049]], dtype=float32),\n",
       " array([0., 0., 0.], dtype=float32),\n",
       " array([[ 0.20394492],\n",
       "        [-0.9421691 ],\n",
       "        [ 0.44076228]], dtype=float32),\n",
       " array([0.], dtype=float32)]"
      ]
     },
     "execution_count": 38,
     "metadata": {
      "tags": []
     },
     "output_type": "execute_result"
    }
   ],
   "source": [
    "weights"
   ]
  },
  {
   "cell_type": "code",
   "execution_count": 39,
   "metadata": {
    "colab": {
     "base_uri": "https://localhost:8080/"
    },
    "id": "ln89ovhHFJE8",
    "outputId": "99b06354-b69e-43af-95bf-f74c8aaf37a8"
   },
   "outputs": [
    {
     "data": {
      "text/plain": [
       "array([[ 0.09538102, -0.47044498, -0.08188921],\n",
       "       [-0.5074294 ,  0.13748312, -0.8384285 ],\n",
       "       [ 0.3996675 ,  0.5574477 , -0.8534326 ],\n",
       "       [ 0.8555412 , -0.3046981 , -0.08766049]], dtype=float32)"
      ]
     },
     "execution_count": 39,
     "metadata": {
      "tags": []
     },
     "output_type": "execute_result"
    }
   ],
   "source": [
    "weights[0]"
   ]
  },
  {
   "cell_type": "code",
   "execution_count": 40,
   "metadata": {
    "id": "wVN-5EOIJmOp"
   },
   "outputs": [],
   "source": [
    "#y.dtype"
   ]
  },
  {
   "cell_type": "markdown",
   "metadata": {
    "id": "iiJpnIKzCwPL"
   },
   "source": [
    "## Train the Model"
   ]
  },
  {
   "cell_type": "code",
   "execution_count": 41,
   "metadata": {
    "colab": {
     "base_uri": "https://localhost:8080/"
    },
    "id": "7mT6LVOJ6zjh",
    "outputId": "563b14cd-d6da-4498-b6ad-a1d8b69a0c30"
   },
   "outputs": [
    {
     "name": "stdout",
     "output_type": "stream",
     "text": [
      "Epoch 1/100\n",
      "5/5 [==============================] - 1s 139ms/step - loss: 0.6561 - accuracy: 0.6050 - val_loss: 0.6561 - val_accuracy: 0.5667\n",
      "Epoch 2/100\n",
      "5/5 [==============================] - 0s 11ms/step - loss: 0.6703 - accuracy: 0.5008 - val_loss: 0.6524 - val_accuracy: 0.6333\n",
      "Epoch 3/100\n",
      "5/5 [==============================] - 0s 12ms/step - loss: 0.6532 - accuracy: 0.6197 - val_loss: 0.6488 - val_accuracy: 0.6333\n",
      "Epoch 4/100\n",
      "5/5 [==============================] - 0s 11ms/step - loss: 0.6457 - accuracy: 0.6648 - val_loss: 0.6452 - val_accuracy: 0.6667\n",
      "Epoch 5/100\n",
      "5/5 [==============================] - 0s 12ms/step - loss: 0.6466 - accuracy: 0.6817 - val_loss: 0.6416 - val_accuracy: 0.8000\n",
      "Epoch 6/100\n",
      "5/5 [==============================] - 0s 12ms/step - loss: 0.6335 - accuracy: 0.7758 - val_loss: 0.6380 - val_accuracy: 0.8000\n",
      "Epoch 7/100\n",
      "5/5 [==============================] - 0s 11ms/step - loss: 0.6362 - accuracy: 0.7264 - val_loss: 0.6344 - val_accuracy: 0.8333\n",
      "Epoch 8/100\n",
      "5/5 [==============================] - 0s 11ms/step - loss: 0.6363 - accuracy: 0.7246 - val_loss: 0.6308 - val_accuracy: 0.8333\n",
      "Epoch 9/100\n",
      "5/5 [==============================] - 0s 11ms/step - loss: 0.6259 - accuracy: 0.7980 - val_loss: 0.6272 - val_accuracy: 0.8333\n",
      "Epoch 10/100\n",
      "5/5 [==============================] - 0s 14ms/step - loss: 0.6319 - accuracy: 0.7446 - val_loss: 0.6237 - val_accuracy: 0.8667\n",
      "Epoch 11/100\n",
      "5/5 [==============================] - 0s 11ms/step - loss: 0.6284 - accuracy: 0.8196 - val_loss: 0.6201 - val_accuracy: 0.9000\n",
      "Epoch 12/100\n",
      "5/5 [==============================] - 0s 11ms/step - loss: 0.6204 - accuracy: 0.8508 - val_loss: 0.6166 - val_accuracy: 0.9333\n",
      "Epoch 13/100\n",
      "5/5 [==============================] - 0s 11ms/step - loss: 0.6187 - accuracy: 0.8478 - val_loss: 0.6131 - val_accuracy: 0.9333\n",
      "Epoch 14/100\n",
      "5/5 [==============================] - 0s 11ms/step - loss: 0.6172 - accuracy: 0.8599 - val_loss: 0.6097 - val_accuracy: 0.9333\n",
      "Epoch 15/100\n",
      "5/5 [==============================] - 0s 13ms/step - loss: 0.6152 - accuracy: 0.8551 - val_loss: 0.6062 - val_accuracy: 0.9333\n",
      "Epoch 16/100\n",
      "5/5 [==============================] - 0s 13ms/step - loss: 0.6025 - accuracy: 0.9358 - val_loss: 0.6028 - val_accuracy: 0.9333\n",
      "Epoch 17/100\n",
      "5/5 [==============================] - 0s 11ms/step - loss: 0.5984 - accuracy: 0.9506 - val_loss: 0.5993 - val_accuracy: 0.9333\n",
      "Epoch 18/100\n",
      "5/5 [==============================] - 0s 12ms/step - loss: 0.5956 - accuracy: 0.9636 - val_loss: 0.5959 - val_accuracy: 0.9667\n",
      "Epoch 19/100\n",
      "5/5 [==============================] - 0s 12ms/step - loss: 0.5998 - accuracy: 0.9532 - val_loss: 0.5925 - val_accuracy: 0.9667\n",
      "Epoch 20/100\n",
      "5/5 [==============================] - 0s 11ms/step - loss: 0.5949 - accuracy: 0.9237 - val_loss: 0.5891 - val_accuracy: 0.9667\n",
      "Epoch 21/100\n",
      "5/5 [==============================] - 0s 12ms/step - loss: 0.5939 - accuracy: 0.9445 - val_loss: 0.5857 - val_accuracy: 0.9667\n",
      "Epoch 22/100\n",
      "5/5 [==============================] - 0s 11ms/step - loss: 0.5893 - accuracy: 0.9766 - val_loss: 0.5823 - val_accuracy: 0.9667\n",
      "Epoch 23/100\n",
      "5/5 [==============================] - 0s 11ms/step - loss: 0.5786 - accuracy: 0.9731 - val_loss: 0.5789 - val_accuracy: 1.0000\n",
      "Epoch 24/100\n",
      "5/5 [==============================] - 0s 12ms/step - loss: 0.5862 - accuracy: 0.9662 - val_loss: 0.5756 - val_accuracy: 1.0000\n",
      "Epoch 25/100\n",
      "5/5 [==============================] - 0s 11ms/step - loss: 0.5795 - accuracy: 0.9735 - val_loss: 0.5723 - val_accuracy: 1.0000\n",
      "Epoch 26/100\n",
      "5/5 [==============================] - 0s 11ms/step - loss: 0.5740 - accuracy: 0.9840 - val_loss: 0.5690 - val_accuracy: 1.0000\n",
      "Epoch 27/100\n",
      "5/5 [==============================] - 0s 12ms/step - loss: 0.5748 - accuracy: 0.9840 - val_loss: 0.5657 - val_accuracy: 1.0000\n",
      "Epoch 28/100\n",
      "5/5 [==============================] - 0s 10ms/step - loss: 0.5712 - accuracy: 0.9840 - val_loss: 0.5624 - val_accuracy: 1.0000\n",
      "Epoch 29/100\n",
      "5/5 [==============================] - 0s 11ms/step - loss: 0.5665 - accuracy: 1.0000 - val_loss: 0.5590 - val_accuracy: 1.0000\n",
      "Epoch 30/100\n",
      "5/5 [==============================] - 0s 11ms/step - loss: 0.5611 - accuracy: 1.0000 - val_loss: 0.5557 - val_accuracy: 1.0000\n",
      "Epoch 31/100\n",
      "5/5 [==============================] - 0s 11ms/step - loss: 0.5577 - accuracy: 1.0000 - val_loss: 0.5523 - val_accuracy: 1.0000\n",
      "Epoch 32/100\n",
      "5/5 [==============================] - 0s 12ms/step - loss: 0.5586 - accuracy: 1.0000 - val_loss: 0.5490 - val_accuracy: 1.0000\n",
      "Epoch 33/100\n",
      "5/5 [==============================] - 0s 11ms/step - loss: 0.5491 - accuracy: 1.0000 - val_loss: 0.5457 - val_accuracy: 1.0000\n",
      "Epoch 34/100\n",
      "5/5 [==============================] - 0s 12ms/step - loss: 0.5493 - accuracy: 1.0000 - val_loss: 0.5424 - val_accuracy: 1.0000\n",
      "Epoch 35/100\n",
      "5/5 [==============================] - 0s 11ms/step - loss: 0.5425 - accuracy: 1.0000 - val_loss: 0.5391 - val_accuracy: 1.0000\n",
      "Epoch 36/100\n",
      "5/5 [==============================] - 0s 12ms/step - loss: 0.5392 - accuracy: 1.0000 - val_loss: 0.5358 - val_accuracy: 1.0000\n",
      "Epoch 37/100\n",
      "5/5 [==============================] - 0s 11ms/step - loss: 0.5410 - accuracy: 1.0000 - val_loss: 0.5325 - val_accuracy: 1.0000\n",
      "Epoch 38/100\n",
      "5/5 [==============================] - 0s 11ms/step - loss: 0.5309 - accuracy: 1.0000 - val_loss: 0.5292 - val_accuracy: 1.0000\n",
      "Epoch 39/100\n",
      "5/5 [==============================] - 0s 10ms/step - loss: 0.5310 - accuracy: 1.0000 - val_loss: 0.5260 - val_accuracy: 1.0000\n",
      "Epoch 40/100\n",
      "5/5 [==============================] - 0s 12ms/step - loss: 0.5271 - accuracy: 1.0000 - val_loss: 0.5227 - val_accuracy: 1.0000\n",
      "Epoch 41/100\n",
      "5/5 [==============================] - 0s 12ms/step - loss: 0.5264 - accuracy: 1.0000 - val_loss: 0.5194 - val_accuracy: 1.0000\n",
      "Epoch 42/100\n",
      "5/5 [==============================] - 0s 13ms/step - loss: 0.5241 - accuracy: 1.0000 - val_loss: 0.5162 - val_accuracy: 1.0000\n",
      "Epoch 43/100\n",
      "5/5 [==============================] - 0s 12ms/step - loss: 0.5230 - accuracy: 1.0000 - val_loss: 0.5130 - val_accuracy: 1.0000\n",
      "Epoch 44/100\n",
      "5/5 [==============================] - 0s 11ms/step - loss: 0.5140 - accuracy: 1.0000 - val_loss: 0.5097 - val_accuracy: 1.0000\n",
      "Epoch 45/100\n",
      "5/5 [==============================] - 0s 11ms/step - loss: 0.5151 - accuracy: 1.0000 - val_loss: 0.5065 - val_accuracy: 1.0000\n",
      "Epoch 46/100\n",
      "5/5 [==============================] - 0s 12ms/step - loss: 0.5115 - accuracy: 1.0000 - val_loss: 0.5033 - val_accuracy: 1.0000\n",
      "Epoch 47/100\n",
      "5/5 [==============================] - 0s 10ms/step - loss: 0.5028 - accuracy: 1.0000 - val_loss: 0.5000 - val_accuracy: 1.0000\n",
      "Epoch 48/100\n",
      "5/5 [==============================] - 0s 11ms/step - loss: 0.5049 - accuracy: 1.0000 - val_loss: 0.4968 - val_accuracy: 1.0000\n",
      "Epoch 49/100\n",
      "5/5 [==============================] - 0s 13ms/step - loss: 0.4982 - accuracy: 1.0000 - val_loss: 0.4936 - val_accuracy: 1.0000\n",
      "Epoch 50/100\n",
      "5/5 [==============================] - 0s 11ms/step - loss: 0.4954 - accuracy: 1.0000 - val_loss: 0.4904 - val_accuracy: 1.0000\n",
      "Epoch 51/100\n",
      "5/5 [==============================] - 0s 12ms/step - loss: 0.4969 - accuracy: 1.0000 - val_loss: 0.4872 - val_accuracy: 1.0000\n",
      "Epoch 52/100\n",
      "5/5 [==============================] - 0s 10ms/step - loss: 0.4842 - accuracy: 1.0000 - val_loss: 0.4841 - val_accuracy: 1.0000\n",
      "Epoch 53/100\n",
      "5/5 [==============================] - 0s 12ms/step - loss: 0.4882 - accuracy: 1.0000 - val_loss: 0.4809 - val_accuracy: 1.0000\n",
      "Epoch 54/100\n",
      "5/5 [==============================] - 0s 10ms/step - loss: 0.4773 - accuracy: 1.0000 - val_loss: 0.4778 - val_accuracy: 1.0000\n",
      "Epoch 55/100\n",
      "5/5 [==============================] - 0s 11ms/step - loss: 0.4851 - accuracy: 1.0000 - val_loss: 0.4747 - val_accuracy: 1.0000\n",
      "Epoch 56/100\n",
      "5/5 [==============================] - 0s 10ms/step - loss: 0.4767 - accuracy: 1.0000 - val_loss: 0.4716 - val_accuracy: 1.0000\n",
      "Epoch 57/100\n",
      "5/5 [==============================] - 0s 11ms/step - loss: 0.4762 - accuracy: 1.0000 - val_loss: 0.4685 - val_accuracy: 1.0000\n",
      "Epoch 58/100\n",
      "5/5 [==============================] - 0s 11ms/step - loss: 0.4758 - accuracy: 1.0000 - val_loss: 0.4654 - val_accuracy: 1.0000\n",
      "Epoch 59/100\n",
      "5/5 [==============================] - 0s 12ms/step - loss: 0.4719 - accuracy: 1.0000 - val_loss: 0.4623 - val_accuracy: 1.0000\n",
      "Epoch 60/100\n",
      "5/5 [==============================] - 0s 11ms/step - loss: 0.4626 - accuracy: 1.0000 - val_loss: 0.4592 - val_accuracy: 1.0000\n",
      "Epoch 61/100\n",
      "5/5 [==============================] - 0s 13ms/step - loss: 0.4681 - accuracy: 1.0000 - val_loss: 0.4561 - val_accuracy: 1.0000\n",
      "Epoch 62/100\n",
      "5/5 [==============================] - 0s 14ms/step - loss: 0.4605 - accuracy: 1.0000 - val_loss: 0.4531 - val_accuracy: 1.0000\n",
      "Epoch 63/100\n",
      "5/5 [==============================] - 0s 13ms/step - loss: 0.4580 - accuracy: 1.0000 - val_loss: 0.4500 - val_accuracy: 1.0000\n",
      "Epoch 64/100\n",
      "5/5 [==============================] - 0s 12ms/step - loss: 0.4562 - accuracy: 1.0000 - val_loss: 0.4470 - val_accuracy: 1.0000\n",
      "Epoch 65/100\n",
      "5/5 [==============================] - 0s 13ms/step - loss: 0.4461 - accuracy: 1.0000 - val_loss: 0.4439 - val_accuracy: 1.0000\n",
      "Epoch 66/100\n",
      "5/5 [==============================] - 0s 11ms/step - loss: 0.4532 - accuracy: 1.0000 - val_loss: 0.4409 - val_accuracy: 1.0000\n",
      "Epoch 67/100\n",
      "5/5 [==============================] - 0s 12ms/step - loss: 0.4451 - accuracy: 1.0000 - val_loss: 0.4379 - val_accuracy: 1.0000\n",
      "Epoch 68/100\n",
      "5/5 [==============================] - 0s 12ms/step - loss: 0.4396 - accuracy: 1.0000 - val_loss: 0.4349 - val_accuracy: 1.0000\n",
      "Epoch 69/100\n",
      "5/5 [==============================] - 0s 11ms/step - loss: 0.4365 - accuracy: 1.0000 - val_loss: 0.4319 - val_accuracy: 1.0000\n",
      "Epoch 70/100\n",
      "5/5 [==============================] - 0s 12ms/step - loss: 0.4321 - accuracy: 1.0000 - val_loss: 0.4290 - val_accuracy: 1.0000\n",
      "Epoch 71/100\n",
      "5/5 [==============================] - 0s 12ms/step - loss: 0.4385 - accuracy: 1.0000 - val_loss: 0.4260 - val_accuracy: 1.0000\n",
      "Epoch 72/100\n",
      "5/5 [==============================] - 0s 13ms/step - loss: 0.4226 - accuracy: 1.0000 - val_loss: 0.4231 - val_accuracy: 1.0000\n",
      "Epoch 73/100\n",
      "5/5 [==============================] - 0s 12ms/step - loss: 0.4308 - accuracy: 1.0000 - val_loss: 0.4201 - val_accuracy: 1.0000\n",
      "Epoch 74/100\n",
      "5/5 [==============================] - 0s 11ms/step - loss: 0.4259 - accuracy: 1.0000 - val_loss: 0.4172 - val_accuracy: 1.0000\n",
      "Epoch 75/100\n",
      "5/5 [==============================] - 0s 14ms/step - loss: 0.4173 - accuracy: 1.0000 - val_loss: 0.4143 - val_accuracy: 1.0000\n",
      "Epoch 76/100\n",
      "5/5 [==============================] - 0s 13ms/step - loss: 0.4140 - accuracy: 1.0000 - val_loss: 0.4114 - val_accuracy: 1.0000\n",
      "Epoch 77/100\n",
      "5/5 [==============================] - 0s 14ms/step - loss: 0.4142 - accuracy: 1.0000 - val_loss: 0.4086 - val_accuracy: 1.0000\n",
      "Epoch 78/100\n",
      "5/5 [==============================] - 0s 13ms/step - loss: 0.4131 - accuracy: 1.0000 - val_loss: 0.4057 - val_accuracy: 1.0000\n",
      "Epoch 79/100\n",
      "5/5 [==============================] - 0s 12ms/step - loss: 0.4127 - accuracy: 1.0000 - val_loss: 0.4028 - val_accuracy: 1.0000\n",
      "Epoch 80/100\n",
      "5/5 [==============================] - 0s 12ms/step - loss: 0.4058 - accuracy: 1.0000 - val_loss: 0.4000 - val_accuracy: 1.0000\n",
      "Epoch 81/100\n",
      "5/5 [==============================] - 0s 11ms/step - loss: 0.3975 - accuracy: 1.0000 - val_loss: 0.3972 - val_accuracy: 1.0000\n",
      "Epoch 82/100\n",
      "5/5 [==============================] - 0s 12ms/step - loss: 0.4045 - accuracy: 1.0000 - val_loss: 0.3944 - val_accuracy: 1.0000\n",
      "Epoch 83/100\n",
      "5/5 [==============================] - 0s 11ms/step - loss: 0.3995 - accuracy: 1.0000 - val_loss: 0.3916 - val_accuracy: 1.0000\n",
      "Epoch 84/100\n",
      "5/5 [==============================] - 0s 14ms/step - loss: 0.4030 - accuracy: 1.0000 - val_loss: 0.3889 - val_accuracy: 1.0000\n",
      "Epoch 85/100\n",
      "5/5 [==============================] - 0s 12ms/step - loss: 0.3953 - accuracy: 1.0000 - val_loss: 0.3861 - val_accuracy: 1.0000\n",
      "Epoch 86/100\n",
      "5/5 [==============================] - 0s 12ms/step - loss: 0.3886 - accuracy: 1.0000 - val_loss: 0.3834 - val_accuracy: 1.0000\n",
      "Epoch 87/100\n",
      "5/5 [==============================] - 0s 13ms/step - loss: 0.3845 - accuracy: 1.0000 - val_loss: 0.3807 - val_accuracy: 1.0000\n",
      "Epoch 88/100\n",
      "5/5 [==============================] - 0s 11ms/step - loss: 0.3932 - accuracy: 1.0000 - val_loss: 0.3780 - val_accuracy: 1.0000\n",
      "Epoch 89/100\n",
      "5/5 [==============================] - 0s 13ms/step - loss: 0.3782 - accuracy: 1.0000 - val_loss: 0.3754 - val_accuracy: 1.0000\n",
      "Epoch 90/100\n",
      "5/5 [==============================] - 0s 12ms/step - loss: 0.3820 - accuracy: 1.0000 - val_loss: 0.3727 - val_accuracy: 1.0000\n",
      "Epoch 91/100\n",
      "5/5 [==============================] - 0s 12ms/step - loss: 0.3736 - accuracy: 1.0000 - val_loss: 0.3701 - val_accuracy: 1.0000\n",
      "Epoch 92/100\n",
      "5/5 [==============================] - 0s 13ms/step - loss: 0.3805 - accuracy: 1.0000 - val_loss: 0.3675 - val_accuracy: 1.0000\n",
      "Epoch 93/100\n",
      "5/5 [==============================] - 0s 12ms/step - loss: 0.3753 - accuracy: 1.0000 - val_loss: 0.3649 - val_accuracy: 1.0000\n",
      "Epoch 94/100\n",
      "5/5 [==============================] - 0s 13ms/step - loss: 0.3730 - accuracy: 1.0000 - val_loss: 0.3623 - val_accuracy: 1.0000\n",
      "Epoch 95/100\n",
      "5/5 [==============================] - 0s 13ms/step - loss: 0.3680 - accuracy: 1.0000 - val_loss: 0.3597 - val_accuracy: 1.0000\n",
      "Epoch 96/100\n",
      "5/5 [==============================] - 0s 12ms/step - loss: 0.3664 - accuracy: 1.0000 - val_loss: 0.3572 - val_accuracy: 1.0000\n",
      "Epoch 97/100\n",
      "5/5 [==============================] - 0s 12ms/step - loss: 0.3645 - accuracy: 1.0000 - val_loss: 0.3546 - val_accuracy: 1.0000\n",
      "Epoch 98/100\n",
      "5/5 [==============================] - 0s 13ms/step - loss: 0.3588 - accuracy: 1.0000 - val_loss: 0.3521 - val_accuracy: 1.0000\n",
      "Epoch 99/100\n",
      "5/5 [==============================] - 0s 12ms/step - loss: 0.3548 - accuracy: 1.0000 - val_loss: 0.3496 - val_accuracy: 1.0000\n",
      "Epoch 100/100\n",
      "5/5 [==============================] - 0s 13ms/step - loss: 0.3598 - accuracy: 1.0000 - val_loss: 0.3471 - val_accuracy: 1.0000\n"
     ]
    }
   ],
   "source": [
    "history = model.fit(X_train_std, y_train, epochs=100, batch_size=16, validation_data=(X_test_std, y_test))\n"
   ]
  },
  {
   "cell_type": "markdown",
   "metadata": {
    "id": "kYsIyVUhFoGo"
   },
   "source": [
    "## Post Training - what are the Weights and Biases "
   ]
  },
  {
   "cell_type": "code",
   "execution_count": 42,
   "metadata": {
    "id": "e9JdCT7dDeie"
   },
   "outputs": [],
   "source": [
    "weights = model.get_weights()"
   ]
  },
  {
   "cell_type": "code",
   "execution_count": 43,
   "metadata": {
    "colab": {
     "base_uri": "https://localhost:8080/"
    },
    "id": "gRBV6xv4E_vD",
    "outputId": "237975cd-07e1-4616-867e-f7ff46c5d294"
   },
   "outputs": [
    {
     "data": {
      "text/plain": [
       "[array([[ 0.5181165 , -0.862886  ,  0.39424208],\n",
       "        [-0.923947  ,  0.5542432 , -1.2529502 ],\n",
       "        [ 0.85636324,  0.12727521, -0.3779042 ],\n",
       "        [ 1.3143284 , -0.73609453,  0.3884093 ]], dtype=float32),\n",
       " array([ 0.03035322, -0.0307981 ,  0.06957588], dtype=float32),\n",
       " array([[ 0.6448423],\n",
       "        [-1.348846 ],\n",
       "        [ 0.6566674]], dtype=float32),\n",
       " array([0.04883225], dtype=float32)]"
      ]
     },
     "execution_count": 43,
     "metadata": {
      "tags": []
     },
     "output_type": "execute_result"
    }
   ],
   "source": [
    "weights\n",
    "#weights[0]"
   ]
  },
  {
   "cell_type": "markdown",
   "metadata": {
    "id": "MIELoWYWCzg3"
   },
   "source": [
    "## Plot Loss/Accuracy Curve for Training and Validation Data "
   ]
  },
  {
   "cell_type": "code",
   "execution_count": 44,
   "metadata": {
    "id": "B3Am7kpC-DLC"
   },
   "outputs": [],
   "source": [
    "from keras.utils import plot_model\n",
    "import matplotlib.pyplot as plt"
   ]
  },
  {
   "cell_type": "code",
   "execution_count": 45,
   "metadata": {
    "colab": {
     "base_uri": "https://localhost:8080/",
     "height": 329
    },
    "id": "y9AcirKv8u0z",
    "outputId": "df85afac-16f8-4821-c635-dfda71eaef04"
   },
   "outputs": [
    {
     "data": {
      "text/plain": [
       "<matplotlib.legend.Legend at 0x7f018f7630d0>"
      ]
     },
     "execution_count": 45,
     "metadata": {
      "tags": []
     },
     "output_type": "execute_result"
    },
    {
     "data": {
      "image/png": "[encoded data removed]",
      "text/plain": [
       "<Figure size 864x720 with 1 Axes>"
      ]
     },
     "metadata": {
      "needs_background": "light",
      "tags": []
     },
     "output_type": "display_data"
    }
   ],
   "source": [
    "# Plot Loss/Accuracy Profile of the model on Training Data\n",
    "plt.figure(figsize=(12,10))\n",
    "plt.subplot(211)\n",
    "plt.title('Loss-Accuracy on Training Data')\n",
    "plt.plot(history.history['loss'], label='loss')\n",
    "plt.plot(history.history['accuracy'], label='accuracy')\n",
    "plt.legend()\n"
   ]
  },
  {
   "cell_type": "code",
   "execution_count": 46,
   "metadata": {
    "colab": {
     "base_uri": "https://localhost:8080/",
     "height": 329
    },
    "id": "loiovMJCBJku",
    "outputId": "a05baebb-b568-4867-fbb1-233db6c5e1ba"
   },
   "outputs": [
    {
     "data": {
      "text/plain": [
       "<matplotlib.legend.Legend at 0x7f018ddc0490>"
      ]
     },
     "execution_count": 46,
     "metadata": {
      "tags": []
     },
     "output_type": "execute_result"
    },
    {
     "data": {
      "image/png": "[encoded data removed]",
      "text/plain": [
       "<Figure size 864x720 with 1 Axes>"
      ]
     },
     "metadata": {
      "needs_background": "light",
      "tags": []
     },
     "output_type": "display_data"
    }
   ],
   "source": [
    "# Plot Loss/Accuracy Profile of the model on Test/Validation Data\n",
    "plt.figure(figsize=(12,10))\n",
    "plt.subplot(211)\n",
    "plt.title('Loss-Accuracy on Validation Data')\n",
    "plt.plot(history.history['val_loss'], label='loss')\n",
    "plt.plot(history.history['val_accuracy'], label='accuracy')\n",
    "plt.legend()"
   ]
  },
  {
   "cell_type": "markdown",
   "metadata": {
    "id": "-2-LkVmTGZ37"
   },
   "source": [
    "## Test/Make Predictions"
   ]
  },
  {
   "cell_type": "code",
   "execution_count": 47,
   "metadata": {
    "colab": {
     "base_uri": "https://localhost:8080/"
    },
    "id": "hWswvIa36RNu",
    "outputId": "8794a00a-ba8f-4a5d-af2a-0105196958de"
   },
   "outputs": [
    {
     "name": "stdout",
     "output_type": "stream",
     "text": [
      "[[0.75327265]\n",
      " [0.7441682 ]\n",
      " [0.291552  ]\n",
      " [0.35656554]\n",
      " [0.27450067]\n",
      " [0.7228275 ]\n",
      " [0.6901907 ]\n",
      " [0.29841548]\n",
      " [0.31255263]\n",
      " [0.2774807 ]\n",
      " [0.35254171]\n",
      " [0.29313475]\n",
      " [0.28329507]\n",
      " [0.7101356 ]\n",
      " [0.75316846]\n",
      " [0.6620601 ]\n",
      " [0.6993574 ]\n",
      " [0.70659065]\n",
      " [0.32751566]\n",
      " [0.7043946 ]\n",
      " [0.31987765]\n",
      " [0.28520566]\n",
      " [0.30013388]\n",
      " [0.7384902 ]\n",
      " [0.7348082 ]\n",
      " [0.69694936]\n",
      " [0.73532665]\n",
      " [0.28131834]\n",
      " [0.29415768]\n",
      " [0.7136363 ]]\n"
     ]
    }
   ],
   "source": [
    "# Actual predictions from the ANN are number between 0 and 1 (output of the Sigmoid activation)\n",
    "pred = model.predict(X_test_std)\n",
    "print(pred)"
   ]
  },
  {
   "cell_type": "markdown",
   "metadata": {
    "id": "4ZC7iPZdQAqX"
   },
   "source": [
    "# Threshold the predictions to get binary output values 0/1"
   ]
  },
  {
   "cell_type": "code",
   "execution_count": 48,
   "metadata": {
    "id": "Hh7A_ue4OR2Q"
   },
   "outputs": [],
   "source": [
    "# pred.shape\n",
    "r, c = pred.shape\n",
    "\n",
    "pred1 = np.zeros(r, dtype=int)\n",
    "\n",
    "# with sigmoid output activation for binary classification\n",
    "for i in range(r):\n",
    " if pred[i] > 0.5:  # 0.5 is the threshold\n",
    "  pred1[i] = 1 \n",
    " else: \n",
    "  pred1[i] = 0 \n"
   ]
  },
  {
   "cell_type": "code",
   "execution_count": 49,
   "metadata": {
    "colab": {
     "base_uri": "https://localhost:8080/"
    },
    "id": "3SD15hjDOO0w",
    "outputId": "ddfdf5ba-97b0-43fe-8cf6-6ef3fb80ccc1"
   },
   "outputs": [
    {
     "name": "stdout",
     "output_type": "stream",
     "text": [
      "\n",
      " Actual class labels : \n",
      " [1 1 0 0 0 1 1 0 0 0 0 0 0 1 1 1 1 1 0 1 0 0 0 1 1 1 1 0 0 1]\n",
      "\n",
      " Predictions made by the MLP : \n",
      " [1 1 0 0 0 1 1 0 0 0 0 0 0 1 1 1 1 1 0 1 0 0 0 1 1 1 1 0 0 1]\n"
     ]
    }
   ],
   "source": [
    "print('\\n Actual class labels : \\n', y_test)\n",
    "print('\\n Predictions made by the MLP : \\n', pred1)"
   ]
  },
  {
   "cell_type": "markdown",
   "metadata": {
    "id": "NVdofzJ7QLxF"
   },
   "source": [
    "## Classification Metrics"
   ]
  },
  {
   "cell_type": "code",
   "execution_count": 50,
   "metadata": {
    "id": "kro2t5Me-LYs"
   },
   "outputs": [],
   "source": [
    "from sklearn.metrics import accuracy_score, classification_report, confusion_matrix"
   ]
  },
  {
   "cell_type": "markdown",
   "metadata": {
    "id": "eoq_Fj2cQOia"
   },
   "source": [
    "### Accuracy"
   ]
  },
  {
   "cell_type": "code",
   "execution_count": 51,
   "metadata": {
    "colab": {
     "base_uri": "https://localhost:8080/"
    },
    "id": "CyzRQ4n5Mee6",
    "outputId": "0a20dcb1-d7f5-499b-e417-f4fff9ee7601"
   },
   "outputs": [
    {
     "name": "stdout",
     "output_type": "stream",
     "text": [
      " Accuracy =  100.0 %\n"
     ]
    }
   ],
   "source": [
    "acc = accuracy_score(y_test, pred1) \n",
    "print(\" Accuracy = \", round(acc *100, 2) , '%')"
   ]
  },
  {
   "cell_type": "markdown",
   "metadata": {
    "id": "_ZbUvid6QQOB"
   },
   "source": [
    "### Classification Report"
   ]
  },
  {
   "cell_type": "code",
   "execution_count": 52,
   "metadata": {
    "colab": {
     "base_uri": "https://localhost:8080/"
    },
    "id": "R9Z3J2FXM86g",
    "outputId": "14ac0fe1-7d79-4abd-8cac-f645da6bfa62"
   },
   "outputs": [
    {
     "name": "stdout",
     "output_type": "stream",
     "text": [
      "              precision    recall  f1-score   support\n",
      "\n",
      "           0       1.00      1.00      1.00        15\n",
      "           1       1.00      1.00      1.00        15\n",
      "\n",
      "    accuracy                           1.00        30\n",
      "   macro avg       1.00      1.00      1.00        30\n",
      "weighted avg       1.00      1.00      1.00        30\n",
      "\n"
     ]
    }
   ],
   "source": [
    "print(classification_report (y_test, pred1))"
   ]
  },
  {
   "cell_type": "markdown",
   "metadata": {
    "id": "GNy_S_T5QTHl"
   },
   "source": [
    "### Confusion Matrix"
   ]
  },
  {
   "cell_type": "code",
   "execution_count": 53,
   "metadata": {
    "colab": {
     "base_uri": "https://localhost:8080/"
    },
    "id": "mR0Uw7n_POQD",
    "outputId": "d83af519-639e-4ebd-9543-1ad931b8265d"
   },
   "outputs": [
    {
     "name": "stdout",
     "output_type": "stream",
     "text": [
      "[[15  0]\n",
      " [ 0 15]]\n"
     ]
    }
   ],
   "source": [
    "print(confusion_matrix (y_test, pred1))"
   ]
  },
  {
   "cell_type": "markdown",
   "metadata": {
    "id": "8DEuNM6snW4k"
   },
   "source": [
    "## Evaluate the Model on the Test Set"
   ]
  },
  {
   "cell_type": "code",
   "execution_count": 54,
   "metadata": {
    "colab": {
     "base_uri": "https://localhost:8080/"
    },
    "id": "A--W7vHznO7w",
    "outputId": "b3111ab8-3d02-407c-fb98-c2a93525eea7"
   },
   "outputs": [
    {
     "name": "stdout",
     "output_type": "stream",
     "text": [
      "1/1 [==============================] - 0s 16ms/step - loss: 0.3471 - accuracy: 1.0000\n",
      "Final test set loss: 0.347127\n",
      "Final test set accuracy: 1.000000\n"
     ]
    }
   ],
   "source": [
    "results = model.evaluate(X_test_std, y_test)\n",
    "\n",
    "print('Final test set loss: {:4f}'.format(results[0]))\n",
    "print('Final test set accuracy: {:4f}'.format(results[1]))"
   ]
  },
  {
   "cell_type": "markdown",
   "metadata": {
    "id": "WNZhH1VXMuPn"
   },
   "source": [
    "## Verify the Output with an Individual Sample"
   ]
  },
  {
   "cell_type": "code",
   "execution_count": 55,
   "metadata": {
    "colab": {
     "base_uri": "https://localhost:8080/"
    },
    "id": "zCOw3D9tQ9Au",
    "outputId": "86410375-ccf0-4625-ddf9-19d5ddb25450"
   },
   "outputs": [
    {
     "name": "stdout",
     "output_type": "stream",
     "text": [
      "\n",
      " Input sample Original :  [[5.1 3.3 1.7 0.5]]\n",
      "\n",
      " Input sample Standardize :  [[-0.57303721  0.39221547 -0.80606545 -0.5162185 ]]\n",
      "\n",
      " Predicted value :  [[0.35254171]]\n",
      "\n",
      " Predicted label by the model :  0\n",
      "\n",
      " True/Actual Label :  0\n"
     ]
    }
   ],
   "source": [
    "# Actual predictions from the ANN are numbers between 0 and 1 (output of the Sigmoid activations)\n",
    "\n",
    "idx = 10 # Index of a data sample present in the Test set\n",
    "\n",
    "indvidual_test_sample = X_test_std[idx,:].reshape(1, num_sel_feat)\n",
    "\n",
    "print('\\n Input sample Original : ' , X_test[idx,:].reshape(1, num_sel_feat) )\n",
    "print('\\n Input sample Standardize : ' , indvidual_test_sample )\n",
    "\n",
    "pred = model.predict(indvidual_test_sample)\n",
    "print('\\n Predicted value : ', pred)\n",
    "\n",
    "if pred > 0.5:\n",
    "   pred1 = 1\n",
    "else:\n",
    "   pred1 = 0\n",
    "\n",
    "print('\\n Predicted label by the model : ', pred1)\n",
    "\n",
    "print('\\n True/Actual Label : ', y_test[idx])"
   ]
  },
  {
   "cell_type": "markdown",
   "metadata": {
    "id": "R-EyOZeafREM"
   },
   "source": [
    "# ++++++++++++++++++++++++++++++++++++++++++++++++++++\n",
    "# **Part 3 :** \n",
    "#**Extracting the Activations of the Neurons from an arbitrary Layer of the MLP**\n",
    "# ++++++++++++++++++++++++++++++++++++++++++++++++++++\n",
    "\n"
   ]
  },
  {
   "cell_type": "markdown",
   "metadata": {
    "id": "4V-1XS5TnHNL"
   },
   "source": [
    "\n",
    "## Custom Feature Extractor\n"
   ]
  },
  {
   "cell_type": "code",
   "execution_count": 56,
   "metadata": {
    "colab": {
     "base_uri": "https://localhost:8080/"
    },
    "id": "-KuaOKNjnIpM",
    "outputId": "2b0e476a-9e99-4161-82b1-8711b856bd0f"
   },
   "outputs": [
    {
     "data": {
      "text/plain": [
       "[<tf.Tensor: shape=(1, 3), dtype=float32, numpy=array([[0.11944476, 0.72281015, 0.36733788]], dtype=float32)>,\n",
       " <tf.Tensor: shape=(1, 1), dtype=float32, numpy=array([[0.35254171]], dtype=float32)>]"
      ]
     },
     "execution_count": 56,
     "metadata": {
      "tags": []
     },
     "output_type": "execute_result"
    }
   ],
   "source": [
    "# Output activations from the first hidden layer\n",
    "h1 = model.get_layer(index=0)\n",
    "#h1.output\n",
    "# Output activations from the output layer\n",
    "h2 = model.get_layer(index=1)\n",
    "#h2.output\n",
    "\n",
    "# Custom Feature Extractor\n",
    "mlp_activations_extractor = Model(inputs=model.input, outputs=[h1.output, h2.output])\n",
    "\n",
    "# Pass an input through the feature extractor and get the activations from the various layers\n",
    "out = mlp_activations_extractor(indvidual_test_sample)\n",
    "\n",
    "out"
   ]
  },
  {
   "cell_type": "code",
   "execution_count": 57,
   "metadata": {
    "id": "xrKE9mfiurly"
   },
   "outputs": [],
   "source": [
    "#x = out[0].numpy()\n",
    "#x.shape"
   ]
  },
  {
   "cell_type": "markdown",
   "metadata": {
    "id": "lEs86KIagRbd"
   },
   "source": [
    "# ++++++++++++++++++++++++++++++++++++++++++++++++++++\n",
    "# **Part 4 :** \n",
    "#**Verify the output of the MLP Step-by-Step**\n",
    "# ++++++++++++++++++++++++++++++++++++++++++++++++++++\n",
    "\n"
   ]
  },
  {
   "cell_type": "markdown",
   "metadata": {
    "id": "si_-rgbEiS52"
   },
   "source": [
    "### Verify the Output Generated by the MLP - Step-by-Step\n",
    "\n",
    "Give the new sample as the input to the MLP and compute activations of each neurone."
   ]
  },
  {
   "cell_type": "code",
   "execution_count": 58,
   "metadata": {
    "id": "uWqEHe-HU5AW"
   },
   "outputs": [],
   "source": [
    "# Define the Activation Functions\n",
    "# ReLU\n",
    "def relu (x):\n",
    "  return np.maximum(0, x)\n",
    "\n",
    "# Sigmoid\n",
    "def sigmoid (x):\n",
    "  z = 1/(1 + np.exp(-x))\n",
    "  return z"
   ]
  },
  {
   "cell_type": "code",
   "execution_count": 59,
   "metadata": {
    "colab": {
     "base_uri": "https://localhost:8080/"
    },
    "id": "Uz0ag-DIUXlj",
    "outputId": "92728ce1-2713-4baa-960a-2d8ed8b28e7c"
   },
   "outputs": [
    {
     "data": {
      "text/plain": [
       "array([0.11944477, 0.72281014, 0.36733787])"
      ]
     },
     "execution_count": 59,
     "metadata": {
      "tags": []
     },
     "output_type": "execute_result"
    }
   ],
   "source": [
    "# Net input to the neurons of the first hidden layer\n",
    "net_in_h1 = (weights[0]*indvidual_test_sample.T).sum(axis=0) + weights[1]\n",
    "\n",
    "# Output from the neurons of the first hidden layer after passing through the ReLU activation function\n",
    "#out_h1 = relu(net_in_h1) # this is the input vector to the next layer \n",
    "out_h1 = sigmoid(net_in_h1) # this is the input vector to the next layer \n",
    "\n",
    "out_h1 "
   ]
  },
  {
   "cell_type": "code",
   "execution_count": 60,
   "metadata": {
    "colab": {
     "base_uri": "https://localhost:8080/"
    },
    "id": "PKF7RGEJWAVR",
    "outputId": "0e8d312e-49de-4556-8200-9bcd4b6179a1"
   },
   "outputs": [
    {
     "data": {
      "text/plain": [
       "array([[0.35254171]])"
      ]
     },
     "execution_count": 60,
     "metadata": {
      "tags": []
     },
     "output_type": "execute_result"
    }
   ],
   "source": [
    "# Net input to the neuron of the output layer\n",
    "net_in_out = np.dot(weights[2].reshape(1,3), out_h1.reshape(3,1)) + weights[3]\n",
    "\n",
    "# Output from the neuron of the output layer after passing through the Sigmoid activation function\n",
    "out_out = sigmoid(net_in_out) \n",
    "\n",
    "out_out"
   ]
  },
  {
   "cell_type": "markdown",
   "metadata": {
    "id": "x7nxCCf59PqS"
   },
   "source": [
    "#+++++++++++++++++++++++++++++++++++++++++++++++++++++++++++++++++"
   ]
  }
 ],
 "metadata": {
  "colab": {
   "collapsed_sections": [],
   "name": "IRIS_MLP_Binary_Classifier__DL_Masterclass.ipynb",
   "provenance": [],
   "toc_visible": true
  },
  "kernelspec": {
   "display_name": "Python 3 (ipykernel)",
   "language": "python",
   "name": "python3"
  },
  "language_info": {
   "codemirror_mode": {
    "name": "ipython",
    "version": 3
   },
   "file_extension": ".py",
   "mimetype": "text/x-python",
   "name": "python",
   "nbconvert_exporter": "python",
   "pygments_lexer": "ipython3",
   "version": "3.10.6"
  }
 },
 "nbformat": 4,
 "nbformat_minor": 1
}
