{
 "cells": [
  {
   "cell_type": "markdown",
   "metadata": {
    "id": "uyeHjPcVLdqJ"
   },
   "source": [
    "# Multi Layer Perceptron for IRIS Flower Classification - Solving the Multi-class Classification Problem \n",
    "\n",
    "## Using Keras to Build ANN - MLP"
   ]
  },
  {
   "cell_type": "markdown",
   "metadata": {
    "id": "qnxRok5uC6zY"
   },
   "source": [
    "## Load IRIS Dataset from Scikitlearn Dataset"
   ]
  },
  {
   "cell_type": "code",
   "execution_count": null,
   "metadata": {
    "id": "fL_immus9xCD"
   },
   "outputs": [],
   "source": [
    "from sklearn import datasets"
   ]
  },
  {
   "cell_type": "code",
   "execution_count": null,
   "metadata": {
    "id": "RRBkAhw2xtx7"
   },
   "outputs": [],
   "source": [
    "# import some data to play with\n",
    "iris = datasets.load_iris()"
   ]
  },
  {
   "cell_type": "code",
   "execution_count": null,
   "metadata": {
    "id": "FNXR1zzv57RN"
   },
   "outputs": [],
   "source": [
    "#print(iris.DESCR)"
   ]
  },
  {
   "cell_type": "markdown",
   "metadata": {
    "id": "4j_QVDPsDCNg"
   },
   "source": [
    "## Features"
   ]
  },
  {
   "cell_type": "code",
   "execution_count": null,
   "metadata": {
    "colab": {
     "base_uri": "https://localhost:8080/"
    },
    "id": "2dHbWbY7C_vH",
    "outputId": "42c944ab-bc51-4096-fdbc-13f038975914"
   },
   "outputs": [
    {
     "data": {
      "text/plain": [
       "['sepal length (cm)',\n",
       " 'sepal width (cm)',\n",
       " 'petal length (cm)',\n",
       " 'petal width (cm)']"
      ]
     },
     "execution_count": 242,
     "metadata": {
      "tags": []
     },
     "output_type": "execute_result"
    }
   ],
   "source": [
    "iris.feature_names"
   ]
  },
  {
   "cell_type": "markdown",
   "metadata": {
    "id": "zhaLwS3nDEGo"
   },
   "source": [
    "## Class Labels/Categories"
   ]
  },
  {
   "cell_type": "code",
   "execution_count": null,
   "metadata": {
    "colab": {
     "base_uri": "https://localhost:8080/"
    },
    "id": "_9PjDla_6FFL",
    "outputId": "5c6fffa3-c108-40a7-e23f-2687e2d936bc"
   },
   "outputs": [
    {
     "data": {
      "text/plain": [
       "array(['setosa', 'versicolor', 'virginica'], dtype='<U10')"
      ]
     },
     "execution_count": 243,
     "metadata": {
      "tags": []
     },
     "output_type": "execute_result"
    }
   ],
   "source": [
    "iris.target_names"
   ]
  },
  {
   "cell_type": "markdown",
   "metadata": {
    "id": "3zlA1uljDHTH"
   },
   "source": [
    "## Dataset - Features and Target Labels"
   ]
  },
  {
   "cell_type": "code",
   "execution_count": null,
   "metadata": {
    "id": "6M1kgEQ654-o"
   },
   "outputs": [],
   "source": [
    "X = iris.data  \n",
    "y = iris.target"
   ]
  },
  {
   "cell_type": "code",
   "execution_count": null,
   "metadata": {
    "colab": {
     "base_uri": "https://localhost:8080/"
    },
    "id": "Gqw_KE5ADNJn",
    "outputId": "58af2ac9-b17b-403b-e3a6-d0dec1a64964"
   },
   "outputs": [
    {
     "data": {
      "text/plain": [
       "(150, 4)"
      ]
     },
     "execution_count": 245,
     "metadata": {
      "tags": []
     },
     "output_type": "execute_result"
    }
   ],
   "source": [
    "X.shape"
   ]
  },
  {
   "cell_type": "code",
   "execution_count": null,
   "metadata": {
    "colab": {
     "base_uri": "https://localhost:8080/"
    },
    "id": "9licRTHdDO7d",
    "outputId": "d8c51c5d-7584-4823-fc77-cf0c65f49633"
   },
   "outputs": [
    {
     "data": {
      "text/plain": [
       "(150,)"
      ]
     },
     "execution_count": 246,
     "metadata": {
      "tags": []
     },
     "output_type": "execute_result"
    }
   ],
   "source": [
    "y.shape"
   ]
  },
  {
   "cell_type": "code",
   "execution_count": null,
   "metadata": {
    "colab": {
     "base_uri": "https://localhost:8080/"
    },
    "id": "Cm_HFcvP6OU0",
    "outputId": "65cb6e8d-c444-4f56-fe5f-151e5c09ff5f"
   },
   "outputs": [
    {
     "data": {
      "text/plain": [
       "array([[5.1, 3.5, 1.4, 0.2],\n",
       "       [4.9, 3. , 1.4, 0.2],\n",
       "       [4.7, 3.2, 1.3, 0.2],\n",
       "       [4.6, 3.1, 1.5, 0.2],\n",
       "       [5. , 3.6, 1.4, 0.2],\n",
       "       [5.4, 3.9, 1.7, 0.4],\n",
       "       [4.6, 3.4, 1.4, 0.3],\n",
       "       [5. , 3.4, 1.5, 0.2],\n",
       "       [4.4, 2.9, 1.4, 0.2],\n",
       "       [4.9, 3.1, 1.5, 0.1],\n",
       "       [5.4, 3.7, 1.5, 0.2],\n",
       "       [4.8, 3.4, 1.6, 0.2],\n",
       "       [4.8, 3. , 1.4, 0.1],\n",
       "       [4.3, 3. , 1.1, 0.1],\n",
       "       [5.8, 4. , 1.2, 0.2],\n",
       "       [5.7, 4.4, 1.5, 0.4],\n",
       "       [5.4, 3.9, 1.3, 0.4],\n",
       "       [5.1, 3.5, 1.4, 0.3],\n",
       "       [5.7, 3.8, 1.7, 0.3],\n",
       "       [5.1, 3.8, 1.5, 0.3],\n",
       "       [5.4, 3.4, 1.7, 0.2],\n",
       "       [5.1, 3.7, 1.5, 0.4],\n",
       "       [4.6, 3.6, 1. , 0.2],\n",
       "       [5.1, 3.3, 1.7, 0.5],\n",
       "       [4.8, 3.4, 1.9, 0.2],\n",
       "       [5. , 3. , 1.6, 0.2],\n",
       "       [5. , 3.4, 1.6, 0.4],\n",
       "       [5.2, 3.5, 1.5, 0.2],\n",
       "       [5.2, 3.4, 1.4, 0.2],\n",
       "       [4.7, 3.2, 1.6, 0.2],\n",
       "       [4.8, 3.1, 1.6, 0.2],\n",
       "       [5.4, 3.4, 1.5, 0.4],\n",
       "       [5.2, 4.1, 1.5, 0.1],\n",
       "       [5.5, 4.2, 1.4, 0.2],\n",
       "       [4.9, 3.1, 1.5, 0.2],\n",
       "       [5. , 3.2, 1.2, 0.2],\n",
       "       [5.5, 3.5, 1.3, 0.2],\n",
       "       [4.9, 3.6, 1.4, 0.1],\n",
       "       [4.4, 3. , 1.3, 0.2],\n",
       "       [5.1, 3.4, 1.5, 0.2],\n",
       "       [5. , 3.5, 1.3, 0.3],\n",
       "       [4.5, 2.3, 1.3, 0.3],\n",
       "       [4.4, 3.2, 1.3, 0.2],\n",
       "       [5. , 3.5, 1.6, 0.6],\n",
       "       [5.1, 3.8, 1.9, 0.4],\n",
       "       [4.8, 3. , 1.4, 0.3],\n",
       "       [5.1, 3.8, 1.6, 0.2],\n",
       "       [4.6, 3.2, 1.4, 0.2],\n",
       "       [5.3, 3.7, 1.5, 0.2],\n",
       "       [5. , 3.3, 1.4, 0.2],\n",
       "       [7. , 3.2, 4.7, 1.4],\n",
       "       [6.4, 3.2, 4.5, 1.5],\n",
       "       [6.9, 3.1, 4.9, 1.5],\n",
       "       [5.5, 2.3, 4. , 1.3],\n",
       "       [6.5, 2.8, 4.6, 1.5],\n",
       "       [5.7, 2.8, 4.5, 1.3],\n",
       "       [6.3, 3.3, 4.7, 1.6],\n",
       "       [4.9, 2.4, 3.3, 1. ],\n",
       "       [6.6, 2.9, 4.6, 1.3],\n",
       "       [5.2, 2.7, 3.9, 1.4],\n",
       "       [5. , 2. , 3.5, 1. ],\n",
       "       [5.9, 3. , 4.2, 1.5],\n",
       "       [6. , 2.2, 4. , 1. ],\n",
       "       [6.1, 2.9, 4.7, 1.4],\n",
       "       [5.6, 2.9, 3.6, 1.3],\n",
       "       [6.7, 3.1, 4.4, 1.4],\n",
       "       [5.6, 3. , 4.5, 1.5],\n",
       "       [5.8, 2.7, 4.1, 1. ],\n",
       "       [6.2, 2.2, 4.5, 1.5],\n",
       "       [5.6, 2.5, 3.9, 1.1],\n",
       "       [5.9, 3.2, 4.8, 1.8],\n",
       "       [6.1, 2.8, 4. , 1.3],\n",
       "       [6.3, 2.5, 4.9, 1.5],\n",
       "       [6.1, 2.8, 4.7, 1.2],\n",
       "       [6.4, 2.9, 4.3, 1.3],\n",
       "       [6.6, 3. , 4.4, 1.4],\n",
       "       [6.8, 2.8, 4.8, 1.4],\n",
       "       [6.7, 3. , 5. , 1.7],\n",
       "       [6. , 2.9, 4.5, 1.5],\n",
       "       [5.7, 2.6, 3.5, 1. ],\n",
       "       [5.5, 2.4, 3.8, 1.1],\n",
       "       [5.5, 2.4, 3.7, 1. ],\n",
       "       [5.8, 2.7, 3.9, 1.2],\n",
       "       [6. , 2.7, 5.1, 1.6],\n",
       "       [5.4, 3. , 4.5, 1.5],\n",
       "       [6. , 3.4, 4.5, 1.6],\n",
       "       [6.7, 3.1, 4.7, 1.5],\n",
       "       [6.3, 2.3, 4.4, 1.3],\n",
       "       [5.6, 3. , 4.1, 1.3],\n",
       "       [5.5, 2.5, 4. , 1.3],\n",
       "       [5.5, 2.6, 4.4, 1.2],\n",
       "       [6.1, 3. , 4.6, 1.4],\n",
       "       [5.8, 2.6, 4. , 1.2],\n",
       "       [5. , 2.3, 3.3, 1. ],\n",
       "       [5.6, 2.7, 4.2, 1.3],\n",
       "       [5.7, 3. , 4.2, 1.2],\n",
       "       [5.7, 2.9, 4.2, 1.3],\n",
       "       [6.2, 2.9, 4.3, 1.3],\n",
       "       [5.1, 2.5, 3. , 1.1],\n",
       "       [5.7, 2.8, 4.1, 1.3],\n",
       "       [6.3, 3.3, 6. , 2.5],\n",
       "       [5.8, 2.7, 5.1, 1.9],\n",
       "       [7.1, 3. , 5.9, 2.1],\n",
       "       [6.3, 2.9, 5.6, 1.8],\n",
       "       [6.5, 3. , 5.8, 2.2],\n",
       "       [7.6, 3. , 6.6, 2.1],\n",
       "       [4.9, 2.5, 4.5, 1.7],\n",
       "       [7.3, 2.9, 6.3, 1.8],\n",
       "       [6.7, 2.5, 5.8, 1.8],\n",
       "       [7.2, 3.6, 6.1, 2.5],\n",
       "       [6.5, 3.2, 5.1, 2. ],\n",
       "       [6.4, 2.7, 5.3, 1.9],\n",
       "       [6.8, 3. , 5.5, 2.1],\n",
       "       [5.7, 2.5, 5. , 2. ],\n",
       "       [5.8, 2.8, 5.1, 2.4],\n",
       "       [6.4, 3.2, 5.3, 2.3],\n",
       "       [6.5, 3. , 5.5, 1.8],\n",
       "       [7.7, 3.8, 6.7, 2.2],\n",
       "       [7.7, 2.6, 6.9, 2.3],\n",
       "       [6. , 2.2, 5. , 1.5],\n",
       "       [6.9, 3.2, 5.7, 2.3],\n",
       "       [5.6, 2.8, 4.9, 2. ],\n",
       "       [7.7, 2.8, 6.7, 2. ],\n",
       "       [6.3, 2.7, 4.9, 1.8],\n",
       "       [6.7, 3.3, 5.7, 2.1],\n",
       "       [7.2, 3.2, 6. , 1.8],\n",
       "       [6.2, 2.8, 4.8, 1.8],\n",
       "       [6.1, 3. , 4.9, 1.8],\n",
       "       [6.4, 2.8, 5.6, 2.1],\n",
       "       [7.2, 3. , 5.8, 1.6],\n",
       "       [7.4, 2.8, 6.1, 1.9],\n",
       "       [7.9, 3.8, 6.4, 2. ],\n",
       "       [6.4, 2.8, 5.6, 2.2],\n",
       "       [6.3, 2.8, 5.1, 1.5],\n",
       "       [6.1, 2.6, 5.6, 1.4],\n",
       "       [7.7, 3. , 6.1, 2.3],\n",
       "       [6.3, 3.4, 5.6, 2.4],\n",
       "       [6.4, 3.1, 5.5, 1.8],\n",
       "       [6. , 3. , 4.8, 1.8],\n",
       "       [6.9, 3.1, 5.4, 2.1],\n",
       "       [6.7, 3.1, 5.6, 2.4],\n",
       "       [6.9, 3.1, 5.1, 2.3],\n",
       "       [5.8, 2.7, 5.1, 1.9],\n",
       "       [6.8, 3.2, 5.9, 2.3],\n",
       "       [6.7, 3.3, 5.7, 2.5],\n",
       "       [6.7, 3. , 5.2, 2.3],\n",
       "       [6.3, 2.5, 5. , 1.9],\n",
       "       [6.5, 3. , 5.2, 2. ],\n",
       "       [6.2, 3.4, 5.4, 2.3],\n",
       "       [5.9, 3. , 5.1, 1.8]])"
      ]
     },
     "execution_count": 247,
     "metadata": {
      "tags": []
     },
     "output_type": "execute_result"
    }
   ],
   "source": [
    "X"
   ]
  },
  {
   "cell_type": "code",
   "execution_count": null,
   "metadata": {
    "colab": {
     "base_uri": "https://localhost:8080/"
    },
    "id": "Z64Q4xUt6LwL",
    "outputId": "ef6f8f73-f473-404e-bf54-41af919c5045"
   },
   "outputs": [
    {
     "data": {
      "text/plain": [
       "array([0, 0, 0, 0, 0, 0, 0, 0, 0, 0, 0, 0, 0, 0, 0, 0, 0, 0, 0, 0, 0, 0,\n",
       "       0, 0, 0, 0, 0, 0, 0, 0, 0, 0, 0, 0, 0, 0, 0, 0, 0, 0, 0, 0, 0, 0,\n",
       "       0, 0, 0, 0, 0, 0, 1, 1, 1, 1, 1, 1, 1, 1, 1, 1, 1, 1, 1, 1, 1, 1,\n",
       "       1, 1, 1, 1, 1, 1, 1, 1, 1, 1, 1, 1, 1, 1, 1, 1, 1, 1, 1, 1, 1, 1,\n",
       "       1, 1, 1, 1, 1, 1, 1, 1, 1, 1, 1, 1, 2, 2, 2, 2, 2, 2, 2, 2, 2, 2,\n",
       "       2, 2, 2, 2, 2, 2, 2, 2, 2, 2, 2, 2, 2, 2, 2, 2, 2, 2, 2, 2, 2, 2,\n",
       "       2, 2, 2, 2, 2, 2, 2, 2, 2, 2, 2, 2, 2, 2, 2, 2, 2, 2])"
      ]
     },
     "execution_count": 248,
     "metadata": {
      "tags": []
     },
     "output_type": "execute_result"
    }
   ],
   "source": [
    "y"
   ]
  },
  {
   "cell_type": "markdown",
   "metadata": {
    "id": "O172TKmcTtzl"
   },
   "source": [
    "### Multi-class Classifier - 3 class Labels"
   ]
  },
  {
   "cell_type": "code",
   "execution_count": null,
   "metadata": {
    "id": "PGodCkpBTnsb"
   },
   "outputs": [],
   "source": [
    "X= iris.data\n",
    "y = iris.target # Multi-class Classifier"
   ]
  },
  {
   "cell_type": "code",
   "execution_count": null,
   "metadata": {
    "colab": {
     "base_uri": "https://localhost:8080/"
    },
    "id": "JaZ4HPN5Jbre",
    "outputId": "b1db4e79-8e3a-4d0a-f5c4-a07fc4e762e8"
   },
   "outputs": [
    {
     "data": {
      "text/plain": [
       "(150, 4)"
      ]
     },
     "execution_count": 250,
     "metadata": {
      "tags": []
     },
     "output_type": "execute_result"
    }
   ],
   "source": [
    "X.shape"
   ]
  },
  {
   "cell_type": "code",
   "execution_count": null,
   "metadata": {
    "colab": {
     "base_uri": "https://localhost:8080/"
    },
    "id": "c3iXZscL8dHd",
    "outputId": "b0d23e3b-2f5a-438d-f860-d883255bc5b6"
   },
   "outputs": [
    {
     "name": "stdout",
     "output_type": "stream",
     "text": [
      "(150,)\n",
      "[0 0 0 0 0 0 0 0 0 0 0 0 0 0 0 0 0 0 0 0 0 0 0 0 0 0 0 0 0 0 0 0 0 0 0 0 0\n",
      " 0 0 0 0 0 0 0 0 0 0 0 0 0 1 1 1 1 1 1 1 1 1 1 1 1 1 1 1 1 1 1 1 1 1 1 1 1\n",
      " 1 1 1 1 1 1 1 1 1 1 1 1 1 1 1 1 1 1 1 1 1 1 1 1 1 1 2 2 2 2 2 2 2 2 2 2 2\n",
      " 2 2 2 2 2 2 2 2 2 2 2 2 2 2 2 2 2 2 2 2 2 2 2 2 2 2 2 2 2 2 2 2 2 2 2 2 2\n",
      " 2 2]\n"
     ]
    }
   ],
   "source": [
    "print(y.shape)\n",
    "print(y)"
   ]
  },
  {
   "cell_type": "code",
   "execution_count": null,
   "metadata": {
    "colab": {
     "base_uri": "https://localhost:8080/"
    },
    "id": "5pUoKPG_Fojb",
    "outputId": "05815f50-8658-42ac-dfec-43e269792f24"
   },
   "outputs": [
    {
     "name": "stdout",
     "output_type": "stream",
     "text": [
      "(150, 1)\n",
      "[[0]\n",
      " [0]\n",
      " [0]\n",
      " [0]\n",
      " [0]\n",
      " [0]\n",
      " [0]\n",
      " [0]\n",
      " [0]\n",
      " [0]\n",
      " [0]\n",
      " [0]\n",
      " [0]\n",
      " [0]\n",
      " [0]\n",
      " [0]\n",
      " [0]\n",
      " [0]\n",
      " [0]\n",
      " [0]\n",
      " [0]\n",
      " [0]\n",
      " [0]\n",
      " [0]\n",
      " [0]\n",
      " [0]\n",
      " [0]\n",
      " [0]\n",
      " [0]\n",
      " [0]\n",
      " [0]\n",
      " [0]\n",
      " [0]\n",
      " [0]\n",
      " [0]\n",
      " [0]\n",
      " [0]\n",
      " [0]\n",
      " [0]\n",
      " [0]\n",
      " [0]\n",
      " [0]\n",
      " [0]\n",
      " [0]\n",
      " [0]\n",
      " [0]\n",
      " [0]\n",
      " [0]\n",
      " [0]\n",
      " [0]\n",
      " [1]\n",
      " [1]\n",
      " [1]\n",
      " [1]\n",
      " [1]\n",
      " [1]\n",
      " [1]\n",
      " [1]\n",
      " [1]\n",
      " [1]\n",
      " [1]\n",
      " [1]\n",
      " [1]\n",
      " [1]\n",
      " [1]\n",
      " [1]\n",
      " [1]\n",
      " [1]\n",
      " [1]\n",
      " [1]\n",
      " [1]\n",
      " [1]\n",
      " [1]\n",
      " [1]\n",
      " [1]\n",
      " [1]\n",
      " [1]\n",
      " [1]\n",
      " [1]\n",
      " [1]\n",
      " [1]\n",
      " [1]\n",
      " [1]\n",
      " [1]\n",
      " [1]\n",
      " [1]\n",
      " [1]\n",
      " [1]\n",
      " [1]\n",
      " [1]\n",
      " [1]\n",
      " [1]\n",
      " [1]\n",
      " [1]\n",
      " [1]\n",
      " [1]\n",
      " [1]\n",
      " [1]\n",
      " [1]\n",
      " [1]\n",
      " [2]\n",
      " [2]\n",
      " [2]\n",
      " [2]\n",
      " [2]\n",
      " [2]\n",
      " [2]\n",
      " [2]\n",
      " [2]\n",
      " [2]\n",
      " [2]\n",
      " [2]\n",
      " [2]\n",
      " [2]\n",
      " [2]\n",
      " [2]\n",
      " [2]\n",
      " [2]\n",
      " [2]\n",
      " [2]\n",
      " [2]\n",
      " [2]\n",
      " [2]\n",
      " [2]\n",
      " [2]\n",
      " [2]\n",
      " [2]\n",
      " [2]\n",
      " [2]\n",
      " [2]\n",
      " [2]\n",
      " [2]\n",
      " [2]\n",
      " [2]\n",
      " [2]\n",
      " [2]\n",
      " [2]\n",
      " [2]\n",
      " [2]\n",
      " [2]\n",
      " [2]\n",
      " [2]\n",
      " [2]\n",
      " [2]\n",
      " [2]\n",
      " [2]\n",
      " [2]\n",
      " [2]\n",
      " [2]\n",
      " [2]]\n"
     ]
    }
   ],
   "source": [
    "y = y.reshape(-1, 1)\n",
    "print(y.shape)\n",
    "\n",
    "print(y)"
   ]
  },
  {
   "cell_type": "code",
   "execution_count": null,
   "metadata": {
    "colab": {
     "base_uri": "https://localhost:8080/"
    },
    "id": "jghEa9cpGAVb",
    "outputId": "af45e86d-abeb-42f8-dc3b-0d3982012c2a"
   },
   "outputs": [
    {
     "name": "stdout",
     "output_type": "stream",
     "text": [
      "[[1. 0. 0.]\n",
      " [1. 0. 0.]\n",
      " [1. 0. 0.]\n",
      " [1. 0. 0.]\n",
      " [1. 0. 0.]\n",
      " [1. 0. 0.]\n",
      " [1. 0. 0.]\n",
      " [1. 0. 0.]\n",
      " [1. 0. 0.]\n",
      " [1. 0. 0.]\n",
      " [1. 0. 0.]\n",
      " [1. 0. 0.]\n",
      " [1. 0. 0.]\n",
      " [1. 0. 0.]\n",
      " [1. 0. 0.]\n",
      " [1. 0. 0.]\n",
      " [1. 0. 0.]\n",
      " [1. 0. 0.]\n",
      " [1. 0. 0.]\n",
      " [1. 0. 0.]\n",
      " [1. 0. 0.]\n",
      " [1. 0. 0.]\n",
      " [1. 0. 0.]\n",
      " [1. 0. 0.]\n",
      " [1. 0. 0.]\n",
      " [1. 0. 0.]\n",
      " [1. 0. 0.]\n",
      " [1. 0. 0.]\n",
      " [1. 0. 0.]\n",
      " [1. 0. 0.]\n",
      " [1. 0. 0.]\n",
      " [1. 0. 0.]\n",
      " [1. 0. 0.]\n",
      " [1. 0. 0.]\n",
      " [1. 0. 0.]\n",
      " [1. 0. 0.]\n",
      " [1. 0. 0.]\n",
      " [1. 0. 0.]\n",
      " [1. 0. 0.]\n",
      " [1. 0. 0.]\n",
      " [1. 0. 0.]\n",
      " [1. 0. 0.]\n",
      " [1. 0. 0.]\n",
      " [1. 0. 0.]\n",
      " [1. 0. 0.]\n",
      " [1. 0. 0.]\n",
      " [1. 0. 0.]\n",
      " [1. 0. 0.]\n",
      " [1. 0. 0.]\n",
      " [1. 0. 0.]\n",
      " [0. 1. 0.]\n",
      " [0. 1. 0.]\n",
      " [0. 1. 0.]\n",
      " [0. 1. 0.]\n",
      " [0. 1. 0.]\n",
      " [0. 1. 0.]\n",
      " [0. 1. 0.]\n",
      " [0. 1. 0.]\n",
      " [0. 1. 0.]\n",
      " [0. 1. 0.]\n",
      " [0. 1. 0.]\n",
      " [0. 1. 0.]\n",
      " [0. 1. 0.]\n",
      " [0. 1. 0.]\n",
      " [0. 1. 0.]\n",
      " [0. 1. 0.]\n",
      " [0. 1. 0.]\n",
      " [0. 1. 0.]\n",
      " [0. 1. 0.]\n",
      " [0. 1. 0.]\n",
      " [0. 1. 0.]\n",
      " [0. 1. 0.]\n",
      " [0. 1. 0.]\n",
      " [0. 1. 0.]\n",
      " [0. 1. 0.]\n",
      " [0. 1. 0.]\n",
      " [0. 1. 0.]\n",
      " [0. 1. 0.]\n",
      " [0. 1. 0.]\n",
      " [0. 1. 0.]\n",
      " [0. 1. 0.]\n",
      " [0. 1. 0.]\n",
      " [0. 1. 0.]\n",
      " [0. 1. 0.]\n",
      " [0. 1. 0.]\n",
      " [0. 1. 0.]\n",
      " [0. 1. 0.]\n",
      " [0. 1. 0.]\n",
      " [0. 1. 0.]\n",
      " [0. 1. 0.]\n",
      " [0. 1. 0.]\n",
      " [0. 1. 0.]\n",
      " [0. 1. 0.]\n",
      " [0. 1. 0.]\n",
      " [0. 1. 0.]\n",
      " [0. 1. 0.]\n",
      " [0. 1. 0.]\n",
      " [0. 1. 0.]\n",
      " [0. 1. 0.]\n",
      " [0. 1. 0.]\n",
      " [0. 0. 1.]\n",
      " [0. 0. 1.]\n",
      " [0. 0. 1.]\n",
      " [0. 0. 1.]\n",
      " [0. 0. 1.]\n",
      " [0. 0. 1.]\n",
      " [0. 0. 1.]\n",
      " [0. 0. 1.]\n",
      " [0. 0. 1.]\n",
      " [0. 0. 1.]\n",
      " [0. 0. 1.]\n",
      " [0. 0. 1.]\n",
      " [0. 0. 1.]\n",
      " [0. 0. 1.]\n",
      " [0. 0. 1.]\n",
      " [0. 0. 1.]\n",
      " [0. 0. 1.]\n",
      " [0. 0. 1.]\n",
      " [0. 0. 1.]\n",
      " [0. 0. 1.]\n",
      " [0. 0. 1.]\n",
      " [0. 0. 1.]\n",
      " [0. 0. 1.]\n",
      " [0. 0. 1.]\n",
      " [0. 0. 1.]\n",
      " [0. 0. 1.]\n",
      " [0. 0. 1.]\n",
      " [0. 0. 1.]\n",
      " [0. 0. 1.]\n",
      " [0. 0. 1.]\n",
      " [0. 0. 1.]\n",
      " [0. 0. 1.]\n",
      " [0. 0. 1.]\n",
      " [0. 0. 1.]\n",
      " [0. 0. 1.]\n",
      " [0. 0. 1.]\n",
      " [0. 0. 1.]\n",
      " [0. 0. 1.]\n",
      " [0. 0. 1.]\n",
      " [0. 0. 1.]\n",
      " [0. 0. 1.]\n",
      " [0. 0. 1.]\n",
      " [0. 0. 1.]\n",
      " [0. 0. 1.]\n",
      " [0. 0. 1.]\n",
      " [0. 0. 1.]\n",
      " [0. 0. 1.]\n",
      " [0. 0. 1.]\n",
      " [0. 0. 1.]\n",
      " [0. 0. 1.]]\n"
     ]
    }
   ],
   "source": [
    "from sklearn.preprocessing import OneHotEncoder\n",
    "\n",
    "encoder = OneHotEncoder()\n",
    "encoder.fit(y)\n",
    "y_hot = encoder.transform(y).toarray()\n",
    "print(y_hot)"
   ]
  },
  {
   "cell_type": "markdown",
   "metadata": {
    "id": "fitfbUcvH3Ql"
   },
   "source": [
    "## Split Data into Training and Test Set"
   ]
  },
  {
   "cell_type": "code",
   "execution_count": null,
   "metadata": {
    "id": "ZNjLYfYH93Lf"
   },
   "outputs": [],
   "source": [
    "from sklearn.model_selection import train_test_split"
   ]
  },
  {
   "cell_type": "code",
   "execution_count": null,
   "metadata": {
    "id": "f9RcePAO7mm0"
   },
   "outputs": [],
   "source": [
    "#X_train, X_test, y_train, y_test = train_test_split(X, y_hot, test_size=0.2, shuffle=True, random_state=200)\n",
    "X_train, X_test, y_train, y_test = train_test_split(X, y_hot, test_size=0.3, shuffle=True, stratify=y, random_state=101)"
   ]
  },
  {
   "cell_type": "code",
   "execution_count": null,
   "metadata": {
    "colab": {
     "base_uri": "https://localhost:8080/"
    },
    "id": "FpYxGOm4-tp7",
    "outputId": "dbe9e5fa-cb3a-45fc-9add-b9ca51ac09f9"
   },
   "outputs": [
    {
     "name": "stdout",
     "output_type": "stream",
     "text": [
      "\n",
      " Shape of Training data :  (105, 4)\n",
      "\n",
      " Shape of Test data :  (45, 4)\n"
     ]
    }
   ],
   "source": [
    "print('\\n Shape of Training data : ', X_train.shape)\n",
    "print('\\n Shape of Test data : ', X_test.shape)"
   ]
  },
  {
   "cell_type": "markdown",
   "metadata": {
    "id": "jLNbZTb7_kRm"
   },
   "source": [
    "## Standardize Data"
   ]
  },
  {
   "cell_type": "code",
   "execution_count": null,
   "metadata": {
    "id": "6sAOjsrW_fZM"
   },
   "outputs": [],
   "source": [
    "from sklearn.preprocessing import StandardScaler\n",
    "\n",
    "sc = StandardScaler()\n",
    "sc.fit(X_train)\n",
    "X_train_std = sc.transform(X_train)\n",
    "X_test_std = sc.transform(X_test)"
   ]
  },
  {
   "cell_type": "markdown",
   "metadata": {
    "id": "hD4Jc5fCCsu4"
   },
   "source": [
    "## Build the Multi Layer Perceptron Model"
   ]
  },
  {
   "cell_type": "code",
   "execution_count": null,
   "metadata": {
    "id": "2Mbxa7WR95km"
   },
   "outputs": [],
   "source": [
    "from keras.models import Sequential, Model\n",
    "from keras.layers import Dense"
   ]
  },
  {
   "cell_type": "code",
   "execution_count": null,
   "metadata": {
    "id": "ghdW0tT3Osdl"
   },
   "outputs": [],
   "source": [
    "## MODEL \n",
    "# Build a simple MLP model\n",
    "model = Sequential()\n",
    "model.add(Dense(5, input_dim=4, activation='sigmoid')) # first hidden layer with 5 neurons\n",
    "model.add(Dense(3, activation='softmax')) # last layer with 3 output neurons - multi-class classification\n",
    "\n",
    "# Compile MODEL \n",
    "model.compile(optimizer='adam', loss='categorical_crossentropy', metrics='accuracy')"
   ]
  },
  {
   "cell_type": "code",
   "execution_count": null,
   "metadata": {
    "colab": {
     "base_uri": "https://localhost:8080/"
    },
    "id": "7ZK6aJCL7JH8",
    "outputId": "4a3fcee4-8b70-437a-f78d-b1bf868d45d6"
   },
   "outputs": [
    {
     "name": "stdout",
     "output_type": "stream",
     "text": [
      "Model: \"sequential_3\"\n",
      "_________________________________________________________________\n",
      "Layer (type)                 Output Shape              Param #   \n",
      "=================================================================\n",
      "dense_6 (Dense)              (None, 5)                 25        \n",
      "_________________________________________________________________\n",
      "dense_7 (Dense)              (None, 3)                 18        \n",
      "=================================================================\n",
      "Total params: 43\n",
      "Trainable params: 43\n",
      "Non-trainable params: 0\n",
      "_________________________________________________________________\n"
     ]
    }
   ],
   "source": [
    "model.summary()"
   ]
  },
  {
   "cell_type": "code",
   "execution_count": null,
   "metadata": {
    "id": "vf3QP7moHmzK"
   },
   "outputs": [],
   "source": [
    "from keras.utils import plot_model"
   ]
  },
  {
   "cell_type": "code",
   "execution_count": null,
   "metadata": {
    "colab": {
     "base_uri": "https://localhost:8080/",
     "height": 272
    },
    "id": "-cF7cSiqcHHF",
    "outputId": "7d7e3556-40ea-484f-fa17-570e89936364"
   },
   "outputs": [
    {
     "data": {
      "image/png": "[encoded data removed]",
      "text/plain": [
       "<IPython.core.display.Image object>"
      ]
     },
     "execution_count": 262,
     "metadata": {
      "tags": []
     },
     "output_type": "execute_result"
    }
   ],
   "source": [
    "plot_model(model)"
   ]
  },
  {
   "cell_type": "markdown",
   "metadata": {
    "id": "mTEpa-t2FN2M"
   },
   "source": [
    "## Initial Weights and Biases\n",
    "\n",
    "Keras oficial documentation says....\n",
    "\n",
    "**kernel_initializer=\"glorot_uniform\"**\n",
    "\n",
    "**bias_initializer=\"zeros\"**"
   ]
  },
  {
   "cell_type": "code",
   "execution_count": null,
   "metadata": {
    "id": "9OWw5TKsFJE1"
   },
   "outputs": [],
   "source": [
    "weights = model.get_weights()"
   ]
  },
  {
   "cell_type": "code",
   "execution_count": null,
   "metadata": {
    "colab": {
     "base_uri": "https://localhost:8080/"
    },
    "id": "gdVJW4gEFJE5",
    "outputId": "07ae3dc8-a59a-4e0f-c9c7-8ba809cd3a47"
   },
   "outputs": [
    {
     "data": {
      "text/plain": [
       "[array([[ 0.70131564,  0.17572892, -0.46428445, -0.67033136,  0.4927671 ],\n",
       "        [-0.26233238, -0.7250192 , -0.77152133, -0.04691052, -0.7428043 ],\n",
       "        [ 0.21957064,  0.09947103,  0.61383426, -0.56769246,  0.47712243],\n",
       "        [-0.17074889,  0.35828328, -0.7427774 , -0.40991017, -0.6862544 ]],\n",
       "       dtype=float32),\n",
       " array([0., 0., 0., 0., 0.], dtype=float32),\n",
       " array([[-0.05292118,  0.51016575, -0.05511457],\n",
       "        [ 0.03811657, -0.01395059,  0.3396744 ],\n",
       "        [ 0.42244643, -0.13471586, -0.54543525],\n",
       "        [ 0.19679755, -0.6751488 ,  0.4371416 ],\n",
       "        [ 0.7787395 , -0.21595651,  0.40313572]], dtype=float32),\n",
       " array([0., 0., 0.], dtype=float32)]"
      ]
     },
     "execution_count": 264,
     "metadata": {
      "tags": []
     },
     "output_type": "execute_result"
    }
   ],
   "source": [
    "weights\n",
    "#weights[0]"
   ]
  },
  {
   "cell_type": "code",
   "execution_count": null,
   "metadata": {
    "id": "wVN-5EOIJmOp"
   },
   "outputs": [],
   "source": [
    "#y.dtype"
   ]
  },
  {
   "cell_type": "markdown",
   "metadata": {
    "id": "iiJpnIKzCwPL"
   },
   "source": [
    "## Train the Model"
   ]
  },
  {
   "cell_type": "code",
   "execution_count": null,
   "metadata": {
    "colab": {
     "base_uri": "https://localhost:8080/"
    },
    "id": "7mT6LVOJ6zjh",
    "outputId": "a689f941-b8e1-4608-8b67-0facabb3e6e2"
   },
   "outputs": [
    {
     "name": "stdout",
     "output_type": "stream",
     "text": [
      "Epoch 1/100\n",
      "7/7 [==============================] - 1s 34ms/step - loss: 1.1938 - accuracy: 0.3406 - val_loss: 1.1889 - val_accuracy: 0.3333\n",
      "Epoch 2/100\n",
      "7/7 [==============================] - 0s 7ms/step - loss: 1.1553 - accuracy: 0.3631 - val_loss: 1.1752 - val_accuracy: 0.3333\n",
      "Epoch 3/100\n",
      "7/7 [==============================] - 0s 8ms/step - loss: 1.1398 - accuracy: 0.3493 - val_loss: 1.1617 - val_accuracy: 0.3333\n",
      "Epoch 4/100\n",
      "7/7 [==============================] - 0s 7ms/step - loss: 1.1695 - accuracy: 0.3336 - val_loss: 1.1482 - val_accuracy: 0.3333\n",
      "Epoch 5/100\n",
      "7/7 [==============================] - 0s 8ms/step - loss: 1.1066 - accuracy: 0.3737 - val_loss: 1.1355 - val_accuracy: 0.3556\n",
      "Epoch 6/100\n",
      "7/7 [==============================] - 0s 8ms/step - loss: 1.0997 - accuracy: 0.3791 - val_loss: 1.1233 - val_accuracy: 0.3778\n",
      "Epoch 7/100\n",
      "7/7 [==============================] - 0s 8ms/step - loss: 1.1293 - accuracy: 0.3810 - val_loss: 1.1114 - val_accuracy: 0.4222\n",
      "Epoch 8/100\n",
      "7/7 [==============================] - 0s 8ms/step - loss: 1.0681 - accuracy: 0.4644 - val_loss: 1.1003 - val_accuracy: 0.4222\n",
      "Epoch 9/100\n",
      "7/7 [==============================] - 0s 7ms/step - loss: 1.0872 - accuracy: 0.4635 - val_loss: 1.0894 - val_accuracy: 0.4222\n",
      "Epoch 10/100\n",
      "7/7 [==============================] - 0s 7ms/step - loss: 1.0890 - accuracy: 0.4335 - val_loss: 1.0786 - val_accuracy: 0.4444\n",
      "Epoch 11/100\n",
      "7/7 [==============================] - 0s 8ms/step - loss: 1.1221 - accuracy: 0.3879 - val_loss: 1.0679 - val_accuracy: 0.4889\n",
      "Epoch 12/100\n",
      "7/7 [==============================] - 0s 8ms/step - loss: 1.0501 - accuracy: 0.5004 - val_loss: 1.0581 - val_accuracy: 0.4889\n",
      "Epoch 13/100\n",
      "7/7 [==============================] - 0s 8ms/step - loss: 1.0776 - accuracy: 0.4645 - val_loss: 1.0482 - val_accuracy: 0.5333\n",
      "Epoch 14/100\n",
      "7/7 [==============================] - 0s 8ms/step - loss: 1.0112 - accuracy: 0.5778 - val_loss: 1.0391 - val_accuracy: 0.5333\n",
      "Epoch 15/100\n",
      "7/7 [==============================] - 0s 8ms/step - loss: 1.0017 - accuracy: 0.5730 - val_loss: 1.0298 - val_accuracy: 0.5333\n",
      "Epoch 16/100\n",
      "7/7 [==============================] - 0s 7ms/step - loss: 1.0046 - accuracy: 0.6040 - val_loss: 1.0209 - val_accuracy: 0.5111\n",
      "Epoch 17/100\n",
      "7/7 [==============================] - 0s 9ms/step - loss: 1.0220 - accuracy: 0.5830 - val_loss: 1.0121 - val_accuracy: 0.5778\n",
      "Epoch 18/100\n",
      "7/7 [==============================] - 0s 7ms/step - loss: 1.0375 - accuracy: 0.4606 - val_loss: 1.0034 - val_accuracy: 0.5556\n",
      "Epoch 19/100\n",
      "7/7 [==============================] - 0s 7ms/step - loss: 0.9741 - accuracy: 0.5158 - val_loss: 0.9952 - val_accuracy: 0.5111\n",
      "Epoch 20/100\n",
      "7/7 [==============================] - 0s 9ms/step - loss: 1.0214 - accuracy: 0.4208 - val_loss: 0.9869 - val_accuracy: 0.4222\n",
      "Epoch 21/100\n",
      "7/7 [==============================] - 0s 7ms/step - loss: 0.9941 - accuracy: 0.4712 - val_loss: 0.9789 - val_accuracy: 0.4222\n",
      "Epoch 22/100\n",
      "7/7 [==============================] - 0s 7ms/step - loss: 0.9873 - accuracy: 0.3941 - val_loss: 0.9712 - val_accuracy: 0.4222\n",
      "Epoch 23/100\n",
      "7/7 [==============================] - 0s 7ms/step - loss: 0.9610 - accuracy: 0.3960 - val_loss: 0.9634 - val_accuracy: 0.4222\n",
      "Epoch 24/100\n",
      "7/7 [==============================] - 0s 7ms/step - loss: 0.9617 - accuracy: 0.4023 - val_loss: 0.9558 - val_accuracy: 0.4222\n",
      "Epoch 25/100\n",
      "7/7 [==============================] - 0s 7ms/step - loss: 0.9432 - accuracy: 0.3618 - val_loss: 0.9485 - val_accuracy: 0.4000\n",
      "Epoch 26/100\n",
      "7/7 [==============================] - 0s 8ms/step - loss: 0.9616 - accuracy: 0.4039 - val_loss: 0.9411 - val_accuracy: 0.3778\n",
      "Epoch 27/100\n",
      "7/7 [==============================] - 0s 9ms/step - loss: 0.9350 - accuracy: 0.4196 - val_loss: 0.9340 - val_accuracy: 0.3778\n",
      "Epoch 28/100\n",
      "7/7 [==============================] - 0s 8ms/step - loss: 0.9431 - accuracy: 0.4274 - val_loss: 0.9269 - val_accuracy: 0.4000\n",
      "Epoch 29/100\n",
      "7/7 [==============================] - 0s 8ms/step - loss: 0.9277 - accuracy: 0.4048 - val_loss: 0.9200 - val_accuracy: 0.3778\n",
      "Epoch 30/100\n",
      "7/7 [==============================] - 0s 7ms/step - loss: 0.9157 - accuracy: 0.4629 - val_loss: 0.9130 - val_accuracy: 0.4000\n",
      "Epoch 31/100\n",
      "7/7 [==============================] - 0s 9ms/step - loss: 0.9105 - accuracy: 0.4625 - val_loss: 0.9062 - val_accuracy: 0.4222\n",
      "Epoch 32/100\n",
      "7/7 [==============================] - 0s 10ms/step - loss: 0.9122 - accuracy: 0.5371 - val_loss: 0.8994 - val_accuracy: 0.4444\n",
      "Epoch 33/100\n",
      "7/7 [==============================] - 0s 8ms/step - loss: 0.8958 - accuracy: 0.5200 - val_loss: 0.8929 - val_accuracy: 0.4444\n",
      "Epoch 34/100\n",
      "7/7 [==============================] - 0s 8ms/step - loss: 0.8959 - accuracy: 0.4637 - val_loss: 0.8864 - val_accuracy: 0.4667\n",
      "Epoch 35/100\n",
      "7/7 [==============================] - 0s 11ms/step - loss: 0.8622 - accuracy: 0.5506 - val_loss: 0.8798 - val_accuracy: 0.4889\n",
      "Epoch 36/100\n",
      "7/7 [==============================] - 0s 8ms/step - loss: 0.8717 - accuracy: 0.5177 - val_loss: 0.8734 - val_accuracy: 0.4889\n",
      "Epoch 37/100\n",
      "7/7 [==============================] - 0s 9ms/step - loss: 0.8658 - accuracy: 0.6087 - val_loss: 0.8671 - val_accuracy: 0.5333\n",
      "Epoch 38/100\n",
      "7/7 [==============================] - 0s 8ms/step - loss: 0.8984 - accuracy: 0.5675 - val_loss: 0.8608 - val_accuracy: 0.5333\n",
      "Epoch 39/100\n",
      "7/7 [==============================] - 0s 7ms/step - loss: 0.8666 - accuracy: 0.5238 - val_loss: 0.8546 - val_accuracy: 0.5333\n",
      "Epoch 40/100\n",
      "7/7 [==============================] - 0s 8ms/step - loss: 0.8567 - accuracy: 0.6302 - val_loss: 0.8485 - val_accuracy: 0.5556\n",
      "Epoch 41/100\n",
      "7/7 [==============================] - 0s 8ms/step - loss: 0.8552 - accuracy: 0.6063 - val_loss: 0.8424 - val_accuracy: 0.6000\n",
      "Epoch 42/100\n",
      "7/7 [==============================] - 0s 8ms/step - loss: 0.8354 - accuracy: 0.6115 - val_loss: 0.8364 - val_accuracy: 0.6000\n",
      "Epoch 43/100\n",
      "7/7 [==============================] - 0s 8ms/step - loss: 0.8203 - accuracy: 0.6364 - val_loss: 0.8304 - val_accuracy: 0.6222\n",
      "Epoch 44/100\n",
      "7/7 [==============================] - 0s 9ms/step - loss: 0.8271 - accuracy: 0.6282 - val_loss: 0.8245 - val_accuracy: 0.6222\n",
      "Epoch 45/100\n",
      "7/7 [==============================] - 0s 9ms/step - loss: 0.8170 - accuracy: 0.6368 - val_loss: 0.8187 - val_accuracy: 0.6222\n",
      "Epoch 46/100\n",
      "7/7 [==============================] - 0s 9ms/step - loss: 0.8069 - accuracy: 0.6683 - val_loss: 0.8129 - val_accuracy: 0.6222\n",
      "Epoch 47/100\n",
      "7/7 [==============================] - 0s 9ms/step - loss: 0.8343 - accuracy: 0.6160 - val_loss: 0.8072 - val_accuracy: 0.6889\n",
      "Epoch 48/100\n",
      "7/7 [==============================] - 0s 8ms/step - loss: 0.7998 - accuracy: 0.6753 - val_loss: 0.8015 - val_accuracy: 0.7111\n",
      "Epoch 49/100\n",
      "7/7 [==============================] - 0s 8ms/step - loss: 0.7950 - accuracy: 0.6618 - val_loss: 0.7959 - val_accuracy: 0.7111\n",
      "Epoch 50/100\n",
      "7/7 [==============================] - 0s 8ms/step - loss: 0.8123 - accuracy: 0.6911 - val_loss: 0.7904 - val_accuracy: 0.7111\n",
      "Epoch 51/100\n",
      "7/7 [==============================] - 0s 9ms/step - loss: 0.8019 - accuracy: 0.6598 - val_loss: 0.7848 - val_accuracy: 0.7111\n",
      "Epoch 52/100\n",
      "7/7 [==============================] - 0s 9ms/step - loss: 0.7704 - accuracy: 0.6509 - val_loss: 0.7793 - val_accuracy: 0.7111\n",
      "Epoch 53/100\n",
      "7/7 [==============================] - 0s 9ms/step - loss: 0.7892 - accuracy: 0.6865 - val_loss: 0.7740 - val_accuracy: 0.7333\n",
      "Epoch 54/100\n",
      "7/7 [==============================] - 0s 8ms/step - loss: 0.7878 - accuracy: 0.7188 - val_loss: 0.7686 - val_accuracy: 0.7333\n",
      "Epoch 55/100\n",
      "7/7 [==============================] - 0s 10ms/step - loss: 0.7750 - accuracy: 0.7071 - val_loss: 0.7633 - val_accuracy: 0.7556\n",
      "Epoch 56/100\n",
      "7/7 [==============================] - 0s 8ms/step - loss: 0.7704 - accuracy: 0.7592 - val_loss: 0.7581 - val_accuracy: 0.8000\n",
      "Epoch 57/100\n",
      "7/7 [==============================] - 0s 9ms/step - loss: 0.7573 - accuracy: 0.8083 - val_loss: 0.7529 - val_accuracy: 0.8222\n",
      "Epoch 58/100\n",
      "7/7 [==============================] - 0s 8ms/step - loss: 0.7635 - accuracy: 0.8074 - val_loss: 0.7478 - val_accuracy: 0.8000\n",
      "Epoch 59/100\n",
      "7/7 [==============================] - 0s 9ms/step - loss: 0.7318 - accuracy: 0.8218 - val_loss: 0.7428 - val_accuracy: 0.8000\n",
      "Epoch 60/100\n",
      "7/7 [==============================] - 0s 8ms/step - loss: 0.7574 - accuracy: 0.8122 - val_loss: 0.7378 - val_accuracy: 0.7556\n",
      "Epoch 61/100\n",
      "7/7 [==============================] - 0s 8ms/step - loss: 0.7263 - accuracy: 0.8391 - val_loss: 0.7329 - val_accuracy: 0.7556\n",
      "Epoch 62/100\n",
      "7/7 [==============================] - 0s 9ms/step - loss: 0.7288 - accuracy: 0.8180 - val_loss: 0.7281 - val_accuracy: 0.7778\n",
      "Epoch 63/100\n",
      "7/7 [==============================] - 0s 8ms/step - loss: 0.7186 - accuracy: 0.8154 - val_loss: 0.7233 - val_accuracy: 0.7778\n",
      "Epoch 64/100\n",
      "7/7 [==============================] - 0s 8ms/step - loss: 0.7200 - accuracy: 0.8403 - val_loss: 0.7186 - val_accuracy: 0.7778\n",
      "Epoch 65/100\n",
      "7/7 [==============================] - 0s 7ms/step - loss: 0.7031 - accuracy: 0.8289 - val_loss: 0.7139 - val_accuracy: 0.7778\n",
      "Epoch 66/100\n",
      "7/7 [==============================] - 0s 8ms/step - loss: 0.7063 - accuracy: 0.8588 - val_loss: 0.7093 - val_accuracy: 0.7778\n",
      "Epoch 67/100\n",
      "7/7 [==============================] - 0s 8ms/step - loss: 0.6940 - accuracy: 0.8303 - val_loss: 0.7047 - val_accuracy: 0.7778\n",
      "Epoch 68/100\n",
      "7/7 [==============================] - 0s 7ms/step - loss: 0.7088 - accuracy: 0.8032 - val_loss: 0.7002 - val_accuracy: 0.7778\n",
      "Epoch 69/100\n",
      "7/7 [==============================] - 0s 7ms/step - loss: 0.6965 - accuracy: 0.8693 - val_loss: 0.6958 - val_accuracy: 0.7778\n",
      "Epoch 70/100\n",
      "7/7 [==============================] - 0s 8ms/step - loss: 0.6973 - accuracy: 0.8371 - val_loss: 0.6914 - val_accuracy: 0.7778\n",
      "Epoch 71/100\n",
      "7/7 [==============================] - 0s 9ms/step - loss: 0.6946 - accuracy: 0.8809 - val_loss: 0.6871 - val_accuracy: 0.7778\n",
      "Epoch 72/100\n",
      "7/7 [==============================] - 0s 8ms/step - loss: 0.6578 - accuracy: 0.8481 - val_loss: 0.6829 - val_accuracy: 0.7778\n",
      "Epoch 73/100\n",
      "7/7 [==============================] - 0s 9ms/step - loss: 0.7155 - accuracy: 0.8286 - val_loss: 0.6787 - val_accuracy: 0.7778\n",
      "Epoch 74/100\n",
      "7/7 [==============================] - 0s 7ms/step - loss: 0.6722 - accuracy: 0.8472 - val_loss: 0.6745 - val_accuracy: 0.8000\n",
      "Epoch 75/100\n",
      "7/7 [==============================] - 0s 8ms/step - loss: 0.6762 - accuracy: 0.8108 - val_loss: 0.6704 - val_accuracy: 0.8000\n",
      "Epoch 76/100\n",
      "7/7 [==============================] - 0s 7ms/step - loss: 0.7020 - accuracy: 0.7705 - val_loss: 0.6664 - val_accuracy: 0.8000\n",
      "Epoch 77/100\n",
      "7/7 [==============================] - 0s 9ms/step - loss: 0.6765 - accuracy: 0.7967 - val_loss: 0.6624 - val_accuracy: 0.8000\n",
      "Epoch 78/100\n",
      "7/7 [==============================] - 0s 9ms/step - loss: 0.6549 - accuracy: 0.8479 - val_loss: 0.6584 - val_accuracy: 0.8000\n",
      "Epoch 79/100\n",
      "7/7 [==============================] - 0s 8ms/step - loss: 0.6447 - accuracy: 0.8585 - val_loss: 0.6545 - val_accuracy: 0.8000\n",
      "Epoch 80/100\n",
      "7/7 [==============================] - 0s 8ms/step - loss: 0.6585 - accuracy: 0.8357 - val_loss: 0.6506 - val_accuracy: 0.8000\n",
      "Epoch 81/100\n",
      "7/7 [==============================] - 0s 8ms/step - loss: 0.6604 - accuracy: 0.8120 - val_loss: 0.6469 - val_accuracy: 0.8000\n",
      "Epoch 82/100\n",
      "7/7 [==============================] - 0s 8ms/step - loss: 0.6177 - accuracy: 0.8396 - val_loss: 0.6431 - val_accuracy: 0.8000\n",
      "Epoch 83/100\n",
      "7/7 [==============================] - 0s 8ms/step - loss: 0.6216 - accuracy: 0.8262 - val_loss: 0.6394 - val_accuracy: 0.8444\n",
      "Epoch 84/100\n",
      "7/7 [==============================] - 0s 8ms/step - loss: 0.6264 - accuracy: 0.8489 - val_loss: 0.6358 - val_accuracy: 0.8444\n",
      "Epoch 85/100\n",
      "7/7 [==============================] - 0s 8ms/step - loss: 0.6154 - accuracy: 0.8509 - val_loss: 0.6322 - val_accuracy: 0.8444\n",
      "Epoch 86/100\n",
      "7/7 [==============================] - 0s 8ms/step - loss: 0.6163 - accuracy: 0.8468 - val_loss: 0.6286 - val_accuracy: 0.8222\n",
      "Epoch 87/100\n",
      "7/7 [==============================] - 0s 8ms/step - loss: 0.6469 - accuracy: 0.8698 - val_loss: 0.6252 - val_accuracy: 0.8444\n",
      "Epoch 88/100\n",
      "7/7 [==============================] - 0s 8ms/step - loss: 0.6076 - accuracy: 0.8453 - val_loss: 0.6217 - val_accuracy: 0.8222\n",
      "Epoch 89/100\n",
      "7/7 [==============================] - 0s 9ms/step - loss: 0.6353 - accuracy: 0.8527 - val_loss: 0.6183 - val_accuracy: 0.8222\n",
      "Epoch 90/100\n",
      "7/7 [==============================] - 0s 8ms/step - loss: 0.6065 - accuracy: 0.9024 - val_loss: 0.6149 - val_accuracy: 0.8222\n",
      "Epoch 91/100\n",
      "7/7 [==============================] - 0s 8ms/step - loss: 0.6049 - accuracy: 0.8688 - val_loss: 0.6116 - val_accuracy: 0.8222\n",
      "Epoch 92/100\n",
      "7/7 [==============================] - 0s 9ms/step - loss: 0.6064 - accuracy: 0.9039 - val_loss: 0.6083 - val_accuracy: 0.8222\n",
      "Epoch 93/100\n",
      "7/7 [==============================] - 0s 9ms/step - loss: 0.6065 - accuracy: 0.8805 - val_loss: 0.6050 - val_accuracy: 0.8222\n",
      "Epoch 94/100\n",
      "7/7 [==============================] - 0s 9ms/step - loss: 0.6043 - accuracy: 0.8959 - val_loss: 0.6018 - val_accuracy: 0.8000\n",
      "Epoch 95/100\n",
      "7/7 [==============================] - 0s 9ms/step - loss: 0.6080 - accuracy: 0.8527 - val_loss: 0.5987 - val_accuracy: 0.8222\n",
      "Epoch 96/100\n",
      "7/7 [==============================] - 0s 8ms/step - loss: 0.5939 - accuracy: 0.8955 - val_loss: 0.5956 - val_accuracy: 0.8222\n",
      "Epoch 97/100\n",
      "7/7 [==============================] - 0s 7ms/step - loss: 0.5857 - accuracy: 0.9248 - val_loss: 0.5925 - val_accuracy: 0.8222\n",
      "Epoch 98/100\n",
      "7/7 [==============================] - 0s 7ms/step - loss: 0.6040 - accuracy: 0.8973 - val_loss: 0.5895 - val_accuracy: 0.8000\n",
      "Epoch 99/100\n",
      "7/7 [==============================] - 0s 7ms/step - loss: 0.5937 - accuracy: 0.9131 - val_loss: 0.5865 - val_accuracy: 0.8222\n",
      "Epoch 100/100\n",
      "7/7 [==============================] - 0s 8ms/step - loss: 0.5722 - accuracy: 0.8985 - val_loss: 0.5836 - val_accuracy: 0.8222\n"
     ]
    }
   ],
   "source": [
    "history = model.fit(X_train_std, y_train, epochs=100, batch_size=16, validation_data=(X_test_std, y_test))\n"
   ]
  },
  {
   "cell_type": "markdown",
   "metadata": {
    "id": "kYsIyVUhFoGo"
   },
   "source": [
    "## Post Training - what are the Weights and Biases "
   ]
  },
  {
   "cell_type": "code",
   "execution_count": null,
   "metadata": {
    "id": "e9JdCT7dDeie"
   },
   "outputs": [],
   "source": [
    "weights = model.get_weights()"
   ]
  },
  {
   "cell_type": "code",
   "execution_count": null,
   "metadata": {
    "colab": {
     "base_uri": "https://localhost:8080/"
    },
    "id": "gRBV6xv4E_vD",
    "outputId": "c223850c-1bfc-4c67-aaac-1362ff7c6c35"
   },
   "outputs": [
    {
     "data": {
      "text/plain": [
       "[array([[ 0.8907569 ,  0.6804873 , -0.92787546, -0.59566283,  0.2015403 ],\n",
       "        [-0.8176436 , -0.9803912 , -0.31762826,  0.4976894 , -0.2282102 ],\n",
       "        [ 0.8370076 ,  0.6621063 ,  0.10171106, -1.0895853 ,  0.00399345],\n",
       "        [ 0.4044934 ,  0.9280592 , -1.2805545 , -0.68328273, -1.1294547 ]],\n",
       "       dtype=float32),\n",
       " array([ 0.45605052,  0.23582453,  0.09576963, -0.46274096, -0.16993774],\n",
       "       dtype=float32),\n",
       " array([[-0.597129  ,  0.6966227 ,  0.41697666],\n",
       "        [-0.49408513,  0.19468711,  0.82357085],\n",
       "        [ 0.5845118 ,  0.1806436 , -1.1029388 ],\n",
       "        [ 0.72331476, -0.6420046 , -0.09175806],\n",
       "        [ 0.6776898 ,  0.0429329 ,  0.2010725 ]], dtype=float32),\n",
       " array([-0.16537786,  0.09597085,  0.06211122], dtype=float32)]"
      ]
     },
     "execution_count": 268,
     "metadata": {
      "tags": []
     },
     "output_type": "execute_result"
    }
   ],
   "source": [
    "weights\n",
    "#weights[0]"
   ]
  },
  {
   "cell_type": "markdown",
   "metadata": {
    "id": "MIELoWYWCzg3"
   },
   "source": [
    "## Plot Loss/Accuracy Curve for Training and Validation Data "
   ]
  },
  {
   "cell_type": "code",
   "execution_count": null,
   "metadata": {
    "id": "B3Am7kpC-DLC"
   },
   "outputs": [],
   "source": [
    "from keras.utils import plot_model\n",
    "import matplotlib.pyplot as plt"
   ]
  },
  {
   "cell_type": "code",
   "execution_count": null,
   "metadata": {
    "id": "y9AcirKv8u0z"
   },
   "outputs": [],
   "source": [
    "# Plot Loss/Accuracy Profile of the model on Training Data\n",
    "plt.figure(figsize=(12,10))\n",
    "plt.subplot(211)\n",
    "plt.title('Loss-Accuracy on Training Data')\n",
    "plt.plot(history.history['loss'], label='loss')\n",
    "plt.plot(history.history['accuracy'], label='accuracy')\n",
    "plt.legend()\n"
   ]
  },
  {
   "cell_type": "code",
   "execution_count": null,
   "metadata": {
    "id": "loiovMJCBJku"
   },
   "outputs": [],
   "source": [
    "# Plot Loss/Accuracy Profile of the model on Test/Validation Data\n",
    "plt.figure(figsize=(12,10))\n",
    "plt.subplot(211)\n",
    "plt.title('Loss-Accuracy on Validation Data')\n",
    "plt.plot(history.history['val_loss'], label='loss')\n",
    "plt.plot(history.history['val_accuracy'], label='accuracy')\n",
    "plt.legend()"
   ]
  },
  {
   "cell_type": "markdown",
   "metadata": {
    "id": "-2-LkVmTGZ37"
   },
   "source": [
    "## Test/Make Predictions"
   ]
  },
  {
   "cell_type": "code",
   "execution_count": null,
   "metadata": {
    "colab": {
     "base_uri": "https://localhost:8080/"
    },
    "id": "hWswvIa36RNu",
    "outputId": "6806c3a7-334d-4b62-ff77-6b3118f64ec7"
   },
   "outputs": [
    {
     "name": "stdout",
     "output_type": "stream",
     "text": [
      "[[0.10444476 0.4506376  0.44491765]\n",
      " [0.05128975 0.39957765 0.5491326 ]\n",
      " [0.12403409 0.43312126 0.44284457]\n",
      " [0.7842083  0.13945295 0.07633871]\n",
      " [0.07984033 0.4439517  0.476208  ]\n",
      " [0.08225825 0.4440577  0.4736841 ]\n",
      " [0.05135659 0.40106302 0.54758036]\n",
      " [0.08714858 0.4717462  0.44110516]\n",
      " [0.77925104 0.13975072 0.08099826]\n",
      " [0.1756301  0.41349894 0.41087106]\n",
      " [0.7901985  0.13318317 0.07661832]\n",
      " [0.7899027  0.13517743 0.07491983]\n",
      " [0.16427132 0.44073194 0.39499682]\n",
      " [0.78693676 0.1378901  0.07517318]\n",
      " [0.0994125  0.45838192 0.4422056 ]\n",
      " [0.05725544 0.4084706  0.534274  ]\n",
      " [0.7580764  0.14557895 0.09634456]\n",
      " [0.77791417 0.13999674 0.08208904]\n",
      " [0.7848559  0.13934717 0.07579689]\n",
      " [0.06588207 0.41129306 0.5228249 ]\n",
      " [0.10508599 0.47402537 0.42088866]\n",
      " [0.26694828 0.44301257 0.29003906]\n",
      " [0.08022157 0.4239502  0.49582827]\n",
      " [0.13408141 0.44619966 0.4197189 ]\n",
      " [0.05485528 0.40135205 0.54379267]\n",
      " [0.09931158 0.42533362 0.47535473]\n",
      " [0.1092451  0.49356046 0.39719442]\n",
      " [0.7826273  0.13757826 0.07979441]\n",
      " [0.06137359 0.41845688 0.5201695 ]\n",
      " [0.08159946 0.43262514 0.4857754 ]\n",
      " [0.80280197 0.1284358  0.06876221]\n",
      " [0.2549207  0.4815513  0.26352802]\n",
      " [0.23256487 0.46399754 0.3034376 ]\n",
      " [0.18840775 0.47449166 0.33710065]\n",
      " [0.785564   0.13593395 0.0785021 ]\n",
      " [0.06763629 0.40957227 0.52279145]\n",
      " [0.22402398 0.4795344  0.29644173]\n",
      " [0.2207396  0.47587454 0.30338588]\n",
      " [0.7810397  0.13651396 0.08244631]\n",
      " [0.06933074 0.41604272 0.5146266 ]\n",
      " [0.79076207 0.13484932 0.07438863]\n",
      " [0.7450804  0.16020712 0.09471239]\n",
      " [0.16803478 0.50498354 0.32698172]\n",
      " [0.7478268  0.15573956 0.0964336 ]\n",
      " [0.11333031 0.42416233 0.46250737]]\n"
     ]
    }
   ],
   "source": [
    "# Actual predictions from the ANN are number between 0 and 1 (output of the Sigmoid activation)\n",
    "pred = model.predict(X_test_std)\n",
    "print(pred)"
   ]
  },
  {
   "cell_type": "markdown",
   "metadata": {
    "id": "NVdofzJ7QLxF"
   },
   "source": [
    "## Classification Metrics"
   ]
  },
  {
   "cell_type": "code",
   "execution_count": null,
   "metadata": {
    "id": "kro2t5Me-LYs"
   },
   "outputs": [],
   "source": [
    "from sklearn.metrics import accuracy_score, classification_report, confusion_matrix"
   ]
  },
  {
   "cell_type": "markdown",
   "metadata": {
    "id": "eoq_Fj2cQOia"
   },
   "source": [
    "### Accuracy"
   ]
  },
  {
   "cell_type": "code",
   "execution_count": null,
   "metadata": {
    "id": "M-GLThInK7st"
   },
   "outputs": [],
   "source": [
    "pred_labels = np.argmax(model.predict(X_test_std), axis=1)"
   ]
  },
  {
   "cell_type": "code",
   "execution_count": null,
   "metadata": {
    "id": "jEZej-cjK0cn"
   },
   "outputs": [],
   "source": [
    "true_labels = np.argmax(y_test, axis=1)"
   ]
  },
  {
   "cell_type": "code",
   "execution_count": null,
   "metadata": {
    "colab": {
     "base_uri": "https://localhost:8080/"
    },
    "id": "CyzRQ4n5Mee6",
    "outputId": "79ca1817-f5a0-49a8-a3d3-37ce01ee0374"
   },
   "outputs": [
    {
     "name": "stdout",
     "output_type": "stream",
     "text": [
      " Accuracy =  82.22 %\n"
     ]
    }
   ],
   "source": [
    "acc = accuracy_score(true_labels, pred_labels) \n",
    "print(\" Accuracy = \", round(acc *100, 2) , '%')"
   ]
  },
  {
   "cell_type": "markdown",
   "metadata": {
    "id": "_ZbUvid6QQOB"
   },
   "source": [
    "### Classification Report"
   ]
  },
  {
   "cell_type": "code",
   "execution_count": null,
   "metadata": {
    "colab": {
     "base_uri": "https://localhost:8080/"
    },
    "id": "R9Z3J2FXM86g",
    "outputId": "0da0344b-6c99-497d-d697-56d083841fe8"
   },
   "outputs": [
    {
     "name": "stdout",
     "output_type": "stream",
     "text": [
      "              precision    recall  f1-score   support\n",
      "\n",
      "           0       1.00      1.00      1.00        15\n",
      "           1       0.73      0.73      0.73        15\n",
      "           2       0.73      0.73      0.73        15\n",
      "\n",
      "    accuracy                           0.82        45\n",
      "   macro avg       0.82      0.82      0.82        45\n",
      "weighted avg       0.82      0.82      0.82        45\n",
      "\n"
     ]
    }
   ],
   "source": [
    "print(classification_report (true_labels, pred_labels))"
   ]
  },
  {
   "cell_type": "markdown",
   "metadata": {
    "id": "GNy_S_T5QTHl"
   },
   "source": [
    "### Confusion Matrix"
   ]
  },
  {
   "cell_type": "code",
   "execution_count": null,
   "metadata": {
    "colab": {
     "base_uri": "https://localhost:8080/"
    },
    "id": "mR0Uw7n_POQD",
    "outputId": "74f16e14-3e38-4422-fd7e-bbc4a72e5e43"
   },
   "outputs": [
    {
     "name": "stdout",
     "output_type": "stream",
     "text": [
      "[[15  0  0]\n",
      " [ 0 11  4]\n",
      " [ 0  4 11]]\n"
     ]
    }
   ],
   "source": [
    "print(confusion_matrix (true_labels, pred_labels))"
   ]
  },
  {
   "cell_type": "markdown",
   "metadata": {
    "id": "8DEuNM6snW4k"
   },
   "source": [
    "## Evaluate the Model on the Test Set"
   ]
  },
  {
   "cell_type": "code",
   "execution_count": null,
   "metadata": {
    "colab": {
     "base_uri": "https://localhost:8080/"
    },
    "id": "A--W7vHznO7w",
    "outputId": "3c40718f-23b1-48be-da3b-d3929bbec9b0"
   },
   "outputs": [
    {
     "name": "stdout",
     "output_type": "stream",
     "text": [
      "2/2 [==============================] - 0s 4ms/step - loss: 0.5836 - accuracy: 0.8222\n",
      "Final test set loss: 0.583565\n",
      "Final test set accuracy: 0.822222\n"
     ]
    }
   ],
   "source": [
    "results = model.evaluate(X_test_std, y_test)\n",
    "\n",
    "print('Final test set loss: {:4f}'.format(results[0]))\n",
    "print('Final test set accuracy: {:4f}'.format(results[1]))"
   ]
  },
  {
   "cell_type": "markdown",
   "metadata": {
    "id": "WNZhH1VXMuPn"
   },
   "source": [
    "## Verify the Output with an individual Sample"
   ]
  },
  {
   "cell_type": "code",
   "execution_count": null,
   "metadata": {
    "colab": {
     "base_uri": "https://localhost:8080/"
    },
    "id": "zCOw3D9tQ9Au",
    "outputId": "f8a85ebc-6cd4-465f-e51c-7cc3559b6323"
   },
   "outputs": [
    {
     "name": "stdout",
     "output_type": "stream",
     "text": [
      "\n",
      " Input sample Original :  [[5.  3.6 1.4 0.2]]\n",
      "\n",
      " Input sample Standardize :  [[-1.02313848  1.17927725 -1.34552683 -1.32177792]]\n",
      "\n",
      " Predicted value :  [[0.79019856 0.13318318 0.07661831]]\n",
      "\n",
      " Predicted label by the model :  0\n",
      "\n",
      " True/Actual Label :  [1. 0. 0.]\n"
     ]
    }
   ],
   "source": [
    "# Actual predictions from the ANN are numbers between 0 and 1 (output of the Sigmoid activations)\n",
    "\n",
    "idx = 10 # Index of a data sample present in the Test set\n",
    "\n",
    "indvidual_test_sample = X_test_std[idx,:].reshape(1, num_sel_feat)\n",
    "\n",
    "print('\\n Input sample Original : ' , X_test[idx,:].reshape(1, num_sel_feat) )\n",
    "print('\\n Input sample Standardize : ' , indvidual_test_sample )\n",
    "\n",
    "pred = model.predict(indvidual_test_sample)\n",
    "print('\\n Predicted value : ', pred)\n",
    "\n",
    "print('\\n Predicted label by the model : ', np.argmax(pred))\n",
    "\n",
    "print('\\n True/Actual Label : ', y_test[idx])"
   ]
  }
 ],
 "metadata": {
  "colab": {
   "collapsed_sections": [],
   "name": "IRIS_MLP_Multiclass_Classifier__DL_Masterclass.ipynb",
   "provenance": [],
   "toc_visible": true
  },
  "kernelspec": {
   "display_name": "Python 3 (ipykernel)",
   "language": "python",
   "name": "python3"
  },
  "language_info": {
   "codemirror_mode": {
    "name": "ipython",
    "version": 3
   },
   "file_extension": ".py",
   "mimetype": "text/x-python",
   "name": "python",
   "nbconvert_exporter": "python",
   "pygments_lexer": "ipython3",
   "version": "3.10.6"
  }
 },
 "nbformat": 4,
 "nbformat_minor": 1
}
