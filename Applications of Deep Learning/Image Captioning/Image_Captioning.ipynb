{
 "cells": [
  {
   "cell_type": "markdown",
   "metadata": {
    "id": "eFMond9MeCtP"
   },
   "source": [
    "# Image Caption Generation with Google's Conceptual Caption Dataset\n",
    "\n",
    "Conceptual Captions is a dataset containing (image-URL, caption) pairs designed for the training and evaluation of machine learned image captioning systems.\n",
    "\n",
    "https://github.com/google-research-datasets/conceptual-captions\n",
    "\n",
    "\n",
    "Automatic image captioning is the task of producing a natural-language utterance (usually a sentence) that correctly reflects the visual content of an image. Up to this point, the resource most used for this task was the MS-COCO dataset, containing around 120,000 images and 5-way image-caption annotations (produced by paid annotators).\n",
    "\n",
    "Google's Conceptual Captions dataset has more than 3 million images, paired with natural-language captions. In contrast with the curated style of the MS-COCO images, Conceptual Captions images and their raw descriptions are harvested from the web, and therefore represent a wider variety of styles. \n",
    "\n",
    "The raw descriptions are harvested from the Alt-text HTML attribute associated with web images. We developed an automatic pipeline that extracts,filters, and transforms candidate image/caption pairs, with the goal of achieving a balance of cleanliness, informativeness, fluency, and learnability of the resulting captions.\n",
    "\n",
    "\n",
    "This is a subset of much larger data containing links to around 3.3M images and their captions. We have downloaded 1800+ of these images for the session [from the validation set]. You can try working with larger set and see if that gives better results \n"
   ]
  },
  {
   "cell_type": "code",
   "execution_count": null,
   "metadata": {
    "id": "L7q9Bv5aCllM"
   },
   "outputs": [],
   "source": [
    "%tensorflow_version 2.x"
   ]
  },
  {
   "cell_type": "markdown",
   "metadata": {
    "id": "TIDTla1hKR7H"
   },
   "source": [
    "## Download the Training Images"
   ]
  },
  {
   "cell_type": "code",
   "execution_count": null,
   "metadata": {
    "colab": {
     "base_uri": "https://localhost:8080/",
     "height": 478
    },
    "executionInfo": {
     "elapsed": 15108,
     "status": "ok",
     "timestamp": 1581824752246,
     "user": {
      "displayName": "Soharab Hossain Shaikh",
      "photoUrl": "https://lh3.googleusercontent.com/a-/AAuE7mDS33q6Y525JCEhkrshcALqx-UKGSBVEr-iDtTF=s64",
      "userId": "09822763254488834038"
     },
     "user_tz": -330
    },
    "id": "Lpj8UgV2YLXt",
    "outputId": "cc76dcea-41f9-4795-fe8a-eb30946e2b84"
   },
   "outputs": [
    {
     "name": "stdout",
     "output_type": "stream",
     "text": [
      "--2020-02-16 03:45:40--  https://www.dropbox.com/s/2z3x3j0whlmnq98/images.zip\n",
      "Resolving www.dropbox.com (www.dropbox.com)... 162.125.3.1, 2620:100:601b:1::a27d:801\n",
      "Connecting to www.dropbox.com (www.dropbox.com)|162.125.3.1|:443... connected.\n",
      "HTTP request sent, awaiting response... 301 Moved Permanently\n",
      "Location: /s/raw/2z3x3j0whlmnq98/images.zip [following]\n",
      "--2020-02-16 03:45:40--  https://www.dropbox.com/s/raw/2z3x3j0whlmnq98/images.zip\n",
      "Reusing existing connection to www.dropbox.com:443.\n",
      "HTTP request sent, awaiting response... 302 Found\n",
      "Location: https://uc1d83daf03e1766a68d081c8a05.dl.dropboxusercontent.com/cd/0/inline/AyMMHabXcvXKrhVioht9Eg8s0BJbboDP8etL5tUHl9wnWFHO6A3pOJ4gl8KHTHx8d3_d8S5am2V1zr-2GTTpN0orAjw9yQ3VRS36ux2pMQR_X-OVvojsjZ03L0ydDB1B4h0/file# [following]\n",
      "--2020-02-16 03:45:40--  https://uc1d83daf03e1766a68d081c8a05.dl.dropboxusercontent.com/cd/0/inline/AyMMHabXcvXKrhVioht9Eg8s0BJbboDP8etL5tUHl9wnWFHO6A3pOJ4gl8KHTHx8d3_d8S5am2V1zr-2GTTpN0orAjw9yQ3VRS36ux2pMQR_X-OVvojsjZ03L0ydDB1B4h0/file\n",
      "Resolving uc1d83daf03e1766a68d081c8a05.dl.dropboxusercontent.com (uc1d83daf03e1766a68d081c8a05.dl.dropboxusercontent.com)... 162.125.8.6, 2620:100:601b:6::a27d:806\n",
      "Connecting to uc1d83daf03e1766a68d081c8a05.dl.dropboxusercontent.com (uc1d83daf03e1766a68d081c8a05.dl.dropboxusercontent.com)|162.125.8.6|:443... connected.\n",
      "HTTP request sent, awaiting response... 302 FOUND\n",
      "Location: /cd/0/inline2/AyMalzMcUyYSZu2A_I_mUNm9ZW6eNWaKyBfFuXJzOpZ0XGIRMynB1vZEBpiAeDrKVOQCXexboT_9g-k9TLR1x33tXAc2BYZ8SGJJ8rLWoB04rG0EwEuHwGHSJPLgtsMPuB_eUby0aSKp5kAsNGwt8cn47UH4W_K7kfKfdotQbGXEiuJ28HmVZYLPle3dbyy1KK9_84qibnTKRiDNnbxQZqyd_JxiCf1gFyPUs-us0M3IL-94kQR6e_NikIvnknKCShw-SnZvzxh4CdqhUQm89w4VDLp-a8ybFwLEAFSUxuE0mErmH8mUtmanlF7n_ViDWWfqby9GINyu41VDJOkfEZyo_F1f8sm02K76wUhPWiP2Lg/file [following]\n",
      "--2020-02-16 03:45:41--  https://uc1d83daf03e1766a68d081c8a05.dl.dropboxusercontent.com/cd/0/inline2/AyMalzMcUyYSZu2A_I_mUNm9ZW6eNWaKyBfFuXJzOpZ0XGIRMynB1vZEBpiAeDrKVOQCXexboT_9g-k9TLR1x33tXAc2BYZ8SGJJ8rLWoB04rG0EwEuHwGHSJPLgtsMPuB_eUby0aSKp5kAsNGwt8cn47UH4W_K7kfKfdotQbGXEiuJ28HmVZYLPle3dbyy1KK9_84qibnTKRiDNnbxQZqyd_JxiCf1gFyPUs-us0M3IL-94kQR6e_NikIvnknKCShw-SnZvzxh4CdqhUQm89w4VDLp-a8ybFwLEAFSUxuE0mErmH8mUtmanlF7n_ViDWWfqby9GINyu41VDJOkfEZyo_F1f8sm02K76wUhPWiP2Lg/file\n",
      "Reusing existing connection to uc1d83daf03e1766a68d081c8a05.dl.dropboxusercontent.com:443.\n",
      "HTTP request sent, awaiting response... 200 OK\n",
      "Length: 280872837 (268M) [application/zip]\n",
      "Saving to: ‘images.zip’\n",
      "\n",
      "images.zip          100%[===================>] 267.86M  42.5MB/s    in 6.4s    \n",
      "\n",
      "2020-02-16 03:45:48 (41.8 MB/s) - ‘images.zip’ saved [280872837/280872837]\n",
      "\n"
     ]
    }
   ],
   "source": [
    "!wget https://www.dropbox.com/s/2z3x3j0whlmnq98/images.zip"
   ]
  },
  {
   "cell_type": "markdown",
   "metadata": {
    "id": "2NhOWERSKLN9"
   },
   "source": [
    "## Download the CSV containing Image to Caption Mapping"
   ]
  },
  {
   "cell_type": "code",
   "execution_count": null,
   "metadata": {
    "colab": {
     "base_uri": "https://localhost:8080/",
     "height": 404
    },
    "executionInfo": {
     "elapsed": 18132,
     "status": "ok",
     "timestamp": 1581824755417,
     "user": {
      "displayName": "Soharab Hossain Shaikh",
      "photoUrl": "https://lh3.googleusercontent.com/a-/AAuE7mDS33q6Y525JCEhkrshcALqx-UKGSBVEr-iDtTF=s64",
      "userId": "09822763254488834038"
     },
     "user_tz": -330
    },
    "id": "G3IZ-zCFghni",
    "outputId": "4fdd92bb-bbce-4498-eeac-98b51b047edc"
   },
   "outputs": [
    {
     "name": "stdout",
     "output_type": "stream",
     "text": [
      "--2020-02-16 03:45:50--  https://www.dropbox.com/s/zpmuhxhaizkuw53/image_caption_map.csv\n",
      "Resolving www.dropbox.com (www.dropbox.com)... 162.125.3.1, 2620:100:601b:1::a27d:801\n",
      "Connecting to www.dropbox.com (www.dropbox.com)|162.125.3.1|:443... connected.\n",
      "HTTP request sent, awaiting response... 301 Moved Permanently\n",
      "Location: /s/raw/zpmuhxhaizkuw53/image_caption_map.csv [following]\n",
      "--2020-02-16 03:45:50--  https://www.dropbox.com/s/raw/zpmuhxhaizkuw53/image_caption_map.csv\n",
      "Reusing existing connection to www.dropbox.com:443.\n",
      "HTTP request sent, awaiting response... 302 Found\n",
      "Location: https://uccd718c82c74405658007ac64b3.dl.dropboxusercontent.com/cd/0/inline/AyMsgnQw2sppM3CA0DXLfOiCWQLUDsU016dLrABA999j73I-HV0OpyBgK-Doy4D9ggyz2Jjkakozea2ATh5cqhgwT7tVG4VJIaixw7KB2w4yxWMqNJSNwVXfOUcRYiDopeQ/file# [following]\n",
      "--2020-02-16 03:45:51--  https://uccd718c82c74405658007ac64b3.dl.dropboxusercontent.com/cd/0/inline/AyMsgnQw2sppM3CA0DXLfOiCWQLUDsU016dLrABA999j73I-HV0OpyBgK-Doy4D9ggyz2Jjkakozea2ATh5cqhgwT7tVG4VJIaixw7KB2w4yxWMqNJSNwVXfOUcRYiDopeQ/file\n",
      "Resolving uccd718c82c74405658007ac64b3.dl.dropboxusercontent.com (uccd718c82c74405658007ac64b3.dl.dropboxusercontent.com)... 162.125.8.6, 2620:100:6018:6::a27d:306\n",
      "Connecting to uccd718c82c74405658007ac64b3.dl.dropboxusercontent.com (uccd718c82c74405658007ac64b3.dl.dropboxusercontent.com)|162.125.8.6|:443... connected.\n",
      "HTTP request sent, awaiting response... 200 OK\n",
      "Length: 319596 (312K) [text/plain]\n",
      "Saving to: ‘image_caption_map.csv.1’\n",
      "\n",
      "\r",
      "image_caption_map.c   0%[                    ]       0  --.-KB/s               \r",
      "image_caption_map.c 100%[===================>] 312.11K  --.-KB/s    in 0.07s   \n",
      "\n",
      "2020-02-16 03:45:51 (4.65 MB/s) - ‘image_caption_map.csv.1’ saved [319596/319596]\n",
      "\n"
     ]
    }
   ],
   "source": [
    "!wget https://www.dropbox.com/s/zpmuhxhaizkuw53/image_caption_map.csv"
   ]
  },
  {
   "cell_type": "markdown",
   "metadata": {
    "id": "3OlJPd72KXVK"
   },
   "source": [
    "## Unzip the Zip file containing the Images"
   ]
  },
  {
   "cell_type": "code",
   "execution_count": null,
   "metadata": {
    "colab": {
     "base_uri": "https://localhost:8080/",
     "height": 54
    },
    "executionInfo": {
     "elapsed": 76153,
     "status": "ok",
     "timestamp": 1581829389037,
     "user": {
      "displayName": "Soharab Hossain Shaikh",
      "photoUrl": "https://lh3.googleusercontent.com/a-/AAuE7mDS33q6Y525JCEhkrshcALqx-UKGSBVEr-iDtTF=s64",
      "userId": "09822763254488834038"
     },
     "user_tz": -330
    },
    "id": "qMBMXBi0hKUM",
    "outputId": "e9cf982b-d67f-42fc-abe9-d5d0ca200eca"
   },
   "outputs": [
    {
     "name": "stdout",
     "output_type": "stream",
     "text": [
      "Archive:  images.zip\n",
      "replace content/images/326.jpg? [y]es, [n]o, [A]ll, [N]one, [r]ename: "
     ]
    }
   ],
   "source": [
    "!unzip images.zip "
   ]
  },
  {
   "cell_type": "code",
   "execution_count": null,
   "metadata": {
    "id": "-rTydkXJjqNu"
   },
   "outputs": [],
   "source": [
    "!rm images.zip"
   ]
  },
  {
   "cell_type": "markdown",
   "metadata": {
    "id": "U3lrvHvSKdWr"
   },
   "source": [
    "## Download Pre-trained GloVe Word-Embeddings (300 Dimensional Word Vectors)"
   ]
  },
  {
   "cell_type": "code",
   "execution_count": null,
   "metadata": {
    "id": "E0155PqkhaXb"
   },
   "outputs": [],
   "source": [
    "!wget http://nlp.stanford.edu/data/glove.42B.300d.zip"
   ]
  },
  {
   "cell_type": "code",
   "execution_count": null,
   "metadata": {
    "id": "hMj1B_APjs4n"
   },
   "outputs": [],
   "source": [
    "!unzip glove.42B.300d.zip"
   ]
  },
  {
   "cell_type": "code",
   "execution_count": null,
   "metadata": {
    "id": "zRWG8Z4sjwof"
   },
   "outputs": [],
   "source": [
    "!rm glove.42B.300d.zip"
   ]
  },
  {
   "cell_type": "markdown",
   "metadata": {
    "id": "JIYtOKPXKq_e"
   },
   "source": [
    "## Image Features to be Extracted from InceptionV3"
   ]
  },
  {
   "cell_type": "code",
   "execution_count": null,
   "metadata": {
    "id": "GS8dQkl2pSFI"
   },
   "outputs": [],
   "source": [
    "from tensorflow.keras.applications.inception_v3 import InceptionV3\n",
    "import tensorflow.keras.applications.inception_v3 as inception\n",
    "from tensorflow.keras.models import Model\n",
    "from tensorflow.keras import Input\n"
   ]
  },
  {
   "cell_type": "code",
   "execution_count": null,
   "metadata": {
    "id": "BSxmB3JhnTGf"
   },
   "outputs": [],
   "source": [
    "encode_model = InceptionV3(weights='imagenet')\n",
    "encode_model = Model(encode_model.input, encode_model.layers[-2].output)\n",
    "WIDTH = 299\n",
    "HEIGHT = 299\n",
    "OUTPUT_DIM = 2048\n",
    "START = \"startseq\"\n",
    "STOP = \"endseq\"\n",
    "EPOCHS = 10\n",
    "preprocess_input = inception.preprocess_input"
   ]
  },
  {
   "cell_type": "code",
   "execution_count": null,
   "metadata": {
    "id": "KRImDOjbp_Dk"
   },
   "outputs": [],
   "source": [
    "import tensorflow.keras.preprocessing.image as tf_image"
   ]
  },
  {
   "cell_type": "markdown",
   "metadata": {
    "id": "8Ukuua7LpaAb"
   },
   "source": [
    "## Custom Function for finding Image Encodings"
   ]
  },
  {
   "cell_type": "code",
   "execution_count": null,
   "metadata": {
    "id": "f9GQcIhTpjuB"
   },
   "outputs": [],
   "source": [
    "def encodeImage(img):\n",
    "  img = img.resize((WIDTH, HEIGHT))\n",
    "  \n",
    "  x = tf_image.img_to_array(img)\n",
    "  \n",
    "  x = np.expand_dims(x, axis=0)\n",
    "  \n",
    "  x = preprocess_input(x)\n",
    "  \n",
    "  x = encode_model.predict(x) # Get the encoding vector for the image\n",
    "  x = np.reshape(x, OUTPUT_DIM )\n",
    "  \n",
    "  return x"
   ]
  },
  {
   "cell_type": "markdown",
   "metadata": {
    "id": "WORL9wiP43Qq"
   },
   "source": [
    "## Read the Image Name and the corresponding Caption Description"
   ]
  },
  {
   "cell_type": "code",
   "execution_count": null,
   "metadata": {
    "id": "pC94ZGDGq0vs"
   },
   "outputs": [],
   "source": [
    "import pandas as pd\n",
    "data=pd.read_csv('image_caption_map.csv')"
   ]
  },
  {
   "cell_type": "code",
   "execution_count": null,
   "metadata": {
    "colab": {
     "base_uri": "https://localhost:8080/",
     "height": 206
    },
    "executionInfo": {
     "elapsed": 10116,
     "status": "ok",
     "timestamp": 1581829435397,
     "user": {
      "displayName": "Soharab Hossain Shaikh",
      "photoUrl": "https://lh3.googleusercontent.com/a-/AAuE7mDS33q6Y525JCEhkrshcALqx-UKGSBVEr-iDtTF=s64",
      "userId": "09822763254488834038"
     },
     "user_tz": -330
    },
    "id": "82NYAgndq5-h",
    "outputId": "3d2de3f4-1460-4392-86a7-b3aa2414ae1d"
   },
   "outputs": [
    {
     "data": {
      "text/html": [
       "<div>\n",
       "<style scoped>\n",
       "    .dataframe tbody tr th:only-of-type {\n",
       "        vertical-align: middle;\n",
       "    }\n",
       "\n",
       "    .dataframe tbody tr th {\n",
       "        vertical-align: top;\n",
       "    }\n",
       "\n",
       "    .dataframe thead th {\n",
       "        text-align: right;\n",
       "    }\n",
       "</style>\n",
       "<table border=\"1\" class=\"dataframe\">\n",
       "  <thead>\n",
       "    <tr style=\"text-align: right;\">\n",
       "      <th></th>\n",
       "      <th>caption</th>\n",
       "      <th>url</th>\n",
       "      <th>file_name</th>\n",
       "    </tr>\n",
       "  </thead>\n",
       "  <tbody>\n",
       "    <tr>\n",
       "      <th>0</th>\n",
       "      <td>author : a life in photography -- in pictures</td>\n",
       "      <td>https://i.pinimg.com/736x/66/01/6c/66016c3ba27...</td>\n",
       "      <td>1.jpg</td>\n",
       "    </tr>\n",
       "    <tr>\n",
       "      <th>1</th>\n",
       "      <td>photograph of the sign being repaired by brave...</td>\n",
       "      <td>http://indianapolis-photos.funcityfinder.com/f...</td>\n",
       "      <td>3.jpg</td>\n",
       "    </tr>\n",
       "    <tr>\n",
       "      <th>2</th>\n",
       "      <td>the player staring intently at a computer scre...</td>\n",
       "      <td>http://www.abc.net.au/news/image/9066492-3x2-7...</td>\n",
       "      <td>4.jpg</td>\n",
       "    </tr>\n",
       "    <tr>\n",
       "      <th>3</th>\n",
       "      <td>globes : the green 3d person carrying in hands...</td>\n",
       "      <td>https://www.featurepics.com/StockImage/2009031...</td>\n",
       "      <td>5.jpg</td>\n",
       "    </tr>\n",
       "    <tr>\n",
       "      <th>4</th>\n",
       "      <td>the - bedroom stone cottage can sleep people</td>\n",
       "      <td>http://i.dailymail.co.uk/i/pix/2014/11/05/1415...</td>\n",
       "      <td>6.jpg</td>\n",
       "    </tr>\n",
       "  </tbody>\n",
       "</table>\n",
       "</div>"
      ],
      "text/plain": [
       "                                             caption  ... file_name\n",
       "0      author : a life in photography -- in pictures  ...     1.jpg\n",
       "1  photograph of the sign being repaired by brave...  ...     3.jpg\n",
       "2  the player staring intently at a computer scre...  ...     4.jpg\n",
       "3  globes : the green 3d person carrying in hands...  ...     5.jpg\n",
       "4       the - bedroom stone cottage can sleep people  ...     6.jpg\n",
       "\n",
       "[5 rows x 3 columns]"
      ]
     },
     "execution_count": 70,
     "metadata": {
      "tags": []
     },
     "output_type": "execute_result"
    }
   ],
   "source": [
    "data.head(5)"
   ]
  },
  {
   "cell_type": "code",
   "execution_count": null,
   "metadata": {
    "id": "TIyoPr4YeB84"
   },
   "outputs": [],
   "source": [
    "data['caption'] = data['caption'].apply(lambda x:START+' '+x+' '+STOP)"
   ]
  },
  {
   "cell_type": "code",
   "execution_count": null,
   "metadata": {
    "colab": {
     "base_uri": "https://localhost:8080/",
     "height": 206
    },
    "executionInfo": {
     "elapsed": 10077,
     "status": "ok",
     "timestamp": 1581829435412,
     "user": {
      "displayName": "Soharab Hossain Shaikh",
      "photoUrl": "https://lh3.googleusercontent.com/a-/AAuE7mDS33q6Y525JCEhkrshcALqx-UKGSBVEr-iDtTF=s64",
      "userId": "09822763254488834038"
     },
     "user_tz": -330
    },
    "id": "6jRxJWFh5MH9",
    "outputId": "e809a80d-36e0-4325-d585-0b8d770e9d53"
   },
   "outputs": [
    {
     "data": {
      "text/html": [
       "<div>\n",
       "<style scoped>\n",
       "    .dataframe tbody tr th:only-of-type {\n",
       "        vertical-align: middle;\n",
       "    }\n",
       "\n",
       "    .dataframe tbody tr th {\n",
       "        vertical-align: top;\n",
       "    }\n",
       "\n",
       "    .dataframe thead th {\n",
       "        text-align: right;\n",
       "    }\n",
       "</style>\n",
       "<table border=\"1\" class=\"dataframe\">\n",
       "  <thead>\n",
       "    <tr style=\"text-align: right;\">\n",
       "      <th></th>\n",
       "      <th>caption</th>\n",
       "      <th>url</th>\n",
       "      <th>file_name</th>\n",
       "    </tr>\n",
       "  </thead>\n",
       "  <tbody>\n",
       "    <tr>\n",
       "      <th>0</th>\n",
       "      <td>startseq author : a life in photography -- in ...</td>\n",
       "      <td>https://i.pinimg.com/736x/66/01/6c/66016c3ba27...</td>\n",
       "      <td>1.jpg</td>\n",
       "    </tr>\n",
       "    <tr>\n",
       "      <th>1</th>\n",
       "      <td>startseq photograph of the sign being repaired...</td>\n",
       "      <td>http://indianapolis-photos.funcityfinder.com/f...</td>\n",
       "      <td>3.jpg</td>\n",
       "    </tr>\n",
       "    <tr>\n",
       "      <th>2</th>\n",
       "      <td>startseq the player staring intently at a comp...</td>\n",
       "      <td>http://www.abc.net.au/news/image/9066492-3x2-7...</td>\n",
       "      <td>4.jpg</td>\n",
       "    </tr>\n",
       "    <tr>\n",
       "      <th>3</th>\n",
       "      <td>startseq globes : the green 3d person carrying...</td>\n",
       "      <td>https://www.featurepics.com/StockImage/2009031...</td>\n",
       "      <td>5.jpg</td>\n",
       "    </tr>\n",
       "    <tr>\n",
       "      <th>4</th>\n",
       "      <td>startseq the - bedroom stone cottage can sleep...</td>\n",
       "      <td>http://i.dailymail.co.uk/i/pix/2014/11/05/1415...</td>\n",
       "      <td>6.jpg</td>\n",
       "    </tr>\n",
       "  </tbody>\n",
       "</table>\n",
       "</div>"
      ],
      "text/plain": [
       "                                             caption  ... file_name\n",
       "0  startseq author : a life in photography -- in ...  ...     1.jpg\n",
       "1  startseq photograph of the sign being repaired...  ...     3.jpg\n",
       "2  startseq the player staring intently at a comp...  ...     4.jpg\n",
       "3  startseq globes : the green 3d person carrying...  ...     5.jpg\n",
       "4  startseq the - bedroom stone cottage can sleep...  ...     6.jpg\n",
       "\n",
       "[5 rows x 3 columns]"
      ]
     },
     "execution_count": 72,
     "metadata": {
      "tags": []
     },
     "output_type": "execute_result"
    }
   ],
   "source": [
    "data.head(5)"
   ]
  },
  {
   "cell_type": "code",
   "execution_count": null,
   "metadata": {
    "id": "A8v5t3e4ras6"
   },
   "outputs": [],
   "source": [
    "import numpy as np"
   ]
  },
  {
   "cell_type": "code",
   "execution_count": null,
   "metadata": {
    "id": "BtqCQKoHoRdG"
   },
   "outputs": [],
   "source": [
    "import os \n",
    "check_files=os.listdir('/content/content/images/')"
   ]
  },
  {
   "cell_type": "code",
   "execution_count": null,
   "metadata": {
    "colab": {
     "base_uri": "https://localhost:8080/",
     "height": 35
    },
    "executionInfo": {
     "elapsed": 10001,
     "status": "ok",
     "timestamp": 1581829435434,
     "user": {
      "displayName": "Soharab Hossain Shaikh",
      "photoUrl": "https://lh3.googleusercontent.com/a-/AAuE7mDS33q6Y525JCEhkrshcALqx-UKGSBVEr-iDtTF=s64",
      "userId": "09822763254488834038"
     },
     "user_tz": -330
    },
    "id": "Sw1E3hIKo16W",
    "outputId": "791e63fd-d30e-4745-83eb-37cd25be6f3a"
   },
   "outputs": [
    {
     "data": {
      "text/plain": [
       "(1832, 3)"
      ]
     },
     "execution_count": 75,
     "metadata": {
      "tags": []
     },
     "output_type": "execute_result"
    }
   ],
   "source": [
    "data.shape"
   ]
  },
  {
   "cell_type": "code",
   "execution_count": null,
   "metadata": {
    "colab": {
     "base_uri": "https://localhost:8080/",
     "height": 35
    },
    "executionInfo": {
     "elapsed": 9981,
     "status": "ok",
     "timestamp": 1581829435440,
     "user": {
      "displayName": "Soharab Hossain Shaikh",
      "photoUrl": "https://lh3.googleusercontent.com/a-/AAuE7mDS33q6Y525JCEhkrshcALqx-UKGSBVEr-iDtTF=s64",
      "userId": "09822763254488834038"
     },
     "user_tz": -330
    },
    "id": "wnbv6089oYP2",
    "outputId": "cbde021e-109c-49db-e136-1a62e86c96de"
   },
   "outputs": [
    {
     "data": {
      "text/plain": [
       "1832"
      ]
     },
     "execution_count": 76,
     "metadata": {
      "tags": []
     },
     "output_type": "execute_result"
    }
   ],
   "source": [
    "data['file_name'].isin(check_files).sum()"
   ]
  },
  {
   "cell_type": "code",
   "execution_count": null,
   "metadata": {
    "id": "l5byb3rlqDIN"
   },
   "outputs": [],
   "source": [
    "remove_these=[]\n",
    "encoded_images={}\n",
    "for i in range(data.shape[0]):\n",
    "  image_path='/content/content/images/'+data['file_name'][i]\n",
    "  try:\n",
    "    img = tf_image.load_img(image_path, target_size=(HEIGHT, WIDTH))\n",
    "    encoded_images[int(data['file_name'][i].split('.')[0])] = encodeImage(img)\n",
    "  except:\n",
    "    print(i)\n",
    "    remove_these.append(data['file_name'][i])\n",
    "    \n",
    "# some of the images are not in supported format, we'll exclude those "
   ]
  },
  {
   "cell_type": "code",
   "execution_count": null,
   "metadata": {
    "colab": {
     "base_uri": "https://localhost:8080/",
     "height": 55
    },
    "executionInfo": {
     "elapsed": 1002,
     "status": "ok",
     "timestamp": 1581834231123,
     "user": {
      "displayName": "Soharab Hossain Shaikh",
      "photoUrl": "https://lh3.googleusercontent.com/a-/AAuE7mDS33q6Y525JCEhkrshcALqx-UKGSBVEr-iDtTF=s64",
      "userId": "09822763254488834038"
     },
     "user_tz": -330
    },
    "id": "4f3Q9xVOqke6",
    "outputId": "63e89a19-8af1-4c11-bf70-c3ea750527a2"
   },
   "outputs": [
    {
     "data": {
      "text/plain": [
       "dict_keys([1, 3, 4, 5, 6, 7, 8, 9, 11, 12, 13, 14, 15, 16, 17, 18, 19, 20, 21, 22, 23, 24, 25, 26, 27, 28, 29, 30, 31, 32, 33, 35, 36, 37, 38, 39, 40, 41, 42, 43, 44, 45, 46, 47, 48, 49, 50, 51, 52, 53, 55, 56, 57, 58, 59, 61, 62, 63, 64, 65, 66, 67, 69, 70, 71, 72, 73, 74, 75, 76, 77, 78, 80, 81, 82, 83, 84, 85, 86, 87, 89, 90, 91, 93, 94, 95, 97, 99, 100, 101, 102, 103, 104, 105, 106, 107, 108, 109, 110, 112, 113, 114, 116, 119, 120, 121, 122, 123, 124, 125, 126, 127, 128, 129, 130, 131, 132, 133, 134, 135, 136, 137, 138, 139, 140, 141, 142, 143, 144, 145, 146, 147, 148, 149, 150, 153, 154, 155, 156, 157, 158, 159, 160, 161, 162, 164, 165, 166, 167, 168, 169, 170, 171, 172, 173, 174, 175, 177, 179, 180, 181, 183, 184, 185, 187, 190, 191, 192, 194, 195, 197, 198, 199, 200, 201, 202, 203, 204, 205, 206, 207, 208, 209, 210, 211, 212, 213, 214, 215, 216, 217, 218, 221, 222, 223, 224, 226, 228, 229, 230, 231, 232, 233, 234, 235, 236, 238, 239, 240, 241, 242, 243, 244, 245, 246, 247, 249, 250, 251, 252, 253, 254, 256, 257, 258, 259, 260, 261, 262, 263, 264, 265, 266, 267, 268, 269, 271, 272, 273, 274, 275, 276, 277, 278, 279, 281, 282, 283, 285, 287, 288, 289, 290, 291, 292, 294, 295, 296, 297, 298, 300, 302, 304, 305, 306, 308, 309, 310, 311, 314, 316, 317, 319, 320, 321, 322, 323, 324, 326, 327, 328, 329, 330, 331, 332, 333, 334, 337, 338, 339, 340, 341, 342, 343, 344, 345, 346, 347, 348, 349, 350, 351, 352, 353, 354, 355, 356, 357, 358, 359, 360, 361, 362, 363, 364, 365, 366, 367, 368, 369, 370, 371, 372, 373, 374, 376, 377, 379, 380, 383, 384, 385, 386, 387, 388, 389, 391, 392, 394, 395, 396, 397, 398, 399, 400, 401, 402, 403, 404, 405, 407, 409, 410, 411, 412, 414, 415, 416, 417, 418, 419, 420, 421, 422, 423, 424, 425, 426, 427, 428, 429, 430, 431, 432, 433, 434, 435, 436, 437, 438, 439, 441, 444, 445, 446, 447, 448, 449, 450, 451, 452, 453, 455, 456, 457, 458, 459, 460, 461, 462, 463, 464, 465, 466, 467, 470, 471, 473, 474, 475, 476, 477, 479, 480, 481, 482, 483, 484, 485, 486, 487, 488, 490, 491, 492, 493, 494, 496, 497, 498, 499, 500, 501, 503, 504, 505, 506, 507, 509, 510, 512, 514, 515, 516, 517, 518, 519, 520, 522, 523, 524, 525, 526, 527, 528, 529, 533, 534, 535, 538, 541, 542, 543, 544, 545, 546, 547, 548, 549, 550, 551, 553, 554, 555, 556, 557, 558, 559, 561, 562, 563, 565, 566, 567, 569, 570, 571, 572, 573, 574, 575, 576, 577, 578, 579, 580, 581, 582, 583, 585, 586, 588, 589, 590, 591, 592, 593, 594, 595, 596, 597, 599, 600, 602, 603, 604, 605, 606, 607, 608, 609, 610, 611, 613, 614, 615, 616, 617, 618, 620, 624, 627, 628, 629, 630, 631, 632, 633, 634, 635, 637, 638, 639, 640, 641, 642, 643, 646, 649, 650, 651, 653, 654, 655, 656, 657, 660, 661, 662, 663, 664, 665, 666, 667, 668, 669, 670, 671, 672, 673, 675, 677, 678, 680, 681, 682, 683, 684, 686, 687, 688, 689, 690, 691, 692, 693, 694, 695, 696, 697, 698, 700, 701, 702, 703, 705, 706, 708, 709, 710, 711, 712, 713, 714, 715, 716, 717, 720, 721, 722, 723, 724, 725, 727, 728, 729, 731, 732, 733, 734, 735, 736, 737, 738, 739, 740, 741, 742, 743, 745, 746, 747, 748, 749, 750, 751, 752, 753, 754, 756, 757, 759, 760, 761, 762, 763, 765, 766, 768, 769, 770, 771, 773, 774, 775, 776, 777, 778, 779, 780, 781, 782, 783, 784, 785, 786, 788, 789, 790, 791, 792, 793, 794, 795, 796, 798, 799, 800, 801, 802, 804, 805, 806, 808, 809, 810, 811, 812, 813, 814, 815, 816, 817, 818, 819, 820, 821, 822, 823, 824, 825, 826, 827, 828, 829, 830, 831, 832, 833, 834, 835, 836, 838, 840, 841, 842, 843, 845, 846, 848, 849, 850, 851, 852, 853, 855, 856, 858, 859, 861, 862, 863, 864, 865, 866, 867, 868, 869, 870, 871, 872, 874, 875, 876, 877, 878, 879, 880, 881, 882, 883, 884, 885, 886, 887, 888, 889, 890, 891, 892, 893, 894, 895, 896, 897, 899, 900, 901, 902, 903, 904, 905, 906, 907, 908, 909, 910, 911, 912, 913, 914, 915, 916, 917, 918, 919, 920, 922, 923, 925, 926, 927, 929, 930, 932, 933, 934, 935, 936, 938, 939, 940, 941, 943, 944, 945, 946, 947, 948, 949, 950, 951, 952, 953, 954, 955, 956, 957, 958, 959, 960, 962, 963, 964, 965, 966, 967, 968, 969, 970, 971, 972, 973, 974, 975, 976, 977, 978, 979, 980, 981, 982, 983, 984, 985, 986, 987, 988, 989, 991, 992, 994, 995, 996, 997, 998, 999, 1000, 1001, 1002, 1003, 1004, 1005, 1006, 1007, 1008, 1009, 1011, 1012, 1013, 1014, 1016, 1017, 1018, 1019, 1020, 1021, 1022, 1025, 1026, 1027, 1028, 1029, 1030, 1031, 1032, 1033, 1034, 1035, 1036, 1037, 1038, 1039, 1040, 1041, 1042, 1043, 1044, 1045, 1046, 1047, 1048, 1049, 1050, 1051, 1052, 1053, 1054, 1056, 1057, 1058, 1059, 1061, 1062, 1063, 1064, 1065, 1067, 1068, 1069, 1071, 1072, 1073, 1074, 1075, 1076, 1077, 1078, 1080, 1081, 1082, 1083, 1084, 1085, 1086, 1087, 1088, 1089, 1091, 1092, 1093, 1094, 1095, 1096, 1097, 1098, 1099, 1101, 1102, 1103, 1104, 1107, 1108, 1109, 1110, 1111, 1112, 1113, 1114, 1115, 1116, 1117, 1118, 1120, 1121, 1122, 1123, 1125, 1126, 1127, 1129, 1130, 1131, 1132, 1133, 1134, 1135, 1136, 1137, 1140, 1141, 1142, 1143, 1144, 1145, 1146, 1147, 1149, 1150, 1151, 1152, 1153, 1154, 1155, 1156, 1158, 1159, 1160, 1161, 1162, 1163, 1164, 1165, 1166, 1167, 1168, 1169, 1170, 1171, 1172, 1173, 1174, 1175, 1176, 1177, 1178, 1179, 1180, 1182, 1183, 1184, 1185, 1186, 1188, 1189, 1190, 1191, 1192, 1193, 1194, 1195, 1196, 1197, 1198, 1199, 1200, 1201, 1202, 1203, 1204, 1205, 1206, 1207, 1208, 1209, 1210, 1211, 1212, 1213, 1214, 1215, 1216, 1217, 1218, 1219, 1220, 1221, 1222, 1223, 1224, 1225, 1226, 1227, 1228, 1229, 1231, 1232, 1233, 1234, 1235, 1236, 1237, 1238, 1241, 1242, 1243, 1244, 1245, 1246, 1248, 1249, 1250, 1252, 1253, 1254, 1255, 1256, 1258, 1259, 1260, 1261, 1262, 1264, 1267, 1269, 1270, 1271, 1272, 1273, 1274, 1275, 1276, 1277, 1278, 1279, 1280, 1281, 1282, 1283, 1284, 1287, 1288, 1289, 1290, 1291, 1292, 1293, 1295, 1296, 1299, 1300, 1301, 1302, 1303, 1304, 1305, 1306, 1307, 1308, 1309, 1311, 1312, 1314, 1315, 1316, 1317, 1320, 1321, 1322, 1323, 1324, 1325, 1326, 1327, 1328, 1329, 1331, 1333, 1335, 1336, 1337, 1338, 1339, 1340, 1341, 1342, 1343, 1344, 1345, 1346, 1347, 1348, 1349, 1351, 1352, 1353, 1354, 1355, 1356, 1357, 1358, 1361, 1362, 1363, 1365, 1367, 1368, 1370, 1371, 1373, 1374, 1375, 1376, 1377, 1378, 1379, 1380, 1381, 1382, 1384, 1385, 1386, 1387, 1388, 1390, 1391, 1392, 1393, 1395, 1396, 1397, 1398, 1399, 1400, 1402, 1403, 1404, 1405, 1406, 1407, 1408, 1410, 1411, 1412, 1414, 1415, 1416, 1418, 1419, 1420, 1421, 1422, 1423, 1424, 1425, 1427, 1428, 1429, 1431, 1432, 1433, 1434, 1436, 1437, 1438, 1439, 1440, 1441, 1442, 1444, 1445, 1446, 1447, 1448, 1450, 1451, 1452, 1454, 1455, 1456, 1458, 1459, 1461, 1462, 1463, 1464, 1465, 1467, 1468, 1469, 1470, 1471, 1473, 1474, 1475, 1476, 1477, 1478, 1479, 1480, 1481, 1483, 1484, 1486, 1487, 1488, 1489, 1490, 1491, 1492, 1493, 1494, 1495, 1496, 1497, 1499, 1500, 1501, 1502, 1503, 1505, 1506, 1507, 1508, 1509, 1510, 1511, 1512, 1513, 1515, 1516, 1517, 1518, 1519, 1520, 1521, 1522, 1523, 1524, 1525, 1526, 1527, 1528, 1529, 1532, 1533, 1535, 1536, 1537, 1539, 1540, 1541, 1542, 1544, 1546, 1547, 1548, 1549, 1550, 1551, 1552, 1553, 1554, 1555, 1557, 1558, 1559, 1561, 1562, 1563, 1564, 1565, 1566, 1567, 1568, 1569, 1570, 1571, 1572, 1573, 1574, 1575, 1576, 1577, 1578, 1579, 1581, 1582, 1583, 1584, 1586, 1589, 1590, 1591, 1592, 1593, 1595, 1598, 1600, 1601, 1602, 1603, 1604, 1606, 1607, 1608, 1609, 1610, 1611, 1612, 1613, 1614, 1615, 1616, 1617, 1618, 1619, 1620, 1621, 1622, 1623, 1624, 1625, 1626, 1627, 1628, 1629, 1630, 1631, 1632, 1633, 1634, 1635, 1636, 1637, 1638, 1639, 1640, 1641, 1642, 1644, 1645, 1647, 1648, 1650, 1652, 1653, 1654, 1655, 1656, 1657, 1658, 1659, 1660, 1661, 1662, 1663, 1664, 1666, 1667, 1669, 1671, 1672, 1674, 1675, 1676, 1678, 1679, 1680, 1682, 1683, 1684, 1685, 1687, 1688, 1689, 1690, 1691, 1692, 1693, 1694, 1695, 1696, 1697, 1698, 1700, 1701, 1702, 1703, 1704, 1705, 1706, 1707, 1709, 1710, 1711, 1712, 1713, 1714, 1715, 1716, 1717, 1718, 1720, 1722, 1723, 1724, 1726, 1727, 1728, 1729, 1730, 1731, 1732, 1734, 1735, 1736, 1737, 1739, 1741, 1742, 1743, 1745, 1747, 1750, 1751, 1753, 1754, 1755, 1756, 1757, 1758, 1759, 1760, 1761, 1762, 1763, 1764, 1765, 1766, 1767, 1768, 1769, 1770, 1771, 1772, 1773, 1775, 1776, 1777, 1778, 1779, 1780, 1781, 1782, 1783, 1784, 1785, 1786, 1787, 1788, 1789, 1790, 1791, 1793, 1794, 1795, 1796, 1797, 1798, 1799, 1800, 1801, 1802, 1803, 1804, 1805, 1806, 1807, 1808, 1809, 1810, 1811, 1812, 1813, 1814, 1815, 1816, 1817, 1818, 1819, 1821, 1822, 1825, 1827, 1828, 1829, 1830, 1831, 1832, 1833, 1834, 1837, 1838, 1839, 1840, 1842, 1843, 1844, 1846, 1848, 1849, 1850, 1851, 1853, 1854, 1855, 1856, 1857, 1858, 1859, 1860, 1861, 1862, 1864, 1865, 1866, 1867, 1868, 1869, 1871, 1872, 1873, 1874, 1876, 1877, 1880, 1881, 1883, 1884, 1885, 1886, 1887, 1888, 1889, 1891, 1892, 1893, 1894, 1896, 1898, 1899, 1900, 1901, 1902, 1903, 1904, 1906, 1907, 1908, 1909, 1910, 1911, 1912, 1913, 1915, 1916, 1918, 1920, 1922, 1923, 1924, 1926, 1927, 1928, 1929, 1930, 1931, 1932, 1933, 1934, 1936, 1937, 1939, 1940, 1941, 1942, 1943, 1944, 1945, 1946, 1947, 1948, 1950, 1951, 1952, 1953, 1954, 1955, 1956, 1958, 1960, 1962, 1963, 1964, 1965, 1966, 1967, 1968, 1969, 1970, 1971, 1972, 1973, 1974, 1977, 1978, 1979, 1980, 1981, 1982, 1983, 1984, 1985, 1986, 1987, 1988, 1989, 1990, 1991, 1992, 1993, 1994, 1995, 1996, 1997, 1998, 1999, 2000, 2001, 2002, 2003, 2004, 2005, 2006, 2008, 2009, 2010, 2011, 2012, 2013, 2014, 2015, 2016, 2017, 2018, 2019, 2020, 2021, 2022, 2023, 2024, 2025, 2026, 2027, 2028, 2029, 2030, 2032, 2033, 2034, 2035, 2036, 2037, 2038, 2039, 2040, 2041, 2042, 2043, 2044, 2045, 2046, 2047, 2048, 2049, 2050, 2051, 2052, 2053, 2054, 2055, 2056, 2057, 2059, 2061, 2062, 2063, 2064, 2065, 2066, 2067, 2068, 2069, 2070, 2071, 2072, 2073, 2074, 2075, 2076, 2077, 2078, 2080, 2081, 2082, 2084, 2085, 2086, 2087])"
      ]
     },
     "execution_count": 168,
     "metadata": {
      "tags": []
     },
     "output_type": "execute_result"
    }
   ],
   "source": [
    "#encoded_images.items()\n",
    "#encoded_images.keys()"
   ]
  },
  {
   "cell_type": "code",
   "execution_count": null,
   "metadata": {
    "colab": {
     "base_uri": "https://localhost:8080/",
     "height": 793
    },
    "executionInfo": {
     "elapsed": 575500,
     "status": "ok",
     "timestamp": 1581830001005,
     "user": {
      "displayName": "Soharab Hossain Shaikh",
      "photoUrl": "https://lh3.googleusercontent.com/a-/AAuE7mDS33q6Y525JCEhkrshcALqx-UKGSBVEr-iDtTF=s64",
      "userId": "09822763254488834038"
     },
     "user_tz": -330
    },
    "id": "M22L2oKm_INk",
    "outputId": "e0b8a1a5-c109-45cc-ab2c-8638c04804e0"
   },
   "outputs": [
    {
     "data": {
      "text/plain": [
       "['111.jpg',\n",
       " '189.jpg',\n",
       " '237.jpg',\n",
       " '270.jpg',\n",
       " '280.jpg',\n",
       " '335.jpg',\n",
       " '381.jpg',\n",
       " '530.jpg',\n",
       " '539.jpg',\n",
       " '552.jpg',\n",
       " '564.jpg',\n",
       " '568.jpg',\n",
       " '619.jpg',\n",
       " '648.jpg',\n",
       " '718.jpg',\n",
       " '730.jpg',\n",
       " '772.jpg',\n",
       " '839.jpg',\n",
       " '1015.jpg',\n",
       " '1090.jpg',\n",
       " '1187.jpg',\n",
       " '1239.jpg',\n",
       " '1251.jpg',\n",
       " '1263.jpg',\n",
       " '1298.jpg',\n",
       " '1313.jpg',\n",
       " '1409.jpg',\n",
       " '1430.jpg',\n",
       " '1443.jpg',\n",
       " '1457.jpg',\n",
       " '1560.jpg',\n",
       " '1605.jpg',\n",
       " '1643.jpg',\n",
       " '1651.jpg',\n",
       " '1681.jpg',\n",
       " '1835.jpg',\n",
       " '1870.jpg',\n",
       " '1890.jpg',\n",
       " '1897.jpg',\n",
       " '1976.jpg',\n",
       " '2031.jpg',\n",
       " '2079.jpg']"
      ]
     },
     "execution_count": 78,
     "metadata": {
      "tags": []
     },
     "output_type": "execute_result"
    }
   ],
   "source": [
    "remove_these"
   ]
  },
  {
   "cell_type": "code",
   "execution_count": null,
   "metadata": {
    "id": "rAL5MbBy_Tjb"
   },
   "outputs": [],
   "source": [
    "data = data[-data['file_name'].isin(remove_these)]"
   ]
  },
  {
   "cell_type": "code",
   "execution_count": null,
   "metadata": {
    "colab": {
     "base_uri": "https://localhost:8080/",
     "height": 35
    },
    "executionInfo": {
     "elapsed": 575456,
     "status": "ok",
     "timestamp": 1581830001016,
     "user": {
      "displayName": "Soharab Hossain Shaikh",
      "photoUrl": "https://lh3.googleusercontent.com/a-/AAuE7mDS33q6Y525JCEhkrshcALqx-UKGSBVEr-iDtTF=s64",
      "userId": "09822763254488834038"
     },
     "user_tz": -330
    },
    "id": "jWWZnNiw_hcY",
    "outputId": "77c750e6-26e7-4f96-eb5a-558ed49f4246"
   },
   "outputs": [
    {
     "data": {
      "text/plain": [
       "(1790, 3)"
      ]
     },
     "execution_count": 80,
     "metadata": {
      "tags": []
     },
     "output_type": "execute_result"
    }
   ],
   "source": [
    "data.shape"
   ]
  },
  {
   "cell_type": "code",
   "execution_count": null,
   "metadata": {
    "colab": {
     "base_uri": "https://localhost:8080/",
     "height": 424
    },
    "executionInfo": {
     "elapsed": 575426,
     "status": "ok",
     "timestamp": 1581830001022,
     "user": {
      "displayName": "Soharab Hossain Shaikh",
      "photoUrl": "https://lh3.googleusercontent.com/a-/AAuE7mDS33q6Y525JCEhkrshcALqx-UKGSBVEr-iDtTF=s64",
      "userId": "09822763254488834038"
     },
     "user_tz": -330
    },
    "id": "9xb6oPi0_rMG",
    "outputId": "7892485e-541d-4525-ced1-12182abe33b2"
   },
   "outputs": [
    {
     "data": {
      "text/html": [
       "<div>\n",
       "<style scoped>\n",
       "    .dataframe tbody tr th:only-of-type {\n",
       "        vertical-align: middle;\n",
       "    }\n",
       "\n",
       "    .dataframe tbody tr th {\n",
       "        vertical-align: top;\n",
       "    }\n",
       "\n",
       "    .dataframe thead th {\n",
       "        text-align: right;\n",
       "    }\n",
       "</style>\n",
       "<table border=\"1\" class=\"dataframe\">\n",
       "  <thead>\n",
       "    <tr style=\"text-align: right;\">\n",
       "      <th></th>\n",
       "      <th>caption</th>\n",
       "      <th>url</th>\n",
       "      <th>file_name</th>\n",
       "    </tr>\n",
       "  </thead>\n",
       "  <tbody>\n",
       "    <tr>\n",
       "      <th>0</th>\n",
       "      <td>startseq author : a life in photography -- in ...</td>\n",
       "      <td>https://i.pinimg.com/736x/66/01/6c/66016c3ba27...</td>\n",
       "      <td>1.jpg</td>\n",
       "    </tr>\n",
       "    <tr>\n",
       "      <th>1</th>\n",
       "      <td>startseq photograph of the sign being repaired...</td>\n",
       "      <td>http://indianapolis-photos.funcityfinder.com/f...</td>\n",
       "      <td>3.jpg</td>\n",
       "    </tr>\n",
       "    <tr>\n",
       "      <th>2</th>\n",
       "      <td>startseq the player staring intently at a comp...</td>\n",
       "      <td>http://www.abc.net.au/news/image/9066492-3x2-7...</td>\n",
       "      <td>4.jpg</td>\n",
       "    </tr>\n",
       "    <tr>\n",
       "      <th>3</th>\n",
       "      <td>startseq globes : the green 3d person carrying...</td>\n",
       "      <td>https://www.featurepics.com/StockImage/2009031...</td>\n",
       "      <td>5.jpg</td>\n",
       "    </tr>\n",
       "    <tr>\n",
       "      <th>4</th>\n",
       "      <td>startseq the - bedroom stone cottage can sleep...</td>\n",
       "      <td>http://i.dailymail.co.uk/i/pix/2014/11/05/1415...</td>\n",
       "      <td>6.jpg</td>\n",
       "    </tr>\n",
       "    <tr>\n",
       "      <th>...</th>\n",
       "      <td>...</td>\n",
       "      <td>...</td>\n",
       "      <td>...</td>\n",
       "    </tr>\n",
       "    <tr>\n",
       "      <th>1827</th>\n",
       "      <td>startseq person and groom embrace under the ve...</td>\n",
       "      <td>https://static1.squarespace.com/static/564125d...</td>\n",
       "      <td>2082.jpg</td>\n",
       "    </tr>\n",
       "    <tr>\n",
       "      <th>1828</th>\n",
       "      <td>startseq a bronze horse head sculpture against...</td>\n",
       "      <td>http://l7.alamy.com/zooms/39b15fd8b3af47bf9a7b...</td>\n",
       "      <td>2084.jpg</td>\n",
       "    </tr>\n",
       "    <tr>\n",
       "      <th>1829</th>\n",
       "      <td>startseq use a large mirror to make a small be...</td>\n",
       "      <td>https://cdn.homedit.com/wp-content/uploads/201...</td>\n",
       "      <td>2085.jpg</td>\n",
       "    </tr>\n",
       "    <tr>\n",
       "      <th>1830</th>\n",
       "      <td>startseq model and person attend awards endseq</td>\n",
       "      <td>https://media.gettyimages.com/photos/musician-...</td>\n",
       "      <td>2086.jpg</td>\n",
       "    </tr>\n",
       "    <tr>\n",
       "      <th>1831</th>\n",
       "      <td>startseq abstract background laser light multi...</td>\n",
       "      <td>https://thumb10.shutterstock.com/display_pic_w...</td>\n",
       "      <td>2087.jpg</td>\n",
       "    </tr>\n",
       "  </tbody>\n",
       "</table>\n",
       "<p>1790 rows × 3 columns</p>\n",
       "</div>"
      ],
      "text/plain": [
       "                                                caption  ... file_name\n",
       "0     startseq author : a life in photography -- in ...  ...     1.jpg\n",
       "1     startseq photograph of the sign being repaired...  ...     3.jpg\n",
       "2     startseq the player staring intently at a comp...  ...     4.jpg\n",
       "3     startseq globes : the green 3d person carrying...  ...     5.jpg\n",
       "4     startseq the - bedroom stone cottage can sleep...  ...     6.jpg\n",
       "...                                                 ...  ...       ...\n",
       "1827  startseq person and groom embrace under the ve...  ...  2082.jpg\n",
       "1828  startseq a bronze horse head sculpture against...  ...  2084.jpg\n",
       "1829  startseq use a large mirror to make a small be...  ...  2085.jpg\n",
       "1830     startseq model and person attend awards endseq  ...  2086.jpg\n",
       "1831  startseq abstract background laser light multi...  ...  2087.jpg\n",
       "\n",
       "[1790 rows x 3 columns]"
      ]
     },
     "execution_count": 81,
     "metadata": {
      "tags": []
     },
     "output_type": "execute_result"
    }
   ],
   "source": [
    "data"
   ]
  },
  {
   "cell_type": "code",
   "execution_count": null,
   "metadata": {
    "id": "fXB_NlJS_4kS"
   },
   "outputs": [],
   "source": [
    "data.reset_index(drop=True,inplace=True)"
   ]
  },
  {
   "cell_type": "code",
   "execution_count": null,
   "metadata": {
    "id": "WHXwsYA8sWJ_"
   },
   "outputs": [],
   "source": [
    "data['id']=[int(data['file_name'][i].split('.')[0]) for i in range(data.shape[0])]"
   ]
  },
  {
   "cell_type": "code",
   "execution_count": null,
   "metadata": {
    "colab": {
     "base_uri": "https://localhost:8080/",
     "height": 35
    },
    "executionInfo": {
     "elapsed": 575372,
     "status": "ok",
     "timestamp": 1581830001036,
     "user": {
      "displayName": "Soharab Hossain Shaikh",
      "photoUrl": "https://lh3.googleusercontent.com/a-/AAuE7mDS33q6Y525JCEhkrshcALqx-UKGSBVEr-iDtTF=s64",
      "userId": "09822763254488834038"
     },
     "user_tz": -330
    },
    "id": "YcCLsxp7uCmU",
    "outputId": "008d62fc-f4bf-4c08-ec73-b4b96bf4dee9"
   },
   "outputs": [
    {
     "data": {
      "text/plain": [
       "1790"
      ]
     },
     "execution_count": 84,
     "metadata": {
      "tags": []
     },
     "output_type": "execute_result"
    }
   ],
   "source": [
    "len(encoded_images)"
   ]
  },
  {
   "cell_type": "markdown",
   "metadata": {
    "id": "a4RA4_Y9ncPy"
   },
   "source": [
    "### Clean up Captions"
   ]
  },
  {
   "cell_type": "code",
   "execution_count": null,
   "metadata": {
    "id": "YZ5zdTe1vJEV"
   },
   "outputs": [],
   "source": [
    "from string import punctuation "
   ]
  },
  {
   "cell_type": "code",
   "execution_count": null,
   "metadata": {
    "colab": {
     "base_uri": "https://localhost:8080/",
     "height": 35
    },
    "executionInfo": {
     "elapsed": 575342,
     "status": "ok",
     "timestamp": 1581830001052,
     "user": {
      "displayName": "Soharab Hossain Shaikh",
      "photoUrl": "https://lh3.googleusercontent.com/a-/AAuE7mDS33q6Y525JCEhkrshcALqx-UKGSBVEr-iDtTF=s64",
      "userId": "09822763254488834038"
     },
     "user_tz": -330
    },
    "id": "A9RaQrxPvMfc",
    "outputId": "4bb77e1f-d444-44db-9ba1-32d3e9e5a640"
   },
   "outputs": [
    {
     "data": {
      "text/plain": [
       "'!\"#$%&\\'()*+,-./:;<=>?@[\\\\]^_`{|}~'"
      ]
     },
     "execution_count": 86,
     "metadata": {
      "tags": []
     },
     "output_type": "execute_result"
    }
   ],
   "source": [
    "punctuation"
   ]
  },
  {
   "cell_type": "code",
   "execution_count": null,
   "metadata": {
    "id": "ScWzyyICvNai"
   },
   "outputs": [],
   "source": [
    "import re"
   ]
  },
  {
   "cell_type": "code",
   "execution_count": null,
   "metadata": {
    "id": "Xmu8E7OdvXyf"
   },
   "outputs": [],
   "source": [
    "data['caption'] = data['caption'].apply(lambda x:re.sub(\"[\"+punctuation+\"]\",' ',x))"
   ]
  },
  {
   "cell_type": "code",
   "execution_count": null,
   "metadata": {
    "id": "vh6hPvIGwPmb"
   },
   "outputs": [],
   "source": [
    "data['caption'] = data['caption'].apply(lambda x:re.sub(\"\\d\",' ',x))"
   ]
  },
  {
   "cell_type": "code",
   "execution_count": null,
   "metadata": {
    "id": "J_2vQJOJvm56"
   },
   "outputs": [],
   "source": [
    "data['caption'] = data['caption'].apply(lambda x:re.sub(\"\\s+\",' ',x))"
   ]
  },
  {
   "cell_type": "code",
   "execution_count": null,
   "metadata": {
    "id": "9sA_a9VxwBDP"
   },
   "outputs": [],
   "source": [
    "data['caption'] = data['caption'].str.lower()"
   ]
  },
  {
   "cell_type": "code",
   "execution_count": null,
   "metadata": {
    "colab": {
     "base_uri": "https://localhost:8080/",
     "height": 239
    },
    "executionInfo": {
     "elapsed": 575225,
     "status": "ok",
     "timestamp": 1581830001077,
     "user": {
      "displayName": "Soharab Hossain Shaikh",
      "photoUrl": "https://lh3.googleusercontent.com/a-/AAuE7mDS33q6Y525JCEhkrshcALqx-UKGSBVEr-iDtTF=s64",
      "userId": "09822763254488834038"
     },
     "user_tz": -330
    },
    "id": "oq0z8eIFwIfR",
    "outputId": "f77a23fb-079e-4b76-dd60-6d91a6449e7e"
   },
   "outputs": [
    {
     "data": {
      "text/plain": [
       "0       startseq author a life in photography in pictu...\n",
       "1       startseq photograph of the sign being repaired...\n",
       "2       startseq the player staring intently at a comp...\n",
       "3       startseq globes the green d person carrying in...\n",
       "4       startseq the bedroom stone cottage can sleep p...\n",
       "                              ...                        \n",
       "1785    startseq person and groom embrace under the ve...\n",
       "1786    startseq a bronze horse head sculpture against...\n",
       "1787    startseq use a large mirror to make a small be...\n",
       "1788       startseq model and person attend awards endseq\n",
       "1789    startseq abstract background laser light multi...\n",
       "Name: caption, Length: 1790, dtype: object"
      ]
     },
     "execution_count": 92,
     "metadata": {
      "tags": []
     },
     "output_type": "execute_result"
    }
   ],
   "source": [
    "data['caption']"
   ]
  },
  {
   "cell_type": "code",
   "execution_count": null,
   "metadata": {
    "colab": {
     "base_uri": "https://localhost:8080/",
     "height": 35
    },
    "executionInfo": {
     "elapsed": 575216,
     "status": "ok",
     "timestamp": 1581830001080,
     "user": {
      "displayName": "Soharab Hossain Shaikh",
      "photoUrl": "https://lh3.googleusercontent.com/a-/AAuE7mDS33q6Y525JCEhkrshcALqx-UKGSBVEr-iDtTF=s64",
      "userId": "09822763254488834038"
     },
     "user_tz": -330
    },
    "id": "YKh5tPufCDHo",
    "outputId": "1e19e10e-4f49-4205-f4b4-10df298ddcd5"
   },
   "outputs": [
    {
     "data": {
      "text/plain": [
       "(1790, 4)"
      ]
     },
     "execution_count": 93,
     "metadata": {
      "tags": []
     },
     "output_type": "execute_result"
    }
   ],
   "source": [
    "data.shape"
   ]
  },
  {
   "cell_type": "code",
   "execution_count": null,
   "metadata": {
    "id": "-Be9I8Q2B8X0"
   },
   "outputs": [],
   "source": [
    "train_descriptions = data.shape[0]"
   ]
  },
  {
   "cell_type": "markdown",
   "metadata": {
    "id": "jetN6omJnj82"
   },
   "source": [
    "### Tokenize Text"
   ]
  },
  {
   "cell_type": "code",
   "execution_count": null,
   "metadata": {
    "id": "YZPmigZiw1ez"
   },
   "outputs": [],
   "source": [
    "from nltk import word_tokenize"
   ]
  },
  {
   "cell_type": "code",
   "execution_count": null,
   "metadata": {
    "colab": {
     "base_uri": "https://localhost:8080/",
     "height": 72
    },
    "executionInfo": {
     "elapsed": 575728,
     "status": "ok",
     "timestamp": 1581830001651,
     "user": {
      "displayName": "Soharab Hossain Shaikh",
      "photoUrl": "https://lh3.googleusercontent.com/a-/AAuE7mDS33q6Y525JCEhkrshcALqx-UKGSBVEr-iDtTF=s64",
      "userId": "09822763254488834038"
     },
     "user_tz": -330
    },
    "id": "O3zldjHMxB6S",
    "outputId": "d6ecd22e-0806-42ef-e985-08c8f592fa2d"
   },
   "outputs": [
    {
     "name": "stdout",
     "output_type": "stream",
     "text": [
      "[nltk_data] Downloading package punkt to /root/nltk_data...\n",
      "[nltk_data]   Package punkt is already up-to-date!\n"
     ]
    },
    {
     "data": {
      "text/plain": [
       "True"
      ]
     },
     "execution_count": 96,
     "metadata": {
      "tags": []
     },
     "output_type": "execute_result"
    }
   ],
   "source": [
    "import nltk\n",
    "nltk.download('punkt')"
   ]
  },
  {
   "cell_type": "code",
   "execution_count": null,
   "metadata": {
    "colab": {
     "base_uri": "https://localhost:8080/",
     "height": 35
    },
    "executionInfo": {
     "elapsed": 575710,
     "status": "ok",
     "timestamp": 1581830001656,
     "user": {
      "displayName": "Soharab Hossain Shaikh",
      "photoUrl": "https://lh3.googleusercontent.com/a-/AAuE7mDS33q6Y525JCEhkrshcALqx-UKGSBVEr-iDtTF=s64",
      "userId": "09822763254488834038"
     },
     "user_tz": -330
    },
    "id": "OAMcutxMwX9W",
    "outputId": "ff2a1188-8530-4750-d951-30e0052d7174"
   },
   "outputs": [
    {
     "name": "stdout",
     "output_type": "stream",
     "text": [
      "preprocessed words 3714 ==> 574\n"
     ]
    }
   ],
   "source": [
    "word_count_threshold = 5\n",
    "word_counts = {}\n",
    "for caption in data['caption']:\n",
    "    for w in word_tokenize(caption):\n",
    "        word_counts[w] = word_counts.get(w, 0) + 1\n",
    "\n",
    "vocab = [w for w in word_counts if word_counts[w] >= word_count_threshold]\n",
    "print('preprocessed words %d ==> %d' % (len(word_counts), len(vocab)))"
   ]
  },
  {
   "cell_type": "code",
   "execution_count": null,
   "metadata": {
    "id": "v8xyXiKcVPpi"
   },
   "outputs": [],
   "source": [
    "caption_lens = []\n",
    "for caption in data['caption']:\n",
    "  words = word_tokenize(caption)\n",
    "  words = [w for w in words if w in vocab]\n",
    "  caption_lens.append(len(words))\n",
    "\n",
    "max_length = max(caption_lens)"
   ]
  },
  {
   "cell_type": "markdown",
   "metadata": {
    "id": "PZyv9Y2kJNDI"
   },
   "source": [
    "## Word-to-Index an Index-to-Word Mapping"
   ]
  },
  {
   "cell_type": "code",
   "execution_count": null,
   "metadata": {
    "colab": {
     "base_uri": "https://localhost:8080/",
     "height": 35
    },
    "executionInfo": {
     "elapsed": 576114,
     "status": "ok",
     "timestamp": 1581830002099,
     "user": {
      "displayName": "Soharab Hossain Shaikh",
      "photoUrl": "https://lh3.googleusercontent.com/a-/AAuE7mDS33q6Y525JCEhkrshcALqx-UKGSBVEr-iDtTF=s64",
      "userId": "09822763254488834038"
     },
     "user_tz": -330
    },
    "id": "fPFd2I1vw_h8",
    "outputId": "70ce4a04-99f2-44b1-e43f-11ba8fa1a80c"
   },
   "outputs": [
    {
     "data": {
      "text/plain": [
       "575"
      ]
     },
     "execution_count": 99,
     "metadata": {
      "tags": []
     },
     "output_type": "execute_result"
    }
   ],
   "source": [
    "idxtoword = {}\n",
    "wordtoidx = {}\n",
    "\n",
    "ix = 1\n",
    "for w in vocab:\n",
    "    wordtoidx[w] = ix\n",
    "    idxtoword[ix] = w\n",
    "    ix += 1\n",
    "    \n",
    "vocab_size = len(idxtoword) + 1 \n",
    "vocab_size"
   ]
  },
  {
   "cell_type": "code",
   "execution_count": null,
   "metadata": {
    "id": "AgMX5d2UxMX4"
   },
   "outputs": [],
   "source": [
    "max_length = max(caption_lens)"
   ]
  },
  {
   "cell_type": "code",
   "execution_count": null,
   "metadata": {
    "colab": {
     "base_uri": "https://localhost:8080/",
     "height": 35
    },
    "executionInfo": {
     "elapsed": 576082,
     "status": "ok",
     "timestamp": 1581830002108,
     "user": {
      "displayName": "Soharab Hossain Shaikh",
      "photoUrl": "https://lh3.googleusercontent.com/a-/AAuE7mDS33q6Y525JCEhkrshcALqx-UKGSBVEr-iDtTF=s64",
      "userId": "09822763254488834038"
     },
     "user_tz": -330
    },
    "id": "MSlbXMotx18q",
    "outputId": "e83636a4-3692-4d24-9e86-1b538e783d70"
   },
   "outputs": [
    {
     "data": {
      "text/plain": [
       "25"
      ]
     },
     "execution_count": 101,
     "metadata": {
      "tags": []
     },
     "output_type": "execute_result"
    }
   ],
   "source": [
    "max_length"
   ]
  },
  {
   "cell_type": "markdown",
   "metadata": {
    "id": "F9YAb3omCeRB"
   },
   "source": [
    "### Read Pre-trained GloVe Embeddings"
   ]
  },
  {
   "cell_type": "code",
   "execution_count": null,
   "metadata": {
    "colab": {
     "base_uri": "https://localhost:8080/",
     "height": 35
    },
    "executionInfo": {
     "elapsed": 741752,
     "status": "ok",
     "timestamp": 1581830167798,
     "user": {
      "displayName": "Soharab Hossain Shaikh",
      "photoUrl": "https://lh3.googleusercontent.com/a-/AAuE7mDS33q6Y525JCEhkrshcALqx-UKGSBVEr-iDtTF=s64",
      "userId": "09822763254488834038"
     },
     "user_tz": -330
    },
    "id": "irkqYfoSx8ed",
    "outputId": "bc8be462-e8bc-4650-ae9d-d6d896f00047"
   },
   "outputs": [
    {
     "name": "stdout",
     "output_type": "stream",
     "text": [
      "Found 1917494 word vectors.\n"
     ]
    }
   ],
   "source": [
    "\n",
    "embeddings_index = {} \n",
    "f = open( 'glove.42B.300d.txt', encoding=\"utf-8\")\n",
    "\n",
    "for line in f:\n",
    "    line=line.strip()\n",
    "    values = line.split()\n",
    "    word = values[0]\n",
    "    coefs = np.asarray(values[1:], dtype='float32')\n",
    "    embeddings_index[word] = coefs\n",
    "\n",
    "f.close()\n",
    "print(f'Found {len(embeddings_index)} word vectors.')"
   ]
  },
  {
   "cell_type": "code",
   "execution_count": null,
   "metadata": {
    "id": "6zEjTOFN-BF2"
   },
   "outputs": [],
   "source": [
    "embedding_dim = 300\n",
    "\n",
    "embedding_matrix = np.zeros((vocab_size, embedding_dim))\n",
    "\n",
    "for word, i in wordtoidx.items():\n",
    "    embedding_vector = embeddings_index.get(word)\n",
    "    if embedding_vector is not None:\n",
    "        embedding_matrix[i] = embedding_vector"
   ]
  },
  {
   "cell_type": "code",
   "execution_count": null,
   "metadata": {
    "id": "usb-OmJJe2cb"
   },
   "outputs": [],
   "source": [
    "from tensorflow.keras.preprocessing.sequence import pad_sequences\n",
    "from tensorflow.keras.utils import to_categorical\n",
    "import matplotlib.pyplot as plt"
   ]
  },
  {
   "cell_type": "markdown",
   "metadata": {
    "id": "b3yE0e-CCp_r"
   },
   "source": [
    "### Custom Data Generator"
   ]
  },
  {
   "cell_type": "code",
   "execution_count": null,
   "metadata": {
    "id": "0S6z6tZV-yRu"
   },
   "outputs": [],
   "source": [
    "def data_generator(data, encoded_images, wordtoidx, max_length, num_photos_per_batch):\n",
    "  # x1 - Training data for photos\n",
    "  # x2 - The caption that goes with each photo\n",
    "  # y - The predicted rest of the caption\n",
    "  x1, x2, y = [], [], []\n",
    "  n=0\n",
    "  while True:\n",
    "    for k, caption in enumerate(data['caption']):\n",
    "      n+=1\n",
    "      photo = encoded_images[data['id'][k]]\n",
    "      # Each photo has 5 descriptions\n",
    "      seq = [wordtoidx[word] for word in word_tokenize(caption) if word in wordtoidx]\n",
    "      # Generate a training case for every possible sequence and outcome\n",
    "      for i in range(1, len(seq)):\n",
    "        in_seq, out_seq = seq[:i], seq[i]\n",
    "        in_seq = pad_sequences([in_seq], maxlen=max_length)[0]\n",
    "        out_seq = to_categorical([out_seq], num_classes=vocab_size)[0]\n",
    "        x1.append(photo)\n",
    "        x2.append(in_seq)\n",
    "        y.append(out_seq)\n",
    "      if n==num_photos_per_batch:\n",
    "        yield ([np.array(x1), np.array(x2)], np.array(y))\n",
    "        # next when generator gets called iteration will start from where we left off\n",
    "        # this makes it make a pass through the complete data in an epoch\n",
    "        x1, x2, y = [], [], []\n",
    "        n=0"
   ]
  },
  {
   "cell_type": "code",
   "execution_count": null,
   "metadata": {
    "colab": {
     "base_uri": "https://localhost:8080/",
     "height": 35
    },
    "executionInfo": {
     "elapsed": 741677,
     "status": "ok",
     "timestamp": 1581830167822,
     "user": {
      "displayName": "Soharab Hossain Shaikh",
      "photoUrl": "https://lh3.googleusercontent.com/a-/AAuE7mDS33q6Y525JCEhkrshcALqx-UKGSBVEr-iDtTF=s64",
      "userId": "09822763254488834038"
     },
     "user_tz": -330
    },
    "id": "Hje6qTXzhF7G",
    "outputId": "3fb748b0-e2bb-4d11-fd58-19614be45a27"
   },
   "outputs": [
    {
     "data": {
      "text/plain": [
       "1790"
      ]
     },
     "execution_count": 107,
     "metadata": {
      "tags": []
     },
     "output_type": "execute_result"
    }
   ],
   "source": [
    "len(encoded_images.keys())"
   ]
  },
  {
   "cell_type": "code",
   "execution_count": null,
   "metadata": {
    "colab": {
     "base_uri": "https://localhost:8080/",
     "height": 35
    },
    "executionInfo": {
     "elapsed": 741659,
     "status": "ok",
     "timestamp": 1581830167824,
     "user": {
      "displayName": "Soharab Hossain Shaikh",
      "photoUrl": "https://lh3.googleusercontent.com/a-/AAuE7mDS33q6Y525JCEhkrshcALqx-UKGSBVEr-iDtTF=s64",
      "userId": "09822763254488834038"
     },
     "user_tz": -330
    },
    "id": "4tVrlNtYhRj4",
    "outputId": "62fbe8c2-0527-44bf-813b-2d14b7c32c4a"
   },
   "outputs": [
    {
     "data": {
      "text/plain": [
       "(1790, 4)"
      ]
     },
     "execution_count": 108,
     "metadata": {
      "tags": []
     },
     "output_type": "execute_result"
    }
   ],
   "source": [
    "data.shape"
   ]
  },
  {
   "cell_type": "code",
   "execution_count": null,
   "metadata": {
    "id": "bjzvwgYQfpaI"
   },
   "outputs": [],
   "source": [
    "# data_generator(data, encoded_images, wordtoidx, max_length, 1)"
   ]
  },
  {
   "cell_type": "markdown",
   "metadata": {
    "id": "CiXsPw6wCJjv"
   },
   "source": [
    "## Build the RNN Model for Caption Generation"
   ]
  },
  {
   "cell_type": "code",
   "execution_count": null,
   "metadata": {
    "id": "FzXkdWDmbWh1"
   },
   "outputs": [],
   "source": [
    "from tensorflow.keras.layers import LSTM, Embedding, TimeDistributed, Dense, RepeatVector\n",
    "from tensorflow.keras.layers import Activation, Flatten, Reshape, concatenate, Dropout, BatchNormalization,add"
   ]
  },
  {
   "cell_type": "code",
   "execution_count": null,
   "metadata": {
    "id": "-fJv60bjSIX6"
   },
   "outputs": [],
   "source": [
    "inputs1 = Input(shape=(OUTPUT_DIM,))\n",
    "fe1 = Dropout(0.5)(inputs1)\n",
    "fe2 = Dense(256, activation='relu')(fe1)\n",
    "inputs2 = Input(shape=(max_length,))\n",
    "se1 = Embedding(vocab_size, embedding_dim, mask_zero=True)(inputs2)\n",
    "se2 = Dropout(0.5)(se1)\n",
    "se3 = LSTM(256)(se2)\n",
    "decoder1 = add([fe2, se3])\n",
    "decoder2 = Dense(256, activation='relu')(decoder1)\n",
    "outputs = Dense(vocab_size, activation='softmax')(decoder2)\n",
    "caption_model = Model(inputs=[inputs1, inputs2], outputs=outputs)"
   ]
  },
  {
   "cell_type": "code",
   "execution_count": null,
   "metadata": {
    "id": "3HlqobNAVE0B"
   },
   "outputs": [],
   "source": [
    "caption_model.layers[2].set_weights([embedding_matrix])\n",
    "caption_model.layers[2].trainable = False\n",
    "caption_model.compile(loss='categorical_crossentropy', optimizer='adam')"
   ]
  },
  {
   "cell_type": "code",
   "execution_count": null,
   "metadata": {
    "id": "srQVfClDbseX"
   },
   "outputs": [],
   "source": [
    "number_pics_per_batch = 3\n",
    "steps = len(data['caption'])//number_pics_per_batch"
   ]
  },
  {
   "cell_type": "code",
   "execution_count": null,
   "metadata": {
    "id": "WCEjTDOocZwS"
   },
   "outputs": [],
   "source": [
    "from tqdm import tqdm"
   ]
  },
  {
   "cell_type": "code",
   "execution_count": null,
   "metadata": {
    "colab": {
     "base_uri": "https://localhost:8080/",
     "height": 35
    },
    "executionInfo": {
     "elapsed": 743398,
     "status": "ok",
     "timestamp": 1581830169710,
     "user": {
      "displayName": "Soharab Hossain Shaikh",
      "photoUrl": "https://lh3.googleusercontent.com/a-/AAuE7mDS33q6Y525JCEhkrshcALqx-UKGSBVEr-iDtTF=s64",
      "userId": "09822763254488834038"
     },
     "user_tz": -330
    },
    "id": "8PTQIlkPlwkx",
    "outputId": "d8a25f44-5121-480e-a76e-47e485095692"
   },
   "outputs": [
    {
     "data": {
      "text/plain": [
       "(2048,)"
      ]
     },
     "execution_count": 115,
     "metadata": {
      "tags": []
     },
     "output_type": "execute_result"
    }
   ],
   "source": [
    "encoded_images[99].shape"
   ]
  },
  {
   "cell_type": "markdown",
   "metadata": {
    "id": "3Xd1pfntC03z"
   },
   "source": [
    "## Train the Model"
   ]
  },
  {
   "cell_type": "code",
   "execution_count": null,
   "metadata": {
    "colab": {
     "base_uri": "https://localhost:8080/",
     "height": 1000
    },
    "executionInfo": {
     "elapsed": 2604230,
     "status": "ok",
     "timestamp": 1581832030564,
     "user": {
      "displayName": "Soharab Hossain Shaikh",
      "photoUrl": "https://lh3.googleusercontent.com/a-/AAuE7mDS33q6Y525JCEhkrshcALqx-UKGSBVEr-iDtTF=s64",
      "userId": "09822763254488834038"
     },
     "user_tz": -330
    },
    "id": "63w9lhtQZ1j4",
    "outputId": "e7b02020-15ed-4163-c801-a276424b557c"
   },
   "outputs": [
    {
     "name": "stdout",
     "output_type": "stream",
     "text": [
      "WARNING:tensorflow:sample_weight modes were coerced from\n",
      "  ...\n",
      "    to  \n",
      "  ['...']\n",
      "Train for 596 steps\n",
      "596/596 [==============================] - 97s 162ms/step - loss: 4.7602\n",
      "WARNING:tensorflow:sample_weight modes were coerced from\n",
      "  ...\n",
      "    to  \n",
      "  ['...']\n",
      "Train for 596 steps\n",
      "596/596 [==============================] - 95s 160ms/step - loss: 4.3294\n",
      "WARNING:tensorflow:sample_weight modes were coerced from\n",
      "  ...\n",
      "    to  \n",
      "  ['...']\n",
      "Train for 596 steps\n",
      "596/596 [==============================] - 93s 155ms/step - loss: 4.0743\n",
      "WARNING:tensorflow:sample_weight modes were coerced from\n",
      "  ...\n",
      "    to  \n",
      "  ['...']\n",
      "Train for 596 steps\n",
      "596/596 [==============================] - 93s 157ms/step - loss: 3.8309\n",
      "WARNING:tensorflow:sample_weight modes were coerced from\n",
      "  ...\n",
      "    to  \n",
      "  ['...']\n",
      "Train for 596 steps\n",
      "596/596 [==============================] - 94s 157ms/step - loss: 3.6148\n",
      "WARNING:tensorflow:sample_weight modes were coerced from\n",
      "  ...\n",
      "    to  \n",
      "  ['...']\n",
      "Train for 596 steps\n",
      "596/596 [==============================] - 93s 156ms/step - loss: 3.4111\n",
      "WARNING:tensorflow:sample_weight modes were coerced from\n",
      "  ...\n",
      "    to  \n",
      "  ['...']\n",
      "Train for 596 steps\n",
      "596/596 [==============================] - 93s 156ms/step - loss: 3.2127\n",
      "WARNING:tensorflow:sample_weight modes were coerced from\n",
      "  ...\n",
      "    to  \n",
      "  ['...']\n",
      "Train for 596 steps\n",
      "596/596 [==============================] - 93s 156ms/step - loss: 3.0319\n",
      "WARNING:tensorflow:sample_weight modes were coerced from\n",
      "  ...\n",
      "    to  \n",
      "  ['...']\n",
      "Train for 596 steps\n",
      "596/596 [==============================] - 92s 154ms/step - loss: 2.8240\n",
      "WARNING:tensorflow:sample_weight modes were coerced from\n",
      "  ...\n",
      "    to  \n",
      "  ['...']\n",
      "Train for 596 steps\n",
      "596/596 [==============================] - 93s 155ms/step - loss: 2.6405\n",
      "WARNING:tensorflow:sample_weight modes were coerced from\n",
      "  ...\n",
      "    to  \n",
      "  ['...']\n",
      "Train for 596 steps\n",
      "596/596 [==============================] - 92s 154ms/step - loss: 2.4393\n",
      "WARNING:tensorflow:sample_weight modes were coerced from\n",
      "  ...\n",
      "    to  \n",
      "  ['...']\n",
      "Train for 596 steps\n",
      "596/596 [==============================] - 92s 154ms/step - loss: 2.2879\n",
      "WARNING:tensorflow:sample_weight modes were coerced from\n",
      "  ...\n",
      "    to  \n",
      "  ['...']\n",
      "Train for 596 steps\n",
      "596/596 [==============================] - 93s 156ms/step - loss: 2.1646\n",
      "WARNING:tensorflow:sample_weight modes were coerced from\n",
      "  ...\n",
      "    to  \n",
      "  ['...']\n",
      "Train for 596 steps\n",
      "596/596 [==============================] - 94s 158ms/step - loss: 2.0436\n",
      "WARNING:tensorflow:sample_weight modes were coerced from\n",
      "  ...\n",
      "    to  \n",
      "  ['...']\n",
      "Train for 596 steps\n",
      "596/596 [==============================] - 92s 154ms/step - loss: 1.9436\n",
      "WARNING:tensorflow:sample_weight modes were coerced from\n",
      "  ...\n",
      "    to  \n",
      "  ['...']\n",
      "Train for 596 steps\n",
      "596/596 [==============================] - 94s 158ms/step - loss: 1.8209\n",
      "WARNING:tensorflow:sample_weight modes were coerced from\n",
      "  ...\n",
      "    to  \n",
      "  ['...']\n",
      "Train for 596 steps\n",
      "596/596 [==============================] - 95s 159ms/step - loss: 1.7045\n",
      "WARNING:tensorflow:sample_weight modes were coerced from\n",
      "  ...\n",
      "    to  \n",
      "  ['...']\n",
      "Train for 596 steps\n",
      "596/596 [==============================] - 93s 155ms/step - loss: 1.6420\n",
      "WARNING:tensorflow:sample_weight modes were coerced from\n",
      "  ...\n",
      "    to  \n",
      "  ['...']\n",
      "Train for 596 steps\n",
      "596/596 [==============================] - 92s 154ms/step - loss: 1.5914\n",
      "WARNING:tensorflow:sample_weight modes were coerced from\n",
      "  ...\n",
      "    to  \n",
      "  ['...']\n",
      "Train for 596 steps\n",
      "596/596 [==============================] - 91s 152ms/step - loss: 1.5030\n"
     ]
    }
   ],
   "source": [
    "for i in range(EPOCHS*2):\n",
    "  generator = data_generator(data, encoded_images, wordtoidx, max_length, number_pics_per_batch)\n",
    "  caption_model.fit_generator(generator, epochs=1, steps_per_epoch=steps, verbose=1)\n"
   ]
  },
  {
   "cell_type": "code",
   "execution_count": null,
   "metadata": {
    "id": "tz7xbE0ddADZ"
   },
   "outputs": [],
   "source": [
    "#caption_model.optimizer.lr = 1e-4\n",
    "#number_pics_per_batch = 6\n",
    "#steps = len(train_descriptions)//number_pics_per_batch\n",
    "\n",
    "#for i in tqdm(range(EPOCHS)):\n",
    "#    generator = data_generator(data, encoded_images, wordtoidx, max_length, number_pics_per_batch)\n",
    "#    caption_model.fit_generator(generator, epochs=1, steps_per_epoch=steps, verbose=1) "
   ]
  },
  {
   "cell_type": "markdown",
   "metadata": {
    "id": "kT8uX9XH3d7J"
   },
   "source": [
    "### Save the Trained Model for Future Use"
   ]
  },
  {
   "cell_type": "code",
   "execution_count": null,
   "metadata": {
    "id": "Gmn9Nu2MZ5QK"
   },
   "outputs": [],
   "source": [
    "caption_model.save_weights('caption_model.hdf5')"
   ]
  },
  {
   "cell_type": "markdown",
   "metadata": {
    "id": "O1-0fAiJ3hQ7"
   },
   "source": [
    "### Generate Caption for a given Image"
   ]
  },
  {
   "cell_type": "code",
   "execution_count": null,
   "metadata": {
    "id": "msj1Z5WdZ7Hj"
   },
   "outputs": [],
   "source": [
    "# Generate a custom functionfor caption generation\n",
    "def generateCaption(photo):\n",
    "    in_text = START\n",
    "    for i in range(max_length):\n",
    "        sequence = [wordtoidx[w] for w in in_text.split() if w in wordtoidx]\n",
    "        # Provide the START token to the RNN model \n",
    "        sequence = pad_sequences([sequence], maxlen=max_length) \n",
    "\n",
    "        # Prediction from the caption generation model\n",
    "        # The models need two inputs - the input image (feature representation) and the START token\n",
    "        yhat = caption_model.predict([photo, sequence], verbose=0)\n",
    "\n",
    "        yhat = np.argmax(yhat) # index of the highest probability value\n",
    "        word = idxtoword[yhat] # index to word mapping\n",
    "        in_text += ' ' + word  # appending the word in the generated text\n",
    "        if word == STOP:\n",
    "            break\n",
    "    final = in_text.split()\n",
    "    final = final[1:-1] # drop the START and STOP tokens\n",
    "    final = ' '.join(final) # put all the words into a sentence\n",
    "    return final"
   ]
  },
  {
   "cell_type": "markdown",
   "metadata": {
    "id": "q_SrglbZliug"
   },
   "source": [
    "## Test - Generate Caption from a given Image"
   ]
  },
  {
   "cell_type": "code",
   "execution_count": null,
   "metadata": {
    "colab": {
     "base_uri": "https://localhost:8080/",
     "height": 287
    },
    "executionInfo": {
     "elapsed": 2165,
     "status": "ok",
     "timestamp": 1581834186222,
     "user": {
      "displayName": "Soharab Hossain Shaikh",
      "photoUrl": "https://lh3.googleusercontent.com/a-/AAuE7mDS33q6Y525JCEhkrshcALqx-UKGSBVEr-iDtTF=s64",
      "userId": "09822763254488834038"
     },
     "user_tz": -330
    },
    "id": "_xKMwBZ7oa9p",
    "outputId": "46e74fbb-a073-414a-ce56-bccec1b059eb"
   },
   "outputs": [
    {
     "data": {
      "image/png": "[encoded data removed]",
      "text/plain": [
       "<Figure size 432x288 with 1 Axes>"
      ]
     },
     "metadata": {
      "tags": []
     },
     "output_type": "display_data"
    },
    {
     "name": "stdout",
     "output_type": "stream",
     "text": [
      "Caption: christmas tree branch on a wooden background\n"
     ]
    }
   ],
   "source": [
    "index=79\n",
    "image_file=data.iloc[index,2]\n",
    "\n",
    "image=encoded_images[int(image_file.split('.')[0])]\n",
    "\n",
    "image = image.reshape((1,OUTPUT_DIM))\n",
    "x=plt.imread('/content/content/images/'+image_file)\n",
    "plt.imshow(x)\n",
    "plt.show()\n",
    "print(\"Caption:\",generateCaption(image))\n"
   ]
  },
  {
   "cell_type": "code",
   "execution_count": null,
   "metadata": {
    "colab": {
     "base_uri": "https://localhost:8080/",
     "height": 287
    },
    "executionInfo": {
     "elapsed": 2105,
     "status": "ok",
     "timestamp": 1581834318859,
     "user": {
      "displayName": "Soharab Hossain Shaikh",
      "photoUrl": "https://lh3.googleusercontent.com/a-/AAuE7mDS33q6Y525JCEhkrshcALqx-UKGSBVEr-iDtTF=s64",
      "userId": "09822763254488834038"
     },
     "user_tz": -330
    },
    "id": "tNg9vc7SqzYY",
    "outputId": "e6aaeb3d-26d8-40d2-9005-e97d4ace361d"
   },
   "outputs": [
    {
     "data": {
      "image/png": "[encoded data removed]",
      "text/plain": [
       "<Figure size 432x288 with 1 Axes>"
      ]
     },
     "metadata": {
      "tags": []
     },
     "output_type": "display_data"
    },
    {
     "name": "stdout",
     "output_type": "stream",
     "text": [
      "Caption: a tree shows its\n"
     ]
    }
   ],
   "source": [
    "index=90\n",
    "image_file=data.iloc[index,2]\n",
    "\n",
    "image=encoded_images[int(image_file.split('.')[0])]\n",
    "\n",
    "image = image.reshape((1,OUTPUT_DIM))\n",
    "x=plt.imread('/content/content/images/'+image_file)\n",
    "plt.imshow(x)\n",
    "plt.show()\n",
    "print(\"Caption:\",generateCaption(image))\n"
   ]
  }
 ],
 "metadata": {
  "colab": {
   "collapsed_sections": [],
   "name": "Image_Captioning_Better_Results.ipynb",
   "provenance": []
  },
  "kernelspec": {
   "display_name": "Python 3",
   "language": "python",
   "name": "python3"
  },
  "language_info": {
   "codemirror_mode": {
    "name": "ipython",
    "version": 3
   },
   "file_extension": ".py",
   "mimetype": "text/x-python",
   "name": "python",
   "nbconvert_exporter": "python",
   "pygments_lexer": "ipython3",
   "version": "3.8.1"
  }
 },
 "nbformat": 4,
 "nbformat_minor": 1
}
