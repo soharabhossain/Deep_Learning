{
 "cells": [
  {
   "cell_type": "markdown",
   "metadata": {
    "id": "gwd00yhrefK0"
   },
   "source": [
    "# **Text Summarization with Pretrained Models  - BERT-Extractive-Summarizer**"
   ]
  },
  {
   "cell_type": "code",
   "execution_count": null,
   "metadata": {
    "colab": {
     "base_uri": "https://localhost:8080/",
     "height": 35
    },
    "executionInfo": {
     "elapsed": 2761,
     "status": "ok",
     "timestamp": 1581823504640,
     "user": {
      "displayName": "Soharab Hossain Shaikh",
      "photoUrl": "https://lh3.googleusercontent.com/a-/AAuE7mDS33q6Y525JCEhkrshcALqx-UKGSBVEr-iDtTF=s64",
      "userId": "09822763254488834038"
     },
     "user_tz": -330
    },
    "id": "hG_LL_9468Ca",
    "outputId": "49c1624d-9e55-4405-a069-d6dca71fc873"
   },
   "outputs": [
    {
     "name": "stdout",
     "output_type": "stream",
     "text": [
      "TensorFlow 2.x selected.\n"
     ]
    }
   ],
   "source": [
    "%tensorflow_version 2.x"
   ]
  },
  {
   "cell_type": "markdown",
   "metadata": {
    "id": "fzYWrdOchaw7"
   },
   "source": [
    "## Install BERT Extractive Summarizer"
   ]
  },
  {
   "cell_type": "code",
   "execution_count": null,
   "metadata": {
    "colab": {
     "base_uri": "https://localhost:8080/",
     "height": 1000
    },
    "executionInfo": {
     "elapsed": 63452,
     "status": "ok",
     "timestamp": 1581823565408,
     "user": {
      "displayName": "Soharab Hossain Shaikh",
      "photoUrl": "https://lh3.googleusercontent.com/a-/AAuE7mDS33q6Y525JCEhkrshcALqx-UKGSBVEr-iDtTF=s64",
      "userId": "09822763254488834038"
     },
     "user_tz": -330
    },
    "id": "LrdwRKTs7KJM",
    "outputId": "d2382e9c-0f4d-4b30-bf70-dd575ed73f47"
   },
   "outputs": [
    {
     "name": "stdout",
     "output_type": "stream",
     "text": [
      "Collecting bert-extractive-summarizer\n",
      "  Downloading https://files.pythonhosted.org/packages/82/27/4e5fea4796002d4c13596a7ca5515fa97851d8142ae0d8d3bbd3d869e67d/bert-extractive-summarizer-0.3.0.tar.gz\n",
      "Collecting transformers\n",
      "\u001b[?25l  Downloading https://files.pythonhosted.org/packages/ee/fc/bd726a15ab2c66dc09306689d04da07a3770dad724f0883f0a4bfb745087/transformers-2.4.1-py3-none-any.whl (475kB)\n",
      "\u001b[K     |████████████████████████████████| 481kB 45.4MB/s \n",
      "\u001b[?25hRequirement already satisfied: scikit-learn in /usr/local/lib/python3.6/dist-packages (from bert-extractive-summarizer) (0.22.1)\n",
      "Collecting neuralcoref\n",
      "\u001b[?25l  Downloading https://files.pythonhosted.org/packages/ea/24/0ec7845a5b73b637aa691ff4d1b9b48f3a0f3369f4002a59ffd7a7462fdb/neuralcoref-4.0-cp36-cp36m-manylinux1_x86_64.whl (287kB)\n",
      "\u001b[K     |████████████████████████████████| 296kB 54.7MB/s \n",
      "\u001b[?25hCollecting spacy==2.1.3\n",
      "\u001b[?25l  Downloading https://files.pythonhosted.org/packages/52/da/3a1c54694c2d2f40df82f38a19ae14c6eb24a5a1a0dae87205ebea7a84d8/spacy-2.1.3-cp36-cp36m-manylinux1_x86_64.whl (27.7MB)\n",
      "\u001b[K     |████████████████████████████████| 27.7MB 111kB/s \n",
      "\u001b[?25hRequirement already satisfied: boto3 in /usr/local/lib/python3.6/dist-packages (from transformers->bert-extractive-summarizer) (1.11.15)\n",
      "Collecting tokenizers==0.0.11\n",
      "\u001b[?25l  Downloading https://files.pythonhosted.org/packages/5e/36/7af38d572c935f8e0462ec7b4f7a46d73a2b3b1a938f50a5e8132d5b2dc5/tokenizers-0.0.11-cp36-cp36m-manylinux1_x86_64.whl (3.1MB)\n",
      "\u001b[K     |████████████████████████████████| 3.1MB 57.4MB/s \n",
      "\u001b[?25hRequirement already satisfied: tqdm>=4.27 in /usr/local/lib/python3.6/dist-packages (from transformers->bert-extractive-summarizer) (4.28.1)\n",
      "Collecting sentencepiece\n",
      "\u001b[?25l  Downloading https://files.pythonhosted.org/packages/74/f4/2d5214cbf13d06e7cb2c20d84115ca25b53ea76fa1f0ade0e3c9749de214/sentencepiece-0.1.85-cp36-cp36m-manylinux1_x86_64.whl (1.0MB)\n",
      "\u001b[K     |████████████████████████████████| 1.0MB 55.1MB/s \n",
      "\u001b[?25hRequirement already satisfied: numpy in /tensorflow-2.1.0/python3.6 (from transformers->bert-extractive-summarizer) (1.18.1)\n",
      "Requirement already satisfied: filelock in /usr/local/lib/python3.6/dist-packages (from transformers->bert-extractive-summarizer) (3.0.12)\n",
      "Collecting sacremoses\n",
      "\u001b[?25l  Downloading https://files.pythonhosted.org/packages/a6/b4/7a41d630547a4afd58143597d5a49e07bfd4c42914d8335b2a5657efc14b/sacremoses-0.0.38.tar.gz (860kB)\n",
      "\u001b[K     |████████████████████████████████| 870kB 62.7MB/s \n",
      "\u001b[?25hRequirement already satisfied: requests in /tensorflow-2.1.0/python3.6 (from transformers->bert-extractive-summarizer) (2.22.0)\n",
      "Requirement already satisfied: regex!=2019.12.17 in /usr/local/lib/python3.6/dist-packages (from transformers->bert-extractive-summarizer) (2019.12.20)\n",
      "Requirement already satisfied: scipy>=0.17.0 in /tensorflow-2.1.0/python3.6 (from scikit-learn->bert-extractive-summarizer) (1.4.1)\n",
      "Requirement already satisfied: joblib>=0.11 in /usr/local/lib/python3.6/dist-packages (from scikit-learn->bert-extractive-summarizer) (0.14.1)\n",
      "Requirement already satisfied: blis<0.3.0,>=0.2.2 in /usr/local/lib/python3.6/dist-packages (from spacy==2.1.3->bert-extractive-summarizer) (0.2.4)\n",
      "Requirement already satisfied: thinc<7.1.0,>=7.0.2 in /usr/local/lib/python3.6/dist-packages (from spacy==2.1.3->bert-extractive-summarizer) (7.0.8)\n",
      "Requirement already satisfied: preshed<2.1.0,>=2.0.1 in /usr/local/lib/python3.6/dist-packages (from spacy==2.1.3->bert-extractive-summarizer) (2.0.1)\n",
      "Requirement already satisfied: cymem<2.1.0,>=2.0.2 in /usr/local/lib/python3.6/dist-packages (from spacy==2.1.3->bert-extractive-summarizer) (2.0.3)\n",
      "Requirement already satisfied: wasabi<1.1.0,>=0.2.0 in /usr/local/lib/python3.6/dist-packages (from spacy==2.1.3->bert-extractive-summarizer) (0.6.0)\n",
      "Requirement already satisfied: plac<1.0.0,>=0.9.6 in /usr/local/lib/python3.6/dist-packages (from spacy==2.1.3->bert-extractive-summarizer) (0.9.6)\n",
      "Requirement already satisfied: murmurhash<1.1.0,>=0.28.0 in /usr/local/lib/python3.6/dist-packages (from spacy==2.1.3->bert-extractive-summarizer) (1.0.2)\n",
      "Requirement already satisfied: jsonschema<3.0.0,>=2.6.0 in /usr/local/lib/python3.6/dist-packages (from spacy==2.1.3->bert-extractive-summarizer) (2.6.0)\n",
      "Requirement already satisfied: srsly<1.1.0,>=0.0.5 in /usr/local/lib/python3.6/dist-packages (from spacy==2.1.3->bert-extractive-summarizer) (1.0.1)\n",
      "Requirement already satisfied: s3transfer<0.4.0,>=0.3.0 in /usr/local/lib/python3.6/dist-packages (from boto3->transformers->bert-extractive-summarizer) (0.3.3)\n",
      "Requirement already satisfied: jmespath<1.0.0,>=0.7.1 in /usr/local/lib/python3.6/dist-packages (from boto3->transformers->bert-extractive-summarizer) (0.9.4)\n",
      "Requirement already satisfied: botocore<1.15.0,>=1.14.15 in /usr/local/lib/python3.6/dist-packages (from boto3->transformers->bert-extractive-summarizer) (1.14.15)\n",
      "Requirement already satisfied: six in /tensorflow-2.1.0/python3.6 (from sacremoses->transformers->bert-extractive-summarizer) (1.14.0)\n",
      "Requirement already satisfied: click in /usr/local/lib/python3.6/dist-packages (from sacremoses->transformers->bert-extractive-summarizer) (7.0)\n",
      "Requirement already satisfied: chardet<3.1.0,>=3.0.2 in /tensorflow-2.1.0/python3.6 (from requests->transformers->bert-extractive-summarizer) (3.0.4)\n",
      "Requirement already satisfied: certifi>=2017.4.17 in /tensorflow-2.1.0/python3.6 (from requests->transformers->bert-extractive-summarizer) (2019.11.28)\n",
      "Requirement already satisfied: urllib3!=1.25.0,!=1.25.1,<1.26,>=1.21.1 in /tensorflow-2.1.0/python3.6 (from requests->transformers->bert-extractive-summarizer) (1.25.8)\n",
      "Requirement already satisfied: idna<2.9,>=2.5 in /tensorflow-2.1.0/python3.6 (from requests->transformers->bert-extractive-summarizer) (2.8)\n",
      "Requirement already satisfied: docutils<0.16,>=0.10 in /usr/local/lib/python3.6/dist-packages (from botocore<1.15.0,>=1.14.15->boto3->transformers->bert-extractive-summarizer) (0.15.2)\n",
      "Requirement already satisfied: python-dateutil<3.0.0,>=2.1 in /usr/local/lib/python3.6/dist-packages (from botocore<1.15.0,>=1.14.15->boto3->transformers->bert-extractive-summarizer) (2.6.1)\n",
      "Building wheels for collected packages: bert-extractive-summarizer, sacremoses\n",
      "  Building wheel for bert-extractive-summarizer (setup.py) ... \u001b[?25l\u001b[?25hdone\n",
      "  Created wheel for bert-extractive-summarizer: filename=bert_extractive_summarizer-0.3.0-cp36-none-any.whl size=11009 sha256=5fc510ee0d665ec1c9e41dcd32a85f6923c7044d2ce8623fc3687cb70d553c2a\n",
      "  Stored in directory: /root/.cache/pip/wheels/ed/14/89/2222d58c8410d1125e6fe46cfab4063fe9f7816e355f89e870\n",
      "  Building wheel for sacremoses (setup.py) ... \u001b[?25l\u001b[?25hdone\n",
      "  Created wheel for sacremoses: filename=sacremoses-0.0.38-cp36-none-any.whl size=884628 sha256=e5f981d65ba8ea34498e40ca78e2bf3cc2baa4541dd3b0fe790c73c30b93a55c\n",
      "  Stored in directory: /root/.cache/pip/wheels/6d/ec/1a/21b8912e35e02741306f35f66c785f3afe94de754a0eaf1422\n",
      "Successfully built bert-extractive-summarizer sacremoses\n",
      "Installing collected packages: tokenizers, sentencepiece, sacremoses, transformers, spacy, neuralcoref, bert-extractive-summarizer\n",
      "  Found existing installation: spacy 2.1.9\n",
      "    Uninstalling spacy-2.1.9:\n",
      "      Successfully uninstalled spacy-2.1.9\n",
      "Successfully installed bert-extractive-summarizer-0.3.0 neuralcoref-4.0 sacremoses-0.0.38 sentencepiece-0.1.85 spacy-2.1.3 tokenizers-0.0.11 transformers-2.4.1\n"
     ]
    }
   ],
   "source": [
    "!pip install bert-extractive-summarizer"
   ]
  },
  {
   "cell_type": "markdown",
   "metadata": {
    "id": "f-QUN4nuhfV5"
   },
   "source": [
    "## Install Sentence Transformer"
   ]
  },
  {
   "cell_type": "code",
   "execution_count": null,
   "metadata": {
    "colab": {
     "base_uri": "https://localhost:8080/",
     "height": 758
    },
    "executionInfo": {
     "elapsed": 69938,
     "status": "ok",
     "timestamp": 1581823571943,
     "user": {
      "displayName": "Soharab Hossain Shaikh",
      "photoUrl": "https://lh3.googleusercontent.com/a-/AAuE7mDS33q6Y525JCEhkrshcALqx-UKGSBVEr-iDtTF=s64",
      "userId": "09822763254488834038"
     },
     "user_tz": -330
    },
    "id": "66_--h3S-wEg",
    "outputId": "8d8f83b0-7639-404f-f46d-4a16cd540f58"
   },
   "outputs": [
    {
     "name": "stdout",
     "output_type": "stream",
     "text": [
      "Collecting sentence-transformers\n",
      "\u001b[?25l  Downloading https://files.pythonhosted.org/packages/c9/91/c85ddef872d5bb39949386930c1f834ac382e145fcd30155b09d6fb65c5a/sentence-transformers-0.2.5.tar.gz (49kB)\n",
      "\r",
      "\u001b[K     |██████▋                         | 10kB 23.2MB/s eta 0:00:01\r",
      "\u001b[K     |█████████████▎                  | 20kB 30.6MB/s eta 0:00:01\r",
      "\u001b[K     |███████████████████▉            | 30kB 31.9MB/s eta 0:00:01\r",
      "\u001b[K     |██████████████████████████▌     | 40kB 34.9MB/s eta 0:00:01\r",
      "\u001b[K     |████████████████████████████████| 51kB 8.6MB/s \n",
      "\u001b[?25hCollecting transformers==2.3.0\n",
      "\u001b[?25l  Downloading https://files.pythonhosted.org/packages/50/10/aeefced99c8a59d828a92cc11d213e2743212d3641c87c82d61b035a7d5c/transformers-2.3.0-py3-none-any.whl (447kB)\n",
      "\r",
      "\u001b[K     |▊                               | 10kB 29.3MB/s eta 0:00:01\r",
      "\u001b[K     |█▌                              | 20kB 36.5MB/s eta 0:00:01\r",
      "\u001b[K     |██▏                             | 30kB 42.8MB/s eta 0:00:01\r",
      "\u001b[K     |███                             | 40kB 44.7MB/s eta 0:00:01\r",
      "\u001b[K     |███▋                            | 51kB 46.3MB/s eta 0:00:01\r",
      "\u001b[K     |████▍                           | 61kB 47.8MB/s eta 0:00:01\r",
      "\u001b[K     |█████▏                          | 71kB 47.1MB/s eta 0:00:01\r",
      "\u001b[K     |█████▉                          | 81kB 46.8MB/s eta 0:00:01\r",
      "\u001b[K     |██████▋                         | 92kB 46.8MB/s eta 0:00:01\r",
      "\u001b[K     |███████▎                        | 102kB 47.5MB/s eta 0:00:01\r",
      "\u001b[K     |████████                        | 112kB 47.5MB/s eta 0:00:01\r",
      "\u001b[K     |████████▉                       | 122kB 47.5MB/s eta 0:00:01\r",
      "\u001b[K     |█████████▌                      | 133kB 47.5MB/s eta 0:00:01\r",
      "\u001b[K     |██████████▎                     | 143kB 47.5MB/s eta 0:00:01\r",
      "\u001b[K     |███████████                     | 153kB 47.5MB/s eta 0:00:01\r",
      "\u001b[K     |███████████▊                    | 163kB 47.5MB/s eta 0:00:01\r",
      "\u001b[K     |████████████▌                   | 174kB 47.5MB/s eta 0:00:01\r",
      "\u001b[K     |█████████████▏                  | 184kB 47.5MB/s eta 0:00:01\r",
      "\u001b[K     |██████████████                  | 194kB 47.5MB/s eta 0:00:01\r",
      "\u001b[K     |██████████████▋                 | 204kB 47.5MB/s eta 0:00:01\r",
      "\u001b[K     |███████████████▍                | 215kB 47.5MB/s eta 0:00:01\r",
      "\u001b[K     |████████████████▏               | 225kB 47.5MB/s eta 0:00:01\r",
      "\u001b[K     |████████████████▉               | 235kB 47.5MB/s eta 0:00:01\r",
      "\u001b[K     |█████████████████▋              | 245kB 47.5MB/s eta 0:00:01\r",
      "\u001b[K     |██████████████████▎             | 256kB 47.5MB/s eta 0:00:01\r",
      "\u001b[K     |███████████████████             | 266kB 47.5MB/s eta 0:00:01\r",
      "\u001b[K     |███████████████████▊            | 276kB 47.5MB/s eta 0:00:01\r",
      "\u001b[K     |████████████████████▌           | 286kB 47.5MB/s eta 0:00:01\r",
      "\u001b[K     |█████████████████████▎          | 296kB 47.5MB/s eta 0:00:01\r",
      "\u001b[K     |██████████████████████          | 307kB 47.5MB/s eta 0:00:01\r",
      "\u001b[K     |██████████████████████▊         | 317kB 47.5MB/s eta 0:00:01\r",
      "\u001b[K     |███████████████████████▍        | 327kB 47.5MB/s eta 0:00:01\r",
      "\u001b[K     |████████████████████████▏       | 337kB 47.5MB/s eta 0:00:01\r",
      "\u001b[K     |█████████████████████████       | 348kB 47.5MB/s eta 0:00:01\r",
      "\u001b[K     |█████████████████████████▋      | 358kB 47.5MB/s eta 0:00:01\r",
      "\u001b[K     |██████████████████████████▍     | 368kB 47.5MB/s eta 0:00:01\r",
      "\u001b[K     |███████████████████████████     | 378kB 47.5MB/s eta 0:00:01\r",
      "\u001b[K     |███████████████████████████▉    | 389kB 47.5MB/s eta 0:00:01\r",
      "\u001b[K     |████████████████████████████▋   | 399kB 47.5MB/s eta 0:00:01\r",
      "\u001b[K     |█████████████████████████████▎  | 409kB 47.5MB/s eta 0:00:01\r",
      "\u001b[K     |██████████████████████████████  | 419kB 47.5MB/s eta 0:00:01\r",
      "\u001b[K     |██████████████████████████████▊ | 430kB 47.5MB/s eta 0:00:01\r",
      "\u001b[K     |███████████████████████████████▌| 440kB 47.5MB/s eta 0:00:01\r",
      "\u001b[K     |████████████████████████████████| 450kB 47.5MB/s \n",
      "\u001b[?25hRequirement already satisfied, skipping upgrade: tqdm in /usr/local/lib/python3.6/dist-packages (from sentence-transformers) (4.28.1)\n",
      "Requirement already satisfied, skipping upgrade: torch>=1.0.1 in /usr/local/lib/python3.6/dist-packages (from sentence-transformers) (1.4.0)\n",
      "Requirement already satisfied, skipping upgrade: numpy in /tensorflow-2.1.0/python3.6 (from sentence-transformers) (1.18.1)\n",
      "Requirement already satisfied, skipping upgrade: scikit-learn in /usr/local/lib/python3.6/dist-packages (from sentence-transformers) (0.22.1)\n",
      "Requirement already satisfied, skipping upgrade: scipy in /tensorflow-2.1.0/python3.6 (from sentence-transformers) (1.4.1)\n",
      "Requirement already satisfied, skipping upgrade: nltk in /usr/local/lib/python3.6/dist-packages (from sentence-transformers) (3.2.5)\n",
      "Requirement already satisfied, skipping upgrade: sentencepiece in /usr/local/lib/python3.6/dist-packages (from transformers==2.3.0->sentence-transformers) (0.1.85)\n",
      "Requirement already satisfied, skipping upgrade: regex!=2019.12.17 in /usr/local/lib/python3.6/dist-packages (from transformers==2.3.0->sentence-transformers) (2019.12.20)\n",
      "Requirement already satisfied, skipping upgrade: requests in /tensorflow-2.1.0/python3.6 (from transformers==2.3.0->sentence-transformers) (2.22.0)\n",
      "Requirement already satisfied, skipping upgrade: sacremoses in /usr/local/lib/python3.6/dist-packages (from transformers==2.3.0->sentence-transformers) (0.0.38)\n",
      "Requirement already satisfied, skipping upgrade: boto3 in /usr/local/lib/python3.6/dist-packages (from transformers==2.3.0->sentence-transformers) (1.11.15)\n",
      "Requirement already satisfied, skipping upgrade: joblib>=0.11 in /usr/local/lib/python3.6/dist-packages (from scikit-learn->sentence-transformers) (0.14.1)\n",
      "Requirement already satisfied, skipping upgrade: six in /tensorflow-2.1.0/python3.6 (from nltk->sentence-transformers) (1.14.0)\n",
      "Requirement already satisfied, skipping upgrade: chardet<3.1.0,>=3.0.2 in /tensorflow-2.1.0/python3.6 (from requests->transformers==2.3.0->sentence-transformers) (3.0.4)\n",
      "Requirement already satisfied, skipping upgrade: certifi>=2017.4.17 in /tensorflow-2.1.0/python3.6 (from requests->transformers==2.3.0->sentence-transformers) (2019.11.28)\n",
      "Requirement already satisfied, skipping upgrade: idna<2.9,>=2.5 in /tensorflow-2.1.0/python3.6 (from requests->transformers==2.3.0->sentence-transformers) (2.8)\n",
      "Requirement already satisfied, skipping upgrade: urllib3!=1.25.0,!=1.25.1,<1.26,>=1.21.1 in /tensorflow-2.1.0/python3.6 (from requests->transformers==2.3.0->sentence-transformers) (1.25.8)\n",
      "Requirement already satisfied, skipping upgrade: click in /usr/local/lib/python3.6/dist-packages (from sacremoses->transformers==2.3.0->sentence-transformers) (7.0)\n",
      "Requirement already satisfied, skipping upgrade: botocore<1.15.0,>=1.14.15 in /usr/local/lib/python3.6/dist-packages (from boto3->transformers==2.3.0->sentence-transformers) (1.14.15)\n",
      "Requirement already satisfied, skipping upgrade: jmespath<1.0.0,>=0.7.1 in /usr/local/lib/python3.6/dist-packages (from boto3->transformers==2.3.0->sentence-transformers) (0.9.4)\n",
      "Requirement already satisfied, skipping upgrade: s3transfer<0.4.0,>=0.3.0 in /usr/local/lib/python3.6/dist-packages (from boto3->transformers==2.3.0->sentence-transformers) (0.3.3)\n",
      "Requirement already satisfied, skipping upgrade: python-dateutil<3.0.0,>=2.1 in /usr/local/lib/python3.6/dist-packages (from botocore<1.15.0,>=1.14.15->boto3->transformers==2.3.0->sentence-transformers) (2.6.1)\n",
      "Requirement already satisfied, skipping upgrade: docutils<0.16,>=0.10 in /usr/local/lib/python3.6/dist-packages (from botocore<1.15.0,>=1.14.15->boto3->transformers==2.3.0->sentence-transformers) (0.15.2)\n",
      "Building wheels for collected packages: sentence-transformers\n",
      "  Building wheel for sentence-transformers (setup.py) ... \u001b[?25l\u001b[?25hdone\n",
      "  Created wheel for sentence-transformers: filename=sentence_transformers-0.2.5-cp36-none-any.whl size=64942 sha256=7f3767062bee8686622980a67b918b4d46848432f25e61d542a98296bc41a4ac\n",
      "  Stored in directory: /root/.cache/pip/wheels/b4/ce/39/5bbda8ac34eb52df8c6531382ca077773fbfcbfb6386e5d66c\n",
      "Successfully built sentence-transformers\n",
      "Installing collected packages: transformers, sentence-transformers\n",
      "  Found existing installation: transformers 2.4.1\n",
      "    Uninstalling transformers-2.4.1:\n",
      "      Successfully uninstalled transformers-2.4.1\n",
      "Successfully installed sentence-transformers-0.2.5 transformers-2.3.0\n"
     ]
    }
   ],
   "source": [
    "# Restart runtime after installing (has some version conflict with the previous package)\n",
    "!pip install -U sentence-transformers\n"
   ]
  },
  {
   "cell_type": "code",
   "execution_count": null,
   "metadata": {
    "colab": {
     "base_uri": "https://localhost:8080/",
     "height": 35
    },
    "executionInfo": {
     "elapsed": 82564,
     "status": "ok",
     "timestamp": 1581823584625,
     "user": {
      "displayName": "Soharab Hossain Shaikh",
      "photoUrl": "https://lh3.googleusercontent.com/a-/AAuE7mDS33q6Y525JCEhkrshcALqx-UKGSBVEr-iDtTF=s64",
      "userId": "09822763254488834038"
     },
     "user_tz": -330
    },
    "id": "Z-eysd9n7LUc",
    "outputId": "eff05855-4fe5-4532-e0f6-a898ed1fde0e"
   },
   "outputs": [
    {
     "name": "stderr",
     "output_type": "stream",
     "text": [
      "100%|██████████| 40155833/40155833 [00:01<00:00, 28013207.93B/s]\n"
     ]
    }
   ],
   "source": [
    "from summarizer import Summarizer"
   ]
  },
  {
   "cell_type": "markdown",
   "metadata": {
    "id": "-Ft37NYPeyAF"
   },
   "source": [
    "## Summarizing a News Article"
   ]
  },
  {
   "cell_type": "code",
   "execution_count": null,
   "metadata": {
    "id": "TWJFEnBI7otu"
   },
   "outputs": [],
   "source": [
    "url='https://www.bbc.com/news/world-asia-china-51482994'"
   ]
  },
  {
   "cell_type": "code",
   "execution_count": null,
   "metadata": {
    "id": "qcquIHsq70Q8"
   },
   "outputs": [],
   "source": [
    "from bs4 import BeautifulSoup\n",
    "from urllib.request import urlopen"
   ]
  },
  {
   "cell_type": "code",
   "execution_count": null,
   "metadata": {
    "id": "vd27t_OS8ASa"
   },
   "outputs": [],
   "source": [
    "mydata = urlopen(url).read()\n",
    "soup = BeautifulSoup(mydata,'lxml')"
   ]
  },
  {
   "cell_type": "code",
   "execution_count": null,
   "metadata": {
    "id": "t4M9jCU08Et-"
   },
   "outputs": [],
   "source": [
    "paras = soup.find_all('p')"
   ]
  },
  {
   "cell_type": "code",
   "execution_count": null,
   "metadata": {
    "colab": {
     "base_uri": "https://localhost:8080/",
     "height": 1000
    },
    "executionInfo": {
     "elapsed": 85750,
     "status": "ok",
     "timestamp": 1581823587991,
     "user": {
      "displayName": "Soharab Hossain Shaikh",
      "photoUrl": "https://lh3.googleusercontent.com/a-/AAuE7mDS33q6Y525JCEhkrshcALqx-UKGSBVEr-iDtTF=s64",
      "userId": "09822763254488834038"
     },
     "user_tz": -330
    },
    "id": "z61Za8Ko87da",
    "outputId": "f93153eb-86e7-435f-afeb-b5b990b6194c"
   },
   "outputs": [
    {
     "data": {
      "text/plain": [
       "[<p style=\"position: absolute; top: -999em\"><img alt=\"\" height=\"1\" src=\"https://a1.api.bbc.co.uk/hit.xiti?&amp;col=1&amp;from=p&amp;ptag=js&amp;s=598253&amp;p=world::asia::china::news.world.asia.china.story.51482994.page&amp;x1=[urn:bbc:cps:307be327-b399-9a4d-9b5a-f4ac59a03102]&amp;x2=[responsive]&amp;x3=[bbc_website]&amp;x4=[en]&amp;x7=[article]&amp;x8=[reverb-1.3.0-nojs]&amp;x11=[NEWS_GNL]&amp;x12=[NEWS]\" width=\"1\"/></p>,\n",
       " <p aria-hidden=\"true\" class=\"twite__title\">Share this with</p>,\n",
       " <p aria-hidden=\"true\" class=\"twite__channel-text\">Email</p>,\n",
       " <p aria-hidden=\"true\" class=\"twite__channel-text\">Facebook</p>,\n",
       " <p aria-hidden=\"true\" class=\"twite__channel-text\">Messenger</p>,\n",
       " <p aria-hidden=\"true\" class=\"twite__channel-text\">Messenger</p>,\n",
       " <p aria-hidden=\"true\" class=\"twite__channel-text\">Twitter</p>,\n",
       " <p aria-hidden=\"true\" class=\"twite__channel-text\">Pinterest</p>,\n",
       " <p aria-hidden=\"true\" class=\"twite__channel-text\">WhatsApp</p>,\n",
       " <p aria-hidden=\"true\" class=\"twite__channel-text\">LinkedIn</p>,\n",
       " <p class=\"twite__copy-text\">Copy this link</p>,\n",
       " <p aria-hidden=\"true\" class=\"twite__new-window\">These are external links and will open in a new window</p>,\n",
       " <p class=\"story-body__introduction\">Some 242 deaths from the new coronavirus were recorded in the Chinese province of Hubei on Wednesday, the deadliest day of the outbreak.</p>,\n",
       " <p>There was also a huge increase in the number of cases, with 14,840 people diagnosed with <a class=\"story-body__link\" href=\"https://www.bbc.com/news/world-asia-china-51466362\">Covid-19</a>.</p>,\n",
       " <p>Hubei has started using a broader definition to diagnose people, which accounts for most of the rise in cases.</p>,\n",
       " <p>China sacked two top officials in Hubei province hours after the new figures were revealed. </p>,\n",
       " <p>Until Wednesday's increases, the number of people with the virus in Hubei, where the outbreak emerged, was stabilising.</p>,\n",
       " <p>But the new cases and deaths in the province have pushed the national death toll above 1,350 with almost 60,000 infections in total.</p>,\n",
       " <p>Meanwhile Japan has announced its first coronavirus death - a woman in her 80s who lived in Kanagawa, south-west of Tokyo. It is the third death outside mainland China, following one each in the Philippines and Hong Kong.</p>,\n",
       " <p>The woman's diagnosis was confirmed after her death and she had no obvious link to China's Hubei province, Japanese media reported.</p>,\n",
       " <p>The World Health Organization (WHO) says it is seeking \"further clarity\" from China about the changes to how cases of the virus are being confirmed.</p>,\n",
       " <p>China has been accused of suppressing the full extent of the outbreak in the past, says the BBC's Nick Beake in Hong Kong.</p>,\n",
       " <p>David Heymann, Professor of Infectious Disease Epidemiology from the London School of Hygiene and Tropical Medicine, said: \"What has happened in China is that they have changed the definition of what the disease really is - now they are taking people who have lesser symptoms.</p>,\n",
       " <p>\"The deaths are quite worrisome, there is an increased number of deaths reported, but if you look overall at the total number of deaths and the total number of cases, the fatality ratio is about the same as it has been - but it is still high, as high as the death rate in influenza.\"</p>,\n",
       " <p>Only Hubei province - which accounts for more than 80% of overall Chinese infections - is using the new definition to diagnose new cases.</p>,\n",
       " <p>Just about everyone who's been following China's official coronavirus numbers has been able to see that they have been incomplete. Government officials know this too. There's no way they've accounted for everybody infected. How could they?</p>,\n",
       " <p>But at least we had what appeared to be a trend. We could observe the pattern to try and estimate the trajectory of outbreak. Now that's gone too.</p>,\n",
       " <p>You can understand why it has been decided that people who have virus symptoms, plus a CT scan showing chest infection, are now being counted in the \"definitely infected\" column. However, this has thrown the trend mapping into chaos.</p>,\n",
       " <p>Over the past 24 hours in Hubei alone, nearly 15,000 people were moved into the infected column. This would have sent shockwaves around the world, but actually, if you consider Wednesday's cases by the old definition, the rate could well mean another day of decline: a completely different picture.</p>,\n",
       " <p>So now, we're scratching our heads: do we start looking at the pattern all over again from Thursday onwards? This has also left many wondering what the real death rate must have been over recent weeks and the extent to which we should be treating the overall figures seriously anyway.</p>,\n",
       " <p>Meanwhile, the Communist Party secretary in Hubei, Jiang Chaoliang, has been replaced by the Shanghai party chief, Ying Yong, according to state media. The party chief of the capital city, Wuhan, has also been relieved of his duties. </p>,\n",
       " <p>It is the first major change of Hubei party officials since the outbreak began. </p>,\n",
       " <p>Earlier this week, a number of health officials were <a class=\"story-body__link\" href=\"https://www.bbc.co.uk/news/world-asia-china-51453848\">\"removed\" from their jobs.</a></p>,\n",
       " <p>The province now includes \"clinically diagnosed cases\" in the number of confirmed cases. </p>,\n",
       " <p>This means it includes those showing symptoms, and having a CT scan showing an infected lung, rather than relying only on the standard nucleic acid tests.</p>,\n",
       " <p>Of the 242 new deaths in Wuhan, 135 are such \"clinically diagnosed\" cases. </p>,\n",
       " <p>That means, even without the new definition, the number of deaths in Hubei on Wednesday was 107 - a new high for the province.</p>,\n",
       " <p>The province's 14,840 new infections include 13,332 clinically diagnosed cases. </p>,\n",
       " <p>Overall, the province now has 48,206 confirmed infections. </p>,\n",
       " <p>A cruise ship carrying more than 2,000 people has docked in Cambodia after it was turned away by five ports over fears that some passengers might be infected with the virus. </p>,\n",
       " <p>The MS Westerdam arrived on Thursday morning after Japan, Taiwan, Guam, the Philippines and Thailand had all refused to accept the ship despite having no sick patients on board.</p>,\n",
       " <p>Meanwhile, another 44 cases have been confirmed on the Diamond Princess, which is in quarantine in Yokohama, Japan.</p>,\n",
       " <p>The increase means 218 people of the 3,700 people on board the ship have caught the virus. Not everyone has been tested yet.</p>,\n",
       " <p>People with the virus are taken to hospitals on land to be treated, while those on board are largely confined to their cabins.</p>,\n",
       " <p>However on Thursday Japan said it would allow those aged 80 or over who have tested negative for the coronavirus to disembark.</p>,\n",
       " <p>Health Minister Katsunobu Kato said they could be allowed off the ship as early as Friday but would have to stay in accommodation provided by the government, the Japan Times reported.</p>,\n",
       " <p>SHOULD WE WORRY? <a class=\"story-body__link\" href=\"https://www.bbc.co.uk/news/health-51048366\">Our health correspondent explains</a></p>,\n",
       " <p>YOUR QUESTIONS: <a class=\"story-body__link\" href=\"https://www.bbc.co.uk/news/world-asia-china-51176409\">Can you get it more than once?</a></p>,\n",
       " <p>WHAT YOU CAN DO: <a class=\"story-body__link\" href=\"https://www.bbc.co.uk/news/health-51205344\">Do masks really help?</a></p>,\n",
       " <p>UNDERSTANDING THE SPREAD: <a class=\"story-body__link\" href=\"https://www.bbc.co.uk/news/world-51235105\">A visual guide to the outbreak</a></p>,\n",
       " <p><strong>Are you in Hubei? Or do you have information to share? Get in touch by emailing </strong><a class=\"story-body__link-email\" href=\"mailto:haveyoursay@bbc.co.uk?subject=Coronavirus51482994\"><span class=\"icon email\"></span><span class=\"story-body__link-email-text\">haveyoursay@bbc.co.uk</span></a><strong>.</strong></p>,\n",
       " <p>Please include a contact number if you are willing to speak to a BBC journalist. You can also contact us in the following ways:</p>,\n",
       " <p class=\"story-body__introduction\">Or use the form below</p>,\n",
       " <p>If you are happy to be contacted by a BBC journalist please leave a telephone number that we can\n",
       "                         contact you on. In some cases a selection of your comments will be published, displaying your name as\n",
       "                         you provide it and location, unless you state otherwise. Your contact details will never be published.\n",
       "                         When sending us pictures, video or eyewitness accounts at no time should you endanger yourself or others,\n",
       "                         take any unnecessary risks or infringe any laws. Please ensure you have read the terms and conditions.</p>,\n",
       " <p><a class=\"story-body__link-external\" href=\"http://www.bbc.co.uk/terms/#4\">Terms and conditions</a></p>,\n",
       " <p><a class=\"story-body__link-external\" href=\"https://www.bbc.co.uk/privacy\">The BBC's Privacy Policy</a></p>,\n",
       " <p class=\"top-stories-promo-story__summary \">Foreign minister Wang Yi said the fall showed the outbreak was being managed effectively.</p>,\n",
       " <p class=\"heron__item-summary\">15 sayings from around the world</p>]"
      ]
     },
     "execution_count": 11,
     "metadata": {
      "tags": []
     },
     "output_type": "execute_result"
    }
   ],
   "source": [
    "paras"
   ]
  },
  {
   "cell_type": "code",
   "execution_count": null,
   "metadata": {
    "id": "inj5DSIz8PSi"
   },
   "outputs": [],
   "source": [
    "# General cleanup\n",
    "paras = paras[12:-14]"
   ]
  },
  {
   "cell_type": "code",
   "execution_count": null,
   "metadata": {
    "colab": {
     "base_uri": "https://localhost:8080/",
     "height": 628
    },
    "executionInfo": {
     "elapsed": 85654,
     "status": "ok",
     "timestamp": 1581823588010,
     "user": {
      "displayName": "Soharab Hossain Shaikh",
      "photoUrl": "https://lh3.googleusercontent.com/a-/AAuE7mDS33q6Y525JCEhkrshcALqx-UKGSBVEr-iDtTF=s64",
      "userId": "09822763254488834038"
     },
     "user_tz": -330
    },
    "id": "E59HazUI9GnI",
    "outputId": "dd4fa3a9-8ec6-4289-dffc-a7b0ce0d4f6d"
   },
   "outputs": [
    {
     "data": {
      "text/plain": [
       "[<p class=\"story-body__introduction\">Some 242 deaths from the new coronavirus were recorded in the Chinese province of Hubei on Wednesday, the deadliest day of the outbreak.</p>,\n",
       " <p>There was also a huge increase in the number of cases, with 14,840 people diagnosed with <a class=\"story-body__link\" href=\"https://www.bbc.com/news/world-asia-china-51466362\">Covid-19</a>.</p>,\n",
       " <p>Hubei has started using a broader definition to diagnose people, which accounts for most of the rise in cases.</p>,\n",
       " <p>China sacked two top officials in Hubei province hours after the new figures were revealed. </p>,\n",
       " <p>Until Wednesday's increases, the number of people with the virus in Hubei, where the outbreak emerged, was stabilising.</p>,\n",
       " <p>But the new cases and deaths in the province have pushed the national death toll above 1,350 with almost 60,000 infections in total.</p>,\n",
       " <p>Meanwhile Japan has announced its first coronavirus death - a woman in her 80s who lived in Kanagawa, south-west of Tokyo. It is the third death outside mainland China, following one each in the Philippines and Hong Kong.</p>,\n",
       " <p>The woman's diagnosis was confirmed after her death and she had no obvious link to China's Hubei province, Japanese media reported.</p>,\n",
       " <p>The World Health Organization (WHO) says it is seeking \"further clarity\" from China about the changes to how cases of the virus are being confirmed.</p>,\n",
       " <p>China has been accused of suppressing the full extent of the outbreak in the past, says the BBC's Nick Beake in Hong Kong.</p>,\n",
       " <p>David Heymann, Professor of Infectious Disease Epidemiology from the London School of Hygiene and Tropical Medicine, said: \"What has happened in China is that they have changed the definition of what the disease really is - now they are taking people who have lesser symptoms.</p>,\n",
       " <p>\"The deaths are quite worrisome, there is an increased number of deaths reported, but if you look overall at the total number of deaths and the total number of cases, the fatality ratio is about the same as it has been - but it is still high, as high as the death rate in influenza.\"</p>,\n",
       " <p>Only Hubei province - which accounts for more than 80% of overall Chinese infections - is using the new definition to diagnose new cases.</p>,\n",
       " <p>Just about everyone who's been following China's official coronavirus numbers has been able to see that they have been incomplete. Government officials know this too. There's no way they've accounted for everybody infected. How could they?</p>,\n",
       " <p>But at least we had what appeared to be a trend. We could observe the pattern to try and estimate the trajectory of outbreak. Now that's gone too.</p>,\n",
       " <p>You can understand why it has been decided that people who have virus symptoms, plus a CT scan showing chest infection, are now being counted in the \"definitely infected\" column. However, this has thrown the trend mapping into chaos.</p>,\n",
       " <p>Over the past 24 hours in Hubei alone, nearly 15,000 people were moved into the infected column. This would have sent shockwaves around the world, but actually, if you consider Wednesday's cases by the old definition, the rate could well mean another day of decline: a completely different picture.</p>,\n",
       " <p>So now, we're scratching our heads: do we start looking at the pattern all over again from Thursday onwards? This has also left many wondering what the real death rate must have been over recent weeks and the extent to which we should be treating the overall figures seriously anyway.</p>,\n",
       " <p>Meanwhile, the Communist Party secretary in Hubei, Jiang Chaoliang, has been replaced by the Shanghai party chief, Ying Yong, according to state media. The party chief of the capital city, Wuhan, has also been relieved of his duties. </p>,\n",
       " <p>It is the first major change of Hubei party officials since the outbreak began. </p>,\n",
       " <p>Earlier this week, a number of health officials were <a class=\"story-body__link\" href=\"https://www.bbc.co.uk/news/world-asia-china-51453848\">\"removed\" from their jobs.</a></p>,\n",
       " <p>The province now includes \"clinically diagnosed cases\" in the number of confirmed cases. </p>,\n",
       " <p>This means it includes those showing symptoms, and having a CT scan showing an infected lung, rather than relying only on the standard nucleic acid tests.</p>,\n",
       " <p>Of the 242 new deaths in Wuhan, 135 are such \"clinically diagnosed\" cases. </p>,\n",
       " <p>That means, even without the new definition, the number of deaths in Hubei on Wednesday was 107 - a new high for the province.</p>,\n",
       " <p>The province's 14,840 new infections include 13,332 clinically diagnosed cases. </p>,\n",
       " <p>Overall, the province now has 48,206 confirmed infections. </p>,\n",
       " <p>A cruise ship carrying more than 2,000 people has docked in Cambodia after it was turned away by five ports over fears that some passengers might be infected with the virus. </p>,\n",
       " <p>The MS Westerdam arrived on Thursday morning after Japan, Taiwan, Guam, the Philippines and Thailand had all refused to accept the ship despite having no sick patients on board.</p>,\n",
       " <p>Meanwhile, another 44 cases have been confirmed on the Diamond Princess, which is in quarantine in Yokohama, Japan.</p>,\n",
       " <p>The increase means 218 people of the 3,700 people on board the ship have caught the virus. Not everyone has been tested yet.</p>,\n",
       " <p>People with the virus are taken to hospitals on land to be treated, while those on board are largely confined to their cabins.</p>]"
      ]
     },
     "execution_count": 13,
     "metadata": {
      "tags": []
     },
     "output_type": "execute_result"
    }
   ],
   "source": [
    "paras"
   ]
  },
  {
   "cell_type": "markdown",
   "metadata": {
    "id": "DyaGN1u2hrip"
   },
   "source": [
    "## Read Paragraphs\n"
   ]
  },
  {
   "cell_type": "code",
   "execution_count": null,
   "metadata": {
    "id": "x_nUWs7Q9HY_"
   },
   "outputs": [],
   "source": [
    "paras = [p.text for p in paras]"
   ]
  },
  {
   "cell_type": "code",
   "execution_count": null,
   "metadata": {
    "colab": {
     "base_uri": "https://localhost:8080/",
     "height": 628
    },
    "executionInfo": {
     "elapsed": 85448,
     "status": "ok",
     "timestamp": 1581823588021,
     "user": {
      "displayName": "Soharab Hossain Shaikh",
      "photoUrl": "https://lh3.googleusercontent.com/a-/AAuE7mDS33q6Y525JCEhkrshcALqx-UKGSBVEr-iDtTF=s64",
      "userId": "09822763254488834038"
     },
     "user_tz": -330
    },
    "id": "JNs11e5Z9Ovg",
    "outputId": "e2ea313c-8533-4de2-f796-07686203fcfa"
   },
   "outputs": [
    {
     "data": {
      "text/plain": [
       "['Some 242 deaths from the new coronavirus were recorded in the Chinese province of Hubei on Wednesday, the deadliest day of the outbreak.',\n",
       " 'There was also a huge increase in the number of cases, with 14,840 people diagnosed with Covid-19.',\n",
       " 'Hubei has started using a broader definition to diagnose people, which accounts for most of the rise in cases.',\n",
       " 'China sacked two top officials in Hubei province hours after the new figures were revealed. ',\n",
       " \"Until Wednesday's increases, the number of people with the virus in Hubei, where the outbreak emerged, was stabilising.\",\n",
       " 'But the new cases and deaths in the province have pushed the national death toll above 1,350 with almost 60,000 infections in total.',\n",
       " 'Meanwhile Japan has announced its first coronavirus death - a woman in her 80s who lived in Kanagawa, south-west of Tokyo. It is the third death outside mainland China, following one each in the Philippines and Hong Kong.',\n",
       " \"The woman's diagnosis was confirmed after her death and she had no obvious link to China's Hubei province, Japanese media reported.\",\n",
       " 'The World Health Organization (WHO) says it is seeking \"further clarity\" from China about the changes to how cases of the virus are being confirmed.',\n",
       " \"China has been accused of suppressing the full extent of the outbreak in the past, says the BBC's Nick Beake in Hong Kong.\",\n",
       " 'David Heymann, Professor of Infectious Disease Epidemiology from the London School of Hygiene and Tropical Medicine, said: \"What has happened in China is that they have changed the definition of what the disease really is - now they are taking people who have lesser symptoms.',\n",
       " '\"The deaths are quite worrisome, there is an increased number of deaths reported, but if you look overall at the total number of deaths and the total number of cases, the fatality ratio is about the same as it has been - but it is still high, as high as the death rate in influenza.\"',\n",
       " 'Only Hubei province - which accounts for more than 80% of overall Chinese infections - is using the new definition to diagnose new cases.',\n",
       " \"Just about everyone who's been following China's official coronavirus numbers has been able to see that they have been incomplete. Government officials know this too. There's no way they've accounted for everybody infected. How could they?\",\n",
       " \"But at least we had what appeared to be a trend. We could observe the pattern to try and estimate the trajectory of outbreak. Now that's gone too.\",\n",
       " 'You can understand why it has been decided that people who have virus symptoms, plus a CT scan showing chest infection, are now being counted in the \"definitely infected\" column. However, this has thrown the trend mapping into chaos.',\n",
       " \"Over the past 24 hours in Hubei alone, nearly 15,000 people were moved into the infected column. This would have sent shockwaves around the world, but actually, if you consider Wednesday's cases by the old definition, the rate could well mean another day of decline: a completely different picture.\",\n",
       " \"So now, we're scratching our heads: do we start looking at the pattern all over again from Thursday onwards? This has also left many wondering what the real death rate must have been over recent weeks and the extent to which we should be treating the overall figures seriously anyway.\",\n",
       " 'Meanwhile, the Communist Party secretary in Hubei, Jiang Chaoliang, has been replaced by the Shanghai party chief, Ying Yong, according to state media. The party chief of the capital city, Wuhan, has also been relieved of his duties. ',\n",
       " 'It is the first major change of Hubei party officials since the outbreak began. ',\n",
       " 'Earlier this week, a number of health officials were \"removed\" from their jobs.',\n",
       " 'The province now includes \"clinically diagnosed cases\" in the number of confirmed cases. ',\n",
       " 'This means it includes those showing symptoms, and having a CT scan showing an infected lung, rather than relying only on the standard nucleic acid tests.',\n",
       " 'Of the 242 new deaths in Wuhan, 135 are such \"clinically diagnosed\" cases. ',\n",
       " 'That means, even without the new definition, the number of deaths in Hubei on Wednesday was 107 - a new high for the province.',\n",
       " \"The province's 14,840 new infections include 13,332 clinically diagnosed cases. \",\n",
       " 'Overall, the province now has 48,206 confirmed infections. ',\n",
       " 'A cruise ship carrying more than 2,000 people has docked in Cambodia after it was turned away by five ports over fears that some passengers might be infected with the virus. ',\n",
       " 'The MS Westerdam arrived on Thursday morning after Japan, Taiwan, Guam, the Philippines and Thailand had all refused to accept the ship despite having no sick patients on board.',\n",
       " 'Meanwhile, another 44 cases have been confirmed on the Diamond Princess, which is in quarantine in Yokohama, Japan.',\n",
       " 'The increase means 218 people of the 3,700 people on board the ship have caught the virus. Not everyone has been tested yet.',\n",
       " 'People with the virus are taken to hospitals on land to be treated, while those on board are largely confined to their cabins.']"
      ]
     },
     "execution_count": 15,
     "metadata": {
      "tags": []
     },
     "output_type": "execute_result"
    }
   ],
   "source": [
    "paras"
   ]
  },
  {
   "cell_type": "markdown",
   "metadata": {
    "id": "nscaHrT6hz-R"
   },
   "source": [
    "## Form a List of all the Words in the Paragraph"
   ]
  },
  {
   "cell_type": "code",
   "execution_count": null,
   "metadata": {
    "id": "x76uctc39Pfu"
   },
   "outputs": [],
   "source": [
    "article_text = ' '.join(paras)"
   ]
  },
  {
   "cell_type": "code",
   "execution_count": null,
   "metadata": {
    "colab": {
     "base_uri": "https://localhost:8080/",
     "height": 55
    },
    "executionInfo": {
     "elapsed": 85368,
     "status": "ok",
     "timestamp": 1581823588031,
     "user": {
      "displayName": "Soharab Hossain Shaikh",
      "photoUrl": "https://lh3.googleusercontent.com/a-/AAuE7mDS33q6Y525JCEhkrshcALqx-UKGSBVEr-iDtTF=s64",
      "userId": "09822763254488834038"
     },
     "user_tz": -330
    },
    "id": "x2j7_vFfhyjc",
    "outputId": "df7e591a-9de0-47f0-9f62-cb11c1f1f701"
   },
   "outputs": [
    {
     "data": {
      "text/plain": [
       "'Some 242 deaths from the new coronavirus were recorded in the Chinese province of Hubei on Wednesday, the deadliest day of the outbreak. There was also a huge increase in the number of cases, with 14,840 people diagnosed with Covid-19. Hubei has started using a broader definition to diagnose people, which accounts for most of the rise in cases. China sacked two top officials in Hubei province hours after the new figures were revealed.  Until Wednesday\\'s increases, the number of people with the virus in Hubei, where the outbreak emerged, was stabilising. But the new cases and deaths in the province have pushed the national death toll above 1,350 with almost 60,000 infections in total. Meanwhile Japan has announced its first coronavirus death - a woman in her 80s who lived in Kanagawa, south-west of Tokyo. It is the third death outside mainland China, following one each in the Philippines and Hong Kong. The woman\\'s diagnosis was confirmed after her death and she had no obvious link to China\\'s Hubei province, Japanese media reported. The World Health Organization (WHO) says it is seeking \"further clarity\" from China about the changes to how cases of the virus are being confirmed. China has been accused of suppressing the full extent of the outbreak in the past, says the BBC\\'s Nick Beake in Hong Kong. David Heymann, Professor of Infectious Disease Epidemiology from the London School of Hygiene and Tropical Medicine, said: \"What has happened in China is that they have changed the definition of what the disease really is - now they are taking people who have lesser symptoms. \"The deaths are quite worrisome, there is an increased number of deaths reported, but if you look overall at the total number of deaths and the total number of cases, the fatality ratio is about the same as it has been - but it is still high, as high as the death rate in influenza.\" Only Hubei province - which accounts for more than 80% of overall Chinese infections - is using the new definition to diagnose new cases. Just about everyone who\\'s been following China\\'s official coronavirus numbers has been able to see that they have been incomplete. Government officials know this too. There\\'s no way they\\'ve accounted for everybody infected. How could they? But at least we had what appeared to be a trend. We could observe the pattern to try and estimate the trajectory of outbreak. Now that\\'s gone too. You can understand why it has been decided that people who have virus symptoms, plus a CT scan showing chest infection, are now being counted in the \"definitely infected\" column. However, this has thrown the trend mapping into chaos. Over the past 24 hours in Hubei alone, nearly 15,000 people were moved into the infected column. This would have sent shockwaves around the world, but actually, if you consider Wednesday\\'s cases by the old definition, the rate could well mean another day of decline: a completely different picture. So now, we\\'re scratching our heads: do we start looking at the pattern all over again from Thursday onwards? This has also left many wondering what the real death rate must have been over recent weeks and the extent to which we should be treating the overall figures seriously anyway. Meanwhile, the Communist Party secretary in Hubei, Jiang Chaoliang, has been replaced by the Shanghai party chief, Ying Yong, according to state media. The party chief of the capital city, Wuhan, has also been relieved of his duties.  It is the first major change of Hubei party officials since the outbreak began.  Earlier this week, a number of health officials were \"removed\" from their jobs. The province now includes \"clinically diagnosed cases\" in the number of confirmed cases.  This means it includes those showing symptoms, and having a CT scan showing an infected lung, rather than relying only on the standard nucleic acid tests. Of the 242 new deaths in Wuhan, 135 are such \"clinically diagnosed\" cases.  That means, even without the new definition, the number of deaths in Hubei on Wednesday was 107 - a new high for the province. The province\\'s 14,840 new infections include 13,332 clinically diagnosed cases.  Overall, the province now has 48,206 confirmed infections.  A cruise ship carrying more than 2,000 people has docked in Cambodia after it was turned away by five ports over fears that some passengers might be infected with the virus.  The MS Westerdam arrived on Thursday morning after Japan, Taiwan, Guam, the Philippines and Thailand had all refused to accept the ship despite having no sick patients on board. Meanwhile, another 44 cases have been confirmed on the Diamond Princess, which is in quarantine in Yokohama, Japan. The increase means 218 people of the 3,700 people on board the ship have caught the virus. Not everyone has been tested yet. People with the virus are taken to hospitals on land to be treated, while those on board are largely confined to their cabins.'"
      ]
     },
     "execution_count": 17,
     "metadata": {
      "tags": []
     },
     "output_type": "execute_result"
    }
   ],
   "source": [
    "article_text"
   ]
  },
  {
   "cell_type": "code",
   "execution_count": null,
   "metadata": {
    "colab": {
     "base_uri": "https://localhost:8080/",
     "height": 35
    },
    "executionInfo": {
     "elapsed": 85313,
     "status": "ok",
     "timestamp": 1581823588035,
     "user": {
      "displayName": "Soharab Hossain Shaikh",
      "photoUrl": "https://lh3.googleusercontent.com/a-/AAuE7mDS33q6Y525JCEhkrshcALqx-UKGSBVEr-iDtTF=s64",
      "userId": "09822763254488834038"
     },
     "user_tz": -330
    },
    "id": "VGa0_XZa9UYS",
    "outputId": "a9e122d4-2b95-4ebd-eea6-70b375a2f5e9"
   },
   "outputs": [
    {
     "data": {
      "text/plain": [
       "4928"
      ]
     },
     "execution_count": 18,
     "metadata": {
      "tags": []
     },
     "output_type": "execute_result"
    }
   ],
   "source": [
    "len(article_text)"
   ]
  },
  {
   "cell_type": "markdown",
   "metadata": {
    "id": "iDFtV-Oih6YB"
   },
   "source": [
    "## Build a Summarizer Model"
   ]
  },
  {
   "cell_type": "code",
   "execution_count": null,
   "metadata": {
    "colab": {
     "base_uri": "https://localhost:8080/",
     "height": 55
    },
    "executionInfo": {
     "elapsed": 154902,
     "status": "ok",
     "timestamp": 1581823657679,
     "user": {
      "displayName": "Soharab Hossain Shaikh",
      "photoUrl": "https://lh3.googleusercontent.com/a-/AAuE7mDS33q6Y525JCEhkrshcALqx-UKGSBVEr-iDtTF=s64",
      "userId": "09822763254488834038"
     },
     "user_tz": -330
    },
    "id": "du-Qmi7H9Vyq",
    "outputId": "70bce01e-927b-4d83-d59b-269c01056b88"
   },
   "outputs": [
    {
     "name": "stdout",
     "output_type": "stream",
     "text": [
      "Some 242 deaths from the new coronavirus were recorded in the Chinese province of Hubei on Wednesday, the deadliest day of the outbreak. But the new cases and deaths in the province have pushed the national death toll above 1,350 with almost 60,000 infections in total. Meanwhile Japan has announced its first coronavirus death - a woman in her 80s who lived in Kanagawa, south-west of Tokyo. Just about everyone who's been following China's official coronavirus numbers has been able to see that they have been incomplete. This would have sent shockwaves around the world, but actually, if you consider Wednesday's cases by the old definition, the rate could well mean another day of decline: a completely different picture. The province now includes \"clinically diagnosed cases\" in the number of confirmed cases. That means, even without the new definition, the number of deaths in Hubei on Wednesday was 107 - a new high for the province. The increase means 218 people of the 3,700 people on board the ship have caught the virus.\n"
     ]
    }
   ],
   "source": [
    "model = Summarizer()\n",
    "result = model(article_text, min_length=60)\n",
    "full = ''.join(result)\n",
    "print(full)"
   ]
  },
  {
   "cell_type": "markdown",
   "metadata": {
    "id": "kxGW7svCiHgW"
   },
   "source": [
    "### Summary Length in Number of Words"
   ]
  },
  {
   "cell_type": "code",
   "execution_count": null,
   "metadata": {
    "colab": {
     "base_uri": "https://localhost:8080/",
     "height": 35
    },
    "executionInfo": {
     "elapsed": 154871,
     "status": "ok",
     "timestamp": 1581823657691,
     "user": {
      "displayName": "Soharab Hossain Shaikh",
      "photoUrl": "https://lh3.googleusercontent.com/a-/AAuE7mDS33q6Y525JCEhkrshcALqx-UKGSBVEr-iDtTF=s64",
      "userId": "09822763254488834038"
     },
     "user_tz": -330
    },
    "id": "AdlLrYQi9eBF",
    "outputId": "121794ea-2b9e-40c5-f332-51d19e4d0b02"
   },
   "outputs": [
    {
     "data": {
      "text/plain": [
       "1032"
      ]
     },
     "execution_count": 20,
     "metadata": {
      "tags": []
     },
     "output_type": "execute_result"
    }
   ],
   "source": [
    "len(full)"
   ]
  },
  {
   "cell_type": "markdown",
   "metadata": {
    "id": "YnxUTtE6iOW-"
   },
   "source": [
    "# ++++++++++++++++++++++++++++++++++++++++++++++++++++++++++++++++++++\n",
    "# **Build a Custom Text Summarizer**"
   ]
  },
  {
   "cell_type": "markdown",
   "metadata": {
    "id": "e2LlyK4Ce_l1"
   },
   "source": [
    "### General steps as suggested in the following paper : https://arxiv.org/abs/1906.04165:\n",
    " \n",
    " #### Underlying technique is to first generate sentence embeddings and cluster them. \n",
    " #### Among the clusters, we select those sentences as representative sentences [their vector representation] which are closest to the cluster  center.\n"
   ]
  },
  {
   "cell_type": "markdown",
   "metadata": {
    "id": "tGLvlv0if3j4"
   },
   "source": [
    "# **Algorithm for a Custom Text Summarizer**\n",
    "\n",
    "## Buiding a Custom Extractive Text Summarizer: \n",
    "  #### 1. Get embeddings of all the sentences in the document/news-article \n",
    "  #### 2. Use the embeddings as feature vectors and apply k-means \n",
    "  #### 3. Create clusters [ tune the number of clusters] [here we create a single cluster] [if there are many different types of articles, we may form more than one culster]\n",
    "  #### 4. Pick the representative sentence from a cluster which is nearest to the center of the cluster [ Euclidean distance or Cosine similarity]\n",
    "  #### 5. Take all representative sentences and concetenate them together to get the extractive summary.\n"
   ]
  },
  {
   "cell_type": "markdown",
   "metadata": {
    "id": "53o2WKkrgjVz"
   },
   "source": [
    "# Sentence Embeddings\n",
    "\n",
    "### Sentence Embeddings are simply pooling of word embeddings in a sentence. "
   ]
  },
  {
   "cell_type": "code",
   "execution_count": null,
   "metadata": {
    "colab": {
     "base_uri": "https://localhost:8080/",
     "height": 35
    },
    "executionInfo": {
     "elapsed": 197276,
     "status": "ok",
     "timestamp": 1581823700136,
     "user": {
      "displayName": "Soharab Hossain Shaikh",
      "photoUrl": "https://lh3.googleusercontent.com/a-/AAuE7mDS33q6Y525JCEhkrshcALqx-UKGSBVEr-iDtTF=s64",
      "userId": "09822763254488834038"
     },
     "user_tz": -330
    },
    "id": "bMZEXarP-24G",
    "outputId": "b2953481-dee4-418a-d8ec-43437c65f4cf"
   },
   "outputs": [
    {
     "name": "stderr",
     "output_type": "stream",
     "text": [
      "100%|██████████| 405M/405M [00:25<00:00, 15.9MB/s]\n"
     ]
    }
   ],
   "source": [
    "# Required for sentence embedddings\n",
    "from sentence_transformers import SentenceTransformer\n",
    "model = SentenceTransformer('bert-base-nli-mean-tokens')"
   ]
  },
  {
   "cell_type": "code",
   "execution_count": null,
   "metadata": {
    "id": "OuS1YdWP_VWM"
   },
   "outputs": [],
   "source": [
    "sentences = [ 'This framework generates embeddings for each input sentence',\n",
    "    'Sentences are passed as a list of string.', \n",
    "    'The quick brown fox jumps over the lazy dog.'\n",
    "  ]\n",
    "\n",
    "sentence_embeddings = model.encode(sentences)"
   ]
  },
  {
   "cell_type": "code",
   "execution_count": null,
   "metadata": {
    "colab": {
     "base_uri": "https://localhost:8080/",
     "height": 35
    },
    "executionInfo": {
     "elapsed": 1293,
     "status": "ok",
     "timestamp": 1581824478781,
     "user": {
      "displayName": "Soharab Hossain Shaikh",
      "photoUrl": "https://lh3.googleusercontent.com/a-/AAuE7mDS33q6Y525JCEhkrshcALqx-UKGSBVEr-iDtTF=s64",
      "userId": "09822763254488834038"
     },
     "user_tz": -330
    },
    "id": "pp7iV98fFZ9Y",
    "outputId": "f35b8789-b8a9-4ce9-b357-9cc270455dde"
   },
   "outputs": [
    {
     "data": {
      "text/plain": [
       "3"
      ]
     },
     "execution_count": 32,
     "metadata": {
      "tags": []
     },
     "output_type": "execute_result"
    }
   ],
   "source": [
    "len(sentence_embeddings)"
   ]
  },
  {
   "cell_type": "markdown",
   "metadata": {
    "id": "EnJHUYXZiwbB"
   },
   "source": [
    "### Check the Sentence Embeddings"
   ]
  },
  {
   "cell_type": "code",
   "execution_count": null,
   "metadata": {
    "colab": {
     "base_uri": "https://localhost:8080/",
     "height": 1000
    },
    "executionInfo": {
     "elapsed": 197203,
     "status": "ok",
     "timestamp": 1581823700159,
     "user": {
      "displayName": "Soharab Hossain Shaikh",
      "photoUrl": "https://lh3.googleusercontent.com/a-/AAuE7mDS33q6Y525JCEhkrshcALqx-UKGSBVEr-iDtTF=s64",
      "userId": "09822763254488834038"
     },
     "user_tz": -330
    },
    "id": "w5uxCd8a_46h",
    "outputId": "4f5f6e3c-3b3d-4842-cfd1-c90991d39e4c"
   },
   "outputs": [
    {
     "name": "stdout",
     "output_type": "stream",
     "text": [
      "Sentence: This framework generates embeddings for each input sentence\n",
      "Embedding: [-1.04094610e-01  5.27476728e-01  1.17977309e+00  1.94365606e-01\n",
      "  1.59113780e-01  5.45550406e-01  2.81809747e-01  1.21590339e-01\n",
      "  2.91968197e-01 -3.36857945e-01 -2.49655351e-01  2.93202221e-01\n",
      "  1.43483728e-01  3.80202323e-01 -2.52250314e-01 -2.62337923e-01\n",
      " -2.69968688e-01  4.68088314e-02  3.57254058e-01 -3.58307958e-01\n",
      " -2.89180279e-02  6.85317963e-02 -7.84853995e-01 -2.61793077e-01\n",
      "  1.02695417e+00 -4.05540168e-01  1.93897218e-01 -1.65969625e-01\n",
      " -2.89741725e-01 -1.07936412e-01 -6.31144941e-01 -4.68853146e-01\n",
      "  7.16446340e-01 -9.49059844e-01 -2.94926371e-02  1.37836104e-02\n",
      "  7.03225881e-02 -2.72191390e-02 -6.25347346e-02 -5.84832072e-01\n",
      " -9.02268469e-01 -9.56011653e-01  4.95161206e-01  1.95203786e-04\n",
      " -1.52250695e+00 -6.86905980e-01 -9.08192992e-01 -1.79840341e-01\n",
      " -6.49180412e-01 -2.96632033e-02 -1.83349586e+00  1.43428564e-01\n",
      "  1.93934292e-01  1.91227328e-02 -4.56058800e-01  9.44656670e-01\n",
      "  1.66151941e-01 -1.40600610e+00  1.09333485e-01  2.16205835e-01\n",
      " -2.48115301e-01 -2.68780738e-01  4.75270271e-01  6.70881629e-01\n",
      " -1.79111920e-02 -1.35593593e-01  5.69690049e-01 -7.20105231e-01\n",
      " -1.10970557e+00 -3.17183226e-01  4.56248336e-02 -4.45831746e-01\n",
      " -1.09509230e-01  5.10539770e-01 -1.01069522e+00  3.36594321e-02\n",
      " -4.44694370e-01  8.88785958e-01  3.47095817e-01 -1.44173682e-01\n",
      " -5.66792488e-01  1.14688620e-01  8.79298151e-01 -1.09679543e-03\n",
      "  1.01254988e+00 -4.49994892e-01  6.42898858e-01 -7.58162215e-02\n",
      " -1.18794811e+00  7.19852149e-01  4.31044579e-01 -7.59695694e-02\n",
      " -8.20660964e-02 -2.60051727e-01  9.44488585e-01 -4.76313382e-01\n",
      " -2.50117749e-01  2.17791736e-01 -2.84543008e-01  3.20284575e-01\n",
      " -5.20883322e-01 -5.17241120e-01  1.02427062e-02 -1.52900353e-01\n",
      " -3.45840827e-02  2.79849797e-01 -3.41054916e-01 -2.46654972e-01\n",
      "  1.14772096e-01  2.51252145e-01  6.19996428e-01 -3.78742099e-01\n",
      "  3.15188050e-01  2.29420692e-01  2.48957291e-01 -2.96278566e-01\n",
      " -4.58211541e-01  7.48043478e-01 -6.41023857e-04  1.74412176e-01\n",
      " -3.63563061e-01  6.72339201e-01  5.76564223e-02 -7.74248958e-01\n",
      "  1.26612261e-01 -3.95612925e-01  5.09884477e-01  6.75863683e-01\n",
      " -1.01202142e+00 -4.41873044e-01  2.66988695e-01 -4.99290138e-01\n",
      "  1.22650599e+00 -5.57309985e-01 -4.05364111e-02 -2.02368900e-01\n",
      " -1.72645822e-01 -6.53923929e-01 -4.11765039e-01  5.76714948e-02\n",
      " -4.09449100e-01  4.08504307e-01  7.43259132e-01 -6.45757914e-01\n",
      " -3.24326396e-01 -2.63144523e-01 -2.81259090e-01 -7.01538682e-01\n",
      " -2.88760215e-01  8.03147972e-01 -2.41781890e-01  1.07887542e+00\n",
      " -1.28907883e+00 -1.00764012e+00 -9.55432892e-01  5.13756514e-01\n",
      " -5.48715353e-01  6.20647728e-01  1.14494879e-02  1.34049088e-01\n",
      "  7.79030681e-01  1.27183294e+00  6.90325797e-02 -1.61435269e-02\n",
      " -4.33485776e-01 -2.35190690e-01  4.57901806e-01 -5.20587862e-01\n",
      " -6.55003563e-02 -1.52898923e-01  8.06676269e-01  1.42123073e-01\n",
      "  4.06461060e-01  2.74450779e-01  1.65430546e-01 -8.76345634e-01\n",
      "  6.75349176e-01  9.21574652e-01  4.95774239e-01 -1.27452087e+00\n",
      "  6.94315374e-01  1.29995018e-01 -4.48668636e-02 -4.20630336e-01\n",
      " -1.03967714e+00 -5.88143110e-01  4.64094758e-01 -4.88085002e-01\n",
      "  5.86199701e-01 -7.62681291e-02  1.17776468e-01  5.76775009e-03\n",
      " -5.34256876e-01 -6.23229742e-01  3.66864711e-01  1.94419324e-01\n",
      " -7.49632597e-01  1.19992042e+00  2.50480846e-02  3.34246606e-01\n",
      "  1.93595961e-01 -3.54415625e-01  2.18280643e-01 -8.42652261e-01\n",
      "  5.85046887e-01  2.69308180e-01 -1.03852332e+00  9.58189011e-01\n",
      " -4.53589022e-01 -8.76656026e-02 -9.78340268e-01  1.23347032e+00\n",
      "  8.81886721e-01  2.34241977e-01 -6.54036701e-02 -6.13944650e-01\n",
      "  5.16020119e-01 -7.62986541e-01 -2.55954921e-01 -1.84817657e-01\n",
      "  1.56553221e+00 -2.33379155e-01  1.74154282e-01  5.53602576e-01\n",
      " -1.19772339e+00  8.74391347e-02  4.89414155e-01 -1.31045148e-01\n",
      "  1.92654538e+00  1.08139263e-02  6.43845677e-01  3.61363753e-03\n",
      " -9.53844711e-02  3.77781451e-01  4.41435456e-01  1.35346398e-01\n",
      " -1.37180716e-01 -5.95416762e-02 -2.19868988e-01  5.87364197e-01\n",
      "  7.24622607e-01  1.56747508e+00 -4.16095443e-02 -9.49324667e-01\n",
      " -5.69573939e-01 -5.41355252e-01  7.59968698e-01  3.37377906e-01\n",
      " -5.96602321e-01  1.53183699e-01  5.44267818e-02 -7.80930161e-01\n",
      " -2.00100020e-01 -7.07150459e-01 -1.92718998e-01  9.89226922e-02\n",
      " -5.12284994e-01  1.89203277e-01 -3.34791183e-01  2.37558678e-01\n",
      " -2.90903628e-01 -6.67674065e-01 -3.15906584e-01  7.65741989e-02\n",
      "  3.84042948e-01 -5.27277887e-01 -2.74595261e-01  3.01716268e-01\n",
      " -7.97227323e-02  5.72551042e-02  4.36885543e-02 -1.89575911e-01\n",
      " -4.36685711e-01  1.40270233e-01  6.62138283e-01 -4.80095118e-01\n",
      "  4.65286762e-01 -1.89892083e-01 -5.17990530e-01  5.65484501e-02\n",
      " -7.79680192e-01 -9.57303286e-01 -1.05059385e+00  4.51391697e-01\n",
      "  1.77595079e-01 -5.53583264e-01  5.46695385e-03 -8.37596774e-01\n",
      " -1.04624063e-01  9.66208279e-02  2.91788518e-01  5.02995372e-01\n",
      " -4.02834684e-01 -3.00613612e-01  5.10974824e-01  7.98240378e-02\n",
      "  5.60669363e-01 -1.52975634e-01 -5.42132437e-01 -3.01871091e-01\n",
      " -3.64970088e-01 -1.87507942e-01 -5.82805693e-01 -1.17473099e-02\n",
      " -1.73860773e-01  3.04143131e-01 -2.67596960e-01  8.47864971e-02\n",
      " -1.84250724e+00 -9.09956038e-01 -5.24434626e-01  2.69181460e-01\n",
      "  7.12563574e-01 -1.50903851e-01 -3.95068116e-02  1.10675061e+00\n",
      "  7.57557213e-01  8.30552578e-02 -4.10251260e-01 -1.02174020e+00\n",
      " -7.96643555e-01  7.99404562e-01  1.14848457e-01  5.68087459e-01\n",
      " -1.76181763e-01  4.41329151e-01  5.04427254e-01  8.75985444e-01\n",
      " -3.06454539e-01 -5.23823619e-01  6.77527010e-01  5.42442083e-01\n",
      " -5.89275181e-01 -4.60616685e-02 -6.81726515e-01  1.16847527e+00\n",
      " -4.52027023e-01 -4.02909294e-02  1.97080597e-01 -3.85552108e-01\n",
      " -1.49953470e-01  1.20430425e-01 -6.49004042e-01 -2.99791455e-01\n",
      "  7.87716925e-01  5.69004752e-03  5.22039771e-01 -1.97003913e+00\n",
      "  4.74365383e-01  1.66881755e-02  7.16206014e-01 -1.09696615e+00\n",
      "  2.53835708e-01  6.47954345e-01 -1.16236258e+00 -3.13954711e-01\n",
      "  4.74305362e-01  5.33953428e-01 -3.11402053e-01  4.72861350e-01\n",
      "  6.58289075e-01 -3.39348257e-01 -1.66946039e-01 -1.40791446e-01\n",
      "  8.03276479e-01 -2.40215957e-01  7.08869621e-02  3.01199704e-01\n",
      "  6.53336942e-01 -4.26260173e-01  3.30978096e-01 -9.94716287e-01\n",
      " -1.67968526e-01 -1.74499542e-01 -9.55886722e-01  3.90862301e-02\n",
      " -7.00678289e-01  2.00829580e-01  1.15493372e-01  1.57909796e-01\n",
      " -3.28089505e-01 -1.10494566e+00 -2.58884579e-01 -5.82366347e-01\n",
      "  7.65852273e-01  3.94663125e-01  3.88445050e-01  3.75693440e-01\n",
      " -1.66695669e-01 -4.31577891e-01  4.96097088e-01 -1.21806264e-01\n",
      "  6.05709195e-01  2.65136957e-01 -3.78865212e-01 -8.37401032e-01\n",
      " -9.58771169e-01  1.03932463e-01 -3.12781274e-01 -2.45739207e-01\n",
      " -3.88520598e-01  3.34296733e-01  1.11957443e+00 -7.98956931e-01\n",
      "  2.07557648e-01  1.16027109e-01  9.34755325e-01 -5.97163558e-01\n",
      "  3.31139684e-01 -1.16786742e+00 -9.91863668e-01 -1.29809394e-01\n",
      "  1.51340693e-01  2.17642561e-01 -1.69125390e+00  7.25519180e-01\n",
      "  8.36876750e-01 -6.40518069e-01 -5.00312388e-01  6.15004003e-01\n",
      " -5.95652342e-01 -1.41830277e+00 -8.25519681e-01  6.91966891e-01\n",
      " -7.29204178e-01  7.62958169e-01  3.85764763e-02 -3.76682937e-01\n",
      " -2.37737358e-01 -2.51863271e-01 -6.86665297e-01 -6.75213337e-03\n",
      " -4.61986214e-01 -1.24607950e-01  9.37601388e-01  1.09143667e-01\n",
      " -3.00251424e-01  4.31296855e-01 -3.51827562e-01 -5.38272738e-01\n",
      " -6.81203306e-01 -2.08141971e-02 -3.80561471e-01  5.55700473e-02\n",
      "  1.51657509e-02  9.60427642e-01  1.67933255e-01  3.24194252e-01\n",
      "  7.95557976e-01 -5.13994358e-02  4.71293598e-01  3.59079003e-01\n",
      " -4.02799159e-01  5.75463533e-01 -5.84418058e-01 -1.15178175e-01\n",
      " -8.82520020e-01 -8.71453226e-01  2.61830568e-01 -4.73005086e-01\n",
      " -4.87153888e-01 -4.76511121e-01 -2.45465115e-02 -2.49306276e-01\n",
      " -1.85325146e-01  9.28921640e-01 -3.14263970e-01 -4.87795681e-01\n",
      "  5.36182940e-01  5.02555549e-01  4.58943516e-01 -6.66514099e-01\n",
      " -2.12548584e-01  8.10968518e-01  3.30977440e-01  2.59093702e-01\n",
      " -7.12622941e-01  8.06840897e-01 -7.89977729e-01  3.25560451e-01\n",
      "  4.29935515e-01  6.05565906e-01  4.79021706e-02  2.37259492e-01\n",
      "  2.75594532e-01  8.64449859e-01  3.77273500e-01  1.21326244e+00\n",
      "  1.13577092e+00  4.94181842e-01 -3.74833681e-02  5.44889867e-01\n",
      " -1.02218807e+00  1.03065737e-01 -8.56951922e-02  7.27379560e-01\n",
      " -6.86013281e-01 -1.20972797e-01  7.89243653e-02  7.04863191e-01\n",
      "  1.82678699e-01  3.26839149e-01 -5.02480626e-01 -1.57500952e-01\n",
      " -2.85075158e-01  9.63913620e-01 -4.24505174e-01 -6.67798340e-01\n",
      "  3.03966016e-01  7.43990779e-01 -6.59430563e-01  1.05695158e-01\n",
      "  2.86028743e-01 -2.63225377e-01  2.38873243e-01  1.95459217e-01\n",
      " -4.28880990e-01  4.45394158e-01  7.07984805e-01 -4.31279510e-01\n",
      " -1.77713767e-01 -3.63293469e-01  1.02419332e-01 -1.50254333e+00\n",
      " -2.01038927e-01  5.40673792e-01  1.15266430e+00 -2.74657100e-01\n",
      "  1.22894967e+00  1.49559245e-01  1.19213748e+00  9.47958589e-01\n",
      " -3.43198717e-01  2.18172729e-01  4.60396290e-01  5.61033309e-01\n",
      " -8.62748981e-01 -4.10305858e-02  1.19559431e+00  2.91305751e-01\n",
      "  4.34064925e-01  1.33506447e-01 -4.42135006e-01 -1.39667106e+00\n",
      " -1.29054058e+00 -3.94753009e-01  3.06824505e-01 -7.01367140e-01\n",
      " -9.35226560e-01 -5.52773774e-01 -2.29651108e-01 -6.12239361e-01\n",
      "  6.39738888e-02  8.87449179e-03 -2.11811230e-01 -6.76827192e-01\n",
      " -2.42759675e-01  1.16149271e+00  1.08500130e-01  1.53803855e-01\n",
      "  7.68081963e-01  2.93031394e-01 -4.89917725e-01  1.00732219e+00\n",
      " -1.85090438e-01 -4.56982464e-01 -5.61119914e-01  4.61507618e-01\n",
      "  7.85093904e-01 -2.26426020e-01 -1.85239092e-01  3.76754254e-01\n",
      "  1.21048331e+00  1.26349664e+00 -6.93617582e-01 -1.10188164e-01\n",
      "  1.54142782e-01 -7.31684744e-01 -1.14980325e-01 -5.44175565e-01\n",
      " -1.03830382e-01  7.17823267e-01  2.46858120e-01 -2.89613605e-01\n",
      " -1.43026724e-01  8.58614981e-01  8.78064454e-01 -4.26011160e-02\n",
      " -1.02720991e-01 -2.57214904e-01  6.66343272e-01 -2.27378607e-01\n",
      " -5.90219833e-02  5.69970727e-01  1.68465152e-02  3.02480534e-02\n",
      "  2.55125910e-01  1.26722610e+00  2.50706166e-01  8.50364804e-01\n",
      "  1.86703369e-01 -6.28878474e-01 -9.76437509e-01  5.01574874e-02\n",
      "  4.65956181e-02  2.65731871e-01 -1.00411765e-01  5.08806229e-01\n",
      " -2.44757399e-01  1.71139449e-01  7.36078560e-01 -5.57794631e-01\n",
      " -1.44354716e-01 -1.29740769e-02  1.76046506e-01 -1.43824816e+00\n",
      " -2.71145403e-01  4.80679631e-01  4.40385044e-01  1.28429383e-01\n",
      "  2.00914800e-01 -2.55889237e-01 -8.25664878e-01 -4.42588925e-01\n",
      "  5.10451376e-01 -1.05677176e+00  2.23404109e-01 -2.90119946e-01\n",
      " -7.18584120e-01  5.54880559e-01  6.89401746e-01  5.14362037e-01\n",
      " -8.32860112e-01  5.27693272e-01  1.00596383e-01  6.38725996e-01\n",
      " -1.24646926e+00 -6.18619919e-01  3.04773629e-01  3.33289981e-01\n",
      " -7.26060748e-01  1.67214245e-01  3.54935288e-01 -1.01111424e+00\n",
      " -4.59577590e-01  9.26921964e-01  5.81466407e-02  6.04096651e-01\n",
      "  1.57404327e+00  3.36076796e-01 -1.53984576e-01 -5.82864225e-01\n",
      " -1.59797505e-01 -4.22350734e-01  5.58988810e-01  6.41182184e-01\n",
      " -1.54139370e-01  1.29430437e+00  9.85193849e-01 -5.53778708e-01\n",
      "  1.16690755e+00 -5.33551157e-01 -1.01728886e-01 -2.19896715e-02\n",
      "  9.38566208e-01  7.30243176e-02  3.00525486e-01  3.54312062e-02\n",
      " -5.02935767e-01 -2.43110552e-01 -5.00221372e-01 -5.12590647e-01\n",
      " -1.23383589e-02 -3.06690723e-01  8.64971876e-01 -2.97968745e-01\n",
      "  1.54159796e+00  6.87330663e-01 -1.31490529e-01 -1.10187745e+00\n",
      " -6.66322768e-01 -3.34904715e-02 -1.58218965e-01 -5.40411949e-01\n",
      " -2.41612475e-02 -2.46299058e-01 -2.57309794e-01  2.15973914e-01\n",
      "  8.61580014e-01 -3.63123566e-01  3.02429497e-01  2.64916927e-01\n",
      " -6.78919375e-01 -6.97093606e-01 -5.26874959e-01  1.42092302e-01\n",
      " -1.44695461e-01  7.99107313e-01 -3.72477591e-01 -1.11372638e+00\n",
      " -4.08695430e-01  1.78327262e-01  1.12152942e-01  4.27690864e-01\n",
      " -5.11927664e-01 -2.45576680e-01  2.22485334e-01 -1.27131045e-01\n",
      " -3.79089683e-01 -3.15697312e-01  9.53656256e-01 -4.62424755e-02\n",
      "  8.41572225e-01  7.91201890e-01 -1.03841119e-01 -3.34201545e-01\n",
      "  2.15204675e-02  2.79654503e-01  9.77435648e-01 -4.43690181e-01\n",
      " -7.50147760e-01  2.79169142e-01 -8.31125140e-01  5.39851308e-01\n",
      " -2.73053311e-02 -6.21035516e-01  9.98379052e-01 -8.28352273e-02\n",
      " -3.86348873e-01 -3.20199341e-01 -2.30224386e-01  5.74556410e-01\n",
      " -3.13507915e-01  6.37187421e-01  4.23092902e-01  4.02702928e-01\n",
      " -8.45570922e-01  1.08144768e-01 -2.91586697e-01 -3.39358002e-01\n",
      "  3.04007798e-01  7.48499751e-01 -3.58258694e-01  4.05918002e-01\n",
      " -8.33888054e-01  3.71267855e-01  6.91007257e-01 -1.97187558e-01\n",
      " -6.04901552e-01  2.26885185e-01 -3.82509977e-01 -2.89068043e-01\n",
      "  4.55994681e-02  2.96456218e-01 -4.42979962e-01 -5.33545613e-01\n",
      " -1.40189803e+00 -4.81109828e-01  1.87529176e-01 -4.52937156e-01\n",
      " -4.65614796e-01  6.27561450e-01 -5.76989293e-01 -7.29935169e-02\n",
      "  4.23094213e-01 -4.33891356e-01 -6.94523156e-01  5.38692594e-01]\n",
      "\n",
      "Sentence: Sentences are passed as a list of string.\n",
      "Embedding: [-1.31184161e-01 -1.73903033e-01  1.10521877e+00  2.48541698e-01\n",
      "  4.10009772e-02  4.03143287e-01 -3.81672859e-01  1.74683362e-01\n",
      " -5.36520481e-01  3.57009768e-01 -7.97943473e-01  4.10826296e-01\n",
      " -1.23428553e-01  2.99330622e-01 -2.03557625e-01 -5.61517239e-01\n",
      " -2.45672524e-01 -2.60166526e-01  7.19864011e-01 -7.16632783e-01\n",
      "  2.91358262e-01  9.06929731e-01 -1.08192611e+00 -8.89151990e-01\n",
      "  1.03615332e+00 -6.38107538e-01 -1.21806050e-02 -1.09491110e+00\n",
      " -8.29793751e-01  2.63511240e-01 -3.19241792e-01  4.17104959e-02\n",
      "  7.79409587e-01  4.79952572e-03 -6.28318667e-01 -6.73516393e-01\n",
      "  9.06222939e-01  5.50694093e-02  3.36021036e-01 -5.83823740e-01\n",
      "  6.77672625e-01 -2.21304968e-02  2.16584072e-01  2.05682531e-01\n",
      " -6.32453978e-01 -3.38756055e-01 -5.38425028e-01 -2.61209965e-01\n",
      " -2.01571032e-01 -3.73180509e-01 -1.92789316e+00 -3.27755690e-01\n",
      "  1.12002635e+00  5.46542227e-01 -8.68016481e-01  4.35641892e-02\n",
      "  3.84600639e-01 -9.12465274e-01  3.12549174e-01  4.38115954e-01\n",
      "  2.41298191e-02 -3.71543437e-01  6.68740869e-01  9.89054620e-01\n",
      " -5.48954487e-01 -8.09981376e-02 -3.18062268e-02  1.47685558e-02\n",
      " -1.48305690e+00  3.42172384e-01  3.58829677e-01  3.99054727e-03\n",
      " -7.96436295e-02 -4.13866341e-02 -4.76886243e-01 -1.99359417e-01\n",
      " -3.29143614e-01  9.16806281e-01 -3.44693750e-01  1.61263525e-01\n",
      " -7.42914379e-01  6.24556124e-01  8.58053744e-01 -3.05403382e-01\n",
      "  4.20095265e-01 -2.70431489e-01  7.20466375e-02  4.69270706e-01\n",
      " -5.89073598e-01  8.01926553e-01 -1.41639665e-01  5.23125708e-01\n",
      " -3.22581291e-01 -7.61477709e-01  6.12346411e-01 -6.18498266e-01\n",
      " -4.96415228e-01  2.30802432e-01  7.64715150e-02 -7.12655708e-02\n",
      " -8.96978974e-01 -6.83137178e-01  5.12621820e-01 -6.53120816e-01\n",
      " -2.16480151e-01 -2.84679644e-02 -1.51020437e-01  6.45741701e-01\n",
      "  4.52070713e-01  6.22506738e-01 -1.21900685e-01  6.20048866e-02\n",
      "  3.08401704e-01  3.30031604e-01  2.90151566e-01 -2.40235031e-01\n",
      " -5.86955130e-01  5.27238548e-01  1.42917290e-01  6.64738595e-01\n",
      " -1.37622207e-02  7.07973897e-01  4.47559834e-01 -6.18373990e-01\n",
      "  3.56078893e-01 -7.89203346e-02  5.37033975e-01  2.82477409e-01\n",
      " -4.43490893e-01 -4.81999278e-01  4.88109380e-01  2.32217357e-01\n",
      "  6.02085173e-01 -4.46333855e-01 -2.79172868e-01 -4.03815717e-01\n",
      "  2.60395169e-01  2.74493676e-02  5.79947780e-04 -2.73513436e-01\n",
      " -7.48364687e-01  5.87325990e-01  2.70902276e-01  3.45642298e-01\n",
      " -8.70049819e-02 -2.67152518e-01 -3.89135569e-01 -7.38979876e-01\n",
      " -8.37670743e-01  5.72298944e-01 -7.10406125e-01  8.81140351e-01\n",
      " -6.68462753e-01 -9.22573328e-01 -1.42976657e-01  1.99682713e-01\n",
      "  3.14663202e-01  3.70700806e-01  4.01421160e-01  2.27345213e-01\n",
      "  4.59648609e-01  1.12027347e+00 -2.67912388e-01 -5.20605862e-01\n",
      " -1.77504644e-01 -8.52035880e-02 -2.96490550e-01 -5.09331226e-01\n",
      "  6.68849051e-03  1.12366103e-01  3.00831765e-01 -3.30019474e-01\n",
      "  6.54034197e-01 -3.85062009e-01 -5.88410139e-01 -3.29365581e-01\n",
      "  3.37458542e-03  2.36205399e-01  1.11356354e+00 -1.07806313e+00\n",
      "  3.99317384e-01  5.39119005e-01  6.19647741e-01 -7.00892389e-01\n",
      " -1.48374355e+00 -3.61557841e-01  3.88953656e-01 -4.00854707e-01\n",
      "  4.24820036e-01  2.11679876e-01 -5.22300489e-02 -8.19689333e-02\n",
      " -3.93952399e-01 -5.49184740e-01  6.86465561e-01  7.85957694e-01\n",
      " -3.43933582e-01  6.28779769e-01 -6.03268594e-02  4.95566009e-03\n",
      "  4.06427950e-01 -4.12384033e-01  6.50575340e-01 -8.11148703e-01\n",
      "  4.41956043e-01  8.81554842e-01 -6.55311942e-01  1.00676954e+00\n",
      " -6.34913206e-01 -1.80036828e-01 -7.75660932e-01  9.16229963e-01\n",
      "  7.39474297e-01  6.97671697e-02  1.15205638e-01 -4.17658120e-01\n",
      "  4.74667668e-01 -9.79411364e-01 -3.81544679e-01  2.47437000e-01\n",
      "  6.61745071e-01 -4.74969596e-01  3.63285810e-01  4.24247235e-01\n",
      " -1.21011746e+00  6.79312766e-01  7.59266436e-01  4.75257516e-01\n",
      "  6.27175868e-01  2.07543835e-01  7.34053016e-01 -2.88097650e-01\n",
      " -1.69813707e-01  1.07451177e+00  8.51906240e-02 -7.41407555e-03\n",
      "  3.55381280e-01 -1.89441696e-01 -7.57758498e-01  3.10620606e-01\n",
      "  1.02298081e+00  1.18328619e+00 -4.06243294e-01  2.42426142e-01\n",
      " -1.46963274e+00 -7.55897939e-01  3.79602432e-01 -5.07173955e-01\n",
      " -2.31623739e-01  5.97379953e-02  1.49210110e-01 -5.98074555e-01\n",
      "  2.54242986e-01 -3.22588742e-01 -1.18848205e-01  1.61924306e-02\n",
      "  3.53739053e-01  3.80368009e-02  4.70181018e-01  1.15538120e-01\n",
      " -4.54666525e-01 -8.06610882e-01 -4.50396180e-01  1.81326702e-01\n",
      " -1.39708698e-01 -3.44373643e-01 -2.58047938e-01 -1.11890577e-01\n",
      "  1.78654984e-01  8.21327031e-01 -4.58911210e-02 -4.15423185e-01\n",
      " -1.40516862e-01 -4.31605339e-01  7.39677176e-02 -7.01042593e-01\n",
      "  9.83226538e-01 -1.48174480e-01 -4.22122270e-01 -2.41373718e-01\n",
      " -7.44035900e-01 -1.70397386e-01 -8.88249815e-01 -7.89265931e-02\n",
      "  2.69271731e-02 -5.21329284e-01  5.41198254e-01 -4.91347998e-01\n",
      " -1.12142473e-01 -1.82137206e-01 -6.19674146e-01  2.92583436e-01\n",
      " -4.82420623e-01 -5.36027730e-01  2.28079364e-01  6.49974227e-01\n",
      "  6.52946949e-01 -5.83837293e-02 -2.93427259e-01 -3.60973805e-01\n",
      " -3.23965818e-01  3.53159457e-01 -5.99886715e-01 -9.81724188e-02\n",
      " -7.73180187e-01  1.48578182e-01 -1.33176312e-01  4.39925283e-01\n",
      " -2.86382580e+00 -2.34523386e-01 -8.48114550e-01  1.47860959e-01\n",
      "  4.09886748e-01  1.59995571e-01  8.45302641e-02  3.18580180e-01\n",
      "  1.43535167e-01  1.50076911e-01 -8.57980728e-01 -1.02526045e+00\n",
      " -1.00734413e+00  7.45064735e-01  4.26981330e-01  2.91355569e-02\n",
      " -3.10867190e-01  3.53981763e-01  2.72291154e-01  7.74146616e-01\n",
      " -6.93415105e-01 -1.92047060e-01  8.02793920e-01 -1.70294773e-02\n",
      " -8.69855523e-01  3.81247878e-01 -5.90659559e-01  3.47470254e-01\n",
      " -3.62110615e-01 -4.22883034e-01  5.09352982e-01 -4.37398218e-02\n",
      " -6.10347092e-03 -5.36343455e-01 -8.28649938e-01 -7.46487558e-01\n",
      "  1.31695545e+00 -2.53787905e-01  3.89138401e-01 -1.03086102e+00\n",
      "  1.02878816e-01  4.88632381e-01 -3.01675737e-01 -2.21536741e-01\n",
      " -2.45450407e-01  1.11272311e+00 -7.59408057e-01 -9.63837683e-01\n",
      "  7.06247568e-01  2.07371190e-01 -1.01923716e+00  3.25576484e-01\n",
      "  1.83343932e-01 -4.41813201e-01  3.40476990e-01 -4.28703189e-01\n",
      " -8.37659314e-02  3.20290208e-01  6.68760538e-01  1.03204057e-01\n",
      "  5.70776403e-01 -1.39300615e-01  1.04740307e-01 -5.54558814e-01\n",
      " -7.10439622e-01 -9.25590564e-03 -6.06540620e-01  2.05642417e-01\n",
      "  6.22370601e-01 -3.70432764e-01  3.20773572e-01 -1.69855341e-01\n",
      "  4.17731375e-01 -9.09439325e-01  2.20967308e-01 -6.33640707e-01\n",
      "  2.81973869e-01  1.70515344e-01  5.34407377e-01  2.02599749e-01\n",
      " -3.70688736e-01 -5.13458490e-01  8.05010080e-01  1.18836448e-01\n",
      "  8.03369462e-01 -3.34429860e-01 -3.25336188e-01 -1.71131396e+00\n",
      " -1.40502706e-01 -2.05326468e-01 -2.21547857e-01 -8.45401585e-01\n",
      " -1.64297000e-02  4.50044274e-01  2.80771554e-01 -4.60557759e-01\n",
      "  3.11628461e-01  2.18077600e-01  3.74546826e-01 -1.71877086e-01\n",
      "  2.92026639e-01 -7.84598529e-01 -4.43234712e-01 -2.49333188e-01\n",
      " -1.63977131e-01  9.13697481e-02 -1.63316357e+00  1.07358503e+00\n",
      "  1.41300291e-01 -4.06928182e-01 -2.59868234e-01  1.16400838e+00\n",
      " -6.02739632e-01 -8.57154250e-01 -2.89587155e-02  6.81571424e-01\n",
      " -1.05045140e+00  2.33338937e-01  6.68393774e-03 -1.15515858e-01\n",
      " -1.08403556e-01 -4.50400651e-01 -5.90810120e-01 -2.82721162e-01\n",
      " -1.13796234e+00  2.22406343e-01  8.55855882e-01 -6.65498853e-01\n",
      " -3.53032886e-03  1.95461940e-02 -7.47713447e-01 -3.83043945e-01\n",
      "  1.04456492e-01 -7.51811266e-01 -2.05636650e-01 -4.07147020e-01\n",
      " -5.44622362e-01  8.37247491e-01  2.07917258e-01 -1.76055804e-01\n",
      "  4.09931093e-01 -5.85312665e-01  8.05319250e-02  8.55711997e-01\n",
      "  2.30034679e-01  6.62054121e-01  2.55576597e-04  9.06963274e-02\n",
      " -3.57892096e-01 -8.47712159e-01  2.08704531e-01 -3.98200482e-01\n",
      " -4.14000064e-01 -7.11737990e-01  6.53905272e-02 -8.90512705e-01\n",
      "  3.89769524e-02  5.88043153e-01 -7.65715539e-01  5.56239523e-02\n",
      "  5.58177270e-02  2.40494639e-01  1.24520972e-01 -8.75160992e-01\n",
      " -2.82779962e-01  1.71035349e-01  1.12395354e-01  1.15072167e+00\n",
      " -1.05963540e+00  6.31121635e-01 -7.75008917e-01  1.69027090e-01\n",
      "  4.21452790e-01  8.56885970e-01  2.68184274e-01  6.35433942e-02\n",
      " -4.24632937e-01  5.29141366e-01  3.26894164e-01  1.33271778e+00\n",
      "  8.25012386e-01  3.38923544e-01  1.21406145e-01  8.76918733e-02\n",
      " -4.08843726e-01 -3.33380364e-02  2.37093680e-02  1.43292272e+00\n",
      " -8.17398787e-01 -4.23239350e-01 -3.53638902e-02 -3.22414994e-01\n",
      "  1.96538061e-01  5.26043832e-01 -7.12124348e-01 -4.56526369e-01\n",
      " -3.92630577e-01  7.72474468e-01 -1.10874936e-01 -2.66474605e-01\n",
      "  5.31415492e-02  4.80704010e-01 -5.72271287e-01 -2.78537393e-01\n",
      " -1.55349925e-01 -6.54011011e-01 -3.29037786e-01 -2.14480296e-01\n",
      "  2.10030705e-01  3.32573056e-01  3.78412992e-01 -1.35948360e+00\n",
      " -2.97976673e-01 -6.34227276e-01  3.82933706e-01 -8.66957664e-01\n",
      " -9.66775715e-02 -3.80320996e-02  8.06524038e-01 -2.47359276e-01\n",
      "  9.05733109e-01 -3.15809369e-01  4.40988429e-02  4.72325236e-01\n",
      "  6.54633269e-02  8.56109440e-01 -5.08100450e-01 -6.62041724e-01\n",
      " -8.88065770e-02  1.22202940e-01  1.25095165e+00 -3.91231894e-01\n",
      "  5.26822031e-01  5.29141426e-01 -5.59231155e-02 -1.26326346e+00\n",
      " -7.86482871e-01  1.09511420e-01  1.68172538e-01 -3.86698604e-01\n",
      " -3.20565095e-03 -6.18882298e-01 -4.17340100e-01 -6.08511925e-01\n",
      "  2.12147772e-01  3.97045212e-03  2.77858049e-01 -5.28500438e-01\n",
      " -5.65489411e-01  1.18118858e+00  2.42007002e-01 -9.01595354e-02\n",
      "  3.81972283e-01  2.49916464e-01  1.05823830e-01  1.30101717e+00\n",
      " -1.92869946e-01 -6.82303429e-01 -4.18889970e-01  5.58549106e-01\n",
      "  6.65356457e-01  3.52401048e-01  2.51769811e-01  9.63535532e-02\n",
      "  1.24055719e+00  1.84971511e+00 -2.57372677e-01  3.43938082e-01\n",
      "  7.99151003e-01 -5.43905675e-01 -4.17614162e-01 -9.52127278e-02\n",
      " -1.06696628e-01  1.25967062e+00  2.60941207e-01 -3.91496629e-01\n",
      " -6.58668131e-02  1.14386940e+00  4.15039241e-01  1.83031037e-01\n",
      " -6.56621814e-01  6.20383203e-01  3.31529886e-01 -5.80141321e-02\n",
      "  1.17289473e-03  1.55370504e-01  7.31684864e-01  8.07848752e-01\n",
      " -1.36351790e-02  1.47507513e+00 -5.12705863e-01  7.58707464e-01\n",
      " -4.79534358e-01 -6.78138584e-02 -7.20372140e-01 -3.52890462e-01\n",
      " -9.06659290e-02 -1.90547526e-01 -4.51206684e-01  5.34137487e-01\n",
      " -6.29582644e-01 -1.58068523e-01  8.40955555e-01 -9.84027922e-01\n",
      " -1.92261219e-01 -3.19941193e-02  2.78387666e-01 -7.10445285e-01\n",
      " -1.42881259e-01  7.66932726e-01  8.74024451e-01  4.58153814e-01\n",
      "  1.48534879e-01 -1.67702571e-01 -6.17567480e-01 -8.18408072e-01\n",
      " -6.41513824e-01 -5.92867136e-01  6.67075396e-01  1.31450117e-01\n",
      " -2.54894733e-01  1.58515751e-01  7.12849200e-01  4.78039831e-01\n",
      " -9.15356636e-01  6.23601973e-01  7.12536275e-01  7.24804938e-01\n",
      " -8.70871902e-01 -4.06955063e-01  7.56299257e-01  2.84785539e-01\n",
      " -5.51352084e-01 -5.32105803e-01 -1.81077525e-01 -1.18573391e+00\n",
      "  9.41803217e-01  4.02476221e-01  5.59955537e-01  4.67358381e-01\n",
      "  1.52355373e+00  4.58848387e-01 -3.48096967e-01 -2.93008894e-01\n",
      " -5.03923893e-01 -3.11111003e-01  9.10526633e-01  6.87662303e-01\n",
      " -2.44304225e-01  6.80798471e-01  4.06682879e-01  2.92712778e-01\n",
      "  8.68443668e-01  3.26752998e-02  2.10940376e-01  2.24578515e-01\n",
      "  7.26025403e-01  1.39279636e-02  2.56955236e-01 -2.39731729e-01\n",
      " -2.65817136e-01  5.74615419e-01 -2.58299083e-01  3.08333546e-01\n",
      "  1.11765754e+00 -5.68172395e-01  3.90123725e-01 -1.21320516e-01\n",
      "  1.15087116e+00  4.73950595e-01 -2.80501079e-02 -1.26301467e+00\n",
      " -2.54386634e-01  4.36131001e-01 -4.98352259e-01  2.60789007e-01\n",
      "  2.80573726e-01  3.83757114e-01 -7.42245745e-03  3.74777764e-01\n",
      "  3.64396870e-01 -1.94472447e-01  1.05881822e+00  5.08562744e-01\n",
      " -3.61537009e-01 -1.71768677e+00  2.09934473e-01  4.13627923e-01\n",
      "  5.07781282e-02  4.23009098e-01 -4.13766414e-01 -9.77403820e-01\n",
      " -6.30038679e-01  1.04184840e-02 -5.44138134e-01  4.34341609e-01\n",
      " -1.16422206e-01  1.37843378e-02 -1.08013704e-01  1.20243147e-01\n",
      " -7.78838396e-01  5.23700379e-02  2.87289828e-01  2.59988993e-01\n",
      " -1.62148908e-01  7.42169142e-01 -1.53723702e-01  8.97591934e-02\n",
      "  5.29012620e-01  6.87900484e-01  5.46862066e-01 -3.74679685e-01\n",
      " -3.44211787e-01  3.72857749e-01 -8.37339044e-01 -2.31498964e-02\n",
      " -7.46048331e-01 -7.59570539e-01  3.18551064e-01  1.80058360e-01\n",
      " -8.96083593e-01  9.42953527e-02 -6.69384956e-01  7.47278929e-01\n",
      " -4.57248300e-01  6.22084439e-01 -1.14030510e-01 -1.19345551e-02\n",
      " -1.02484035e+00 -4.29096311e-01 -1.28136240e-02  5.84514678e-01\n",
      "  2.22974792e-01 -1.67731524e-01 -1.60489837e-03  1.30092040e-01\n",
      " -4.97956187e-01 -1.10762371e-02 -4.00647931e-02  1.90282524e-01\n",
      " -8.54037225e-01  1.54336587e-01 -6.49003685e-01 -4.08151925e-01\n",
      "  1.53439432e-01  6.37000620e-01 -2.30156049e-01 -1.26162320e-01\n",
      " -1.29768407e+00 -2.31317952e-01  1.81397006e-01 -3.64739329e-01\n",
      "  5.99481016e-02  2.28525117e-01 -4.61108387e-01  2.57768869e-01\n",
      "  4.29732531e-01  2.62443796e-02 -2.69849203e-03  9.16110754e-01]\n",
      "\n",
      "Sentence: The quick brown fox jumps over the lazy dog.\n",
      "Embedding: [-7.48992920e-01  7.18918025e-01 -1.03945673e+00  6.40880838e-02\n",
      "  5.07046022e-02 -7.29061544e-01 -3.76505464e-01 -3.55324745e-01\n",
      " -3.26092094e-01 -8.52053642e-01 -7.53132403e-01  4.70396250e-01\n",
      "  4.94382054e-01 -9.81241524e-01  5.25114775e-01  5.14423065e-02\n",
      "  2.63521105e-01 -4.72908884e-01 -5.63556612e-01 -3.98235232e-01\n",
      " -1.09098685e+00 -9.56331015e-01 -1.05484271e+00 -1.19413042e+00\n",
      "  2.45999634e-01  1.42908007e-01  4.00505632e-01  7.62017548e-01\n",
      " -1.48994482e+00  4.75573182e-01 -2.23084375e-01  7.11629689e-01\n",
      "  9.23706055e-01  3.10659617e-01 -1.25945404e-01  4.76386786e-01\n",
      "  7.28373528e-01 -1.78214967e-01  1.32955864e-01 -7.00440705e-01\n",
      "  1.47977257e+00  6.53267562e-01  1.23702638e-01 -3.96856040e-01\n",
      " -1.30992639e+00  8.32499713e-02 -4.97383207e-01  3.48182648e-01\n",
      "  8.05849016e-01 -7.36116990e-02  1.12330770e+00  8.42472315e-01\n",
      " -5.96382260e-01 -2.28687689e-01 -7.50627100e-01 -4.62216347e-01\n",
      "  1.02788699e+00  7.33011901e-01 -6.11538410e-01 -4.40821797e-01\n",
      " -6.43082321e-01 -2.61532012e-02 -3.57231379e-01 -4.99736279e-01\n",
      " -8.62857163e-01  7.75570869e-01  6.90210104e-01  4.74940650e-02\n",
      " -2.42405966e-01  5.95517159e-01 -2.32226059e-01 -1.47825229e+00\n",
      " -9.41591263e-01  6.36695802e-01  1.81633487e-01 -2.05525994e-01\n",
      "  1.10084198e-01  3.10693290e-02 -3.66381764e-01  7.06290424e-01\n",
      "  1.19408309e-01  1.73130736e-01 -2.41790012e-01 -6.27140462e-01\n",
      " -4.47020270e-02  6.13095820e-01  6.02727234e-01  3.00851911e-01\n",
      " -4.87920493e-01 -5.40864980e-03  4.68331337e-01 -3.40206712e-01\n",
      " -3.85535270e-01  8.98807466e-01 -1.26096666e+00  5.35811841e-01\n",
      "  7.68297374e-01 -3.33786219e-01  6.12870038e-01  1.45210519e-01\n",
      " -3.41313332e-01  7.58942664e-01  1.02581121e-01 -1.16646886e-01\n",
      " -7.99160421e-01 -1.91064086e-02 -1.79886416e-01 -1.00314867e+00\n",
      " -1.34559965e+00  6.22896254e-01 -6.00577705e-02  6.74568236e-01\n",
      "  6.39314577e-02 -2.47630879e-01 -1.26212239e-01  6.10003412e-01\n",
      "  7.59523213e-01  1.03613985e+00 -1.04218423e-01  3.85688901e-01\n",
      "  5.02425671e-01 -4.98849481e-01  4.57245737e-01 -7.16858124e-03\n",
      "  4.73019361e-01  1.56575069e-03  7.44690895e-02  5.83956301e-01\n",
      "  1.59622777e+00 -3.13563794e-01  2.07429215e-01  5.83319604e-01\n",
      " -5.02045751e-01 -5.53505421e-01  9.04213727e-01  5.51708639e-01\n",
      "  3.22245866e-01 -3.68409634e-01 -3.79204482e-01 -5.14391422e-01\n",
      " -6.87030852e-02 -3.07081938e-01  2.29007050e-01  1.10430820e-02\n",
      "  6.04413211e-01  4.43148464e-01  9.64494646e-01 -6.00817144e-01\n",
      " -3.97997528e-01  6.12875186e-02  1.34337410e-01 -2.51545399e-01\n",
      " -6.72250271e-01  9.55458879e-01 -1.87644303e-01 -3.45825046e-01\n",
      " -5.39595306e-01 -7.94026613e-01  2.98618879e-02  9.28024828e-01\n",
      " -6.02792017e-02  1.42756730e-01 -7.27147281e-01 -2.99047470e-01\n",
      "  4.92026024e-02 -4.02318925e-01 -6.57426655e-01 -8.42904970e-02\n",
      " -1.31653953e+00 -5.32820761e-01 -2.57412225e-01  6.72589839e-01\n",
      "  4.04782861e-01  1.91555858e-01 -5.70600450e-01 -1.28458887e-01\n",
      " -3.22102934e-01  1.13175241e-02 -5.49796343e-01 -4.03912514e-01\n",
      "  5.86480945e-02 -5.48919499e-01  5.48429310e-01 -9.02575776e-02\n",
      "  2.43445873e-01 -1.08700238e-01  4.60869819e-01 -6.89900741e-02\n",
      " -5.39032757e-01 -8.39110792e-01 -9.95990276e-01 -4.52266812e-01\n",
      "  1.75618768e-01 -1.22124708e+00  5.42580001e-02 -5.79408228e-01\n",
      " -1.27533185e+00 -2.70703822e-01  2.53468931e-01 -1.14964671e-01\n",
      " -7.37199605e-01  5.50903715e-02  3.45743328e-01  1.59582779e-01\n",
      " -7.97554571e-03  4.43171710e-01  3.81377816e-01 -2.55718559e-01\n",
      " -7.07030833e-01  8.13932419e-01 -4.16877121e-02 -1.61004692e-01\n",
      "  1.83520630e-01  3.79395396e-01  1.50617346e-01  4.47295099e-01\n",
      " -5.82937658e-01 -3.07890028e-02  8.18679810e-01  1.58967817e+00\n",
      " -3.07157218e-01  1.19310677e-01 -5.75402558e-01 -1.50496960e-01\n",
      "  1.52102694e-01  9.09226000e-01  1.04341984e+00 -1.89569607e-01\n",
      "  5.88570058e-01  3.85711998e-01 -1.44468129e-01 -1.76384985e-01\n",
      " -6.24822557e-01  3.17165628e-03 -5.93913972e-01 -6.52272284e-01\n",
      "  1.13163024e-01  1.90777227e-01  1.55235767e+00 -2.55215615e-02\n",
      "  1.53898358e-01 -1.93194055e-03  3.85504097e-01  4.83175278e-01\n",
      "  2.82342523e-01 -8.47337842e-02  2.41265431e-01  3.99894953e-01\n",
      " -9.10857856e-01 -9.50989351e-02 -5.30499697e-01  4.97876674e-01\n",
      "  9.75710452e-01 -7.59971797e-01  1.11223722e+00 -6.13066792e-01\n",
      " -6.66850865e-01 -6.50264993e-02  1.46748587e-01 -7.38237858e-01\n",
      "  6.78651273e-01 -8.11962426e-01 -6.42770529e-02  3.96708727e-01\n",
      " -7.38169432e-01 -6.24293268e-01 -2.17027739e-01 -4.72990662e-01\n",
      " -2.79599309e-01 -1.04231238e-01  3.67593765e-01 -1.27083659e-01\n",
      "  2.38441765e-01  4.04752254e-01 -4.51928884e-01 -5.85803568e-01\n",
      "  6.23361290e-01 -9.21544507e-02 -2.07369760e-01 -4.98400241e-01\n",
      " -9.10207629e-02  2.36233354e-01 -7.50617564e-01  5.99037468e-01\n",
      "  4.36705679e-01  4.01008725e-01  7.76203811e-01 -8.90909970e-01\n",
      " -7.02553928e-01  1.57076016e-01  1.09165780e-01 -2.59566426e-01\n",
      " -1.45387173e-01  7.24546432e-01 -7.93065369e-01  1.61868036e-01\n",
      "  4.42852587e-01 -8.74203444e-01  1.04492605e-01 -4.28895265e-01\n",
      "  1.60992578e-01 -1.32619783e-01  6.94980621e-02 -1.02091484e-01\n",
      " -2.97143728e-01  1.39514491e-01  7.45417058e-01  6.29713893e-01\n",
      " -2.52123713e-01  2.65657336e-01 -2.54110783e-01 -5.29552162e-01\n",
      " -2.35220268e-01 -1.56049617e-02  8.12600255e-02  3.00077349e-03\n",
      " -1.66084957e+00  1.59181726e+00 -7.40406334e-01 -9.47950661e-01\n",
      "  4.24661040e-01 -1.08158052e-01  2.35370263e-01 -1.39197099e+00\n",
      "  6.25028670e-01 -1.01302099e+00 -9.47233617e-01  2.17967525e-01\n",
      " -5.22071421e-01  6.76986650e-02  8.85053799e-02  1.50469914e-01\n",
      "  4.93941396e-01  2.52039790e-01 -2.21916556e-01 -1.60233059e-03\n",
      " -1.16847956e+00 -7.84187973e-01 -4.69599068e-02 -7.98232079e-01\n",
      " -1.63496807e-01 -9.47874412e-02  4.00209755e-01  3.64730000e-01\n",
      "  2.25748971e-01  5.78849733e-01 -4.60635394e-01  1.28033149e+00\n",
      "  1.20064272e-02 -4.89058010e-02 -5.44319689e-01 -7.87513778e-02\n",
      "  4.09859329e-01 -1.37032187e+00  6.42456710e-01 -3.33459646e-01\n",
      " -3.62930685e-01 -1.97253749e-01 -8.16371262e-01  7.99118355e-02\n",
      " -1.04852808e+00  1.07403719e+00  5.72675288e-01 -6.34972870e-01\n",
      " -9.51008573e-02  2.62666017e-01  5.04675172e-02  2.77961850e-01\n",
      "  1.29978016e-01  1.51358962e-01  1.77785829e-01  1.54990423e+00\n",
      "  5.27438581e-01  1.44689456e-01  7.38888502e-01 -9.52929556e-01\n",
      "  3.27550411e-01 -3.80066067e-01 -6.28726482e-02 -5.34855463e-02\n",
      " -2.85484898e-03 -7.59369791e-01  1.22685337e+00  4.32314038e-01\n",
      "  5.57794213e-01 -2.69502163e-01 -1.23689272e-01 -1.93062425e-01\n",
      " -1.48343384e-01 -4.85396147e-01  4.03905153e-01  9.64847282e-02\n",
      " -1.52983859e-01 -1.87676802e-01 -1.12965345e-01  7.97434628e-01\n",
      "  1.66518271e-01 -8.05230916e-01  1.05732572e+00  5.87020479e-02\n",
      "  2.82952458e-01 -4.22020435e-01  6.37691796e-01  4.47752476e-01\n",
      " -1.75302625e-01 -5.45566499e-01  7.18333274e-02 -4.64679338e-02\n",
      "  5.52757263e-01 -4.04481024e-01  9.01938140e-01 -1.71661302e-01\n",
      " -6.26322687e-01  4.01125282e-01  7.98482224e-02 -1.68812454e-01\n",
      "  6.17539108e-01  5.11141837e-01 -9.83918369e-01 -2.56562084e-01\n",
      " -2.06940129e-01  6.01781845e-01  1.10922146e+00  6.80181608e-02\n",
      "  6.82886660e-01 -7.02309608e-01 -6.86145306e-01  6.43511236e-01\n",
      " -6.50378406e-01  2.04407990e-01  3.87157917e-01  1.68187752e-01\n",
      " -3.56974363e-01 -9.08825874e-01  3.51571217e-02 -2.19397008e-01\n",
      "  1.90857995e+00 -1.48842204e+00 -9.46040824e-02  4.27807570e-01\n",
      " -1.97310030e-01 -5.98644018e-01  1.69694436e+00 -2.59778738e-01\n",
      "  1.22228460e-02  1.24414623e-01 -8.63532946e-02 -9.54245627e-01\n",
      " -3.82143021e-01  2.85518080e-01  5.88514626e-01 -5.80855012e-01\n",
      "  1.20884508e-01  2.85727888e-01  1.52870941e+00 -7.88190901e-01\n",
      " -7.22959995e-01  5.55728734e-01 -3.66157085e-01 -4.46390986e-01\n",
      "  7.00848877e-01  1.05975425e+00 -4.16609168e-01  2.47543920e-02\n",
      "  7.87883759e-01 -3.14775437e-01  2.06867382e-01  3.76141161e-01\n",
      "  2.45657086e-01 -1.98385581e-01 -1.44995749e-01 -1.58253014e-01\n",
      "  9.57106650e-01  1.23632729e+00  1.17112958e+00 -9.58223715e-02\n",
      " -1.46100485e+00  4.04722124e-01 -4.24600273e-01  7.39081800e-01\n",
      " -7.11062729e-01  6.37111187e-01  3.82024676e-01 -9.32846785e-01\n",
      "  3.66695911e-01  1.71368062e-01 -3.10909480e-01 -1.57719687e-01\n",
      " -8.06494892e-01 -8.24577808e-01 -1.46168306e-01 -2.46298313e-03\n",
      "  1.19258739e-01 -9.99335587e-01  6.75446510e-01  8.42917264e-01\n",
      "  5.36762655e-01 -7.77787948e-03 -2.83562541e-01 -2.34835744e-01\n",
      "  8.49282503e-01  3.70429188e-01 -2.82032281e-01 -9.87842619e-01\n",
      "  1.50838479e-01  7.14016199e-01  1.17382385e-01 -9.04097557e-01\n",
      "  1.94027200e-01 -3.36992115e-01  2.92762369e-01 -9.39749539e-01\n",
      "  8.96986961e-01 -2.24653319e-01 -5.06739430e-02  4.03028578e-01\n",
      "  6.01721644e-01 -6.07204378e-01 -5.74863136e-01 -1.46968350e-01\n",
      " -1.99145198e-01 -1.71824694e-01 -4.82874066e-01  3.51880580e-01\n",
      " -4.49473001e-02 -3.11972827e-01 -5.50944269e-01  3.13837737e-01\n",
      " -6.29733980e-01  6.83808625e-01 -6.78140700e-01 -2.49621749e-01\n",
      "  3.64685804e-01  2.04463556e-01 -7.90162086e-01  1.54087055e+00\n",
      " -5.11306643e-01  2.47475761e-03  5.55732191e-01  2.98048586e-01\n",
      " -4.44919378e-01  1.29489854e-01 -3.87010455e-01 -4.75024700e-01\n",
      "  2.88611334e-02  2.19130471e-01  6.14193797e-01 -5.37427664e-01\n",
      "  6.80266082e-01  1.05649865e+00  3.34850073e-01  9.76745784e-01\n",
      "  1.83048606e-01  1.07920635e+00 -2.92225540e-01 -1.58277348e-01\n",
      " -7.50886142e-01 -1.26709387e-01  1.06944703e-01  1.21209466e+00\n",
      " -6.64655939e-02  4.48267311e-01 -2.87896842e-01  1.55125603e-01\n",
      " -8.30375671e-01 -2.26886913e-01 -1.00150347e-01 -4.78761822e-01\n",
      " -7.79483855e-01  5.23098886e-01  2.83179879e-01 -5.61910629e-01\n",
      " -3.07941079e-01 -1.15551364e+00 -1.33634615e+00 -1.22980034e+00\n",
      " -1.31756635e-02 -6.66176140e-01  5.32695472e-01  2.12297559e-01\n",
      "  3.08520943e-01 -4.05258328e-01  8.08856636e-02  2.28190064e-01\n",
      "  9.03706729e-01  1.38839126e-01  9.32515040e-02  1.27047122e-01\n",
      " -8.92592072e-02  2.84330696e-01 -2.16278527e-02  6.46679640e-01\n",
      "  4.97596145e-01 -5.17266870e-01  5.84031232e-02 -2.96495438e-01\n",
      " -1.90525189e-01  7.06973612e-01 -1.48079261e-01 -1.15167573e-02\n",
      "  4.46531445e-01 -3.45796466e-01 -2.09618986e-01  7.07433879e-01\n",
      "  3.37104052e-01  1.21413982e+00  1.31420708e+00 -7.00782239e-01\n",
      " -4.77405876e-01 -1.75292492e-01  6.67092621e-01 -9.40558255e-01\n",
      " -2.90306032e-01 -8.35246384e-01 -2.03418151e-01  9.58007395e-01\n",
      "  4.91981655e-01 -3.01479638e-01 -2.23382428e-01  6.09071441e-02\n",
      " -7.76067078e-01  7.55599201e-01 -2.19294086e-01 -1.10876906e+00\n",
      " -1.00734793e-01 -1.28101170e+00  8.89320910e-01  2.68652678e-01\n",
      " -1.42667875e-01 -5.02965212e-01 -5.45852840e-01 -9.19859350e-01\n",
      " -1.26301157e+00  3.33855033e-01 -8.99584770e-01  1.60733783e+00\n",
      "  8.19968522e-01  7.05397427e-01 -4.52288985e-01  1.94157645e-01\n",
      " -1.43362200e-02 -8.81613076e-01 -5.62499702e-01  3.03615421e-01\n",
      "  1.02411008e+00 -2.18739450e-01  6.02235496e-02 -3.73729140e-01\n",
      "  3.96130711e-01 -5.28723001e-01 -3.80660966e-03  1.31713176e+00\n",
      " -5.03590524e-01  2.41986468e-01 -9.82908726e-01  1.27414003e-01\n",
      " -1.00313246e+00  4.74703997e-01 -4.31046337e-01  1.07883835e+00\n",
      "  2.40687385e-01  3.12340051e-01 -6.28950179e-01 -7.61427164e-01\n",
      " -4.36236233e-01  3.35469961e-01 -1.08802700e+00  2.54389971e-01\n",
      "  5.91454327e-01  1.01180124e+00 -3.69658232e-01 -3.07626456e-01\n",
      " -1.24497622e-01 -1.69384718e-01  2.08625793e-01  4.25453544e-01\n",
      "  2.13046372e-01  1.34345099e-01 -4.70284313e-01  4.96703297e-01\n",
      " -4.83698845e-01  2.76313182e-02 -5.94282597e-02  2.34022662e-01\n",
      "  1.44974518e+00 -2.54710048e-01 -4.39001173e-01 -2.53181905e-01\n",
      " -1.16297472e+00  4.15557712e-01 -5.22432029e-01  1.05741453e+00\n",
      " -7.09118173e-02  1.17177404e-01 -3.56281191e-01 -2.88763717e-02\n",
      " -3.24331224e-02 -6.92090333e-01 -7.15070426e-01  6.43687427e-01\n",
      "  2.05907941e-01  5.44912994e-01 -3.83615822e-01 -3.42805475e-01\n",
      "  4.76467282e-01  7.70707607e-01 -3.60835105e-01  8.89503956e-03\n",
      "  3.86116475e-01  2.53307700e-01  2.47732416e-01  7.27000773e-01\n",
      "  5.76408803e-01  3.02436560e-01  3.82625073e-01 -8.24215591e-01\n",
      " -7.15012923e-02  1.41045555e-01  5.83239906e-02  5.56792021e-01\n",
      "  2.44790480e-01 -3.27050716e-01  4.05867487e-01 -1.06889832e+00\n",
      "  1.26294568e-01  6.77099884e-01 -8.56139898e-01  7.53375217e-02\n",
      "  1.13929577e-01 -5.34633100e-01  5.08679152e-01 -1.03934050e+00\n",
      " -5.02229631e-01 -6.56898260e-01  2.50733346e-02 -8.98520291e-01\n",
      "  1.22110574e-02 -2.83248872e-01 -1.22286808e+00  7.48787463e-01\n",
      "  1.50372550e-01 -1.36976433e+00 -2.64339060e-01 -1.14104187e+00\n",
      "  5.29680312e-01  5.28381288e-01  2.97211915e-01 -2.69296169e-01\n",
      " -5.18069923e-01  4.99537557e-01  7.62890637e-01  9.13713992e-01\n",
      " -3.93316865e-01 -1.21308468e-01  1.22516060e+00  8.80387247e-01\n",
      " -7.26236105e-01  6.09840043e-02 -4.41196948e-01  1.18411936e-01\n",
      " -9.04192924e-01 -1.02773130e+00 -1.05828188e-01 -1.22769177e+00\n",
      " -3.94301385e-01  1.55825824e-01  1.02025127e+00  9.79041755e-02]\n",
      "\n"
     ]
    }
   ],
   "source": [
    "for sentence, embedding in zip(sentences, sentence_embeddings):\n",
    "    print(\"Sentence:\", sentence)\n",
    "    print(\"Embedding:\", embedding)\n",
    "    print(\"\")"
   ]
  },
  {
   "cell_type": "markdown",
   "metadata": {
    "id": "zTELxKAdjLC2"
   },
   "source": [
    "### Each Sentence Embedding if of the following Dimension"
   ]
  },
  {
   "cell_type": "code",
   "execution_count": null,
   "metadata": {
    "colab": {
     "base_uri": "https://localhost:8080/",
     "height": 35
    },
    "executionInfo": {
     "elapsed": 197145,
     "status": "ok",
     "timestamp": 1581823700165,
     "user": {
      "displayName": "Soharab Hossain Shaikh",
      "photoUrl": "https://lh3.googleusercontent.com/a-/AAuE7mDS33q6Y525JCEhkrshcALqx-UKGSBVEr-iDtTF=s64",
      "userId": "09822763254488834038"
     },
     "user_tz": -330
    },
    "id": "YadP_0Q8ACyr",
    "outputId": "bb5a075e-3a40-47ad-a638-9ac55e0e3247"
   },
   "outputs": [
    {
     "data": {
      "text/plain": [
       "(768,)"
      ]
     },
     "execution_count": 24,
     "metadata": {
      "tags": []
     },
     "output_type": "execute_result"
    }
   ],
   "source": [
    "embedding.shape"
   ]
  },
  {
   "cell_type": "markdown",
   "metadata": {
    "id": "fUgOcpFJD2D-"
   },
   "source": [
    "## Text to be Summarized"
   ]
  },
  {
   "cell_type": "code",
   "execution_count": null,
   "metadata": {
    "id": "6TgqVISAGunO"
   },
   "outputs": [],
   "source": [
    "sentences = ['Over the past 24 hours in Hubei alone, nearly 15,000 people were moved into the infected column.',\n",
    "            'This would have sent shockwaves around the world, but actually, if you consider Wednesday cases by the old definition, the rate could well day of decline a completely different picture.',\n",
    "            'So now, we are scratching our heads: do we start looking at the pattern again since Thursday onwards?',\n",
    "            'This has also left many wondering what the real death rate must have been over recent weeks and the extent to which we should be treating the overall figures seriously anyway.'\n",
    "            'Meanwhile, the Communist Party secretary in Hubei, Jiang Chaoliang, has been replaced by the Shanghai party chief, Ying Yong, according to state media.', \n",
    "            'The party chief of the capital city, Wuhan, has also been relieved of his duties.'\n",
    "            ]\n",
    "\n",
    "sentence_embeddings = model.encode(sentences)"
   ]
  },
  {
   "cell_type": "code",
   "execution_count": null,
   "metadata": {
    "id": "OqOBhJy4BHjq"
   },
   "outputs": [],
   "source": [
    "from sklearn.cluster import KMeans\n",
    "kmeans = KMeans(n_clusters=1)"
   ]
  },
  {
   "cell_type": "code",
   "execution_count": null,
   "metadata": {
    "colab": {
     "base_uri": "https://localhost:8080/",
     "height": 72
    },
    "executionInfo": {
     "elapsed": 736,
     "status": "ok",
     "timestamp": 1581825282021,
     "user": {
      "displayName": "Soharab Hossain Shaikh",
      "photoUrl": "https://lh3.googleusercontent.com/a-/AAuE7mDS33q6Y525JCEhkrshcALqx-UKGSBVEr-iDtTF=s64",
      "userId": "09822763254488834038"
     },
     "user_tz": -330
    },
    "id": "y26Lyb4mBqzw",
    "outputId": "c7bfff06-16ea-49c2-f816-487a423df134"
   },
   "outputs": [
    {
     "data": {
      "text/plain": [
       "KMeans(algorithm='auto', copy_x=True, init='k-means++', max_iter=300,\n",
       "       n_clusters=1, n_init=10, n_jobs=None, precompute_distances='auto',\n",
       "       random_state=None, tol=0.0001, verbose=0)"
      ]
     },
     "execution_count": 50,
     "metadata": {
      "tags": []
     },
     "output_type": "execute_result"
    }
   ],
   "source": [
    "kmeans.fit(sentence_embeddings)"
   ]
  },
  {
   "cell_type": "code",
   "execution_count": null,
   "metadata": {
    "id": "9-J9f84zBsZ0"
   },
   "outputs": [],
   "source": [
    "cc = kmeans.cluster_centers_"
   ]
  },
  {
   "cell_type": "code",
   "execution_count": null,
   "metadata": {
    "id": "IUgynjlyBuMy"
   },
   "outputs": [],
   "source": [
    "#kmeans.labels_"
   ]
  },
  {
   "cell_type": "code",
   "execution_count": null,
   "metadata": {
    "colab": {
     "base_uri": "https://localhost:8080/",
     "height": 109
    },
    "executionInfo": {
     "elapsed": 1055,
     "status": "ok",
     "timestamp": 1581827754951,
     "user": {
      "displayName": "Soharab Hossain Shaikh",
      "photoUrl": "https://lh3.googleusercontent.com/a-/AAuE7mDS33q6Y525JCEhkrshcALqx-UKGSBVEr-iDtTF=s64",
      "userId": "09822763254488834038"
     },
     "user_tz": -330
    },
    "id": "sORlQVloQ0HJ",
    "outputId": "7bf74373-b03f-4553-8b0b-34a977e1b3e4"
   },
   "outputs": [
    {
     "data": {
      "text/plain": [
       "[11.548902445608462,\n",
       " 9.577480184832877,\n",
       " 10.193076221230173,\n",
       " 7.212160049184701,\n",
       " 10.996148228101042]"
      ]
     },
     "execution_count": 54,
     "metadata": {
      "tags": []
     },
     "output_type": "execute_result"
    }
   ],
   "source": [
    "from scipy.spatial import distance\n",
    "dst = []\n",
    "for i, emb in enumerate(sentence_embeddings):\n",
    " dst.append(distance.euclidean(cc, emb))\n",
    "\n",
    "dst\n"
   ]
  },
  {
   "cell_type": "code",
   "execution_count": null,
   "metadata": {
    "colab": {
     "base_uri": "https://localhost:8080/",
     "height": 35
    },
    "executionInfo": {
     "elapsed": 1035,
     "status": "ok",
     "timestamp": 1581827930520,
     "user": {
      "displayName": "Soharab Hossain Shaikh",
      "photoUrl": "https://lh3.googleusercontent.com/a-/AAuE7mDS33q6Y525JCEhkrshcALqx-UKGSBVEr-iDtTF=s64",
      "userId": "09822763254488834038"
     },
     "user_tz": -330
    },
    "id": "U38L3-8_SFCp",
    "outputId": "f6c6a8e6-c099-4cf1-c34a-65124cc0256a"
   },
   "outputs": [
    {
     "data": {
      "text/plain": [
       "3"
      ]
     },
     "execution_count": 61,
     "metadata": {
      "tags": []
     },
     "output_type": "execute_result"
    }
   ],
   "source": [
    "import numpy as np\n",
    "np.argmin(dst)"
   ]
  },
  {
   "cell_type": "markdown",
   "metadata": {
    "id": "4BiHJkqmTv9H"
   },
   "source": [
    "## Summary"
   ]
  },
  {
   "cell_type": "code",
   "execution_count": null,
   "metadata": {
    "colab": {
     "base_uri": "https://localhost:8080/",
     "height": 55
    },
    "executionInfo": {
     "elapsed": 1089,
     "status": "ok",
     "timestamp": 1581828206514,
     "user": {
      "displayName": "Soharab Hossain Shaikh",
      "photoUrl": "https://lh3.googleusercontent.com/a-/AAuE7mDS33q6Y525JCEhkrshcALqx-UKGSBVEr-iDtTF=s64",
      "userId": "09822763254488834038"
     },
     "user_tz": -330
    },
    "id": "sHBo8s9eTpHy",
    "outputId": "921c8b4a-bcbd-495d-b5f6-3bed8a4db339"
   },
   "outputs": [
    {
     "data": {
      "text/plain": [
       "'This has also left many wondering what the real death rate must have been over recent weeks and the extent to which we should be treating the overall figures seriously anyway.Meanwhile, the Communist Party secretary in Hubei, Jiang Chaoliang, has been replaced by the Shanghai party chief, Ying Yong, according to state media.This would have sent shockwaves around the world, but actually, if you consider Wednesday cases by the old definition, the rate could well day of decline a completely different picture.'"
      ]
     },
     "execution_count": 62,
     "metadata": {
      "tags": []
     },
     "output_type": "execute_result"
    }
   ],
   "source": [
    "sentences[3] + sentences[1]"
   ]
  }
 ],
 "metadata": {
  "accelerator": "GPU",
  "colab": {
   "collapsed_sections": [],
   "name": "Text_Summarization_with BERT_Extractive_Summarizer.ipynb",
   "provenance": []
  },
  "kernelspec": {
   "display_name": "Python 3",
   "language": "python",
   "name": "python3"
  },
  "language_info": {
   "codemirror_mode": {
    "name": "ipython",
    "version": 3
   },
   "file_extension": ".py",
   "mimetype": "text/x-python",
   "name": "python",
   "nbconvert_exporter": "python",
   "pygments_lexer": "ipython3",
   "version": "3.8.1"
  }
 },
 "nbformat": 4,
 "nbformat_minor": 1
}
