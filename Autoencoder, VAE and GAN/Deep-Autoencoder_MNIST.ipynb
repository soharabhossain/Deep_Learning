{
 "cells": [
  {
   "cell_type": "markdown",
   "metadata": {
    "colab_type": "text",
    "id": "8sIzE6AshLFn"
   },
   "source": [
    "# Image Compression and Reconstruction with Deep Autoencoder"
   ]
  },
  {
   "cell_type": "markdown",
   "metadata": {
    "colab_type": "text",
    "id": "3sMiJ_Sfhac1"
   },
   "source": [
    "### Import Libraries"
   ]
  },
  {
   "cell_type": "code",
   "execution_count": 1,
   "metadata": {
    "colab": {},
    "colab_type": "code",
    "executionInfo": {
     "elapsed": 3348,
     "status": "ok",
     "timestamp": 1597415759654,
     "user": {
      "displayName": "Soharab Hossain Shaikh",
      "photoUrl": "https://lh3.googleusercontent.com/a-/AOh14GhBdf9_yxWk3w2Eoi255TRwwwdECUWdZJ9Hht8S=s64",
      "userId": "09822763254488834038"
     },
     "user_tz": -330
    },
    "id": "yml1PjHXu1hH"
   },
   "outputs": [],
   "source": [
    "import tensorflow as tf"
   ]
  },
  {
   "cell_type": "code",
   "execution_count": 1,
   "metadata": {
    "colab": {},
    "colab_type": "code",
    "executionInfo": {
     "elapsed": 1083,
     "status": "ok",
     "timestamp": 1597467669801,
     "user": {
      "displayName": "Soharab Hossain Shaikh",
      "photoUrl": "https://lh3.googleusercontent.com/a-/AOh14GhBdf9_yxWk3w2Eoi255TRwwwdECUWdZJ9Hht8S=s64",
      "userId": "09822763254488834038"
     },
     "user_tz": -330
    },
    "id": "ggLXIHlmfhxO"
   },
   "outputs": [],
   "source": [
    "import numpy as np\n",
    "import pandas as pd\n",
    "import matplotlib.pyplot as plt"
   ]
  },
  {
   "cell_type": "code",
   "execution_count": 5,
   "metadata": {
    "colab": {},
    "colab_type": "code",
    "executionInfo": {
     "elapsed": 1064,
     "status": "ok",
     "timestamp": 1597467699339,
     "user": {
      "displayName": "Soharab Hossain Shaikh",
      "photoUrl": "https://lh3.googleusercontent.com/a-/AOh14GhBdf9_yxWk3w2Eoi255TRwwwdECUWdZJ9Hht8S=s64",
      "userId": "09822763254488834038"
     },
     "user_tz": -330
    },
    "id": "rnDSw1w3u6fZ"
   },
   "outputs": [],
   "source": [
    "import keras\n",
    "from keras.layers import Input, Dense\n",
    "from keras.models import Model,Sequential\n",
    "from keras.utils import plot_model"
   ]
  },
  {
   "cell_type": "markdown",
   "metadata": {
    "colab_type": "text",
    "id": "aHrEv3RMf8Gc"
   },
   "source": [
    "### Read MNIST Data"
   ]
  },
  {
   "cell_type": "code",
   "execution_count": 6,
   "metadata": {
    "colab": {
     "base_uri": "https://localhost:8080/",
     "height": 54
    },
    "colab_type": "code",
    "executionInfo": {
     "elapsed": 1526,
     "status": "ok",
     "timestamp": 1597467703796,
     "user": {
      "displayName": "Soharab Hossain Shaikh",
      "photoUrl": "https://lh3.googleusercontent.com/a-/AOh14GhBdf9_yxWk3w2Eoi255TRwwwdECUWdZJ9Hht8S=s64",
      "userId": "09822763254488834038"
     },
     "user_tz": -330
    },
    "id": "59lUgh-LfFcK",
    "outputId": "53909a28-4201-4c06-e294-7ad5106209b3"
   },
   "outputs": [
    {
     "name": "stdout",
     "output_type": "stream",
     "text": [
      "Downloading data from https://storage.googleapis.com/tensorflow/tf-keras-datasets/mnist.npz\n",
      "11493376/11490434 [==============================] - 0s 0us/step\n"
     ]
    }
   ],
   "source": [
    "(images_train, _), (images_test, _) = keras.datasets.mnist.load_data()\n",
    "\n",
    "images_train=np.array(images_train).reshape(60000,784)/255\n",
    "images_test=np.array(images_test).reshape(10000,784)/255"
   ]
  },
  {
   "cell_type": "markdown",
   "metadata": {
    "colab_type": "text",
    "id": "QtJ1nEmU6pqi"
   },
   "source": [
    "## Define Encoder and Decoder"
   ]
  },
  {
   "cell_type": "code",
   "execution_count": 7,
   "metadata": {
    "colab": {
     "base_uri": "https://localhost:8080/",
     "height": 384
    },
    "colab_type": "code",
    "executionInfo": {
     "elapsed": 6520,
     "status": "ok",
     "timestamp": 1597467715758,
     "user": {
      "displayName": "Soharab Hossain Shaikh",
      "photoUrl": "https://lh3.googleusercontent.com/a-/AOh14GhBdf9_yxWk3w2Eoi255TRwwwdECUWdZJ9Hht8S=s64",
      "userId": "09822763254488834038"
     },
     "user_tz": -330
    },
    "id": "KTw1eC3wwszQ",
    "outputId": "2e95a713-c9e2-4fb0-8a0f-4e9375154835"
   },
   "outputs": [
    {
     "name": "stdout",
     "output_type": "stream",
     "text": [
      "Model: \"sequential\"\n",
      "_________________________________________________________________\n",
      "Layer (type)                 Output Shape              Param #   \n",
      "=================================================================\n",
      "dense (Dense)                (None, 128)               100480    \n",
      "_________________________________________________________________\n",
      "dense_1 (Dense)              (None, 64)                8256      \n",
      "_________________________________________________________________\n",
      "dense_2 (Dense)              (None, 32)                2080      \n",
      "_________________________________________________________________\n",
      "dense_3 (Dense)              (None, 64)                2112      \n",
      "_________________________________________________________________\n",
      "dense_4 (Dense)              (None, 128)               8320      \n",
      "_________________________________________________________________\n",
      "dense_5 (Dense)              (None, 784)               101136    \n",
      "=================================================================\n",
      "Total params: 222,384\n",
      "Trainable params: 222,384\n",
      "Non-trainable params: 0\n",
      "_________________________________________________________________\n"
     ]
    }
   ],
   "source": [
    "encoding_dim = 32\n",
    "input_dim = 784\n",
    "\n",
    "autoencoder = Sequential()\n",
    "\n",
    "# Encoder Layers\n",
    "autoencoder.add(Dense(4 * encoding_dim, input_shape=(input_dim,), activation='relu'))\n",
    "autoencoder.add(Dense(2 * encoding_dim, activation='relu'))\n",
    "autoencoder.add(Dense(encoding_dim, activation='relu'))\n",
    "\n",
    "# Decoder Layers\n",
    "autoencoder.add(Dense(2 * encoding_dim, activation='relu'))\n",
    "autoencoder.add(Dense(4 * encoding_dim, activation='relu'))\n",
    "autoencoder.add(Dense(input_dim, activation='sigmoid'))\n",
    "\n",
    "autoencoder.summary()"
   ]
  },
  {
   "cell_type": "code",
   "execution_count": 8,
   "metadata": {
    "colab": {
     "base_uri": "https://localhost:8080/",
     "height": 661
    },
    "colab_type": "code",
    "executionInfo": {
     "elapsed": 2841,
     "status": "ok",
     "timestamp": 1597467715762,
     "user": {
      "displayName": "Soharab Hossain Shaikh",
      "photoUrl": "https://lh3.googleusercontent.com/a-/AOh14GhBdf9_yxWk3w2Eoi255TRwwwdECUWdZJ9Hht8S=s64",
      "userId": "09822763254488834038"
     },
     "user_tz": -330
    },
    "id": "EdgOn5xa66va",
    "outputId": "e4853232-a8a5-4425-e6f8-81a38f7b55b0"
   },
   "outputs": [
    {
     "data": {
      "image/png": "[encoded data removed]",
      "text/plain": [
       "<IPython.core.display.Image object>"
      ]
     },
     "execution_count": 8,
     "metadata": {
      "tags": []
     },
     "output_type": "execute_result"
    }
   ],
   "source": [
    "plot_model(autoencoder)"
   ]
  },
  {
   "cell_type": "code",
   "execution_count": 9,
   "metadata": {
    "colab": {
     "base_uri": "https://localhost:8080/",
     "height": 311
    },
    "colab_type": "code",
    "executionInfo": {
     "elapsed": 1088,
     "status": "ok",
     "timestamp": 1597467719996,
     "user": {
      "displayName": "Soharab Hossain Shaikh",
      "photoUrl": "https://lh3.googleusercontent.com/a-/AOh14GhBdf9_yxWk3w2Eoi255TRwwwdECUWdZJ9Hht8S=s64",
      "userId": "09822763254488834038"
     },
     "user_tz": -330
    },
    "id": "oXawP-9SxZYS",
    "outputId": "363c2caa-d3d1-4cc5-c279-d1f66e3fc3c7"
   },
   "outputs": [
    {
     "name": "stdout",
     "output_type": "stream",
     "text": [
      "Model: \"functional_1\"\n",
      "_________________________________________________________________\n",
      "Layer (type)                 Output Shape              Param #   \n",
      "=================================================================\n",
      "input_1 (InputLayer)         [(None, 784)]             0         \n",
      "_________________________________________________________________\n",
      "dense (Dense)                (None, 128)               100480    \n",
      "_________________________________________________________________\n",
      "dense_1 (Dense)              (None, 64)                8256      \n",
      "_________________________________________________________________\n",
      "dense_2 (Dense)              (None, 32)                2080      \n",
      "=================================================================\n",
      "Total params: 110,816\n",
      "Trainable params: 110,816\n",
      "Non-trainable params: 0\n",
      "_________________________________________________________________\n"
     ]
    }
   ],
   "source": [
    "input_img = Input(shape=(input_dim,))\n",
    "encoder_layer1 = autoencoder.layers[0]\n",
    "encoder_layer2 = autoencoder.layers[1]\n",
    "encoder_layer3 = autoencoder.layers[2]\n",
    "encoder = Model(input_img, encoder_layer3(encoder_layer2(encoder_layer1(input_img))))\n",
    "\n",
    "encoder.summary()"
   ]
  },
  {
   "cell_type": "markdown",
   "metadata": {
    "colab_type": "text",
    "id": "wl4aAEdhgW5T"
   },
   "source": [
    "### Train the Autoencoder"
   ]
  },
  {
   "cell_type": "code",
   "execution_count": 10,
   "metadata": {
    "colab": {
     "base_uri": "https://localhost:8080/",
     "height": 1000
    },
    "colab_type": "code",
    "executionInfo": {
     "elapsed": 81342,
     "status": "ok",
     "timestamp": 1597467804413,
     "user": {
      "displayName": "Soharab Hossain Shaikh",
      "photoUrl": "https://lh3.googleusercontent.com/a-/AOh14GhBdf9_yxWk3w2Eoi255TRwwwdECUWdZJ9Hht8S=s64",
      "userId": "09822763254488834038"
     },
     "user_tz": -330
    },
    "id": "S9fpjFPgzFp_",
    "outputId": "8c17fdfc-e09e-4bb4-cbb9-6f54bcb5298a"
   },
   "outputs": [
    {
     "name": "stdout",
     "output_type": "stream",
     "text": [
      "Epoch 1/100\n",
      "235/235 [==============================] - 1s 4ms/step - loss: 0.2422 - val_loss: 0.1665\n",
      "Epoch 2/100\n",
      "235/235 [==============================] - 1s 3ms/step - loss: 0.1501 - val_loss: 0.1360\n",
      "Epoch 3/100\n",
      "235/235 [==============================] - 1s 3ms/step - loss: 0.1296 - val_loss: 0.1222\n",
      "Epoch 4/100\n",
      "235/235 [==============================] - 1s 3ms/step - loss: 0.1200 - val_loss: 0.1143\n",
      "Epoch 5/100\n",
      "235/235 [==============================] - 1s 3ms/step - loss: 0.1135 - val_loss: 0.1094\n",
      "Epoch 6/100\n",
      "235/235 [==============================] - 1s 3ms/step - loss: 0.1095 - val_loss: 0.1065\n",
      "Epoch 7/100\n",
      "235/235 [==============================] - 1s 3ms/step - loss: 0.1067 - val_loss: 0.1039\n",
      "Epoch 8/100\n",
      "235/235 [==============================] - 1s 3ms/step - loss: 0.1043 - val_loss: 0.1018\n",
      "Epoch 9/100\n",
      "235/235 [==============================] - 1s 3ms/step - loss: 0.1024 - val_loss: 0.1001\n",
      "Epoch 10/100\n",
      "235/235 [==============================] - 1s 3ms/step - loss: 0.1007 - val_loss: 0.0985\n",
      "Epoch 11/100\n",
      "235/235 [==============================] - 1s 3ms/step - loss: 0.0990 - val_loss: 0.0970\n",
      "Epoch 12/100\n",
      "235/235 [==============================] - 1s 3ms/step - loss: 0.0976 - val_loss: 0.0957\n",
      "Epoch 13/100\n",
      "235/235 [==============================] - 1s 3ms/step - loss: 0.0964 - val_loss: 0.0947\n",
      "Epoch 14/100\n",
      "235/235 [==============================] - 1s 3ms/step - loss: 0.0953 - val_loss: 0.0935\n",
      "Epoch 15/100\n",
      "235/235 [==============================] - 1s 3ms/step - loss: 0.0944 - val_loss: 0.0931\n",
      "Epoch 16/100\n",
      "235/235 [==============================] - 1s 3ms/step - loss: 0.0936 - val_loss: 0.0921\n",
      "Epoch 17/100\n",
      "235/235 [==============================] - 1s 3ms/step - loss: 0.0928 - val_loss: 0.0914\n",
      "Epoch 18/100\n",
      "235/235 [==============================] - 1s 3ms/step - loss: 0.0921 - val_loss: 0.0910\n",
      "Epoch 19/100\n",
      "235/235 [==============================] - 1s 3ms/step - loss: 0.0915 - val_loss: 0.0905\n",
      "Epoch 20/100\n",
      "235/235 [==============================] - 1s 3ms/step - loss: 0.0910 - val_loss: 0.0900\n",
      "Epoch 21/100\n",
      "235/235 [==============================] - 1s 3ms/step - loss: 0.0905 - val_loss: 0.0894\n",
      "Epoch 22/100\n",
      "235/235 [==============================] - 1s 3ms/step - loss: 0.0900 - val_loss: 0.0891\n",
      "Epoch 23/100\n",
      "235/235 [==============================] - 1s 3ms/step - loss: 0.0896 - val_loss: 0.0890\n",
      "Epoch 24/100\n",
      "235/235 [==============================] - 1s 3ms/step - loss: 0.0893 - val_loss: 0.0882\n",
      "Epoch 25/100\n",
      "235/235 [==============================] - 1s 3ms/step - loss: 0.0890 - val_loss: 0.0883\n",
      "Epoch 26/100\n",
      "235/235 [==============================] - 1s 3ms/step - loss: 0.0887 - val_loss: 0.0878\n",
      "Epoch 27/100\n",
      "235/235 [==============================] - 1s 3ms/step - loss: 0.0883 - val_loss: 0.0874\n",
      "Epoch 28/100\n",
      "235/235 [==============================] - 1s 3ms/step - loss: 0.0880 - val_loss: 0.0870\n",
      "Epoch 29/100\n",
      "235/235 [==============================] - 1s 3ms/step - loss: 0.0877 - val_loss: 0.0869\n",
      "Epoch 30/100\n",
      "235/235 [==============================] - 1s 3ms/step - loss: 0.0875 - val_loss: 0.0869\n",
      "Epoch 31/100\n",
      "235/235 [==============================] - 1s 3ms/step - loss: 0.0871 - val_loss: 0.0863\n",
      "Epoch 32/100\n",
      "235/235 [==============================] - 1s 3ms/step - loss: 0.0869 - val_loss: 0.0868\n",
      "Epoch 33/100\n",
      "235/235 [==============================] - 1s 3ms/step - loss: 0.0866 - val_loss: 0.0858\n",
      "Epoch 34/100\n",
      "235/235 [==============================] - 1s 3ms/step - loss: 0.0863 - val_loss: 0.0855\n",
      "Epoch 35/100\n",
      "235/235 [==============================] - 1s 3ms/step - loss: 0.0861 - val_loss: 0.0857\n",
      "Epoch 36/100\n",
      "235/235 [==============================] - 1s 3ms/step - loss: 0.0859 - val_loss: 0.0853\n",
      "Epoch 37/100\n",
      "235/235 [==============================] - 1s 3ms/step - loss: 0.0858 - val_loss: 0.0851\n",
      "Epoch 38/100\n",
      "235/235 [==============================] - 1s 3ms/step - loss: 0.0856 - val_loss: 0.0850\n",
      "Epoch 39/100\n",
      "235/235 [==============================] - 1s 3ms/step - loss: 0.0854 - val_loss: 0.0851\n",
      "Epoch 40/100\n",
      "235/235 [==============================] - 1s 3ms/step - loss: 0.0853 - val_loss: 0.0851\n",
      "Epoch 41/100\n",
      "235/235 [==============================] - 1s 3ms/step - loss: 0.0851 - val_loss: 0.0844\n",
      "Epoch 42/100\n",
      "235/235 [==============================] - 1s 3ms/step - loss: 0.0850 - val_loss: 0.0846\n",
      "Epoch 43/100\n",
      "235/235 [==============================] - 1s 3ms/step - loss: 0.0849 - val_loss: 0.0844\n",
      "Epoch 44/100\n",
      "235/235 [==============================] - 1s 3ms/step - loss: 0.0847 - val_loss: 0.0844\n",
      "Epoch 45/100\n",
      "235/235 [==============================] - 1s 3ms/step - loss: 0.0846 - val_loss: 0.0841\n",
      "Epoch 46/100\n",
      "235/235 [==============================] - 1s 3ms/step - loss: 0.0845 - val_loss: 0.0839\n",
      "Epoch 47/100\n",
      "235/235 [==============================] - 1s 3ms/step - loss: 0.0844 - val_loss: 0.0840\n",
      "Epoch 48/100\n",
      "235/235 [==============================] - 1s 3ms/step - loss: 0.0843 - val_loss: 0.0839\n",
      "Epoch 49/100\n",
      "235/235 [==============================] - 1s 3ms/step - loss: 0.0843 - val_loss: 0.0837\n",
      "Epoch 50/100\n",
      "235/235 [==============================] - 1s 3ms/step - loss: 0.0841 - val_loss: 0.0837\n",
      "Epoch 51/100\n",
      "235/235 [==============================] - 1s 3ms/step - loss: 0.0840 - val_loss: 0.0836\n",
      "Epoch 52/100\n",
      "235/235 [==============================] - 1s 3ms/step - loss: 0.0839 - val_loss: 0.0833\n",
      "Epoch 53/100\n",
      "235/235 [==============================] - 1s 3ms/step - loss: 0.0839 - val_loss: 0.0835\n",
      "Epoch 54/100\n",
      "235/235 [==============================] - 1s 3ms/step - loss: 0.0838 - val_loss: 0.0834\n",
      "Epoch 55/100\n",
      "235/235 [==============================] - 1s 3ms/step - loss: 0.0837 - val_loss: 0.0832\n",
      "Epoch 56/100\n",
      "235/235 [==============================] - 1s 3ms/step - loss: 0.0836 - val_loss: 0.0832\n",
      "Epoch 57/100\n",
      "235/235 [==============================] - 1s 3ms/step - loss: 0.0836 - val_loss: 0.0831\n",
      "Epoch 58/100\n",
      "235/235 [==============================] - 1s 3ms/step - loss: 0.0835 - val_loss: 0.0830\n",
      "Epoch 59/100\n",
      "235/235 [==============================] - 1s 3ms/step - loss: 0.0834 - val_loss: 0.0832\n",
      "Epoch 60/100\n",
      "235/235 [==============================] - 1s 3ms/step - loss: 0.0833 - val_loss: 0.0833\n",
      "Epoch 61/100\n",
      "235/235 [==============================] - 1s 3ms/step - loss: 0.0833 - val_loss: 0.0831\n",
      "Epoch 62/100\n",
      "235/235 [==============================] - 1s 3ms/step - loss: 0.0832 - val_loss: 0.0829\n",
      "Epoch 63/100\n",
      "235/235 [==============================] - 1s 3ms/step - loss: 0.0832 - val_loss: 0.0829\n",
      "Epoch 64/100\n",
      "235/235 [==============================] - 1s 3ms/step - loss: 0.0831 - val_loss: 0.0827\n",
      "Epoch 65/100\n",
      "235/235 [==============================] - 1s 3ms/step - loss: 0.0830 - val_loss: 0.0829\n",
      "Epoch 66/100\n",
      "235/235 [==============================] - 1s 4ms/step - loss: 0.0830 - val_loss: 0.0827\n",
      "Epoch 67/100\n",
      "235/235 [==============================] - 1s 3ms/step - loss: 0.0829 - val_loss: 0.0825\n",
      "Epoch 68/100\n",
      "235/235 [==============================] - 1s 3ms/step - loss: 0.0829 - val_loss: 0.0825\n",
      "Epoch 69/100\n",
      "235/235 [==============================] - 1s 3ms/step - loss: 0.0828 - val_loss: 0.0824\n",
      "Epoch 70/100\n",
      "235/235 [==============================] - 1s 3ms/step - loss: 0.0828 - val_loss: 0.0824\n",
      "Epoch 71/100\n",
      "235/235 [==============================] - 1s 3ms/step - loss: 0.0827 - val_loss: 0.0825\n",
      "Epoch 72/100\n",
      "235/235 [==============================] - 1s 3ms/step - loss: 0.0827 - val_loss: 0.0822\n",
      "Epoch 73/100\n",
      "235/235 [==============================] - 1s 3ms/step - loss: 0.0826 - val_loss: 0.0823\n",
      "Epoch 74/100\n",
      "235/235 [==============================] - 1s 3ms/step - loss: 0.0825 - val_loss: 0.0822\n",
      "Epoch 75/100\n",
      "235/235 [==============================] - 1s 3ms/step - loss: 0.0825 - val_loss: 0.0822\n",
      "Epoch 76/100\n",
      "235/235 [==============================] - 1s 3ms/step - loss: 0.0824 - val_loss: 0.0824\n",
      "Epoch 77/100\n",
      "235/235 [==============================] - 1s 3ms/step - loss: 0.0825 - val_loss: 0.0821\n",
      "Epoch 78/100\n",
      "235/235 [==============================] - 1s 3ms/step - loss: 0.0824 - val_loss: 0.0823\n",
      "Epoch 79/100\n",
      "235/235 [==============================] - 1s 3ms/step - loss: 0.0823 - val_loss: 0.0825\n",
      "Epoch 80/100\n",
      "235/235 [==============================] - 1s 3ms/step - loss: 0.0823 - val_loss: 0.0820\n",
      "Epoch 81/100\n",
      "235/235 [==============================] - 1s 3ms/step - loss: 0.0823 - val_loss: 0.0820\n",
      "Epoch 82/100\n",
      "235/235 [==============================] - 1s 3ms/step - loss: 0.0822 - val_loss: 0.0820\n",
      "Epoch 83/100\n",
      "235/235 [==============================] - 1s 3ms/step - loss: 0.0822 - val_loss: 0.0821\n",
      "Epoch 84/100\n",
      "235/235 [==============================] - 1s 3ms/step - loss: 0.0822 - val_loss: 0.0819\n",
      "Epoch 85/100\n",
      "235/235 [==============================] - 1s 3ms/step - loss: 0.0822 - val_loss: 0.0822\n",
      "Epoch 86/100\n",
      "235/235 [==============================] - 1s 3ms/step - loss: 0.0821 - val_loss: 0.0819\n",
      "Epoch 87/100\n",
      "235/235 [==============================] - 1s 3ms/step - loss: 0.0820 - val_loss: 0.0818\n",
      "Epoch 88/100\n",
      "235/235 [==============================] - 1s 3ms/step - loss: 0.0820 - val_loss: 0.0819\n",
      "Epoch 89/100\n",
      "235/235 [==============================] - 1s 3ms/step - loss: 0.0820 - val_loss: 0.0818\n",
      "Epoch 90/100\n",
      "235/235 [==============================] - 1s 3ms/step - loss: 0.0820 - val_loss: 0.0818\n",
      "Epoch 91/100\n",
      "235/235 [==============================] - 1s 3ms/step - loss: 0.0819 - val_loss: 0.0818\n",
      "Epoch 92/100\n",
      "235/235 [==============================] - 1s 3ms/step - loss: 0.0819 - val_loss: 0.0818\n",
      "Epoch 93/100\n",
      "235/235 [==============================] - 1s 3ms/step - loss: 0.0819 - val_loss: 0.0817\n",
      "Epoch 94/100\n",
      "235/235 [==============================] - 1s 3ms/step - loss: 0.0818 - val_loss: 0.0816\n",
      "Epoch 95/100\n",
      "235/235 [==============================] - 1s 3ms/step - loss: 0.0818 - val_loss: 0.0817\n",
      "Epoch 96/100\n",
      "235/235 [==============================] - 1s 3ms/step - loss: 0.0818 - val_loss: 0.0815\n",
      "Epoch 97/100\n",
      "235/235 [==============================] - 1s 3ms/step - loss: 0.0817 - val_loss: 0.0815\n",
      "Epoch 98/100\n",
      "235/235 [==============================] - 1s 3ms/step - loss: 0.0817 - val_loss: 0.0815\n",
      "Epoch 99/100\n",
      "235/235 [==============================] - 1s 3ms/step - loss: 0.0817 - val_loss: 0.0814\n",
      "Epoch 100/100\n",
      "235/235 [==============================] - 1s 3ms/step - loss: 0.0817 - val_loss: 0.0814\n"
     ]
    },
    {
     "data": {
      "text/plain": [
       "<tensorflow.python.keras.callbacks.History at 0x7fd18663cf60>"
      ]
     },
     "execution_count": 10,
     "metadata": {
      "tags": []
     },
     "output_type": "execute_result"
    }
   ],
   "source": [
    "autoencoder.compile(optimizer='adam', loss='binary_crossentropy')\n",
    "autoencoder.fit(images_train, images_train,\n",
    "                epochs=100, batch_size=256,\n",
    "                validation_data=(images_test, images_test))"
   ]
  },
  {
   "cell_type": "markdown",
   "metadata": {
    "colab_type": "text",
    "id": "3e_ZwQf_gkU3"
   },
   "source": [
    "### Test the Autoencoder"
   ]
  },
  {
   "cell_type": "code",
   "execution_count": 12,
   "metadata": {
    "colab": {},
    "colab_type": "code",
    "executionInfo": {
     "elapsed": 1203,
     "status": "ok",
     "timestamp": 1597467818564,
     "user": {
      "displayName": "Soharab Hossain Shaikh",
      "photoUrl": "https://lh3.googleusercontent.com/a-/AOh14GhBdf9_yxWk3w2Eoi255TRwwwdECUWdZJ9Hht8S=s64",
      "userId": "09822763254488834038"
     },
     "user_tz": -330
    },
    "id": "e7h0Ct7C_YUO"
   },
   "outputs": [],
   "source": [
    "# randomly select 10 indices for test images\n",
    "num_images = 10\n",
    "random_test_images = np.random.randint(images_test.shape[0], size=num_images)"
   ]
  },
  {
   "cell_type": "markdown",
   "metadata": {
    "colab_type": "text",
    "id": "NhvFg5hhh7cF"
   },
   "source": [
    "We can get the encoded compressed/latent representation of the original input image. In order to get this, we have to take output from the end of the encoder network."
   ]
  },
  {
   "cell_type": "code",
   "execution_count": 13,
   "metadata": {
    "colab": {},
    "colab_type": "code",
    "executionInfo": {
     "elapsed": 1252,
     "status": "ok",
     "timestamp": 1597467819675,
     "user": {
      "displayName": "Soharab Hossain Shaikh",
      "photoUrl": "https://lh3.googleusercontent.com/a-/AOh14GhBdf9_yxWk3w2Eoi255TRwwwdECUWdZJ9Hht8S=s64",
      "userId": "09822763254488834038"
     },
     "user_tz": -330
    },
    "id": "Hkck-rYRA2-8"
   },
   "outputs": [],
   "source": [
    "# Get encoded representation\n",
    "encoded_imgs = encoder.predict(images_test)"
   ]
  },
  {
   "cell_type": "markdown",
   "metadata": {
    "colab_type": "text",
    "id": "p_bnFQbigpTs"
   },
   "source": [
    "Make prediction with the Autoencoder. The output of the autoencoder is the reconstructed image."
   ]
  },
  {
   "cell_type": "code",
   "execution_count": 14,
   "metadata": {
    "colab": {},
    "colab_type": "code",
    "executionInfo": {
     "elapsed": 1406,
     "status": "ok",
     "timestamp": 1597467820601,
     "user": {
      "displayName": "Soharab Hossain Shaikh",
      "photoUrl": "https://lh3.googleusercontent.com/a-/AOh14GhBdf9_yxWk3w2Eoi255TRwwwdECUWdZJ9Hht8S=s64",
      "userId": "09822763254488834038"
     },
     "user_tz": -330
    },
    "id": "4FHFmFv78E94"
   },
   "outputs": [],
   "source": [
    "# Get the reconstructed images\n",
    "decoded_imgs = autoencoder.predict(images_test)"
   ]
  },
  {
   "cell_type": "markdown",
   "metadata": {
    "colab_type": "text",
    "id": "cQze20sVgugv"
   },
   "source": [
    "Let's plot the actual and the generated images along with the lower dimensional latent representation of the original images from which the reconstructed images have been formed."
   ]
  },
  {
   "cell_type": "code",
   "execution_count": 15,
   "metadata": {
    "colab": {
     "base_uri": "https://localhost:8080/",
     "height": 252
    },
    "colab_type": "code",
    "executionInfo": {
     "elapsed": 2148,
     "status": "ok",
     "timestamp": 1597467823349,
     "user": {
      "displayName": "Soharab Hossain Shaikh",
      "photoUrl": "https://lh3.googleusercontent.com/a-/AOh14GhBdf9_yxWk3w2Eoi255TRwwwdECUWdZJ9Hht8S=s64",
      "userId": "09822763254488834038"
     },
     "user_tz": -330
    },
    "id": "T7pCyw_G7oHo",
    "outputId": "5206b579-29e2-4a9d-afb7-548e6207cbd5"
   },
   "outputs": [
    {
     "data": {
      "image/png": "[encoded data removed]",
      "text/plain": [
       "<Figure size 1296x288 with 30 Axes>"
      ]
     },
     "metadata": {
      "needs_background": "light",
      "tags": []
     },
     "output_type": "display_data"
    }
   ],
   "source": [
    "plt.figure(figsize=(18, 4))\n",
    "\n",
    "for i, image_idx in enumerate(random_test_images):\n",
    "    # plot the original image\n",
    "    ax = plt.subplot(3, num_images, i + 1)\n",
    "    plt.imshow(images_test[image_idx].reshape(28, 28))\n",
    "    plt.gray()\n",
    "    ax.get_xaxis().set_visible(False)\n",
    "    ax.get_yaxis().set_visible(False)\n",
    "    \n",
    "    # plot the encoded image (compressed/latent representation)\n",
    "    ax = plt.subplot(3, num_images, num_images + i + 1)\n",
    "    plt.imshow(encoded_imgs[image_idx].reshape(8, 4))\n",
    "    plt.gray()\n",
    "    ax.get_xaxis().set_visible(False)\n",
    "    ax.get_yaxis().set_visible(False)\n",
    "\n",
    "    # plot the reconstructed image\n",
    "    ax = plt.subplot(3, num_images, 2*num_images + i + 1)\n",
    "    plt.imshow(decoded_imgs[image_idx].reshape(28, 28))\n",
    "    plt.gray()\n",
    "    ax.get_xaxis().set_visible(False)\n",
    "    ax.get_yaxis().set_visible(False)\n",
    "\n",
    "plt.show()"
   ]
  },
  {
   "cell_type": "markdown",
   "metadata": {
    "colab_type": "text",
    "id": "Z_bL9vk_i9lA"
   },
   "source": [
    "### Dimension of the Images\n",
    "\n",
    "Dimension of the Orginal Image - a vector of the following size:"
   ]
  },
  {
   "cell_type": "code",
   "execution_count": 19,
   "metadata": {
    "colab": {
     "base_uri": "https://localhost:8080/",
     "height": 35
    },
    "colab_type": "code",
    "executionInfo": {
     "elapsed": 1047,
     "status": "ok",
     "timestamp": 1597468544528,
     "user": {
      "displayName": "Soharab Hossain Shaikh",
      "photoUrl": "https://lh3.googleusercontent.com/a-/AOh14GhBdf9_yxWk3w2Eoi255TRwwwdECUWdZJ9Hht8S=s64",
      "userId": "09822763254488834038"
     },
     "user_tz": -330
    },
    "id": "sbgZv8L8is89",
    "outputId": "512f7d78-3a70-4344-c5b1-76af4f3187d5"
   },
   "outputs": [
    {
     "data": {
      "text/plain": [
       "(10000, 784)"
      ]
     },
     "execution_count": 19,
     "metadata": {
      "tags": []
     },
     "output_type": "execute_result"
    }
   ],
   "source": [
    "images_test.shape[1]"
   ]
  },
  {
   "cell_type": "markdown",
   "metadata": {
    "colab_type": "text",
    "id": "Gq4VwbhOjIVV"
   },
   "source": [
    "Dimension of the Encoded/Compressed/latent Image - a vector of the following size:"
   ]
  },
  {
   "cell_type": "code",
   "execution_count": 20,
   "metadata": {
    "colab": {
     "base_uri": "https://localhost:8080/",
     "height": 35
    },
    "colab_type": "code",
    "executionInfo": {
     "elapsed": 1486,
     "status": "ok",
     "timestamp": 1597468628314,
     "user": {
      "displayName": "Soharab Hossain Shaikh",
      "photoUrl": "https://lh3.googleusercontent.com/a-/AOh14GhBdf9_yxWk3w2Eoi255TRwwwdECUWdZJ9Hht8S=s64",
      "userId": "09822763254488834038"
     },
     "user_tz": -330
    },
    "id": "TH88z-GUiqgA",
    "outputId": "f8002564-bf96-4b18-eee2-49b944a6d3ee"
   },
   "outputs": [
    {
     "data": {
      "text/plain": [
       "32"
      ]
     },
     "execution_count": 20,
     "metadata": {
      "tags": []
     },
     "output_type": "execute_result"
    }
   ],
   "source": [
    "encoded_imgs.shape[1]"
   ]
  },
  {
   "cell_type": "markdown",
   "metadata": {
    "colab_type": "text",
    "id": "m7cKCmaVjOLP"
   },
   "source": [
    "Dimension of the Reconstructed Image - a vector of the following size:"
   ]
  },
  {
   "cell_type": "code",
   "execution_count": 21,
   "metadata": {
    "colab": {
     "base_uri": "https://localhost:8080/",
     "height": 35
    },
    "colab_type": "code",
    "executionInfo": {
     "elapsed": 1074,
     "status": "ok",
     "timestamp": 1597468649356,
     "user": {
      "displayName": "Soharab Hossain Shaikh",
      "photoUrl": "https://lh3.googleusercontent.com/a-/AOh14GhBdf9_yxWk3w2Eoi255TRwwwdECUWdZJ9Hht8S=s64",
      "userId": "09822763254488834038"
     },
     "user_tz": -330
    },
    "id": "bskTMbOUitqZ",
    "outputId": "638fe82d-bf24-4e58-c1bf-22ec097b7357"
   },
   "outputs": [
    {
     "data": {
      "text/plain": [
       "784"
      ]
     },
     "execution_count": 21,
     "metadata": {
      "tags": []
     },
     "output_type": "execute_result"
    }
   ],
   "source": [
    "decoded_imgs.shape[1]"
   ]
  },
  {
   "cell_type": "code",
   "execution_count": 28,
   "metadata": {
    "colab": {
     "base_uri": "https://localhost:8080/",
     "height": 35
    },
    "colab_type": "code",
    "executionInfo": {
     "elapsed": 1033,
     "status": "ok",
     "timestamp": 1597468800752,
     "user": {
      "displayName": "Soharab Hossain Shaikh",
      "photoUrl": "https://lh3.googleusercontent.com/a-/AOh14GhBdf9_yxWk3w2Eoi255TRwwwdECUWdZJ9Hht8S=s64",
      "userId": "09822763254488834038"
     },
     "user_tz": -330
    },
    "id": "CopgxnrVjW91",
    "outputId": "8221b2f3-04e7-4202-d0a1-eb7b021ea151"
   },
   "outputs": [
    {
     "data": {
      "text/plain": [
       "24.5"
      ]
     },
     "execution_count": 28,
     "metadata": {
      "tags": []
     },
     "output_type": "execute_result"
    }
   ],
   "source": [
    "# Compression Ratio\n",
    "\n",
    "images_test.shape[1]/encoded_imgs.shape[1]"
   ]
  }
 ],
 "metadata": {
  "accelerator": "GPU",
  "colab": {
   "collapsed_sections": [],
   "name": "Deep-Autoencoder_MNIST.ipynb",
   "provenance": []
  },
  "kernelspec": {
   "display_name": "Python 3",
   "language": "python",
   "name": "python3"
  },
  "language_info": {
   "codemirror_mode": {
    "name": "ipython",
    "version": 3
   },
   "file_extension": ".py",
   "mimetype": "text/x-python",
   "name": "python",
   "nbconvert_exporter": "python",
   "pygments_lexer": "ipython3",
   "version": "3.8.1"
  }
 },
 "nbformat": 4,
 "nbformat_minor": 1
}
