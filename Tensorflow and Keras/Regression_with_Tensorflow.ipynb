{
  "nbformat": 4,
  "nbformat_minor": 0,
  "metadata": {
    "colab": {
      "name": "Regression_with_Tensorflow.ipynb",
      "provenance": [],
      "collapsed_sections": []
    },
    "kernelspec": {
      "name": "python3",
      "display_name": "Python 3"
    }
  },
  "cells": [
    {
      "cell_type": "code",
      "metadata": {
        "id": "CLgxI6ZpIqLj",
        "colab": {
          "base_uri": "https://localhost:8080/"
        },
        "outputId": "543f6f69-1033-40bd-9e3c-077ec2cd725b"
      },
      "source": [
        "%tensorflow_version 1.x"
      ],
      "execution_count": null,
      "outputs": [
        {
          "output_type": "stream",
          "text": [
            "TensorFlow 1.x selected.\n"
          ],
          "name": "stdout"
        }
      ]
    },
    {
      "cell_type": "code",
      "metadata": {
        "id": "mWjqcVX4KTr2",
        "colab": {
          "base_uri": "https://localhost:8080/",
          "height": 35
        },
        "outputId": "242f6e5d-0aef-4d8c-9741-152f71750eaa"
      },
      "source": [
        "import tensorflow as tf\n",
        "tf.__version__"
      ],
      "execution_count": null,
      "outputs": [
        {
          "output_type": "execute_result",
          "data": {
            "application/vnd.google.colaboratory.intrinsic+json": {
              "type": "string"
            },
            "text/plain": [
              "'1.15.2'"
            ]
          },
          "metadata": {
            "tags": []
          },
          "execution_count": 2
        }
      ]
    },
    {
      "cell_type": "code",
      "metadata": {
        "id": "b4rdoFFbE2en"
      },
      "source": [
        "import numpy as np\n",
        "import matplotlib.pyplot as plt"
      ],
      "execution_count": null,
      "outputs": []
    },
    {
      "cell_type": "markdown",
      "metadata": {
        "id": "GOXDagrbYb7v"
      },
      "source": [
        "## Custom Function for Generating Synthetic Data for Regression"
      ]
    },
    {
      "cell_type": "code",
      "metadata": {
        "id": "W19v-uOaE7Yj"
      },
      "source": [
        "def generate_dataset():\n",
        " x_batch = np.linspace(0, 2, 100)\n",
        " x_batch.shape\n",
        " y_batch = 1.5 * x_batch + np.random.randn(x_batch.shape[0]) * 0.2 + 0.5\n",
        " return x_batch, y_batch"
      ],
      "execution_count": null,
      "outputs": []
    },
    {
      "cell_type": "markdown",
      "metadata": {
        "id": "WK3JzrakX3Vm"
      },
      "source": [
        "## Custom function to build the Computation Graph for Linear Regression"
      ]
    },
    {
      "cell_type": "code",
      "metadata": {
        "id": "VB3HPL3pFGGY"
      },
      "source": [
        "\n",
        "def linear_regression():\n",
        "\n",
        "  x = tf.placeholder(tf.float32, shape=(None, ), name='x')\n",
        "  y = tf.placeholder(tf.float32, shape=(None, ), name='y')\n",
        "\n",
        "  with tf.variable_scope('lreg') as scope:\n",
        "    w = tf.Variable(np.random.normal(), name='W')\n",
        "    b = tf.Variable(np.random.normal(), name='b')\n",
        "\t\t\n",
        "    y_pred = tf.add(tf.multiply(w, x), b)\n",
        "\n",
        "    loss = tf.reduce_mean(tf.square(y_pred - y))\n",
        "\n",
        "  return x, y, y_pred, loss"
      ],
      "execution_count": null,
      "outputs": []
    },
    {
      "cell_type": "markdown",
      "metadata": {
        "id": "k7hU05LIX-ZQ"
      },
      "source": [
        "## Define Placeholders for taking input"
      ]
    },
    {
      "cell_type": "code",
      "metadata": {
        "id": "80TRP_-oFIci"
      },
      "source": [
        "x = tf.placeholder(tf.float32, shape=(None, ), name='x')  \n",
        "y = tf.placeholder(tf.float32, shape=(None, ), name='y')"
      ],
      "execution_count": null,
      "outputs": []
    },
    {
      "cell_type": "markdown",
      "metadata": {
        "id": "eITNDiuOYJJT"
      },
      "source": [
        "## Call the Custom Functions to Generate Data and Build the Computation Graph for Linear Regression"
      ]
    },
    {
      "cell_type": "code",
      "metadata": {
        "id": "o1F5mFV5XP3k"
      },
      "source": [
        "x_batch, y_batch = generate_dataset()\n",
        "x, y, y_pred, loss = linear_regression()"
      ],
      "execution_count": null,
      "outputs": []
    },
    {
      "cell_type": "markdown",
      "metadata": {
        "id": "luRSzeGgYjka"
      },
      "source": [
        "## Define the Optimizer and associate the loss"
      ]
    },
    {
      "cell_type": "code",
      "metadata": {
        "id": "qvd2cyPZYGG1"
      },
      "source": [
        "optimizer = tf.train.GradientDescentOptimizer(0.1)\n",
        "\n",
        "train_op = optimizer.minimize(loss)"
      ],
      "execution_count": null,
      "outputs": []
    },
    {
      "cell_type": "markdown",
      "metadata": {
        "id": "-VGrq9bHYoH-"
      },
      "source": [
        "## Execute the Computation Graph"
      ]
    },
    {
      "cell_type": "code",
      "metadata": {
        "id": "uxrwK6zCLa83",
        "colab": {
          "base_uri": "https://localhost:8080/"
        },
        "outputId": "12c62235-4013-4d23-9739-bf5bec5a4b1a"
      },
      "source": [
        "with tf.Session() as session:\n",
        "  session.run(tf.global_variables_initializer())\n",
        "  feed_dict = {x: x_batch, y: y_batch}\n",
        "\t\t\n",
        "  for i in range(300):\n",
        "    session.run(train_op, feed_dict)\n",
        "    print(i, \"loss:\", loss.eval(feed_dict))\n",
        "\n",
        "  # Prediction\n",
        "  y_pred_batch = session.run(y_pred, feed_dict ={x : x_batch})\n",
        "    "
      ],
      "execution_count": null,
      "outputs": [
        {
          "output_type": "stream",
          "text": [
            "0 loss: 1.7958221\n",
            "1 loss: 0.66857094\n",
            "2 loss: 0.30666903\n",
            "3 loss: 0.18773733\n",
            "4 loss: 0.14610885\n",
            "5 loss: 0.12923369\n",
            "6 loss: 0.12043331\n",
            "7 loss: 0.11440491\n",
            "8 loss: 0.109454006\n",
            "9 loss: 0.10503111\n",
            "10 loss: 0.100950524\n",
            "11 loss: 0.097142704\n",
            "12 loss: 0.09357544\n",
            "13 loss: 0.090229146\n",
            "14 loss: 0.0870887\n",
            "15 loss: 0.08414099\n",
            "16 loss: 0.08137407\n",
            "17 loss: 0.078776814\n",
            "18 loss: 0.076338746\n",
            "19 loss: 0.07405017\n",
            "20 loss: 0.07190187\n",
            "21 loss: 0.069885276\n",
            "22 loss: 0.06799231\n",
            "23 loss: 0.06621537\n",
            "24 loss: 0.06454738\n",
            "25 loss: 0.062981635\n",
            "26 loss: 0.06151189\n",
            "27 loss: 0.06013223\n",
            "28 loss: 0.058837153\n",
            "29 loss: 0.057621464\n",
            "30 loss: 0.056480292\n",
            "31 loss: 0.055409092\n",
            "32 loss: 0.054403562\n",
            "33 loss: 0.053459655\n",
            "34 loss: 0.052573632\n",
            "35 loss: 0.05174191\n",
            "36 loss: 0.05096118\n",
            "37 loss: 0.05022831\n",
            "38 loss: 0.04954037\n",
            "39 loss: 0.048894595\n",
            "40 loss: 0.048288427\n",
            "41 loss: 0.047719408\n",
            "42 loss: 0.047185265\n",
            "43 loss: 0.046683863\n",
            "44 loss: 0.046213206\n",
            "45 loss: 0.04577141\n",
            "46 loss: 0.045356687\n",
            "47 loss: 0.044967394\n",
            "48 loss: 0.044601955\n",
            "49 loss: 0.04425893\n",
            "50 loss: 0.043936923\n",
            "51 loss: 0.043634668\n",
            "52 loss: 0.04335093\n",
            "53 loss: 0.04308459\n",
            "54 loss: 0.042834587\n",
            "55 loss: 0.042599898\n",
            "56 loss: 0.042379603\n",
            "57 loss: 0.04217281\n",
            "58 loss: 0.0419787\n",
            "59 loss: 0.041796476\n",
            "60 loss: 0.041625433\n",
            "61 loss: 0.041464873\n",
            "62 loss: 0.04131416\n",
            "63 loss: 0.041172676\n",
            "64 loss: 0.041039877\n",
            "65 loss: 0.040915214\n",
            "66 loss: 0.04079819\n",
            "67 loss: 0.040688343\n",
            "68 loss: 0.040585227\n",
            "69 loss: 0.040488433\n",
            "70 loss: 0.040397577\n",
            "71 loss: 0.040312294\n",
            "72 loss: 0.04023223\n",
            "73 loss: 0.040157076\n",
            "74 loss: 0.04008653\n",
            "75 loss: 0.040020313\n",
            "76 loss: 0.039958153\n",
            "77 loss: 0.039899804\n",
            "78 loss: 0.03984502\n",
            "79 loss: 0.039793614\n",
            "80 loss: 0.039745346\n",
            "81 loss: 0.039700042\n",
            "82 loss: 0.03965752\n",
            "83 loss: 0.039617594\n",
            "84 loss: 0.039580118\n",
            "85 loss: 0.039544944\n",
            "86 loss: 0.039511923\n",
            "87 loss: 0.03948093\n",
            "88 loss: 0.039451838\n",
            "89 loss: 0.039424524\n",
            "90 loss: 0.039398894\n",
            "91 loss: 0.03937482\n",
            "92 loss: 0.039352227\n",
            "93 loss: 0.039331023\n",
            "94 loss: 0.039311115\n",
            "95 loss: 0.039292432\n",
            "96 loss: 0.039274894\n",
            "97 loss: 0.039258424\n",
            "98 loss: 0.03924297\n",
            "99 loss: 0.03922846\n",
            "100 loss: 0.039214846\n",
            "101 loss: 0.03920206\n",
            "102 loss: 0.039190065\n",
            "103 loss: 0.0391788\n",
            "104 loss: 0.039168224\n",
            "105 loss: 0.039158303\n",
            "106 loss: 0.03914898\n",
            "107 loss: 0.03914024\n",
            "108 loss: 0.03913203\n",
            "109 loss: 0.03912432\n",
            "110 loss: 0.039117087\n",
            "111 loss: 0.0391103\n",
            "112 loss: 0.03910393\n",
            "113 loss: 0.03909794\n",
            "114 loss: 0.03909232\n",
            "115 loss: 0.039087042\n",
            "116 loss: 0.0390821\n",
            "117 loss: 0.039077453\n",
            "118 loss: 0.039073095\n",
            "119 loss: 0.039068993\n",
            "120 loss: 0.039065156\n",
            "121 loss: 0.039061543\n",
            "122 loss: 0.039058164\n",
            "123 loss: 0.039054986\n",
            "124 loss: 0.039052\n",
            "125 loss: 0.039049197\n",
            "126 loss: 0.03904657\n",
            "127 loss: 0.039044097\n",
            "128 loss: 0.039041787\n",
            "129 loss: 0.039039616\n",
            "130 loss: 0.039037574\n",
            "131 loss: 0.039035663\n",
            "132 loss: 0.039033853\n",
            "133 loss: 0.039032172\n",
            "134 loss: 0.039030578\n",
            "135 loss: 0.03902909\n",
            "136 loss: 0.039027702\n",
            "137 loss: 0.039026383\n",
            "138 loss: 0.039025158\n",
            "139 loss: 0.039024003\n",
            "140 loss: 0.039022915\n",
            "141 loss: 0.0390219\n",
            "142 loss: 0.039020944\n",
            "143 loss: 0.039020047\n",
            "144 loss: 0.03901921\n",
            "145 loss: 0.03901842\n",
            "146 loss: 0.039017674\n",
            "147 loss: 0.039016977\n",
            "148 loss: 0.039016325\n",
            "149 loss: 0.039015714\n",
            "150 loss: 0.039015137\n",
            "151 loss: 0.039014596\n",
            "152 loss: 0.039014086\n",
            "153 loss: 0.03901361\n",
            "154 loss: 0.039013162\n",
            "155 loss: 0.03901274\n",
            "156 loss: 0.03901235\n",
            "157 loss: 0.039011978\n",
            "158 loss: 0.03901163\n",
            "159 loss: 0.039011307\n",
            "160 loss: 0.039010994\n",
            "161 loss: 0.039010715\n",
            "162 loss: 0.039010443\n",
            "163 loss: 0.039010193\n",
            "164 loss: 0.039009947\n",
            "165 loss: 0.03900973\n",
            "166 loss: 0.03900952\n",
            "167 loss: 0.03900932\n",
            "168 loss: 0.03900914\n",
            "169 loss: 0.03900897\n",
            "170 loss: 0.0390088\n",
            "171 loss: 0.039008655\n",
            "172 loss: 0.03900851\n",
            "173 loss: 0.03900838\n",
            "174 loss: 0.039008245\n",
            "175 loss: 0.039008126\n",
            "176 loss: 0.03900802\n",
            "177 loss: 0.039007913\n",
            "178 loss: 0.03900782\n",
            "179 loss: 0.039007723\n",
            "180 loss: 0.03900764\n",
            "181 loss: 0.039007556\n",
            "182 loss: 0.03900748\n",
            "183 loss: 0.039007403\n",
            "184 loss: 0.039007343\n",
            "185 loss: 0.03900728\n",
            "186 loss: 0.039007217\n",
            "187 loss: 0.039007165\n",
            "188 loss: 0.039007112\n",
            "189 loss: 0.03900706\n",
            "190 loss: 0.03900701\n",
            "191 loss: 0.039006975\n",
            "192 loss: 0.039006937\n",
            "193 loss: 0.039006896\n",
            "194 loss: 0.03900686\n",
            "195 loss: 0.039006826\n",
            "196 loss: 0.039006792\n",
            "197 loss: 0.039006766\n",
            "198 loss: 0.03900674\n",
            "199 loss: 0.03900671\n",
            "200 loss: 0.039006688\n",
            "201 loss: 0.039006665\n",
            "202 loss: 0.039006647\n",
            "203 loss: 0.039006624\n",
            "204 loss: 0.039006602\n",
            "205 loss: 0.039006587\n",
            "206 loss: 0.03900657\n",
            "207 loss: 0.039006554\n",
            "208 loss: 0.039006542\n",
            "209 loss: 0.03900652\n",
            "210 loss: 0.039006516\n",
            "211 loss: 0.0390065\n",
            "212 loss: 0.039006494\n",
            "213 loss: 0.039006483\n",
            "214 loss: 0.039006468\n",
            "215 loss: 0.039006457\n",
            "216 loss: 0.03900645\n",
            "217 loss: 0.039006446\n",
            "218 loss: 0.039006434\n",
            "219 loss: 0.039006427\n",
            "220 loss: 0.039006416\n",
            "221 loss: 0.039006412\n",
            "222 loss: 0.039006405\n",
            "223 loss: 0.0390064\n",
            "224 loss: 0.0390064\n",
            "225 loss: 0.03900639\n",
            "226 loss: 0.039006382\n",
            "227 loss: 0.03900638\n",
            "228 loss: 0.03900638\n",
            "229 loss: 0.03900637\n",
            "230 loss: 0.039006367\n",
            "231 loss: 0.039006367\n",
            "232 loss: 0.039006364\n",
            "233 loss: 0.039006356\n",
            "234 loss: 0.039006356\n",
            "235 loss: 0.039006356\n",
            "236 loss: 0.039006352\n",
            "237 loss: 0.03900635\n",
            "238 loss: 0.039006352\n",
            "239 loss: 0.03900634\n",
            "240 loss: 0.03900635\n",
            "241 loss: 0.039006345\n",
            "242 loss: 0.03900634\n",
            "243 loss: 0.039006338\n",
            "244 loss: 0.039006338\n",
            "245 loss: 0.039006338\n",
            "246 loss: 0.039006338\n",
            "247 loss: 0.039006334\n",
            "248 loss: 0.039006338\n",
            "249 loss: 0.039006334\n",
            "250 loss: 0.039006338\n",
            "251 loss: 0.039006326\n",
            "252 loss: 0.03900633\n",
            "253 loss: 0.039006326\n",
            "254 loss: 0.039006326\n",
            "255 loss: 0.039006326\n",
            "256 loss: 0.03900633\n",
            "257 loss: 0.039006323\n",
            "258 loss: 0.039006323\n",
            "259 loss: 0.039006323\n",
            "260 loss: 0.039006323\n",
            "261 loss: 0.03900633\n",
            "262 loss: 0.039006323\n",
            "263 loss: 0.039006323\n",
            "264 loss: 0.039006315\n",
            "265 loss: 0.039006323\n",
            "266 loss: 0.039006323\n",
            "267 loss: 0.039006323\n",
            "268 loss: 0.039006315\n",
            "269 loss: 0.03900632\n",
            "270 loss: 0.039006326\n",
            "271 loss: 0.039006326\n",
            "272 loss: 0.039006323\n",
            "273 loss: 0.039006308\n",
            "274 loss: 0.039006323\n",
            "275 loss: 0.039006323\n",
            "276 loss: 0.039006323\n",
            "277 loss: 0.039006323\n",
            "278 loss: 0.039006315\n",
            "279 loss: 0.039006315\n",
            "280 loss: 0.039006315\n",
            "281 loss: 0.03900632\n",
            "282 loss: 0.039006315\n",
            "283 loss: 0.039006323\n",
            "284 loss: 0.039006315\n",
            "285 loss: 0.03900632\n",
            "286 loss: 0.039006315\n",
            "287 loss: 0.039006315\n",
            "288 loss: 0.039006315\n",
            "289 loss: 0.03900632\n",
            "290 loss: 0.03900631\n",
            "291 loss: 0.03900632\n",
            "292 loss: 0.039006315\n",
            "293 loss: 0.039006315\n",
            "294 loss: 0.03900632\n",
            "295 loss: 0.039006315\n",
            "296 loss: 0.039006315\n",
            "297 loss: 0.039006315\n",
            "298 loss: 0.03900631\n",
            "299 loss: 0.03900632\n"
          ],
          "name": "stdout"
        }
      ]
    },
    {
      "cell_type": "code",
      "metadata": {
        "id": "TbUucvyILdz4",
        "colab": {
          "base_uri": "https://localhost:8080/",
          "height": 1000
        },
        "outputId": "25d8ab22-d869-4eec-81c0-685fec2b58d6"
      },
      "source": [
        "print('\\n Actual test: ')\n",
        "print(y_batch)\n",
        "\n",
        "print('\\n Predictions: ')\n",
        "print(y_pred_batch)\n",
        "\n",
        "print('\\n\\n Fitted Line')\n",
        "plt.scatter(x_batch, y_batch)\n",
        "plt.plot(x_batch, y_pred_batch, color='red')\n",
        "plt.xlim(0, 2)\n",
        "plt.ylim(0, 2)\n",
        "plt.savefig('plot.png')\n"
      ],
      "execution_count": null,
      "outputs": [
        {
          "output_type": "stream",
          "text": [
            "\n",
            " Actual test: \n",
            "[0.52980277 0.41258307 0.45241571 0.62236906 0.59644671 0.79240309\n",
            " 1.07978312 0.91631331 0.94186522 1.14824486 0.92925492 0.44036601\n",
            " 1.22868697 1.01394212 0.89901598 1.19742439 0.71294873 1.30009119\n",
            " 1.11734204 0.68538775 1.01447937 1.24832364 0.82956658 0.78906473\n",
            " 0.85058058 1.24634104 1.4516984  0.88885619 1.06447383 1.5115615\n",
            " 1.54887679 1.48608265 1.43107493 1.606065   1.81484791 1.51526387\n",
            " 2.03944999 1.57129618 1.82806466 1.90269222 1.76806548 1.97787185\n",
            " 1.89622469 2.06737447 1.70054389 1.71456269 1.77402275 2.01283313\n",
            " 1.99340275 1.86583099 1.69157007 2.16659939 2.02021192 2.1888758\n",
            " 2.60940013 2.41244142 2.05530919 2.12589167 2.07200234 2.32696262\n",
            " 2.31265201 2.41963211 2.35907797 2.40532569 2.51879601 2.44462928\n",
            " 2.60080252 2.39820311 2.78344357 2.83928974 2.82345222 2.73949878\n",
            " 2.67587959 3.01097757 2.57991477 2.74290749 2.82699935 2.94287562\n",
            " 2.99956989 2.71178063 3.19894231 2.99378811 2.95985799 2.95215512\n",
            " 3.16649569 3.23115415 2.71599866 3.37568029 3.06017836 3.12979523\n",
            " 3.23367748 3.18557628 3.00628959 3.09967235 3.37889478 3.35218129\n",
            " 3.61803751 3.4556509  3.41057168 3.79279716]\n",
            "\n",
            " Predictions: \n",
            "[0.5330637  0.56321377 0.5933639  0.62351394 0.653664   0.6838141\n",
            " 0.71396416 0.7441142  0.77426434 0.8044144  0.83456445 0.86471456\n",
            " 0.8948647  0.92501473 0.9551648  0.98531485 1.0154649  1.045615\n",
            " 1.0757651  1.1059152  1.1360652  1.1662154  1.1963654  1.2265155\n",
            " 1.2566656  1.2868156  1.3169657  1.3471158  1.3772658  1.4074159\n",
            " 1.437566   1.467716   1.4978662  1.5280163  1.5581663  1.5883164\n",
            " 1.6184664  1.6486166  1.6787667  1.7089167  1.7390668  1.7692168\n",
            " 1.799367   1.8295169  1.8596671  1.8898172  1.9199672  1.9501173\n",
            " 1.9802675  2.0104175  2.0405674  2.0707176  2.1008677  2.1310177\n",
            " 2.1611679  2.191318   2.221468   2.251618   2.281768   2.3119183\n",
            " 2.3420684  2.3722184  2.4023683  2.4325185  2.4626687  2.4928186\n",
            " 2.5229688  2.5531187  2.583269   2.6134188  2.643569   2.6737192\n",
            " 2.703869   2.734019   2.7641692  2.7943194  2.8244696  2.8546195\n",
            " 2.8847697  2.9149196  2.9450698  2.9752197  3.00537    3.03552\n",
            " 3.0656703  3.09582    3.1259701  3.1561203  3.1862705  3.2164204\n",
            " 3.2465706  3.2767205  3.3068707  3.3370206  3.3671708  3.397321\n",
            " 3.4274712  3.457621   3.487771   3.5179212 ]\n",
            "\n",
            "\n",
            " Fitted Line\n"
          ],
          "name": "stdout"
        },
        {
          "output_type": "display_data",
          "data": {
            "image/png": "[encoded data removed]",
            "text/plain": [
              "<Figure size 432x288 with 1 Axes>"
            ]
          },
          "metadata": {
            "tags": [],
            "needs_background": "light"
          }
        }
      ]
    }
  ]
}