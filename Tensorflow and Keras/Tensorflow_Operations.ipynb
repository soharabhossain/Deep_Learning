{
  "nbformat": 4,
  "nbformat_minor": 0,
  "metadata": {
    "colab": {
      "name": "Tensorflow_Operations.ipynb",
      "provenance": [],
      "collapsed_sections": []
    },
    "kernelspec": {
      "name": "python3",
      "display_name": "Python 3"
    },
    "accelerator": "GPU"
  },
  "cells": [
    {
      "cell_type": "markdown",
      "metadata": {
        "id": "Yx7wD8z0Tm2E"
      },
      "source": [
        "# Tensorflow\n",
        "\n",
        "TensorFlow is a free and open-source software library for dataflow and differentiable programming across a range of tasks. It is a symbolic math library, and is also used for machine learning applications such as neural networks.\n",
        "\n",
        "It is used for both research and production at Google.‍\n",
        "\n",
        "TensorFlow was developed by the Google Brain team for internal Google use. It was released under the Apache License 2.0 on November 9, 2015\n",
        "\n",
        "TensorFlow is inevitably the package to use for Deep Learning, if you are doing any sort of business. \n",
        "\n",
        "Keras is the standard API in TensorFlow and the easiest way to implement neural networks. Deployment is much easier, compared to PyTorch – so unless you are doing research, TensorFlow is most likely the way to go. "
      ]
    },
    {
      "cell_type": "code",
      "metadata": {
        "id": "5TzmDgm_rt2X",
        "colab": {
          "base_uri": "https://localhost:8080/"
        },
        "outputId": "293a92f0-9358-48ff-93df-9aeb4ff2030d"
      },
      "source": [
        "#%tensorflow_version 1.x"
      ],
      "execution_count": null,
      "outputs": [
        {
          "output_type": "stream",
          "text": [
            "TensorFlow 1.x selected.\n"
          ],
          "name": "stdout"
        }
      ]
    },
    {
      "cell_type": "code",
      "metadata": {
        "id": "8t2_JjpYCJb4"
      },
      "source": [
        "import tensorflow as tf"
      ],
      "execution_count": null,
      "outputs": []
    },
    {
      "cell_type": "code",
      "metadata": {
        "id": "l1Yzpl2bvz8G",
        "colab": {
          "base_uri": "https://localhost:8080/",
          "height": 35
        },
        "outputId": "a1f2e4f3-5916-4c31-829f-c0c4fbfe7254"
      },
      "source": [
        "tf.__version__"
      ],
      "execution_count": null,
      "outputs": [
        {
          "output_type": "execute_result",
          "data": {
            "application/vnd.google.colaboratory.intrinsic+json": {
              "type": "string"
            },
            "text/plain": [
              "'2.4.1'"
            ]
          },
          "metadata": {
            "tags": []
          },
          "execution_count": 2
        }
      ]
    },
    {
      "cell_type": "markdown",
      "metadata": {
        "id": "Rv9N-QvWDbzU"
      },
      "source": [
        "# Common Use Operations\n",
        "\n",
        "Let me introduce the bread and butter of TensorFlow, the most commonly used operations. We are going to take a look at the following\n",
        "\n",
        "### Making tensors with **tf.constant** and **tf.Variable**\n",
        "### Concatenation of two tensors with **tf.concat**\n",
        "### Making tensors with **tf.zeros** or **tf.ones**\n",
        "### Reshaping data with **tf.reshape**\n",
        "### Casting tensors to other data types with **tf.cast**"
      ]
    },
    {
      "cell_type": "markdown",
      "metadata": {
        "id": "0J2nQJ2VDny5"
      },
      "source": [
        "### How to make tensors with tf.contant and tf.Variable\n",
        "\n",
        "Perhaps one of the simplest operations in tensorflow is making a constant or variable. You simply call the tf.constant or tf.Variable function and specify an array of arrays."
      ]
    },
    {
      "cell_type": "code",
      "metadata": {
        "id": "SIIUIZxJDscj",
        "colab": {
          "base_uri": "https://localhost:8080/"
        },
        "outputId": "e884bef8-3816-4e48-945f-0b7372eb9f82"
      },
      "source": [
        "# Making a constant tensor A, that does not change\n",
        "A = tf.constant([[3, 2],\n",
        "                 [5, 2]])\n",
        "\n",
        "print(A)"
      ],
      "execution_count": null,
      "outputs": [
        {
          "output_type": "stream",
          "text": [
            "tf.Tensor(\n",
            "[[3 2]\n",
            " [5 2]], shape=(2, 2), dtype=int32)\n"
          ],
          "name": "stdout"
        }
      ]
    },
    {
      "cell_type": "code",
      "metadata": {
        "id": "gPtVXNLJDxtT",
        "colab": {
          "base_uri": "https://localhost:8080/",
          "height": 73
        },
        "outputId": "73ef2db1-bd76-41d5-db18-830f6d6487d7"
      },
      "source": [
        "# Making a Variable tensor VA, which can change. Notice it's .Variable\n",
        "VA = tf.Variable([[3, 2],\n",
        "                 [5, 2]])\n",
        "print(VA)"
      ],
      "execution_count": null,
      "outputs": [
        {
          "output_type": "stream",
          "text": [
            "<tf.Variable 'Variable:0' shape=(2, 2) dtype=int32, numpy=\n",
            "array([[3, 2],\n",
            "       [5, 2]], dtype=int32)>\n"
          ],
          "name": "stdout"
        }
      ]
    },
    {
      "cell_type": "code",
      "metadata": {
        "id": "LOilUt_AD0JO",
        "colab": {
          "base_uri": "https://localhost:8080/",
          "height": 73
        },
        "outputId": "ad64686f-63d7-42b2-91ac-86e0e349587d"
      },
      "source": [
        "# Making another tensor B\n",
        "B = tf.constant([[9, 5],\n",
        "                 [1, 3]])\n",
        "print(B)"
      ],
      "execution_count": null,
      "outputs": [
        {
          "output_type": "stream",
          "text": [
            "tf.Tensor(\n",
            "[[9 5]\n",
            " [1 3]], shape=(2, 2), dtype=int32)\n"
          ],
          "name": "stdout"
        }
      ]
    },
    {
      "cell_type": "code",
      "metadata": {
        "id": "gPMc0gGcue_-",
        "colab": {
          "base_uri": "https://localhost:8080/",
          "height": 36
        },
        "outputId": "dadbd47a-4275-4739-8052-dcd99041b542"
      },
      "source": [
        "# In Tensorflow 1.x - for lazy execution (delayed execution)\n",
        "'''\n",
        "# Turn off when running TF 2\n",
        "with tf.Session() as sess:\n",
        "  res = sess.run(B)\n",
        "  print(res)\n",
        "'''"
      ],
      "execution_count": null,
      "outputs": [
        {
          "output_type": "execute_result",
          "data": {
            "application/vnd.google.colaboratory.intrinsic": {
              "type": "string"
            },
            "text/plain": [
              "'\\n# Turn off when running TF 2\\nwith tf.Session() as sess:\\n  res = sess.run(B)\\n  print(res)\\n'"
            ]
          },
          "metadata": {
            "tags": []
          },
          "execution_count": 8
        }
      ]
    },
    {
      "cell_type": "markdown",
      "metadata": {
        "id": "FIJBVHfvEAzy"
      },
      "source": [
        "## How to concatenate two tensors with tf.concat\n",
        "\n",
        "Let's say that we have two tensors, perhaps it could be two observations. We want to concat the two tensors A and B into a single variable in Python – how do we do it?\n",
        "\n",
        "We simply use the tf.concat, and specify the values and axis."
      ]
    },
    {
      "cell_type": "code",
      "metadata": {
        "id": "bTvq3lMnEF9V",
        "colab": {
          "base_uri": "https://localhost:8080/",
          "height": 167
        },
        "outputId": "3745fd30-9552-4056-ff46-9ead4393bb3e"
      },
      "source": [
        "# Making a constant tensor A, that does not change\n",
        "A = tf.constant([[3, 2],\n",
        "                 [5, 2]])\n",
        "\n",
        "# Making another tensor B\n",
        "B = tf.constant([[9, 5],\n",
        "                 [1, 3]])\n",
        "\n",
        "# Concatenate columns\n",
        "AB_concatenated = tf.concat(values=[A, B], axis=1)\n",
        "#print(('Adding B\\'s columns to A:\\n{0}').format(AB_concatenated.numpy()))\n",
        "print(('Adding B\\'s columns to A:\\n{0}').format(AB_concatenated))\n",
        "\n",
        "# Concatenate rows\n",
        "AB_concatenated = tf.concat(values=[A, B], axis=0)\n",
        "#print(('\\nAdding B\\'s rows to A:\\n{0}').format(AB_concatenated.numpy()))\n",
        "print(('Adding B\\'s columns to A:\\n{0}').format(AB_concatenated))\n"
      ],
      "execution_count": null,
      "outputs": [
        {
          "output_type": "stream",
          "text": [
            "Adding B's columns to A:\n",
            "[[3 2 9 5]\n",
            " [5 2 1 3]]\n",
            "Adding B's columns to A:\n",
            "[[3 2]\n",
            " [5 2]\n",
            " [9 5]\n",
            " [1 3]]\n"
          ],
          "name": "stdout"
        }
      ]
    },
    {
      "cell_type": "code",
      "metadata": {
        "id": "ax-mWleDuqw2",
        "colab": {
          "base_uri": "https://localhost:8080/",
          "height": 36
        },
        "outputId": "38ca8f05-04c8-4022-94d5-d5a729364e2e"
      },
      "source": [
        "'''\n",
        "# Turn off when running TF 2\n",
        "with tf.Session() as sess:\n",
        "  res = sess.run(AB_concatenated)\n",
        "  print(res)\n",
        "'''"
      ],
      "execution_count": null,
      "outputs": [
        {
          "output_type": "execute_result",
          "data": {
            "application/vnd.google.colaboratory.intrinsic": {
              "type": "string"
            },
            "text/plain": [
              "'\\n# Turn off when running TF 2\\nwith tf.Session() as sess:\\n  res = sess.run(AB_concatenated)\\n  print(res)\\n'"
            ]
          },
          "metadata": {
            "tags": []
          },
          "execution_count": 11
        }
      ]
    },
    {
      "cell_type": "code",
      "metadata": {
        "id": "cvwTUW4tEohV",
        "colab": {
          "base_uri": "https://localhost:8080/",
          "height": 73
        },
        "outputId": "52809821-c7e3-411a-e6c7-164cb304971f"
      },
      "source": [
        "# Making a Variable tensor VA, which can change. Notice it's .Variable\n",
        "VA = tf.Variable([[3, 2],\n",
        "                 [5, 2]])\n",
        "\n",
        "# Concatenate columns of a constant and a variable\n",
        "AB_concatenated = tf.concat(values=[VA, B], axis=1)\n",
        "#print(('Adding B\\'s columns to VA:\\n{0}').format(AB_concatenated.numpy()))\n",
        "print(('Adding B\\'s columns to A:\\n{0}').format(AB_concatenated))"
      ],
      "execution_count": null,
      "outputs": [
        {
          "output_type": "stream",
          "text": [
            "Adding B's columns to A:\n",
            "[[3 2 9 5]\n",
            " [5 2 1 3]]\n"
          ],
          "name": "stdout"
        }
      ]
    },
    {
      "cell_type": "markdown",
      "metadata": {
        "id": "YI-pLB5XE7r3"
      },
      "source": [
        "## How to make tensors with tf.zeros and tf.ones\n",
        "\n",
        "Creating tensors with just tf.constant and tf.Variable can be tedious if you want to create big tensors. Imagine you want to create random noise – well, you could do that by making a tensor with tf.zeros or tf.ones."
      ]
    },
    {
      "cell_type": "code",
      "metadata": {
        "id": "Qyn1kzziE7F6",
        "colab": {
          "base_uri": "https://localhost:8080/",
          "height": 204
        },
        "outputId": "f33593cf-c8b2-4331-af6f-7f4d46829c0a"
      },
      "source": [
        "# Making a tensor filled with zeros. shape=[rows, columns]\n",
        "tensor = tf.zeros(shape=[3, 4], dtype=tf.int32)\n",
        "#print(('Tensor full of zeros as int32, 3 rows and 4 columns:\\n{0}').format(tensor.numpy()))\n",
        "print(('Tensor full of zeros as int32, 3 rows and 4 columns:\\n{0}').format(tensor))\n",
        "\n",
        "# Making a tensor filled with zeros with data type of float32\n",
        "tensor = tf.ones(shape=[5, 3], dtype=tf.float32)\n",
        "#print(('\\nTensor full of ones as float32, 5 rows and 3 columns:\\n{0}').format(tensor.numpy()))\n",
        "print(('Tensor full of zeros as int32, 3 rows and 4 columns:\\n{0}').format(tensor))"
      ],
      "execution_count": null,
      "outputs": [
        {
          "output_type": "stream",
          "text": [
            "Tensor full of zeros as int32, 3 rows and 4 columns:\n",
            "[[0 0 0 0]\n",
            " [0 0 0 0]\n",
            " [0 0 0 0]]\n",
            "Tensor full of zeros as int32, 3 rows and 4 columns:\n",
            "[[1. 1. 1.]\n",
            " [1. 1. 1.]\n",
            " [1. 1. 1.]\n",
            " [1. 1. 1.]\n",
            " [1. 1. 1.]]\n"
          ],
          "name": "stdout"
        }
      ]
    },
    {
      "cell_type": "markdown",
      "metadata": {
        "id": "dPmcgelnFV2l"
      },
      "source": [
        "## How to reshape data with tf.reshape\n",
        "\n",
        "We might have generated some random noise or have a dataset of images in different sizes, which needs to be one-dimensional in order to fit into some filter or convolution.\n",
        "\n",
        "We could use tf.reshape to reshape the images in whichever way we want. \n",
        "\n",
        "All we do here is define a tensor, and then reshape it into 8 columns with 1 row, instead of 2 columns with 4 rows."
      ]
    },
    {
      "cell_type": "code",
      "metadata": {
        "id": "XoR_oDOTFjw7",
        "colab": {
          "base_uri": "https://localhost:8080/",
          "height": 167
        },
        "outputId": "a6bc9802-dd67-48b9-f26a-a2cb9a156ec1"
      },
      "source": [
        "# Making a tensor for reshaping\n",
        "tensor = tf.constant([[3, 2],\n",
        "                      [5, 2],\n",
        "                      [9, 5],\n",
        "                      [1, 3]])\n",
        "\n",
        "# Reshaping the tensor into a shape of: shape = [rows, columns]\n",
        "reshaped_tensor = tf.reshape(tensor = tensor, shape = [1, 8])\n",
        "\n",
        "#print(('Tensor BEFORE reshape:\\n{0}').format(tensor.numpy()))\n",
        "print(('Tensor BEFORE reshape:\\n{0}').format(tensor))\n",
        "\n",
        "#print(('\\nTensor AFTER reshape:\\n{0}').format(reshaped_tensor.numpy()))\n",
        "print(('\\nTensor AFTER reshape:\\n{0}').format(reshaped_tensor))\n"
      ],
      "execution_count": null,
      "outputs": [
        {
          "output_type": "stream",
          "text": [
            "Tensor BEFORE reshape:\n",
            "[[3 2]\n",
            " [5 2]\n",
            " [9 5]\n",
            " [1 3]]\n",
            "\n",
            "Tensor AFTER reshape:\n",
            "[[3 2 5 2 9 5 1 3]]\n"
          ],
          "name": "stdout"
        }
      ]
    },
    {
      "cell_type": "code",
      "metadata": {
        "id": "Htm0pjOLFvDD",
        "colab": {
          "base_uri": "https://localhost:8080/",
          "height": 186
        },
        "outputId": "45e9fed2-c784-4ade-fa93-7eecc2bd1a3b"
      },
      "source": [
        "# Reshaping the tensor into a shape of: shape = [rows, columns]\n",
        "reshaped_tensor = tf.reshape(tensor = tensor, shape = [2, 4])\n",
        "\n",
        "#print(('Tensor BEFORE reshape:\\n{0}').format(tensor.numpy()))\n",
        "print(('Tensor BEFORE reshape:\\n{0}').format(tensor))\n",
        "#print(('\\nTensor AFTER reshape:\\n{0}').format(reshaped_tensor.numpy()))\n",
        "print(('\\nTensor AFTER reshape:\\n{0}').format(reshaped_tensor))"
      ],
      "execution_count": null,
      "outputs": [
        {
          "output_type": "stream",
          "text": [
            "Tensor BEFORE reshape:\n",
            "[[3 2]\n",
            " [5 2]\n",
            " [9 5]\n",
            " [1 3]]\n",
            "\n",
            "Tensor AFTER reshape:\n",
            "[[3 2 5 2]\n",
            " [9 5 1 3]]\n"
          ],
          "name": "stdout"
        }
      ]
    },
    {
      "cell_type": "markdown",
      "metadata": {
        "id": "ud6UpeOGGKq6"
      },
      "source": [
        "How to cast tensors to other data types with tf.cast\n",
        "\n",
        "Some functions in TensorFlow and Keras requires specific data types as inputs, and we can do that with tf.cast. \n",
        "\n",
        "If you mostly have integers, you will probably find yourself casting from integer values to float values.\n",
        "\n",
        "We can simply make a tensor with the datatype of float32. \n",
        "\n",
        "We can then cast this tensor to int, removing the comma and all decimals, while not rounding up or down."
      ]
    },
    {
      "cell_type": "code",
      "metadata": {
        "id": "-vRLvc6QGeZr",
        "colab": {
          "base_uri": "https://localhost:8080/",
          "height": 223
        },
        "outputId": "db95bbba-c086-402c-e7db-b856145010bd"
      },
      "source": [
        "# Making a tensor\n",
        "tensor = tf.constant([[3.1, 2.8],\n",
        "                      [5.2, 2.3],\n",
        "                      [9.7, 5.5],\n",
        "                      [1.1, 3.4]], \n",
        "                      dtype=tf.float32)\n",
        "\n",
        "tensor_as_int = tf.cast(tensor, tf.int32)\n",
        "\n",
        "#print(('Tensor with floats:\\n{0}').format(tensor.numpy()))\n",
        "#print(('\\nTensor cast from float to int (just remove the decimal, no rounding):\\n{0}').format(tensor_as_int.numpy()))\n",
        "\n",
        "print(('Tensor with floats:\\n{0}').format(tensor))\n",
        "print(('\\nTensor cast from float to int (just remove the decimal, no rounding):\\n{0}').format(tensor_as_int))\n"
      ],
      "execution_count": null,
      "outputs": [
        {
          "output_type": "stream",
          "text": [
            "Tensor with floats:\n",
            "[[3.1 2.8]\n",
            " [5.2 2.3]\n",
            " [9.7 5.5]\n",
            " [1.1 3.4]]\n",
            "\n",
            "Tensor cast from float to int (just remove the decimal, no rounding):\n",
            "[[3 2]\n",
            " [5 2]\n",
            " [9 5]\n",
            " [1 3]]\n"
          ],
          "name": "stdout"
        }
      ]
    },
    {
      "cell_type": "code",
      "metadata": {
        "id": "3FCmicrYGsLj",
        "colab": {
          "base_uri": "https://localhost:8080/",
          "height": 111
        },
        "outputId": "45f3b944-ce2e-42f7-bfc9-033e1b5398a7"
      },
      "source": [
        "tensor_as_float = tf.cast(tensor_as_int, tf.float32)\n",
        "print(tensor_as_float)"
      ],
      "execution_count": null,
      "outputs": [
        {
          "output_type": "stream",
          "text": [
            "tf.Tensor(\n",
            "[[3. 2.]\n",
            " [5. 2.]\n",
            " [9. 5.]\n",
            " [1. 3.]], shape=(4, 2), dtype=float32)\n"
          ],
          "name": "stdout"
        }
      ]
    },
    {
      "cell_type": "markdown",
      "metadata": {
        "id": "J4HAP0L-G5ye"
      },
      "source": [
        "# Linear Algebra Operations\n",
        "\n",
        "Many algorithms or research needs these operations in order to implement algorithms and trying new things, e.g. making smaller changes in activation functions or optimizers. You will encounter some of these operations in my linear algebra series.\n",
        "\n",
        "### Transpose tensor with tf.transpose\n",
        "### Matrix Multiplication with tf.matmul\n",
        "### Element-wise multiplication with tf.multiply\n",
        "### Identity Matrix with tf.eye\n",
        "### Determinant with tf.linalg.det\n",
        "### Dot Product with tf.tensordot"
      ]
    },
    {
      "cell_type": "markdown",
      "metadata": {
        "id": "IckVJn-zHdqL"
      },
      "source": [
        "## How to transpose a tensor with tf.transpose\n",
        "\n",
        "Suppose we want to do linear algebra operations, then the tf.transpose function comes in handy. This produces A^T, i.e. it produces the transposed matrix of A."
      ]
    },
    {
      "cell_type": "code",
      "metadata": {
        "id": "fSUPGBKKHbLj",
        "colab": {
          "base_uri": "https://localhost:8080/",
          "height": 73
        },
        "outputId": "2a8903ab-ce35-4199-b39f-3d28b16e69e3"
      },
      "source": [
        "# Some Matrix A\n",
        "A = tf.constant([[3, 7],\n",
        "                 [1, 9]])\n",
        "\n",
        "A = tf.transpose(A)\n",
        "\n",
        "print(('The transposed matrix A:\\n{0}').format(A))\n"
      ],
      "execution_count": null,
      "outputs": [
        {
          "output_type": "stream",
          "text": [
            "The transposed matrix A:\n",
            "[[3 1]\n",
            " [7 9]]\n"
          ],
          "name": "stdout"
        }
      ]
    },
    {
      "cell_type": "markdown",
      "metadata": {
        "id": "bFm6xI5nHzV-"
      },
      "source": [
        "## How to do matrix multiplication with tf.matmul\n",
        "\n",
        "Many algorithms requires matrix multiplication, and this is easy in TensorFlow with the tf.matmul function.\n",
        "\n",
        "All we do here is define two matrices (one is a vector) and use the tf.matmul function to do matrix multiplication."
      ]
    },
    {
      "cell_type": "code",
      "metadata": {
        "id": "oUMGWpR4H3Ta",
        "colab": {
          "base_uri": "https://localhost:8080/",
          "height": 186
        },
        "outputId": "989404e9-7009-4c28-dd40-a99e382a86f8"
      },
      "source": [
        "# Some Matrix A\n",
        "A = tf.constant([[3, 7],\n",
        "                 [1, 9]])\n",
        "print(A)\n",
        "\n",
        "# Some vector v\n",
        "v = tf.constant([[5],\n",
        "                 [2]])\n",
        "print(v)\n",
        "\n",
        "# Matrix multiplication of A and v\n",
        "Av = tf.matmul(A, v)\n",
        "\n",
        "print(('Matrix Multiplication of A and v results in a new Tensor:\\n{0}').format(Av))\n"
      ],
      "execution_count": null,
      "outputs": [
        {
          "output_type": "stream",
          "text": [
            "tf.Tensor(\n",
            "[[3 7]\n",
            " [1 9]], shape=(2, 2), dtype=int32)\n",
            "tf.Tensor(\n",
            "[[5]\n",
            " [2]], shape=(2, 1), dtype=int32)\n",
            "Matrix Multiplication of A and v results in a new Tensor:\n",
            "[[29]\n",
            " [23]]\n"
          ],
          "name": "stdout"
        }
      ]
    },
    {
      "cell_type": "markdown",
      "metadata": {
        "id": "pRZR03gRJAS3"
      },
      "source": [
        "## How to do element-wise multiplication with tf.multiply\n",
        "\n",
        "Element-wise multiplication comes up in many instances, especially in optimizers. Reusing the tf.constants from before, such that we can compare the two, we simply use tf.multiply instead."
      ]
    },
    {
      "cell_type": "code",
      "metadata": {
        "id": "u_VEf18ZIeEH",
        "colab": {
          "base_uri": "https://localhost:8080/",
          "height": 73
        },
        "outputId": "34584bef-1c0a-41d3-9294-3f63bf5a9d82"
      },
      "source": [
        "# Element-wise multiplication\n",
        "Av = tf.multiply(A, v)\n",
        "\n",
        "print(('Element-wise multiplication of A and v results in a new Tensor:\\n{0}').format(Av))\n"
      ],
      "execution_count": null,
      "outputs": [
        {
          "output_type": "stream",
          "text": [
            "Element-wise multiplication of A and v results in a new Tensor:\n",
            "[[15 35]\n",
            " [ 2 18]]\n"
          ],
          "name": "stdout"
        }
      ]
    },
    {
      "cell_type": "markdown",
      "metadata": {
        "id": "yjlbByMqJM4L"
      },
      "source": [
        "## How to make an identity matrix with tf.eye\n",
        "\n",
        "In Linear Algebra, the identity matrix is simply a matrix with ones along the diagonal – and if you find the identity matrix of some matrix A, and multiply the identity matrix with A, the result will be the matrix A.\n",
        "\n",
        "We simply define a tensor A, get the rows and columns and make an identity matrix."
      ]
    },
    {
      "cell_type": "code",
      "metadata": {
        "id": "yVdR9E_kJUqD",
        "colab": {
          "base_uri": "https://localhost:8080/",
          "height": 167
        },
        "outputId": "89b0229d-2677-4b1c-e0cd-e29da348bc64"
      },
      "source": [
        "# Some Matrix A\n",
        "A = tf.constant([[3, 7],\n",
        "                 [1, 9],\n",
        "                 [2, 5]])\n",
        "\n",
        "# Get number of dimensions\n",
        "rows, columns = A.shape\n",
        "print(('Get rows and columns in tensor A:\\n{0} rows\\n{1} columns').format(rows, columns))\n",
        "\n",
        "# Making identity matrix\n",
        "A_identity = tf.eye(num_rows = 3,\n",
        "                    num_columns = 3,\n",
        "                    dtype = tf.int32)\n",
        "#print(('\\nThe identity matrix of A:\\n{0}').format(A_identity.numpy()))\n",
        "print('\\nThe identity matrix of A:\\n{0}'.format(A_identity))\n"
      ],
      "execution_count": null,
      "outputs": [
        {
          "output_type": "stream",
          "text": [
            "Get rows and columns in tensor A:\n",
            "3 rows\n",
            "2 columns\n",
            "\n",
            "The identity matrix of A:\n",
            "[[1 0 0]\n",
            " [0 1 0]\n",
            " [0 0 1]]\n"
          ],
          "name": "stdout"
        }
      ]
    },
    {
      "cell_type": "markdown",
      "metadata": {
        "id": "5TiUbAriJe5q"
      },
      "source": [
        "## How to find the determinant with tf.linalg.det\n",
        "\n",
        "The determinant can be used to solve linear equations or capturing how the area of how matrices changes.\n",
        "\n",
        "We make a matrix A, then cast it to float32, because the tf.linalg.det does not take integers as input. Then we just find the determinant of A."
      ]
    },
    {
      "cell_type": "code",
      "metadata": {
        "id": "gO6zh33MJiza",
        "colab": {
          "base_uri": "https://localhost:8080/",
          "height": 54
        },
        "outputId": "8ed39036-dab3-4b42-d55d-f12bf0bdf9ee"
      },
      "source": [
        "# Reusing Matrix A\n",
        "A = tf.constant([[3, 7],\n",
        "                 [1, 9]])\n",
        "\n",
        "# Determinant must be: half, float32, float64, complex64, complex128\n",
        "# Thus, we cast A to the data type float32\n",
        "A = tf.dtypes.cast(A, tf.float32)\n",
        "\n",
        "# Finding the determinant of A\n",
        "det_A = tf.linalg.det(A)\n",
        "\n",
        "print(('The determinant of A:\\n{0}').format(det_A))\n"
      ],
      "execution_count": null,
      "outputs": [
        {
          "output_type": "stream",
          "text": [
            "The determinant of A:\n",
            "20.000001907348633\n"
          ],
          "name": "stdout"
        }
      ]
    },
    {
      "cell_type": "markdown",
      "metadata": {
        "id": "1WRIVnviJsuM"
      },
      "source": [
        "## How to find the dot product with tf.tensordot\n",
        "\n",
        "Dotting one tensor onto another is perhaps one of the most common linear algebra operations. Hence, we should at least know how to find the dot product of two tenors in TensorFlow.\n",
        "\n",
        "We just need to instantiate two constants, and then we can dot them together – note that in this instance, tf.tensordot is the same as tf.matmul, but there are differences outside the scope of this article."
      ]
    },
    {
      "cell_type": "code",
      "metadata": {
        "id": "C4pNdhcLKQXs",
        "colab": {
          "base_uri": "https://localhost:8080/",
          "height": 186
        },
        "outputId": "30c201cc-7274-4421-b5d7-75b5947763bc"
      },
      "source": [
        "# Defining a 3x3 matrix\n",
        "A = tf.constant([[32, 83, 5],\n",
        "                 [17, 23, 10],\n",
        "                 [75, 39, 52]])\n",
        "\n",
        "# Defining another 3x3 matrix\n",
        "B = tf.constant([[28, 57, 20],\n",
        "                 [91, 10, 95],\n",
        "                 [37, 13, 45]])\n",
        "\n",
        "# Finding the dot product\n",
        "#dot_AB = tf.tensordot(a=A, b=B, axes=1).numpy()\n",
        "dot_AB = tf.tensordot(a=A, b=B, axes=1)\n",
        "\n",
        "print(('Dot product of A.B^T results in a new Tensor:\\n{0}').format(dot_AB))\n",
        "\n",
        "# Which is the same as matrix multiplication in this instance (axes=1)\n",
        "# Matrix multiplication of A and B\n",
        "AB = tf.matmul(A, B)\n",
        "\n",
        "print(('\\nMatrix Multiplication of A.B^T results in a new Tensor:\\n{0}').format(AB))\n"
      ],
      "execution_count": null,
      "outputs": [
        {
          "output_type": "stream",
          "text": [
            "Dot product of A.B^T results in a new Tensor:\n",
            "[[8634 2719 8750]\n",
            " [2939 1329 2975]\n",
            " [7573 5341 7545]]\n",
            "\n",
            "Matrix Multiplication of A.B^T results in a new Tensor:\n",
            "[[8634 2719 8750]\n",
            " [2939 1329 2975]\n",
            " [7573 5341 7545]]\n"
          ],
          "name": "stdout"
        }
      ]
    },
    {
      "cell_type": "markdown",
      "metadata": {
        "id": "m27AItZwMQ8O"
      },
      "source": [
        "# In Tensorflow 2.0\n",
        "\n",
        "## Calculating Gradients"
      ]
    },
    {
      "cell_type": "code",
      "metadata": {
        "id": "hZwSRcuhMVaV",
        "colab": {
          "base_uri": "https://localhost:8080/",
          "height": 92
        },
        "outputId": "8c9cf9a7-bc41-41a5-9166-bdb74af4cb2e"
      },
      "source": [
        "# TF 2 only\n",
        "\n",
        "import math\n",
        "\n",
        "def gelu(x):\n",
        "    return 0.5*x*(1+tf.tanh(tf.sqrt(2/math.pi)*(x+0.044715*tf.pow(x, 3))))\n",
        "\n",
        "def custom_func(x):\n",
        "    return (2*x*x+3*x+10)\n",
        "\n",
        "def get_gradient(x, activation_function):\n",
        "    with tf.GradientTape() as gt:\n",
        "        y = activation_function(x)\n",
        "\n",
        "    gradient = gt.gradient(y, x).numpy()\n",
        "\n",
        "    return gradient\n",
        "\n",
        "x = tf.Variable(0.5)\n",
        "gradient = get_gradient(x, gelu)\n",
        "\n",
        "print('\\n {0} is the gradient of GELU with x={1}'.format(gradient, x.numpy()))\n",
        "\n",
        "\n",
        "x = tf.Variable(1.0)\n",
        "gradient = get_gradient(x, custom_func)\n",
        "print('\\n {0} is the gradient of Custom Function with x={1}'.format(gradient, x.numpy()))\n"
      ],
      "execution_count": null,
      "outputs": [
        {
          "output_type": "stream",
          "text": [
            "\n",
            " 0.8673698902130127 is the gradient of GELU with x=0.5\n",
            "\n",
            " 7.0 is the gradient of Custom Function with x=1.0\n"
          ],
          "name": "stdout"
        }
      ]
    },
    {
      "cell_type": "markdown",
      "metadata": {
        "id": "ZuJH_4qSOnb8"
      },
      "source": [
        "## Functions In TensorFlow 2.0\n",
        "\n",
        "TensorFlow Functions with **@tf.function** offers a significant speedup, because TensorFlow uses AutoGraph to convert functions to graphs, which in turn runs faster.\n",
        "\n",
        "The annotation takes the normal Python syntax and converts it into a graph – and it has minimum side effects, which means we should always use it, especially when training and testing neural network models.\n",
        "\n",
        "All that is done here is making an image and running it through conv_layer and conv_fn, then finding the difference."
      ]
    },
    {
      "cell_type": "code",
      "metadata": {
        "id": "XtwwJT8SOsWz",
        "colab": {
          "base_uri": "https://localhost:8080/",
          "height": 129
        },
        "outputId": "f64c64ee-4ee0-46d2-f15c-1a5da8d05fdb"
      },
      "source": [
        "import timeit\n",
        "\n",
        "conv_layer = tf.keras.layers.Conv2D(100, 3)\n",
        "\n",
        "@tf.function\n",
        "def conv_fn(image):\n",
        "  return conv_layer(image)\n",
        "\n",
        "image = tf.zeros([1, 200, 200, 100])\n",
        "\n",
        "# warm up\n",
        "conv_layer(image); conv_fn(image)\n",
        "\n",
        "no_tf_fn = timeit.timeit(lambda: conv_layer(image), number=10)\n",
        "\n",
        "with_tf_fn = timeit.timeit(lambda: conv_fn(image), number=10)\n",
        "\n",
        "difference = no_tf_fn - with_tf_fn\n",
        "\n",
        "print(\"Without tf.function: \", no_tf_fn)\n",
        "print(\"With tf.function: \", with_tf_fn)\n",
        "print(\"The difference: \", difference)\n",
        "\n",
        "print(\"\\nJust imagine when we have to do millions/billions of these calculations,\" \\\n",
        "      \" then the difference will be HUGE!\")\n",
        "print(\"Difference times a billion: \", difference*1000000000)"
      ],
      "execution_count": null,
      "outputs": [
        {
          "output_type": "stream",
          "text": [
            "Without tf.function:  0.005154347000029702\n",
            "With tf.function:  0.0035128790000271692\n",
            "The difference:  0.0016414680000025328\n",
            "\n",
            "Just imagine when we have to do millions/billions of these calculations, then the difference will be HUGE!\n",
            "Difference times a billion:  1641468.0000025327\n"
          ],
          "name": "stdout"
        }
      ]
    },
    {
      "cell_type": "markdown",
      "metadata": {
        "id": "HQv2XHX1Uhmk"
      },
      "source": [
        "## CPU/GPU Processing"
      ]
    },
    {
      "cell_type": "code",
      "metadata": {
        "id": "aepqirdDCFmT",
        "colab": {
          "base_uri": "https://localhost:8080/",
          "height": 186
        },
        "outputId": "30ff5411-95d8-4ecd-cce4-f2aaadefd284"
      },
      "source": [
        "import time\n",
        "\n",
        "cpu_slot = 0\n",
        "gpu_slot = 0\n",
        "\n",
        "# Using CPU at slot 0\n",
        "with tf.device('/CPU:' + str(cpu_slot)):\n",
        "    # Starting a timer\n",
        "    start = time.time()\n",
        "\n",
        "    # Doing operations on CPU\n",
        "    A = tf.constant([[3, 2], [5, 2]])\n",
        "    print(A)\n",
        "    print('\\n')\n",
        "    \n",
        "    print(tf.eye(2,2))\n",
        "\n",
        "    # Printing how long it took with CPU\n",
        "    end = time.time() - start\n",
        "    print(end)\n",
        "\n"
      ],
      "execution_count": null,
      "outputs": [
        {
          "output_type": "stream",
          "text": [
            "tf.Tensor(\n",
            "[[3 2]\n",
            " [5 2]], shape=(2, 2), dtype=int32)\n",
            "\n",
            "\n",
            "tf.Tensor(\n",
            "[[1. 0.]\n",
            " [0. 1.]], shape=(2, 2), dtype=float32)\n",
            "0.0019001960754394531\n"
          ],
          "name": "stdout"
        }
      ]
    },
    {
      "cell_type": "code",
      "metadata": {
        "id": "-RuZ6r-3CPYe",
        "colab": {
          "base_uri": "https://localhost:8080/",
          "height": 186
        },
        "outputId": "54f96c38-2a42-497f-d28a-9c1a48d192df"
      },
      "source": [
        "# Using the GPU at slot 0\n",
        "with tf.device('/GPU:' + str(gpu_slot)):\n",
        "    # Starting a timer\n",
        "    start = time.time()\n",
        "\n",
        "    # Doing operations on CPU\n",
        "    A = tf.constant([[3, 2], [5, 2]])\n",
        "    print(A)\n",
        "    print('\\n')\n",
        "    print(tf.eye(2,2))\n",
        "\n",
        "    # Printing how long it took with CPU\n",
        "    end = time.time() - start\n",
        "    print(end)\n"
      ],
      "execution_count": null,
      "outputs": [
        {
          "output_type": "stream",
          "text": [
            "tf.Tensor(\n",
            "[[3 2]\n",
            " [5 2]], shape=(2, 2), dtype=int32)\n",
            "\n",
            "\n",
            "tf.Tensor(\n",
            "[[1. 0.]\n",
            " [0. 1.]], shape=(2, 2), dtype=float32)\n",
            "0.004607439041137695\n"
          ],
          "name": "stdout"
        }
      ]
    }
  ]
}