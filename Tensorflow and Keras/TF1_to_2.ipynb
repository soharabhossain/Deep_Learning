{
  "nbformat": 4,
  "nbformat_minor": 0,
  "metadata": {
    "colab": {
      "name": "TF1_to_2.ipynb",
      "provenance": [],
      "collapsed_sections": []
    },
    "kernelspec": {
      "name": "python3",
      "display_name": "Python 3"
    }
  },
  "cells": [
    {
      "cell_type": "markdown",
      "metadata": {
        "id": "CiZThdmKSFyC"
      },
      "source": [
        "# Tensorflow 1.x vs. 2.x"
      ]
    },
    {
      "cell_type": "markdown",
      "metadata": {
        "id": "ws-eIiQdd9Ne"
      },
      "source": [
        "## Code written in TensorFlow 1"
      ]
    },
    {
      "cell_type": "code",
      "metadata": {
        "id": "ZvHCQZryXgOV",
        "colab": {
          "base_uri": "https://localhost:8080/"
        },
        "outputId": "e86ae97b-02ae-47b0-d3c9-8a28c790c791"
      },
      "source": [
        "%tensorflow_version 1.x"
      ],
      "execution_count": null,
      "outputs": [
        {
          "output_type": "stream",
          "text": [
            "TensorFlow 1.x selected.\n"
          ],
          "name": "stdout"
        }
      ]
    },
    {
      "cell_type": "code",
      "metadata": {
        "id": "uKDuX2SiXoVY",
        "colab": {
          "base_uri": "https://localhost:8080/",
          "height": 35
        },
        "outputId": "1b875162-d019-40f5-df0f-e945b0398e43"
      },
      "source": [
        "import tensorflow as tf\n",
        "tf.__version__"
      ],
      "execution_count": null,
      "outputs": [
        {
          "output_type": "execute_result",
          "data": {
            "application/vnd.google.colaboratory.intrinsic+json": {
              "type": "string"
            },
            "text/plain": [
              "'1.15.2'"
            ]
          },
          "metadata": {
            "tags": []
          },
          "execution_count": 2
        }
      ]
    },
    {
      "cell_type": "code",
      "metadata": {
        "colab": {
          "base_uri": "https://localhost:8080/"
        },
        "id": "Hzmt2fVRT5Jy",
        "outputId": "8583a355-58ca-4d49-c0d2-a472295a0d61"
      },
      "source": [
        "# Define place holders for input/output values\n",
        "in_a = tf.placeholder(dtype=tf.float32, shape=(2))\n",
        "print(in_a)\n",
        "\n",
        "in_b = tf.placeholder(dtype=tf.float32, shape=(2))\n",
        "print(in_b)"
      ],
      "execution_count": null,
      "outputs": [
        {
          "output_type": "stream",
          "text": [
            "Tensor(\"Placeholder:0\", shape=(2,), dtype=float32)\n",
            "Tensor(\"Placeholder_1:0\", shape=(2,), dtype=float32)\n"
          ],
          "name": "stdout"
        }
      ]
    },
    {
      "cell_type": "code",
      "metadata": {
        "id": "0rITt7mmXMYO"
      },
      "source": [
        "# Defin a function\n",
        "def forward(x):\n",
        "  with tf.variable_scope(\"matmul\", reuse=tf.AUTO_REUSE):\n",
        "    W = tf.get_variable(\"W\", initializer=tf.ones(shape=(2,2)))\n",
        "    b = tf.get_variable(\"b\", initializer=tf.zeros(shape=(2)))\n",
        "    return W * x + b"
      ],
      "execution_count": null,
      "outputs": []
    },
    {
      "cell_type": "markdown",
      "metadata": {
        "id": "zV9dToyIUdjh"
      },
      "source": [
        "### Print the information about the Tensors not the actual content"
      ]
    },
    {
      "cell_type": "code",
      "metadata": {
        "colab": {
          "base_uri": "https://localhost:8080/"
        },
        "id": "FzeO5-b4T-bA",
        "outputId": "ad808e29-fc5c-4a3a-dba4-73d78e901234"
      },
      "source": [
        "out_a = forward(in_a)\n",
        "print(out_a)"
      ],
      "execution_count": null,
      "outputs": [
        {
          "output_type": "stream",
          "text": [
            "Tensor(\"matmul/add:0\", shape=(2, 2), dtype=float32)\n"
          ],
          "name": "stdout"
        }
      ]
    },
    {
      "cell_type": "code",
      "metadata": {
        "colab": {
          "base_uri": "https://localhost:8080/"
        },
        "id": "8v5KjpIQUALp",
        "outputId": "131d979e-2920-4e38-f91d-cf8bef870390"
      },
      "source": [
        "out_b = forward(in_b)\n",
        "print(out_b)"
      ],
      "execution_count": null,
      "outputs": [
        {
          "output_type": "stream",
          "text": [
            "Tensor(\"matmul_1/add:0\", shape=(2, 2), dtype=float32)\n"
          ],
          "name": "stdout"
        }
      ]
    },
    {
      "cell_type": "markdown",
      "metadata": {
        "id": "F-VnVLYDUWoI"
      },
      "source": [
        "### Create a **session** to run a computation"
      ]
    },
    {
      "cell_type": "code",
      "metadata": {
        "colab": {
          "base_uri": "https://localhost:8080/"
        },
        "id": "Bg_g3CmVUDQU",
        "outputId": "8b31486c-18dd-418f-8c61-ca5dde121ac3"
      },
      "source": [
        "# Run the computation graph in the context of a session\n",
        "with tf.Session() as sess:\n",
        "  sess.run(tf.global_variables_initializer())\n",
        "  outs = sess.run([out_a, out_b], feed_dict={in_a: [1, 0], in_b: [0, 1]})\n",
        "  print(outs)"
      ],
      "execution_count": null,
      "outputs": [
        {
          "output_type": "stream",
          "text": [
            "[array([[1., 0.],\n",
            "       [1., 0.]], dtype=float32), array([[0., 1.],\n",
            "       [0., 1.]], dtype=float32)]\n"
          ],
          "name": "stdout"
        }
      ]
    },
    {
      "cell_type": "markdown",
      "metadata": {
        "id": "xveIEljRd3zs"
      },
      "source": [
        "# ++++++++++++++++++++++++++++++++++++++++++++++++++++++++++++++++++++\n",
        "\n",
        "## Compatible code in TensorFlow 2\n",
        "\n",
        "\n",
        "### **Restart the runtime** then **start running from the next cell**"
      ]
    },
    {
      "cell_type": "code",
      "metadata": {
        "id": "zfCd5Am8Xd2X",
        "colab": {
          "base_uri": "https://localhost:8080/",
          "height": 35
        },
        "outputId": "d1a26308-9d13-46e4-c547-5340947de101"
      },
      "source": [
        "# Restart the runtime then start running from this cell\n",
        "import tensorflow as tf\n",
        "tf.__version__"
      ],
      "execution_count": null,
      "outputs": [
        {
          "output_type": "execute_result",
          "data": {
            "application/vnd.google.colaboratory.intrinsic+json": {
              "type": "string"
            },
            "text/plain": [
              "'2.4.1'"
            ]
          },
          "metadata": {
            "tags": []
          },
          "execution_count": 1
        }
      ]
    },
    {
      "cell_type": "markdown",
      "metadata": {
        "id": "vJIEtxH6TT-R"
      },
      "source": [
        "#### We don't need the placeholders\n",
        "#### Directly pass values of the input variables as the arguments to the function\n",
        "#### Exactly like normal Python function - procedural programming"
      ]
    },
    {
      "cell_type": "code",
      "metadata": {
        "id": "v_YZFOnDXZZG",
        "colab": {
          "base_uri": "https://localhost:8080/"
        },
        "outputId": "c6369a4b-54fd-47a6-afcb-a5f46869ef93"
      },
      "source": [
        "W = tf.Variable(tf.ones(shape=(2,2)), name=\"W\")\n",
        "print(W)"
      ],
      "execution_count": null,
      "outputs": [
        {
          "output_type": "stream",
          "text": [
            "<tf.Variable 'W:0' shape=(2, 2) dtype=float32, numpy=\n",
            "array([[1., 1.],\n",
            "       [1., 1.]], dtype=float32)>\n"
          ],
          "name": "stdout"
        }
      ]
    },
    {
      "cell_type": "code",
      "metadata": {
        "colab": {
          "base_uri": "https://localhost:8080/"
        },
        "id": "lo4vk8qrS9PA",
        "outputId": "dba138f0-9b15-4bd2-82e6-0ebb56982162"
      },
      "source": [
        "b = tf.Variable(tf.zeros(shape=(2)), name=\"b\")\n",
        "print(b)"
      ],
      "execution_count": null,
      "outputs": [
        {
          "output_type": "stream",
          "text": [
            "<tf.Variable 'b:0' shape=(2,) dtype=float32, numpy=array([0., 0.], dtype=float32)>\n"
          ],
          "name": "stdout"
        }
      ]
    },
    {
      "cell_type": "markdown",
      "metadata": {
        "id": "HQDdQs6sTxoe"
      },
      "source": [
        "### Define a function like we do in normal Python"
      ]
    },
    {
      "cell_type": "code",
      "metadata": {
        "id": "UpkVXqBRS_Om"
      },
      "source": [
        "# Function decorator : pass x as parameter to the function\n",
        "@tf.function\n",
        "def forward(x):\n",
        "  return W * x + b"
      ],
      "execution_count": null,
      "outputs": []
    },
    {
      "cell_type": "markdown",
      "metadata": {
        "id": "61w-4Y5xTd__"
      },
      "source": [
        "### Just call the function **without creating a session**\n",
        "### Also no need **to initialize the global_variable_initializer explicitly**"
      ]
    },
    {
      "cell_type": "code",
      "metadata": {
        "colab": {
          "base_uri": "https://localhost:8080/"
        },
        "id": "6Dz7osd8TCKv",
        "outputId": "db806117-5ff7-4a87-829e-f9c89c9c337b"
      },
      "source": [
        "# Assign variable, just like we do in python\n",
        "x = [1,2]\n",
        "print(x)"
      ],
      "execution_count": null,
      "outputs": [
        {
          "output_type": "stream",
          "text": [
            "[1, 2]\n"
          ],
          "name": "stdout"
        }
      ]
    },
    {
      "cell_type": "code",
      "metadata": {
        "id": "dR-OlUpJTFi5"
      },
      "source": [
        "out_a = forward(x)"
      ],
      "execution_count": null,
      "outputs": []
    },
    {
      "cell_type": "code",
      "metadata": {
        "colab": {
          "base_uri": "https://localhost:8080/"
        },
        "id": "3sV9k72dTH07",
        "outputId": "7773d785-f982-4cb6-ec04-9353c2a5de2d"
      },
      "source": [
        "# Get the values of the output; not the tensors\n",
        "print(out_a)"
      ],
      "execution_count": null,
      "outputs": [
        {
          "output_type": "stream",
          "text": [
            "tf.Tensor(\n",
            "[[1. 2.]\n",
            " [1. 2.]], shape=(2, 2), dtype=float32)\n"
          ],
          "name": "stdout"
        }
      ]
    }
  ]
}